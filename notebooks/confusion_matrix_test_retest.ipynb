{
 "cells": [
  {
   "cell_type": "code",
   "execution_count": 1,
   "metadata": {},
   "outputs": [],
   "source": [
    "# Make module from local packages importable\n",
    "import os\n",
    "import sys\n",
    "nb_dir = os.path.split(os.getcwd())[0]\n",
    "if nb_dir not in sys.path:\n",
    "    sys.path.append(nb_dir)"
   ]
  },
  {
   "cell_type": "code",
   "execution_count": 18,
   "metadata": {},
   "outputs": [],
   "source": [
    "import numpy as np\n",
    "import matplotlib.pyplot as plt"
   ]
  },
  {
   "cell_type": "markdown",
   "metadata": {},
   "source": [
    "## Compare confusion matrices"
   ]
  },
  {
   "cell_type": "code",
   "execution_count": 24,
   "metadata": {},
   "outputs": [],
   "source": [
    "# Path to sumatra records\n",
    "data_path = \"../data\"\n",
    "# Records we want to compare\n",
    "record_labels = [\"20180507-101926\", \"20180507-105329\"]\n",
    "titles = [\"lambda_w=0\", \"js, lambda_o=1\"]\n",
    "fig_name = \"JS_regularization_vs_baseline_confusion_train_2000.pdf\"\n",
    "# Epoch to compare\n",
    "epoch = 15\n",
    "n_classes = 10"
   ]
  },
  {
   "cell_type": "code",
   "execution_count": 39,
   "metadata": {},
   "outputs": [],
   "source": [
    "def plot_confusion_matrix(cm):\n",
    "    marks = list(range(n_classes))\n",
    "    plt.imshow(cm, cmap=plt.cm.Blues)\n",
    "    plt.xticks(marks)\n",
    "    plt.yticks(marks)\n",
    "    plt.colorbar(fraction=0.04)"
   ]
  },
  {
   "cell_type": "code",
   "execution_count": 44,
   "metadata": {},
   "outputs": [
    {
     "data": {
      "image/png": "[encoded data removed]",
      "text/plain": [
       "<Figure size 1080x1080 with 4 Axes>"
      ]
     },
     "metadata": {},
     "output_type": "display_data"
    }
   ],
   "source": [
    "rows = 1\n",
    "columns = 2\n",
    "fig = plt.figure(figsize=(15,15))\n",
    "for i, label in enumerate(record_labels):\n",
    "    fig.add_subplot(rows, columns, i + 1)\n",
    "    path = os.path.join(data_path, label, \"confusion\", \"confusion_\" + str(epoch - 1) + \".npy\")\n",
    "    cm = np.load(path)\n",
    "    cm = cm / np.sum(cm)\n",
    "    # cm = np.abs(cm - 1)\n",
    "    plot_confusion_matrix(cm, titles[i])\n",
    "plt.tight_layout()\n",
    "plt.savefig(fig_name)"
   ]
  },
  {
   "cell_type": "markdown",
   "metadata": {},
   "source": [
    "## Off-Diagonal Percentage"
   ]
  },
  {
   "cell_type": "code",
   "execution_count": 42,
   "metadata": {},
   "outputs": [
    {
     "name": "stdout",
     "output_type": "stream",
     "text": [
      "Off-diagonal percentage for 20180504-080959-debug is 0.097\n",
      "Off-diagonal percentage for 20180504-080533-debug is 0.1183\n"
     ]
    }
   ],
   "source": [
    "for label in record_labels:\n",
    "    path = os.path.join(data_path, label, \"confusion\", \"confusion_\" + str(epoch - 1) + \".npy\")\n",
    "    cm = np.load(path)\n",
    "    s = np.sum(cm)\n",
    "    I = np.eye(n_classes, n_classes)\n",
    "    diag = cm * I\n",
    "    diag_s = np.sum(diag)\n",
    "    off_diag_percentage = (s - diag_s) / s\n",
    "    print(\"Off-diagonal percentage for {} is {}\".format(label, off_diag_percentage))"
   ]
  },
  {
   "cell_type": "code",
   "execution_count": null,
   "metadata": {},
   "outputs": [],
   "source": []
  }
 ],
 "metadata": {
  "kernelspec": {
   "display_name": "Python 3",
   "language": "python",
   "name": "python3"
  },
  "language_info": {
   "codemirror_mode": {
    "name": "ipython",
    "version": 3
   },
   "file_extension": ".py",
   "mimetype": "text/x-python",
   "name": "python",
   "nbconvert_exporter": "python",
   "pygments_lexer": "ipython3",
   "version": "3.6.5"
  }
 },
 "nbformat": 4,
 "nbformat_minor": 2
}
