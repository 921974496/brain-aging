{
 "cells": [
  {
   "cell_type": "markdown",
   "metadata": {},
   "source": [
    "### A VAGAN and a MCI/AD classifier are trained separately. Then the classifier is applied to the raw samples and the VAGAN preprocessed samples."
   ]
  },
  {
   "cell_type": "code",
   "execution_count": null,
   "metadata": {},
   "outputs": [],
   "source": [
    "import os\n",
    "os.chdir('/local/mhoerold/entrack')"
   ]
  },
  {
   "cell_type": "code",
   "execution_count": null,
   "metadata": {},
   "outputs": [],
   "source": [
    "import yaml\n",
    "import copy\n",
    "import pydoc\n",
    "import tensorflow as tf\n",
    "import numpy as np\n",
    "import matplotlib.pyplot as plt\n",
    "\n",
    "from src.test_retest.mri.supervised_features import SliceClassification\n",
    "from src.data.streaming.base import Group"
   ]
  },
  {
   "cell_type": "markdown",
   "metadata": {},
   "source": [
    "## Some constants"
   ]
  },
  {
   "cell_type": "code",
   "execution_count": null,
   "metadata": {},
   "outputs": [],
   "source": [
    "vagan_label = \"mri_slice_iterated\"\n",
    "clf_label = \"clf_mci_ad\"\n",
    "conversion_key = \"mci_ad_conv_delta_2\"\n",
    "test_file = \"data/20180905-081310-debug/test.txt\"\n",
    "clf_folder = os.path.join(\"data\", clf_label)\n",
    "with open(os.path.join(clf_folder, \"config.yaml\"), 'r') as f:\n",
    "    clf_config = yaml.load(f)"
   ]
  },
  {
   "cell_type": "markdown",
   "metadata": {},
   "source": [
    "## Load classifier only"
   ]
  },
  {
   "cell_type": "code",
   "execution_count": null,
   "metadata": {
    "scrolled": true
   },
   "outputs": [],
   "source": [
    "clf_only_config = copy.deepcopy(clf_config)\n",
    "clf_only_config[\"params\"][\"streamer\"][\"class\"] = \"src.data.streaming.mri_streaming.MRIConversionSingleStream\"\n",
    "clf_only_config[\"params\"][\"streamer\"][\"class\"] = pydoc.locate(clf_only_config[\"params\"][\"streamer\"][\"class\"])\n",
    "clf_only_config[\"params\"][\"streamer\"][\"params\"][\"stream_config\"][\"conversion_delta\"] = 3\n",
    "\n",
    "clf_only_obj = SliceClassification(**clf_only_config[\"params\"])\n",
    "clf_only_est = tf.estimator.Estimator(\n",
    "    model_fn=clf_only_obj.model_fn,\n",
    "    model_dir=clf_folder,\n",
    "    params=clf_only_config[\"params\"][\"params\"]\n",
    ")"
   ]
  },
  {
   "cell_type": "markdown",
   "metadata": {},
   "source": [
    "## Load classifier with VAGAN preprocessing"
   ]
  },
  {
   "cell_type": "code",
   "execution_count": null,
   "metadata": {
    "scrolled": true
   },
   "outputs": [],
   "source": [
    "clf_vagan_config = copy.deepcopy(clf_config)\n",
    "clf_vagan_config[\"params\"][\"streamer\"][\"class\"] = \"src.data.streaming.vagan_preprocessing.VaganConversionFarPredictions\"\n",
    "clf_vagan_config[\"params\"][\"streamer\"][\"class\"] = pydoc.locate(clf_vagan_config[\"params\"][\"streamer\"][\"class\"])\n",
    "clf_vagan_config[\"params\"][\"streamer\"][\"params\"][\"stream_config\"][\"conversion_delta\"] = 3\n",
    "clf_vagan_config[\"params\"][\"streamer\"][\"params\"][\"stream_config\"][\"vagan_steps\"] = 3\n",
    "clf_vagan_config[\"params\"][\"streamer\"][\"params\"][\"stream_config\"][\"vagan_label\"] = vagan_label\n",
    "clf_vagan_config[\"params\"][\"streamer\"][\"params\"][\"stream_config\"][\"cache_preprocessing\"] = vagan_label\n",
    "\n",
    "clf_vagan_obj = SliceClassification(**clf_vagan_config[\"params\"])\n",
    "clf_vagan_est = tf.estimator.Estimator(\n",
    "    model_fn=clf_vagan_obj.model_fn,\n",
    "    model_dir=clf_folder,\n",
    "    params=clf_vagan_config[\"params\"][\"params\"]\n",
    ")"
   ]
  },
  {
   "cell_type": "markdown",
   "metadata": {},
   "source": [
    "## Load test data"
   ]
  },
  {
   "cell_type": "code",
   "execution_count": null,
   "metadata": {},
   "outputs": [],
   "source": [
    "file_ids = []\n",
    "with open(test_file, 'r') as f:\n",
    "    for line in f:\n",
    "        fid = line.strip()\n",
    "        file_ids.append(fid)\n",
    "        \n",
    "file_ids = clf_only_obj.streamer.select_file_ids(file_ids)"
   ]
  },
  {
   "cell_type": "code",
   "execution_count": null,
   "metadata": {},
   "outputs": [],
   "source": [
    "# labels\n",
    "labels = [clf_only_obj.streamer.get_meta_info_by_key(fid, conversion_key) for fid in file_ids]\n",
    "batches = [Group([fid]) for fid in file_ids]\n",
    "\n",
    "clf_input_fn = clf_only_obj.streamer.get_input_fn_for_groups(batches)\n",
    "\n",
    "vagan_input_fn = clf_vagan_obj.streamer.get_input_fn_for_groups(batches)"
   ]
  },
  {
   "cell_type": "code",
   "execution_count": null,
   "metadata": {},
   "outputs": [],
   "source": [
    "def predict_probabilities(est, input_fn):\n",
    "    preds = est.predict(input_fn, [\"probs\"])\n",
    "    res = []\n",
    "    for pred in preds:\n",
    "        res.append(pred[\"probs\"][1])  ## probability of being AD\n",
    "        \n",
    "    return np.array(res)"
   ]
  },
  {
   "cell_type": "code",
   "execution_count": null,
   "metadata": {
    "scrolled": true
   },
   "outputs": [],
   "source": [
    "t0_probs = predict_probabilities(clf_only_est, clf_input_fn)"
   ]
  },
  {
   "cell_type": "code",
   "execution_count": null,
   "metadata": {},
   "outputs": [],
   "source": [
    "vagan_probs = predict_probabilities(clf_vagan_est, vagan_input_fn)"
   ]
  },
  {
   "cell_type": "code",
   "execution_count": null,
   "metadata": {},
   "outputs": [],
   "source": [
    "def threshold_diff(labels, t0_probs, vagan_probs):\n",
    "    all_eps = np.linspace(-1, 1, 200)\n",
    "    \n",
    "    expected = np.array(labels)\n",
    "    diffs = vagan_probs - t0_probs\n",
    "    accs = []\n",
    "    for eps in all_eps:\n",
    "        predicted_conv = (diffs > eps).astype(np.float32)\n",
    "        \n",
    "        acc = np.mean(predicted_conv == expected)\n",
    "        accs.append(acc)\n",
    "    \n",
    "    print(np.max(accs))\n",
    "    plt.figure()\n",
    "    plt.plot(all_eps, accs, marker='o')\n",
    "    plt.show()\n",
    "    \n",
    "def threshold_vagan_prob(labels, vagan_probs):\n",
    "    all_eps = np.linspace(-1, 1, 200)\n",
    "    \n",
    "    expected = np.array(labels)\n",
    "    accs = []\n",
    "    for eps in all_eps:\n",
    "        predicted_conv = (vagan_probs > eps).astype(np.float32)\n",
    "        \n",
    "        acc = np.mean(predicted_conv == expected)\n",
    "        accs.append(acc)\n",
    "    \n",
    "    print(np.max(accs))\n",
    "    plt.figure()\n",
    "    plt.plot(all_eps, accs, marker='o')\n",
    "    plt.show()"
   ]
  },
  {
   "cell_type": "code",
   "execution_count": null,
   "metadata": {},
   "outputs": [],
   "source": [
    "threshold_diff(labels, t0_probs, vagan_probs)"
   ]
  },
  {
   "cell_type": "code",
   "execution_count": null,
   "metadata": {},
   "outputs": [],
   "source": [
    "threshold_vagan_prob(labels, vagan_probs)"
   ]
  },
  {
   "cell_type": "code",
   "execution_count": null,
   "metadata": {},
   "outputs": [],
   "source": []
  }
 ],
 "metadata": {
  "kernelspec": {
   "display_name": "Python 3",
   "language": "python",
   "name": "python3"
  },
  "language_info": {
   "codemirror_mode": {
    "name": "ipython",
    "version": 3
   },
   "file_extension": ".py",
   "mimetype": "text/x-python",
   "name": "python",
   "nbconvert_exporter": "python",
   "pygments_lexer": "ipython3",
   "version": "3.6.5"
  }
 },
 "nbformat": 4,
 "nbformat_minor": 2
}
