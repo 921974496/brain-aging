{
 "cells": [
  {
   "cell_type": "code",
   "execution_count": 1,
   "metadata": {},
   "outputs": [],
   "source": [
    "# Make module from local packages importable\n",
    "import os\n",
    "import sys\n",
    "nb_dir = os.path.split(os.getcwd())[0]\n",
    "if nb_dir not in sys.path:\n",
    "    sys.path.append(nb_dir)\n",
    "%load_ext autoreload\n",
    "%autoreload 2"
   ]
  },
  {
   "cell_type": "code",
   "execution_count": 2,
   "metadata": {},
   "outputs": [],
   "source": [
    "import tensorflow as tf\n",
    "import yaml\n",
    "import numpy as np\n",
    "import matplotlib.pyplot as plt\n",
    "\n",
    "from db_utils.db_connection import SumatraDB\n",
    "os.chdir(\"..\")"
   ]
  },
  {
   "cell_type": "code",
   "execution_count": 3,
   "metadata": {
    "scrolled": true
   },
   "outputs": [
    {
     "data": {
      "text/plain": [
       "{'class': 'src.test_retest.mri.unsupervised_features.Conv3DTupleAE',\n",
       " 'params': {'config': {'keep_checkpoint_max': 1,\n",
       "   'log_step_count_steps': 100,\n",
       "   'save_checkpoints_steps': 100,\n",
       "   'save_summary_steps': 1,\n",
       "   'tf_random_seed': 42},\n",
       "  'data_params': {'dump_out_dir': 'produced_data', 'not_needed': 'not'},\n",
       "  'hooks': {'confusion_matrix': True,\n",
       "   'icc_c1': True,\n",
       "   'robustness_streamer_config': {'class': 'src.data.streaming.streamer_collections.MRIDiagnosePairStreamCollection',\n",
       "    'params': {'diagnosis_pairs': {'different_patient': [['healthy',\n",
       "        'healthy'],\n",
       "       ['health_ad', 'health_ad'],\n",
       "       ['healthy', 'health_ad']],\n",
       "      'same_patient': [['healthy', 'healthy'], ['health_ad', 'health_ad']]},\n",
       "     'stream_config': {'balanced_labels': ['healthy', 'health_ad'],\n",
       "      'batch_size': -1,\n",
       "      'data_sources': [{'glob_pattern': 'produced_data/ae_pairs_one_epoch/test_0/*_*.npy',\n",
       "        'id_from_filename': {'regex_id_group': 1,\n",
       "         'regexp': '.*/([AI0-9]+)_mni_aligned\\\\.npy'},\n",
       "        'name': 'ADNI_AIBL'}],\n",
       "      'downsample': {'enabled': False, 'shape': [28, 28]},\n",
       "      'feature_collection': 'adni_aibl',\n",
       "      'meta_csv': 'data/raw/csv/adni_aibl__ad_hc.csv',\n",
       "      'meta_id_column': 'image_label',\n",
       "      'n_pairs': 10,\n",
       "      'normalize_images': False,\n",
       "      'seed': 40,\n",
       "      'shuffle': True,\n",
       "      'silent': True,\n",
       "      'train_ratio': 1}}}},\n",
       "  'input_fn_config': {'batch_size': 4, 'num_epochs': 4, 'shuffle': None},\n",
       "  'params': {'encoding_dim': 4,\n",
       "   'eval_hooks': ['embeddings', 'robustness', 'predictions'],\n",
       "   'filter_sizes': [5, 3],\n",
       "   'input_shape': [91, 109, 91],\n",
       "   'lambda_o': 0,\n",
       "   'lambda_w': 0,\n",
       "   'learning_rate': 0.001,\n",
       "   'n_filters': [16, 32],\n",
       "   'normalize_images': True,\n",
       "   'output_regularizer': 'js_divergence',\n",
       "   'tied_weights': True,\n",
       "   'train_hooks': ['embeddings', 'robustness'],\n",
       "   'weight_regularizer': 'l2'},\n",
       "  'streamer': {'class': 'src.data.streaming.mri_streaming.MRISamePatientSameAgePairStream',\n",
       "   'params': {'stream_config': {'balanced_labels': ['healthy', 'health_ad'],\n",
       "     'batch_size': 16,\n",
       "     'data_sources': [{'glob_pattern': 'brain_data/ADNI_AIBL/ADNI_AIBL_T1_smoothed/all_images/*_*.nii.gz',\n",
       "       'id_from_filename': {'regex_id_group': 1,\n",
       "        'regexp': '.*/([AI0-9]+)_mni_aligned\\\\.nii\\\\.gz'},\n",
       "       'name': 'ADNI_AIBL'}],\n",
       "     'downsample': {'enabled': False, 'shape': [8, 8, 8]},\n",
       "     'feature_collection': 'adni_aibl',\n",
       "     'meta_csv': 'data/raw/csv/adni_aibl__ad_hc.csv',\n",
       "     'meta_id_column': 'image_label',\n",
       "     'normalize_images': True,\n",
       "     'seed': 47,\n",
       "     'shuffle': True,\n",
       "     'train_ratio': 0.8}}},\n",
       "  'sumatra_params': {'log_train': False}}}"
      ]
     },
     "execution_count": 3,
     "metadata": {},
     "output_type": "execute_result"
    }
   ],
   "source": [
    "DATA_PATH=\"data\"\n",
    "RECORD_LABEL=\"20180702-103105\"\n",
    "RECORD_PATH=os.path.join(DATA_PATH, RECORD_LABEL)\n",
    "\n",
    "\n",
    "# Query config from database\n",
    "db = SumatraDB(db=\".smt/records\")\n",
    "COLUMNS = [\"label\", \"reason\", \"timestamp\", \"tags\", \"parameters_id\", \"version\"]\n",
    "record = db.get_filtered_by_label(COLUMNS, RECORD_LABEL)[0]\n",
    "config = db.get_params_dic(record.params_id)\n",
    "\n",
    "# Create folder for generated plots\n",
    "if not os.path.exists(\"generated_plots\"):\n",
    "    os.mkdir(\"generated_plots\")\n",
    "\n",
    "config"
   ]
  },
  {
   "cell_type": "code",
   "execution_count": 4,
   "metadata": {},
   "outputs": [
    {
     "name": "stderr",
     "output_type": "stream",
     "text": [
      "/home/mhoerold/entrack/src/test_retest/mri/feature_analysis.py:6: UserWarning: \n",
      "This call to matplotlib.use() has no effect because the backend has already\n",
      "been chosen; matplotlib.use() must be called *before* pylab, matplotlib.pyplot,\n",
      "or matplotlib.backends is imported for the first time.\n",
      "\n",
      "The backend was *originally* set to 'module://ipykernel.pylab.backend_inline' by the following code:\n",
      "  File \"/home/mhoerold/miniconda3/envs/thesis/lib/python3.6/runpy.py\", line 193, in _run_module_as_main\n",
      "    \"__main__\", mod_spec)\n",
      "  File \"/home/mhoerold/miniconda3/envs/thesis/lib/python3.6/runpy.py\", line 85, in _run_code\n",
      "    exec(code, run_globals)\n",
      "  File \"/home/mhoerold/miniconda3/envs/thesis/lib/python3.6/site-packages/ipykernel_launcher.py\", line 16, in <module>\n",
      "    app.launch_new_instance()\n",
      "  File \"/home/mhoerold/miniconda3/envs/thesis/lib/python3.6/site-packages/traitlets/config/application.py\", line 658, in launch_instance\n",
      "    app.start()\n",
      "  File \"/home/mhoerold/miniconda3/envs/thesis/lib/python3.6/site-packages/ipykernel/kernelapp.py\", line 486, in start\n",
      "    self.io_loop.start()\n",
      "  File \"/home/mhoerold/miniconda3/envs/thesis/lib/python3.6/site-packages/tornado/platform/asyncio.py\", line 127, in start\n",
      "    self.asyncio_loop.run_forever()\n",
      "  File \"/home/mhoerold/miniconda3/envs/thesis/lib/python3.6/asyncio/base_events.py\", line 422, in run_forever\n",
      "    self._run_once()\n",
      "  File \"/home/mhoerold/miniconda3/envs/thesis/lib/python3.6/asyncio/base_events.py\", line 1432, in _run_once\n",
      "    handle._run()\n",
      "  File \"/home/mhoerold/miniconda3/envs/thesis/lib/python3.6/asyncio/events.py\", line 145, in _run\n",
      "    self._callback(*self._args)\n",
      "  File \"/home/mhoerold/miniconda3/envs/thesis/lib/python3.6/site-packages/tornado/ioloop.py\", line 759, in _run_callback\n",
      "    ret = callback()\n",
      "  File \"/home/mhoerold/miniconda3/envs/thesis/lib/python3.6/site-packages/tornado/stack_context.py\", line 276, in null_wrapper\n",
      "    return fn(*args, **kwargs)\n",
      "  File \"/home/mhoerold/miniconda3/envs/thesis/lib/python3.6/site-packages/zmq/eventloop/zmqstream.py\", line 536, in <lambda>\n",
      "    self.io_loop.add_callback(lambda : self._handle_events(self.socket, 0))\n",
      "  File \"/home/mhoerold/miniconda3/envs/thesis/lib/python3.6/site-packages/zmq/eventloop/zmqstream.py\", line 450, in _handle_events\n",
      "    self._handle_recv()\n",
      "  File \"/home/mhoerold/miniconda3/envs/thesis/lib/python3.6/site-packages/zmq/eventloop/zmqstream.py\", line 480, in _handle_recv\n",
      "    self._run_callback(callback, msg)\n",
      "  File \"/home/mhoerold/miniconda3/envs/thesis/lib/python3.6/site-packages/zmq/eventloop/zmqstream.py\", line 432, in _run_callback\n",
      "    callback(*args, **kwargs)\n",
      "  File \"/home/mhoerold/miniconda3/envs/thesis/lib/python3.6/site-packages/tornado/stack_context.py\", line 276, in null_wrapper\n",
      "    return fn(*args, **kwargs)\n",
      "  File \"/home/mhoerold/miniconda3/envs/thesis/lib/python3.6/site-packages/ipykernel/kernelbase.py\", line 283, in dispatcher\n",
      "    return self.dispatch_shell(stream, msg)\n",
      "  File \"/home/mhoerold/miniconda3/envs/thesis/lib/python3.6/site-packages/ipykernel/kernelbase.py\", line 233, in dispatch_shell\n",
      "    handler(stream, idents, msg)\n",
      "  File \"/home/mhoerold/miniconda3/envs/thesis/lib/python3.6/site-packages/ipykernel/kernelbase.py\", line 399, in execute_request\n",
      "    user_expressions, allow_stdin)\n",
      "  File \"/home/mhoerold/miniconda3/envs/thesis/lib/python3.6/site-packages/ipykernel/ipkernel.py\", line 208, in do_execute\n",
      "    res = shell.run_cell(code, store_history=store_history, silent=silent)\n",
      "  File \"/home/mhoerold/miniconda3/envs/thesis/lib/python3.6/site-packages/ipykernel/zmqshell.py\", line 537, in run_cell\n",
      "    return super(ZMQInteractiveShell, self).run_cell(*args, **kwargs)\n",
      "  File \"/home/mhoerold/miniconda3/envs/thesis/lib/python3.6/site-packages/IPython/core/interactiveshell.py\", line 2666, in run_cell\n",
      "    self.events.trigger('post_run_cell', result)\n",
      "  File \"/home/mhoerold/miniconda3/envs/thesis/lib/python3.6/site-packages/IPython/core/events.py\", line 88, in trigger\n",
      "    func(*args, **kwargs)\n",
      "  File \"/home/mhoerold/miniconda3/envs/thesis/lib/python3.6/site-packages/ipykernel/pylab/backend_inline.py\", line 160, in configure_once\n",
      "    activate_matplotlib(backend)\n",
      "  File \"/home/mhoerold/miniconda3/envs/thesis/lib/python3.6/site-packages/IPython/core/pylabtools.py\", line 311, in activate_matplotlib\n",
      "    matplotlib.pyplot.switch_backend(backend)\n",
      "  File \"/home/mhoerold/miniconda3/envs/thesis/lib/python3.6/site-packages/matplotlib/pyplot.py\", line 231, in switch_backend\n",
      "    matplotlib.use(newbackend, warn=False, force=True)\n",
      "  File \"/home/mhoerold/miniconda3/envs/thesis/lib/python3.6/site-packages/matplotlib/__init__.py\", line 1410, in use\n",
      "    reload(sys.modules['matplotlib.backends'])\n",
      "  File \"/home/mhoerold/miniconda3/envs/thesis/lib/python3.6/importlib/__init__.py\", line 166, in reload\n",
      "    _bootstrap._exec(spec, module)\n",
      "  File \"/home/mhoerold/miniconda3/envs/thesis/lib/python3.6/site-packages/matplotlib/backends/__init__.py\", line 16, in <module>\n",
      "    line for line in traceback.format_stack()\n",
      "\n",
      "\n",
      "  matplotlib.use('Agg')  # Must be before importing matplotlib.pyplot or pylab!\n",
      "/home/mhoerold/entrack/src/data/streaming/mri_streaming.py:338: UserWarning: 11094 files not found\n",
      "  warnings.warn(\"{} files not found\".format(not_found))\n"
     ]
    },
    {
     "name": "stdout",
     "output_type": "stream",
     "text": [
      "{'stream_config': {'balanced_labels': ['healthy', 'health_ad'], 'batch_size': 16, 'data_sources': [{'glob_pattern': 'brain_data/ADNI_AIBL/ADNI_AIBL_T1_smoothed/all_images/*_*.nii.gz', 'id_from_filename': {'regex_id_group': 1, 'regexp': '.*/([AI0-9]+)_mni_aligned\\\\.nii\\\\.gz'}, 'name': 'ADNI_AIBL'}], 'downsample': {'enabled': False, 'shape': [8, 8, 8]}, 'feature_collection': 'adni_aibl', 'meta_csv': 'data/raw/csv/adni_aibl__ad_hc.csv', 'meta_id_column': 'image_label', 'normalize_images': True, 'seed': 47, 'shuffle': True, 'train_ratio': 0.8}}\n",
      "ADNI_AIBL has 200 files\n",
      "36 files found but not specified meta csv\n",
      "Number of files: 164\n",
      "Number of files missing: 10930\n",
      "Making balanced split\n",
      "Achieved train ratio: 0.6219512195121951\n",
      ">>>>>>>>> Sanity checks OK\n",
      ">>>>>>>> Train stats\n",
      ">>>>>>>>>>>>>>>>\n",
      ">>>> Age stats, mean=75.4054054054054, std=7.778902373275021\n",
      ">>>> Age diffences stats, mean=0.0, std=0.0\n",
      ">>>> healthy count: 50\n",
      ">>>> health_ad count: 98\n",
      ">>>> Gender 0: 62 (0.4189189189189189)\n",
      ">>>> Gender 1: 86 (0.581081081081081)\n",
      ">>>>>>>>>>>>>>>>\n",
      ">>>>>>>> Test stats\n",
      ">>>>>>>>>>>>>>>>\n",
      ">>>> Age stats, mean=80.90322580645162, std=5.299755555590413\n",
      ">>>> Age diffences stats, mean=5.612903225806452, std=4.337960122326256\n",
      ">>>> healthy count: 48\n",
      ">>>> health_ad count: 14\n",
      ">>>> Gender 0: 16 (0.25806451612903225)\n",
      ">>>> Gender 1: 46 (0.7419354838709677)\n",
      ">>>>>>>>>>>>>>>>\n",
      ">>>>> Normalization computed!!\n",
      ">> min std voxel 0.009441718714104907\n"
     ]
    }
   ],
   "source": [
    "import importlib\n",
    "# Load python class to construct object\n",
    "def import_class(full_path):\n",
    "    module_string = \".\".join(full_path.split(\".\")[:-1])\n",
    "    module = importlib.import_module(module_string)\n",
    "    class_ = getattr(module, full_path.split(\".\")[-1])\n",
    "    return class_\n",
    "    \n",
    "class_ = import_class(config[\"class\"])\n",
    "# Don't need streamer\n",
    "s_class = config[\"params\"][\"streamer\"][\"class\"]\n",
    "s_class = import_class(s_class)\n",
    "s_params = config[\"params\"][\"streamer\"][\"params\"]\n",
    "print(s_params)\n",
    "csv_path = config[\"params\"][\"streamer\"][\"params\"][\"stream_config\"][\"meta_csv\"]\n",
    "config[\"params\"][\"streamer\"][\"params\"][\"stream_config\"][\"meta_csv\"] = csv_path\n",
    "streamer = s_class(**s_params)\n",
    "\n",
    "config[\"params\"][\"streamer\"] = None\n",
    "obj = class_(**config[\"params\"])\n",
    "obj.streamer = streamer"
   ]
  },
  {
   "cell_type": "code",
   "execution_count": 5,
   "metadata": {},
   "outputs": [
    {
     "name": "stdout",
     "output_type": "stream",
     "text": [
      "INFO:tensorflow:Using default config.\n",
      "INFO:tensorflow:Using config: {'_model_dir': 'data/20180702-103105', '_tf_random_seed': None, '_save_summary_steps': 100, '_save_checkpoints_steps': None, '_save_checkpoints_secs': 600, '_session_config': None, '_keep_checkpoint_max': 5, '_keep_checkpoint_every_n_hours': 10000, '_log_step_count_steps': 100, '_train_distribute': None, '_service': None, '_cluster_spec': <tensorflow.python.training.server_lib.ClusterSpec object at 0x7fcf07bc2940>, '_task_type': 'worker', '_task_id': 0, '_global_id_in_cluster': 0, '_master': '', '_evaluation_master': '', '_is_chief': True, '_num_ps_replicas': 0, '_num_worker_replicas': 1}\n"
     ]
    }
   ],
   "source": [
    "# Construct estimator\n",
    "est = tf.estimator.Estimator(\n",
    "    model_fn=obj.model_fn,\n",
    "    model_dir=RECORD_PATH,\n",
    "    params=config[\"params\"][\"params\"]\n",
    ")\n",
    "est.streamer = streamer"
   ]
  },
  {
   "cell_type": "code",
   "execution_count": 6,
   "metadata": {},
   "outputs": [
    {
     "name": "stdout",
     "output_type": "stream",
     "text": [
      "<src.data.streaming.mri_streaming.MRISamePatientSameAgePairStream object at 0x7fcf07bc7b38>\n",
      "<src.data.streaming.mri_streaming.MRISamePatientSameAgePairStream object at 0x7fcf07bc7b38>\n",
      "INFO:tensorflow:Calling model_fn.\n",
      "Non conv layer needed\n",
      "Non conv layer needed\n",
      "INFO:tensorflow:Done calling model_fn.\n",
      "INFO:tensorflow:Graph was finalized.\n",
      "INFO:tensorflow:Restoring parameters from data/20180702-103105/model.ckpt-20\n",
      "INFO:tensorflow:Running local_init_op.\n",
      "INFO:tensorflow:Done running local_init_op.\n"
     ]
    }
   ],
   "source": [
    "preds = est.predict(streamer.get_input_fn(False))\n",
    "print(est.streamer)\n",
    "print(obj.streamer)\n",
    "c = 0\n",
    "for pred in preds:\n",
    "    c += 1\n",
    "    if c > 10:\n",
    "        break"
   ]
  },
  {
   "cell_type": "code",
   "execution_count": 7,
   "metadata": {},
   "outputs": [
    {
     "data": {
      "text/plain": [
       "dict_keys(['input', 'encoding', 'decoding', 'file_name'])"
      ]
     },
     "execution_count": 7,
     "metadata": {},
     "output_type": "execute_result"
    }
   ],
   "source": [
    "pred.keys()"
   ]
  },
  {
   "cell_type": "code",
   "execution_count": 8,
   "metadata": {},
   "outputs": [
    {
     "name": "stdout",
     "output_type": "stream",
     "text": [
      "0.72118986\n",
      "35.573536\n",
      "3.008857\n"
     ]
    },
    {
     "data": {
      "image/png": "[encoded data removed]",
      "text/plain": [
       "<Figure size 432x288 with 1 Axes>"
      ]
     },
     "metadata": {},
     "output_type": "display_data"
    },
    {
     "data": {
      "image/png": "[encoded data removed]",
      "text/plain": [
       "<Figure size 432x288 with 1 Axes>"
      ]
     },
     "metadata": {},
     "output_type": "display_data"
    }
   ],
   "source": [
    "image_shape = (91, 109, 91)\n",
    "dim = 50\n",
    "reco = pred[\"decoding\"]\n",
    "reco = np.reshape(reco, image_shape)\n",
    "inp = pred[\"input\"]\n",
    "inp = np.reshape(inp, image_shape)\n",
    "plt.figure()\n",
    "plt.imshow(inp[:, dim, :], cmap=\"gray\")\n",
    "plt.figure()\n",
    "plt.imshow(reco[:, dim, :], cmap=\"gray\")\n",
    "print(np.mean((inp - reco) ** 2))\n",
    "print(np.max(inp))\n",
    "print(np.max(reco))"
   ]
  },
  {
   "cell_type": "code",
   "execution_count": 9,
   "metadata": {},
   "outputs": [
    {
     "data": {
      "text/plain": [
       "array([b'304792_mni_aligned'], dtype=object)"
      ]
     },
     "execution_count": 9,
     "metadata": {},
     "output_type": "execute_result"
    }
   ],
   "source": [
    "pred[\"file_name\"]"
   ]
  },
  {
   "cell_type": "code",
   "execution_count": null,
   "metadata": {},
   "outputs": [],
   "source": []
  }
 ],
 "metadata": {
  "kernelspec": {
   "display_name": "Python 3",
   "language": "python",
   "name": "python3"
  },
  "language_info": {
   "codemirror_mode": {
    "name": "ipython",
    "version": 3
   },
   "file_extension": ".py",
   "mimetype": "text/x-python",
   "name": "python",
   "nbconvert_exporter": "python",
   "pygments_lexer": "ipython3",
   "version": "3.6.5"
  }
 },
 "nbformat": 4,
 "nbformat_minor": 2
}
