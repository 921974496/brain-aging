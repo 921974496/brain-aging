{
 "cells": [
  {
   "cell_type": "code",
   "execution_count": null,
   "metadata": {},
   "outputs": [],
   "source": [
    "from matplotlib import pyplot as plt\n",
    "%matplotlib inline\n",
    "import numpy as np\n",
    "import re\n",
    "import nibabel as nib\n",
    "import os\n",
    "import sys\n",
    "import time\n",
    "import glob\n",
    "import subprocess\n",
    "import shutil\n",
    "os.chdir('/local/home/dhaziza/entrack')\n",
    "sys.path.append('/local/home/dhaziza/entrack/')\n",
    "\n",
    "# PPMI DTI - manual inspection\n",
    "weird_images = \\\n",
    "\"\"\"I466961_FA\n",
    "I365105_FA\n",
    "I643391_FA\n",
    "I287984_FA\n",
    "I344285_FA\n",
    "I373013_FA\"\"\".split('\\n')"
   ]
  },
  {
   "cell_type": "code",
   "execution_count": null,
   "metadata": {},
   "outputs": [],
   "source": [
    "# Average images\n",
    "def generate_average_image(glob_pattern, save_average_to):\n",
    "    all_files = glob.glob(glob_pattern)\n",
    "    all_correct_files = []\n",
    "    total_image = np.zeros([116, 116, 74], dtype=np.float32)\n",
    "    print('Computing average over %d images' % len(all_files))\n",
    "    for f in all_files:\n",
    "        skip = False\n",
    "        for fs in weird_images:\n",
    "            if fs in f:\n",
    "                skip = True\n",
    "        if skip:\n",
    "            continue\n",
    "        img = nib.load(f).get_data()\n",
    "        if np.max(img) < 0.1:\n",
    "            continue\n",
    "        # Some images are [116, 116, 74], [116, 116, 72], [116, 106, 72], [122, 122, 72], [116, 116, 76], ...\n",
    "        img_padded = np.zeros(total_image.shape)\n",
    "        img_padded[:img.shape[0], :img.shape[1], :img.shape[2]] = img[:total_image.shape[0], :total_image.shape[1], :total_image.shape[2]]\n",
    "        all_correct_files.append(f)\n",
    "        total_image += img_padded\n",
    "\n",
    "    average_image = total_image / float(len(all_correct_files))\n",
    "    ref_file = nib.load(all_correct_files[0])\n",
    "    new_img = nib.Nifti1Image(\n",
    "        average_image,\n",
    "        ref_file.affine,\n",
    "        ref_file.header,\n",
    "    )\n",
    "    nib.save(new_img, save_average_to)\n",
    "\n",
    "    plt.imshow(average_image[:, :, 36])\n",
    "    plt.title('average_image[:, :, 36]')\n",
    "    plt.show()\n",
    "\n",
    "    plt.imshow(average_image[:, :, 50])\n",
    "    plt.title('average_image[:, :, 50]')\n",
    "    plt.show()\n",
    "    return all_correct_files\n",
    "\n",
    "def _exec(cmd):\n",
    "    print('[Exec] ' + cmd)\n",
    "    os.environ['FSLOUTPUTTYPE'] = 'NIFTI_GZ'\n",
    "    os.environ['FSLDIR'] = '/local/fsl'\n",
    "    subprocess.call(cmd, shell=True)\n",
    "\n",
    "def align_to_average(save_average_to, all_files_todo, to_dir):\n",
    "    print('align_to_average: %d files to process' % len(all_files_todo))\n",
    "    for f in all_files_todo:\n",
    "        cmd = 'flirt -in {mri_image} -ref {ref} -out {out} ' + \\\n",
    "                '-cost {cost} -searchcost {searchcost} '\n",
    "        cmd = cmd.format(\n",
    "            mri_image=f,\n",
    "            ref=save_average_to,\n",
    "            out=os.path.join(to_dir, os.path.basename(f).split('_')[0] + '.nii.gz'),\n",
    "            cost='normcorr',\n",
    "            searchcost='normcorr',\n",
    "        )\n",
    "        _exec(cmd)"
   ]
  },
  {
   "cell_type": "code",
   "execution_count": null,
   "metadata": {
    "scrolled": true
   },
   "outputs": [],
   "source": [
    "FROM_DIR = '/local/PPMI/_dti_fitted'\n",
    "TO_DIR = '/local/PPMI/_dti_fitted_fa_manual_filtered_aligned'\n",
    "SAVE_AVERAGE_TO = '/local/PPMI/_dti_fitted_average.nii.gz'\n",
    "GLOB_PATTERN = '%s/*_FA.nii.gz' % FROM_DIR\n",
    "\n",
    "generate_average_image(GLOB_PATTERN, SAVE_AVERAGE_TO)\n",
    "align_to_average(SAVE_AVERAGE_TO, all_correct_files, TO_DIR)"
   ]
  },
  {
   "cell_type": "code",
   "execution_count": null,
   "metadata": {
    "scrolled": true
   },
   "outputs": [],
   "source": [
    "# Second iteration\n",
    "FROM_DIR = '/local/PPMI/_dti_fitted_fa_manual_filtered_aligned'\n",
    "TO_DIR = '/local/PPMI/_dti_fitted_fa_manual_filtered_aligned_it2'\n",
    "SAVE_AVERAGE_TO = '/local/PPMI/_dti_fitted_average_2.nii.gz'\n",
    "GLOB_PATTERN = '%s/*.nii.gz' % FROM_DIR\n",
    "\n",
    "generate_average_image(GLOB_PATTERN, SAVE_AVERAGE_TO)\n",
    "align_to_average(SAVE_AVERAGE_TO, all_correct_files, TO_DIR)"
   ]
  },
  {
   "cell_type": "code",
   "execution_count": null,
   "metadata": {},
   "outputs": [],
   "source": []
  }
 ],
 "metadata": {
  "kernelspec": {
   "display_name": "Python 2",
   "language": "python",
   "name": "python2"
  },
  "language_info": {
   "codemirror_mode": {
    "name": "ipython",
    "version": 2
   },
   "file_extension": ".py",
   "mimetype": "text/x-python",
   "name": "python",
   "nbconvert_exporter": "python",
   "pygments_lexer": "ipython2",
   "version": "2.7.12"
  }
 },
 "nbformat": 4,
 "nbformat_minor": 2
}
