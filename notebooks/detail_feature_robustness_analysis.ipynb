{
 "cells": [
  {
   "cell_type": "code",
   "execution_count": 12,
   "metadata": {},
   "outputs": [],
   "source": [
    "import numpy as np\n",
    "import matplotlib.pyplot as plt\n",
    "import json\n",
    "import os\n",
    "import shutil"
   ]
  },
  {
   "cell_type": "markdown",
   "metadata": {},
   "source": [
    "### Record to be analyzed\n"
   ]
  },
  {
   "cell_type": "code",
   "execution_count": 55,
   "metadata": {},
   "outputs": [],
   "source": [
    "smt_label = \"20180709-121220\"\n",
    "train = False\n",
    "epoch = 0\n",
    "diag_dim = 32"
   ]
  },
  {
   "cell_type": "code",
   "execution_count": 56,
   "metadata": {},
   "outputs": [],
   "source": [
    "if train:\n",
    "    train_s = \"train\"\n",
    "else:\n",
    "    train_s = \"test\"\n",
    "feature_zip = \"../produced_data/{}/{}_{}.zip\".format(smt_label, train_s, epoch)\n",
    "robustness_folder = \"../produced_data/{}/robustness_{}_{}/robustness_measures\".format(smt_label, train_s, epoch)\n",
    "out_folder = \"../generated_plots/some_analysis\"\n",
    "if not os.path.exists(out_folder):\n",
    "    os.makedirs(out_folder)"
   ]
  },
  {
   "cell_type": "markdown",
   "metadata": {},
   "source": [
    "### Some analysis functions"
   ]
  },
  {
   "cell_type": "code",
   "execution_count": 75,
   "metadata": {},
   "outputs": [],
   "source": [
    "def get_full_output_path(file_name):\n",
    "    return os.path.join(out_folder, file_name)\n",
    "\n",
    "def feature_value_hist(feature_values):\n",
    "    for i in range(len(feature_values)):\n",
    "        plt.figure()\n",
    "        plt.xlabel(\"Feature {}\".format(i))\n",
    "        plt.ylabel(\"Count\")\n",
    "        plt.title(\"Value histogram for feature {}\".format(i))\n",
    "        plt.hist(feature_values[i], edgecolor=\"black\")\n",
    "        plt.savefig(os.path.join(out_folder, \"{}_hist.pdf\".format(i)))\n",
    "        plt.close()\n",
    "        \n",
    "def feature_agreement(in_folder, feature_set, prefix, file_name):\n",
    "    # Retrieve computation dic\n",
    "    plt.figure()\n",
    "    comps = []\n",
    "    comp_names = []\n",
    "    for name in os.listdir(in_folder):\n",
    "        if name.startswith(prefix) and name.endswith(\".json\"):\n",
    "            dic = json.load(open(os.path.join(in_folder, name), 'r'))\n",
    "            comps.append(dic)\n",
    "            comp_names.append(\"_\".join(name.split(\"_\")[:-1]))\n",
    "    \n",
    "    all_values = []\n",
    "    for comp, name in zip(comps, comp_names):\n",
    "        values = []\n",
    "        for f in feature_set:\n",
    "            values.append(comp[f][\"ICC_A1\"])\n",
    "        all_values.append(values)\n",
    "    plt.hist(all_values, edgecolor=\"black\", label=comp_names)\n",
    "    plt.legend(loc=1, ncol=1)\n",
    "    plt.tight_layout\n",
    "    oname = \"{}_{}.pdf\".format(file_name, prefix)\n",
    "    plt.savefig(get_full_output_path(oname))\n",
    "    plt.close()"
   ]
  },
  {
   "cell_type": "markdown",
   "metadata": {},
   "source": [
    "### Load features"
   ]
  },
  {
   "cell_type": "code",
   "execution_count": 58,
   "metadata": {},
   "outputs": [],
   "source": [
    "dest_path = \"../produced_data/{}/{}_{}\".format(smt_label, train_s, epoch)\n",
    "shutil.unpack_archive(feature_zip, dest_path, 'zip')\n",
    "features = []\n",
    "for name in os.listdir(dest_path):\n",
    "    f = np.load(os.path.join(dest_path, name))\n",
    "    features.append(f)\n",
    "features = np.array(features).T\n",
    "shutil.rmtree(dest_path)"
   ]
  },
  {
   "cell_type": "markdown",
   "metadata": {},
   "source": [
    "### Do analysis"
   ]
  },
  {
   "cell_type": "code",
   "execution_count": 59,
   "metadata": {},
   "outputs": [],
   "source": [
    "feature_value_hist(features)"
   ]
  },
  {
   "cell_type": "code",
   "execution_count": 76,
   "metadata": {},
   "outputs": [],
   "source": [
    "enc_dim = len(features)\n",
    "not_reg = set([str(i) for i in range(0, enc_dim - diag_dim)])\n",
    "reg = set([str(i) for i in range(enc_dim - diag_dim, enc_dim)])\n",
    "feature_agreement(robustness_folder, not_reg, \"same_patient\", \"not_reg\")\n",
    "feature_agreement(robustness_folder, reg, \"same_patient\", \"reg\")\n",
    "feature_agreement(robustness_folder, not_reg, \"different_patient\", \"not_reg\")\n",
    "feature_agreement(robustness_folder, reg, \"different_patient\", \"reg\")"
   ]
  },
  {
   "cell_type": "code",
   "execution_count": null,
   "metadata": {},
   "outputs": [],
   "source": []
  }
 ],
 "metadata": {
  "kernelspec": {
   "display_name": "Python 3",
   "language": "python",
   "name": "python3"
  },
  "language_info": {
   "codemirror_mode": {
    "name": "ipython",
    "version": 3
   },
   "file_extension": ".py",
   "mimetype": "text/x-python",
   "name": "python",
   "nbconvert_exporter": "python",
   "pygments_lexer": "ipython3",
   "version": "3.6.5"
  }
 },
 "nbformat": 4,
 "nbformat_minor": 2
}
