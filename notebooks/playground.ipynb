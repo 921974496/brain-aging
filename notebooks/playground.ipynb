{
 "cells": [
  {
   "cell_type": "code",
   "execution_count": null,
   "metadata": {},
   "outputs": [],
   "source": [
    "import os\n",
    "import sys\n",
    "os.chdir('/local/home/dhaziza/entrack')\n",
    "os.environ[\"CUDA_DEVICE_ORDER\"]=\"PCI_BUS_ID\"   # see issue #152\n",
    "os.environ[\"CUDA_VISIBLE_DEVICES\"]=\"4\"\n",
    "sys.path.append('/local/home/dhaziza/entrack/')"
   ]
  },
  {
   "cell_type": "code",
   "execution_count": null,
   "metadata": {},
   "outputs": [],
   "source": [
    "from src.preprocessing import preprocess_all\n",
    "preprocess_all()"
   ]
  },
  {
   "cell_type": "code",
   "execution_count": null,
   "metadata": {
    "scrolled": false
   },
   "outputs": [],
   "source": [
    "import tensorflow as tf\n",
    "from src.model import model_fn\n",
    "from src.input import train_input, test_input\n",
    "config = tf.estimator.RunConfig(model_dir=\"data/model\")\n",
    "nn = tf.estimator.Estimator(model_fn=model_fn, params={}, config=config)\n",
    "tf.logging.set_verbosity(tf.logging.INFO)\n",
    "for i in range(5):\n",
    "    nn.train(input_fn=train_input)\n",
    "    nn.evaluate(input_fn=test_input)\n"
   ]
  },
  {
   "cell_type": "code",
   "execution_count": null,
   "metadata": {},
   "outputs": [],
   "source": [
    "it = train_input()\n",
    "sess = tf.Session()\n",
    "dat = sess.run(it['mri'])\n",
    "import matplotlib.pyplot as plt\n",
    "%matplotlib inline\n",
    "for i in range(8):\n",
    "    plt.imshow(dat[i, :,:,50])\n",
    "    plt.show()"
   ]
  }
 ],
 "metadata": {
  "kernelspec": {
   "display_name": "Python 2",
   "language": "python",
   "name": "python2"
  },
  "language_info": {
   "codemirror_mode": {
    "name": "ipython",
    "version": 2
   },
   "file_extension": ".py",
   "mimetype": "text/x-python",
   "name": "python",
   "nbconvert_exporter": "python",
   "pygments_lexer": "ipython2",
   "version": "2.7.12"
  }
 },
 "nbformat": 4,
 "nbformat_minor": 2
}
