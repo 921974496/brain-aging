{
 "cells": [
  {
   "cell_type": "code",
   "execution_count": 1,
   "metadata": {},
   "outputs": [
    {
     "data": {
      "text/plain": [
       "{'class': src.estimator.Estimator,\n",
       " 'params': {'config': {'keep_checkpoint_max': 5,\n",
       "   'log_step_count_steps': 100,\n",
       "   'save_checkpoints_steps': 100,\n",
       "   'save_summary_steps': 1,\n",
       "   'tf_random_seed': 42},\n",
       "  'input_fn_config': {'data_generation': {'data_converted_directory': 'data/ready/',\n",
       "    'data_raw_directory': 'data/raw/',\n",
       "    'data_sources': [{'features_from_filename': {'features_group': {'study_image_id': 1},\n",
       "       'regexp': '.*/(\\\\d+)_normalized\\\\.nii\\\\.gz'},\n",
       "      'glob': '/local/ADNI_AIBL/ADNI_AIBL_T1_normalized/train/[0-9]*[0-9]_normalized*',\n",
       "      'name': 'ADNI_AIBL',\n",
       "      'patients_features': 'data/raw/csv/adni_aibl.csv'}],\n",
       "    'dataset_compression': 'GZIP',\n",
       "    'image_shape': [91, 109, 91],\n",
       "    'test_database_file': 'test.tfrecord',\n",
       "    'test_set_random_seed': 0,\n",
       "    'test_set_size_ratio': 0.2,\n",
       "    'train_database_file': 'train.tfrecord'},\n",
       "   'data_streaming': {'dataset': [{'call': 'repeat', 'count': 2},\n",
       "     {'buffer_size': 400, 'call': 'prefetch'},\n",
       "     {'buffer_size': 100, 'call': 'shuffle', 'seed': 0},\n",
       "     {'call': 'map',\n",
       "      'map_func': <function src.input.parser>,\n",
       "      'num_parallel_calls': 8},\n",
       "     {'call': 'filter', 'keep_when_any_is_true': ['health_ad', 'healthy']},\n",
       "     {'call': 'map',\n",
       "      'map_func': <function src.input.distort>,\n",
       "      'num_parallel_calls': 8},\n",
       "     {'batch_size': 32, 'call': 'batch'}]}},\n",
       "  'params': {'log_loss_every_n_iter': 1,\n",
       "   'predicted': [{'average': 0, 'feature': 'health_ad'},\n",
       "    {'average': 0, 'feature': 'healthy'}]}}}"
      ]
     },
     "execution_count": 1,
     "metadata": {},
     "output_type": "execute_result"
    }
   ],
   "source": [
    "import os\n",
    "import sys\n",
    "import tensorflow as tf\n",
    "os.chdir('/local/home/dhaziza/entrack')\n",
    "os.environ[\"CUDA_DEVICE_ORDER\"]=\"PCI_BUS_ID\"   # see issue #152\n",
    "os.environ[\"CUDA_VISIBLE_DEVICES\"]=\"3\"\n",
    "sys.path.append('/local/home/dhaziza/entrack/')\n",
    "\n",
    "from modules.configparse import ConfigParser\n",
    "config = ConfigParser().parse('configs/example_config.yaml')\n",
    "config"
   ]
  },
  {
   "cell_type": "code",
   "execution_count": 2,
   "metadata": {},
   "outputs": [],
   "source": [
    "from src.input import gen_dataset_iterator, train_input\n",
    "from src.features import all_features\n",
    "config_data_generation = config['params']['input_fn_config']['data_generation']\n",
    "config_data_streaming = config['params']['input_fn_config']['data_streaming']\n",
    "all_features.feature_info['mri']['shape'] = config_data_generation['image_shape']\n",
    "dataset = tf.data.TFRecordDataset([\n",
    "        config_data_generation['data_converted_directory'] +\n",
    "        config_data_generation['train_database_file']\n",
    "    ],\n",
    "    compression_type=config_data_generation['dataset_compression'],\n",
    ")\n",
    "stream_config = [\n",
    "    val\n",
    "    for val in config_data_streaming['dataset']\n",
    "    if val['call'] not in ['shuffle', 'batch', 'filter']\n",
    "]\n",
    "it = gen_dataset_iterator(stream_config, dataset)"
   ]
  },
  {
   "cell_type": "code",
   "execution_count": 3,
   "metadata": {
    "scrolled": true
   },
   "outputs": [
    {
     "data": {
      "image/png": "[encoded data removed]",
      "text/plain": [
       "<matplotlib.figure.Figure at 0x7f70500b3690>"
      ]
     },
     "metadata": {},
     "output_type": "display_data"
    }
   ],
   "source": [
    "sess = tf.Session()\n",
    "dat = sess.run(it['mri'])\n",
    "import matplotlib.pyplot as plt\n",
    "%matplotlib inline\n",
    "plt.imshow(dat[:,:,50])\n",
    "plt.show()"
   ]
  },
  {
   "cell_type": "code",
   "execution_count": 4,
   "metadata": {},
   "outputs": [
    {
     "name": "stdout",
     "output_type": "stream",
     "text": [
      "[ True]\n",
      "[False]\n",
      "[False]\n",
      "[ True]\n",
      "[False]\n",
      "[ True]\n",
      "[False]\n",
      "[False]\n",
      "[False]\n",
      "[False]\n",
      "[False]\n",
      "[False]\n",
      "[False]\n",
      "[False]\n",
      "[False]\n",
      "[False]\n",
      "[ True]\n",
      "[False]\n",
      "[False]\n",
      "[False]\n",
      "[ True]\n",
      "[False]\n",
      "[False]\n",
      "[False]\n",
      "[False]\n",
      "[False]\n",
      "[False]\n",
      "[False]\n",
      "[False]\n",
      "[False]\n",
      "[False]\n",
      "[False]\n"
     ]
    }
   ],
   "source": [
    "cond = tf.equal(it['health_ad'], 1)\n",
    "for i in range(32):\n",
    "    c = sess.run(cond)\n",
    "    print c"
   ]
  },
  {
   "cell_type": "code",
   "execution_count": 5,
   "metadata": {
    "scrolled": false
   },
   "outputs": [
    {
     "ename": "ImportError",
     "evalue": "cannot import name model_fn",
     "output_type": "error",
     "traceback": [
      "\u001b[0;31m---------------------------------------------------------------------------\u001b[0m",
      "\u001b[0;31mImportError\u001b[0m                               Traceback (most recent call last)",
      "\u001b[0;32m<ipython-input-5-29a3cf574f78>\u001b[0m in \u001b[0;36m<module>\u001b[0;34m()\u001b[0m\n\u001b[1;32m      1\u001b[0m \u001b[0;32mimport\u001b[0m \u001b[0mtensorflow\u001b[0m \u001b[0;32mas\u001b[0m \u001b[0mtf\u001b[0m\u001b[0;34m\u001b[0m\u001b[0m\n\u001b[0;32m----> 2\u001b[0;31m \u001b[0;32mfrom\u001b[0m \u001b[0msrc\u001b[0m\u001b[0;34m.\u001b[0m\u001b[0mmodel\u001b[0m \u001b[0;32mimport\u001b[0m \u001b[0mmodel_fn\u001b[0m\u001b[0;34m\u001b[0m\u001b[0m\n\u001b[0m\u001b[1;32m      3\u001b[0m \u001b[0;32mfrom\u001b[0m \u001b[0msrc\u001b[0m\u001b[0;34m.\u001b[0m\u001b[0minput\u001b[0m \u001b[0;32mimport\u001b[0m \u001b[0mtrain_input\u001b[0m\u001b[0;34m,\u001b[0m \u001b[0mtest_input\u001b[0m\u001b[0;34m\u001b[0m\u001b[0m\n\u001b[1;32m      4\u001b[0m \u001b[0mconfig\u001b[0m \u001b[0;34m=\u001b[0m \u001b[0mtf\u001b[0m\u001b[0;34m.\u001b[0m\u001b[0mestimator\u001b[0m\u001b[0;34m.\u001b[0m\u001b[0mRunConfig\u001b[0m\u001b[0;34m(\u001b[0m\u001b[0mmodel_dir\u001b[0m\u001b[0;34m=\u001b[0m\u001b[0;34m\"data/model\"\u001b[0m\u001b[0;34m)\u001b[0m\u001b[0;34m\u001b[0m\u001b[0m\n\u001b[1;32m      5\u001b[0m \u001b[0mnn\u001b[0m \u001b[0;34m=\u001b[0m \u001b[0mtf\u001b[0m\u001b[0;34m.\u001b[0m\u001b[0mestimator\u001b[0m\u001b[0;34m.\u001b[0m\u001b[0mEstimator\u001b[0m\u001b[0;34m(\u001b[0m\u001b[0mmodel_fn\u001b[0m\u001b[0;34m=\u001b[0m\u001b[0mmodel_fn\u001b[0m\u001b[0;34m,\u001b[0m \u001b[0mparams\u001b[0m\u001b[0;34m=\u001b[0m\u001b[0;34m{\u001b[0m\u001b[0;34m}\u001b[0m\u001b[0;34m,\u001b[0m \u001b[0mconfig\u001b[0m\u001b[0;34m=\u001b[0m\u001b[0mconfig\u001b[0m\u001b[0;34m)\u001b[0m\u001b[0;34m\u001b[0m\u001b[0m\n",
      "\u001b[0;31mImportError\u001b[0m: cannot import name model_fn"
     ]
    }
   ],
   "source": [
    "import tensorflow as tf\n",
    "from src.model import model_fn\n",
    "from src.input import train_input, test_input\n",
    "config = tf.estimator.RunConfig(model_dir=\"data/model\")\n",
    "nn = tf.estimator.Estimator(model_fn=model_fn, params={}, config=config)\n",
    "tf.logging.set_verbosity(tf.logging.INFO)\n",
    "for i in range(5):\n",
    "    nn.train(input_fn=train_input)\n",
    "    nn.evaluate(input_fn=test_input)\n"
   ]
  }
 ],
 "metadata": {
  "kernelspec": {
   "display_name": "Python 2",
   "language": "python",
   "name": "python2"
  },
  "language_info": {
   "codemirror_mode": {
    "name": "ipython",
    "version": 2
   },
   "file_extension": ".py",
   "mimetype": "text/x-python",
   "name": "python",
   "nbconvert_exporter": "python",
   "pygments_lexer": "ipython2",
   "version": "2.7.12"
  }
 },
 "nbformat": 4,
 "nbformat_minor": 2
}
