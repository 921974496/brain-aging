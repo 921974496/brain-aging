{
 "cells": [
  {
   "cell_type": "code",
   "execution_count": 1,
   "metadata": {},
   "outputs": [],
   "source": [
    "import os\n",
    "import sys\n",
    "os.chdir('/local/home/dhaziza/entrack')\n",
    "os.environ[\"CUDA_DEVICE_ORDER\"]=\"PCI_BUS_ID\"   # see issue #152\n",
    "os.environ[\"CUDA_VISIBLE_DEVICES\"]=\"4\"\n",
    "sys.path.append('/local/home/dhaziza/entrack/')\n",
    "\n",
    "import csv\n",
    "import re\n",
    "import glob\n",
    "\n",
    "def intvals(s):\n",
    "    vals = re.findall(r'\\d+', s)\n",
    "    return [int(i) for i in vals]\n",
    "\n",
    "def intval(s):\n",
    "    vals = intvals(s)\n",
    "    return vals[0]"
   ]
  },
  {
   "cell_type": "code",
   "execution_count": 2,
   "metadata": {},
   "outputs": [
    {
     "name": "stdout",
     "output_type": "stream",
     "text": [
      "Data without info in csv:\n",
      "3450,3461,3523,3570,3591,3598,4866,5238,5343,7350,7403,7699,7772\n",
      "CSV info without image:\n",
      "7593\n"
     ]
    }
   ],
   "source": [
    "# Koln data\n",
    "csv_orig = 'data/raw/csv/orig/koln.csv'\n",
    "\n",
    "data_csv = {}\n",
    "data_files = {}\n",
    "with open(csv_orig) as csvfile:\n",
    "    reader = csv.DictReader(csvfile)\n",
    "    for row in reader:\n",
    "        data_csv[intval(row['ID'])] = True\n",
    "\n",
    "# List files\n",
    "regexp = r\".*/(\\d+)/(\\d+)_t1\\.nii\\.gz\"\n",
    "extract_from_path = re.compile(regexp)\n",
    "for f in glob.glob('data/raw/KOLN_T1/*/*/*.nii.gz'):\n",
    "    match = extract_from_path.match(f)\n",
    "    data_files[intval(match.group(2))] = True\n",
    "\n",
    "print(\"Data without info in csv:\")\n",
    "mri_without_csv = []\n",
    "for p in data_files.keys():\n",
    "    if p not in data_csv:\n",
    "        mri_without_csv.append(p)\n",
    "print \",\".join([str(v) for v in sorted(mri_without_csv)])\n",
    "\n",
    "print(\"CSV info without image:\")\n",
    "csv_without_mri = []\n",
    "for p in data_csv.keys():\n",
    "    if p not in data_files:\n",
    "        csv_without_mri.append(p)\n",
    "print \",\".join([str(v) for v in sorted(csv_without_mri)])\n"
   ]
  }
 ],
 "metadata": {
  "kernelspec": {
   "display_name": "Python 2",
   "language": "python",
   "name": "python2"
  },
  "language_info": {
   "codemirror_mode": {
    "name": "ipython",
    "version": 2
   },
   "file_extension": ".py",
   "mimetype": "text/x-python",
   "name": "python",
   "nbconvert_exporter": "python",
   "pygments_lexer": "ipython2",
   "version": "2.7.12"
  }
 },
 "nbformat": 4,
 "nbformat_minor": 2
}
