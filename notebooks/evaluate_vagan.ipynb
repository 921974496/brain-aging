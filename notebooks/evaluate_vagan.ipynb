{
 "cells": [
  {
   "cell_type": "code",
   "execution_count": 10,
   "metadata": {},
   "outputs": [],
   "source": [
    "# Make module from local packages importable\n",
    "import os\n",
    "import sys\n",
    "nb_dir = os.path.split(os.getcwd())[0]\n",
    "if nb_dir not in sys.path:\n",
    "    sys.path.append(nb_dir)\n",
    "os.chdir(\"..\")"
   ]
  },
  {
   "cell_type": "code",
   "execution_count": 24,
   "metadata": {},
   "outputs": [],
   "source": [
    "from src.baum_vagan.vagan.model_wrapper import VAGanWrapper\n",
    "import yaml\n",
    "import numpy as np\n",
    "import matplotlib.pyplot as plt"
   ]
  },
  {
   "cell_type": "markdown",
   "metadata": {},
   "source": [
    "## Define some constants"
   ]
  },
  {
   "cell_type": "code",
   "execution_count": 12,
   "metadata": {},
   "outputs": [],
   "source": [
    "smt_label = \"20180729-170849\"\n",
    "config_path = os.path.join(\"data\", smt_label, \"config.yaml\")\n",
    "model_dir = os.path.join(\"data\", smt_label, \"logdir\")\n",
    "with open(config_path, 'r') as f:\n",
    "    model_config = yaml.load(f)"
   ]
  },
  {
   "cell_type": "code",
   "execution_count": 13,
   "metadata": {
    "scrolled": true
   },
   "outputs": [
    {
     "data": {
      "text/plain": [
       "{'batch_size': 32,\n",
       " 'beta1': 0.0,\n",
       " 'beta2': 0.9,\n",
       " 'clip_max': 0.01,\n",
       " 'clip_min': -0.01,\n",
       " 'conditioned_gan': True,\n",
       " 'critic_initial_train_duration': 25,\n",
       " 'critic_iter': 5,\n",
       " 'critic_iter_long': 100,\n",
       " 'critic_net': 'src.baum_vagan.vagan.network_zoo.nets2D.critics.C3D_fcn_16_2D_conditioned_with_delta',\n",
       " 'critic_retune_frequency': 100,\n",
       " 'data_identifier': 'synthetic',\n",
       " 'data_loader': 'src.data.synthetic.loader.CN_AD_Loader',\n",
       " 'divide_lr_frequency': 'None',\n",
       " 'experiment_name': 'synth_vagan',\n",
       " 'generator_net': 'src.baum_vagan.vagan.network_zoo.nets2D.mask_generators.unet_16_2D_bn',\n",
       " 'image_size': [112, 112],\n",
       " 'improved_training': True,\n",
       " 'l1_map_weight': 100.0,\n",
       " 'learning_rate': '1e-4',\n",
       " 'max_iterations': 1000,\n",
       " 'moving_effect': True,\n",
       " 'n_accum_grads': 1,\n",
       " 'n_channels': 3,\n",
       " 'num_val_batches': 20,\n",
       " 'optimizer_handle': 'tensorflow.train.AdamOptimizer',\n",
       " 'preproc_folder': 'data/preproc_data/synthetic',\n",
       " 'rescale_to_one': True,\n",
       " 'save_frequency': 10,\n",
       " 'scale': 10.0,\n",
       " 'stream_config': {'data_path': 'data/4disks_t0_nf_delta_nf_n_10000_effect_100_no_0_delta/samples.hdf5',\n",
       "  'image_shape': [112, 112, 3],\n",
       "  'rescale_channels': [0, 2],\n",
       "  'rescale_to_one': True},\n",
       " 'tf_rescale_to_one': False,\n",
       " 'trained_model_dir': 'logdir/gan/synth_vagan_no_mod',\n",
       " 'update_tensorboard_frequency': 2,\n",
       " 'use_tanh': True,\n",
       " 'validation_frequency': 10}"
      ]
     },
     "execution_count": 13,
     "metadata": {},
     "output_type": "execute_result"
    }
   ],
   "source": [
    "model_config"
   ]
  },
  {
   "cell_type": "code",
   "execution_count": 19,
   "metadata": {},
   "outputs": [
    {
     "name": "stdout",
     "output_type": "stream",
     "text": [
      "INFO:tensorflow:Summary name generator/conv1_1/conv1_1_conv/W:0 is illegal; using generator/conv1_1/conv1_1_conv/W_0 instead.\n"
     ]
    },
    {
     "name": "stderr",
     "output_type": "stream",
     "text": [
      "2018-07-30 11:06:16,886 Summary name generator/conv1_1/conv1_1_conv/W:0 is illegal; using generator/conv1_1/conv1_1_conv/W_0 instead.\n"
     ]
    },
    {
     "name": "stdout",
     "output_type": "stream",
     "text": [
      "INFO:tensorflow:Summary name generator/conv1_2/conv1_2_conv/W:0 is illegal; using generator/conv1_2/conv1_2_conv/W_0 instead.\n"
     ]
    },
    {
     "name": "stderr",
     "output_type": "stream",
     "text": [
      "2018-07-30 11:06:16,930 Summary name generator/conv1_2/conv1_2_conv/W:0 is illegal; using generator/conv1_2/conv1_2_conv/W_0 instead.\n"
     ]
    },
    {
     "name": "stdout",
     "output_type": "stream",
     "text": [
      "INFO:tensorflow:Summary name generator/conv2_1/conv2_1_conv/W:0 is illegal; using generator/conv2_1/conv2_1_conv/W_0 instead.\n"
     ]
    },
    {
     "name": "stderr",
     "output_type": "stream",
     "text": [
      "2018-07-30 11:06:16,977 Summary name generator/conv2_1/conv2_1_conv/W:0 is illegal; using generator/conv2_1/conv2_1_conv/W_0 instead.\n"
     ]
    },
    {
     "name": "stdout",
     "output_type": "stream",
     "text": [
      "INFO:tensorflow:Summary name generator/conv2_2/conv2_2_conv/W:0 is illegal; using generator/conv2_2/conv2_2_conv/W_0 instead.\n"
     ]
    },
    {
     "name": "stderr",
     "output_type": "stream",
     "text": [
      "2018-07-30 11:06:17,020 Summary name generator/conv2_2/conv2_2_conv/W:0 is illegal; using generator/conv2_2/conv2_2_conv/W_0 instead.\n"
     ]
    },
    {
     "name": "stdout",
     "output_type": "stream",
     "text": [
      "INFO:tensorflow:Summary name generator/conv3_1/conv3_1_conv/W:0 is illegal; using generator/conv3_1/conv3_1_conv/W_0 instead.\n"
     ]
    },
    {
     "name": "stderr",
     "output_type": "stream",
     "text": [
      "2018-07-30 11:06:17,063 Summary name generator/conv3_1/conv3_1_conv/W:0 is illegal; using generator/conv3_1/conv3_1_conv/W_0 instead.\n"
     ]
    },
    {
     "name": "stdout",
     "output_type": "stream",
     "text": [
      "INFO:tensorflow:Summary name generator/conv3_2/conv3_2_conv/W:0 is illegal; using generator/conv3_2/conv3_2_conv/W_0 instead.\n"
     ]
    },
    {
     "name": "stderr",
     "output_type": "stream",
     "text": [
      "2018-07-30 11:06:17,106 Summary name generator/conv3_2/conv3_2_conv/W:0 is illegal; using generator/conv3_2/conv3_2_conv/W_0 instead.\n"
     ]
    },
    {
     "name": "stdout",
     "output_type": "stream",
     "text": [
      "INFO:tensorflow:Summary name generator/conv4_1/conv4_1_conv/W:0 is illegal; using generator/conv4_1/conv4_1_conv/W_0 instead.\n"
     ]
    },
    {
     "name": "stderr",
     "output_type": "stream",
     "text": [
      "2018-07-30 11:06:17,149 Summary name generator/conv4_1/conv4_1_conv/W:0 is illegal; using generator/conv4_1/conv4_1_conv/W_0 instead.\n"
     ]
    },
    {
     "name": "stdout",
     "output_type": "stream",
     "text": [
      "INFO:tensorflow:Summary name generator/conv4_2/conv4_2_conv/W:0 is illegal; using generator/conv4_2/conv4_2_conv/W_0 instead.\n"
     ]
    },
    {
     "name": "stderr",
     "output_type": "stream",
     "text": [
      "2018-07-30 11:06:17,192 Summary name generator/conv4_2/conv4_2_conv/W:0 is illegal; using generator/conv4_2/conv4_2_conv/W_0 instead.\n"
     ]
    },
    {
     "name": "stdout",
     "output_type": "stream",
     "text": [
      "INFO:tensorflow:Summary name generator/upconv3/W:0 is illegal; using generator/upconv3/W_0 instead.\n"
     ]
    },
    {
     "name": "stderr",
     "output_type": "stream",
     "text": [
      "2018-07-30 11:06:17,240 Summary name generator/upconv3/W:0 is illegal; using generator/upconv3/W_0 instead.\n"
     ]
    },
    {
     "name": "stdout",
     "output_type": "stream",
     "text": [
      "[ 0  0 24]\n",
      "INFO:tensorflow:Summary name generator/conv5_1/conv5_1_conv/W:0 is illegal; using generator/conv5_1/conv5_1_conv/W_0 instead.\n"
     ]
    },
    {
     "name": "stderr",
     "output_type": "stream",
     "text": [
      "2018-07-30 11:06:17,289 Summary name generator/conv5_1/conv5_1_conv/W:0 is illegal; using generator/conv5_1/conv5_1_conv/W_0 instead.\n"
     ]
    },
    {
     "name": "stdout",
     "output_type": "stream",
     "text": [
      "INFO:tensorflow:Summary name generator/conv5_2/conv5_2_conv/W:0 is illegal; using generator/conv5_2/conv5_2_conv/W_0 instead.\n"
     ]
    },
    {
     "name": "stderr",
     "output_type": "stream",
     "text": [
      "2018-07-30 11:06:17,332 Summary name generator/conv5_2/conv5_2_conv/W:0 is illegal; using generator/conv5_2/conv5_2_conv/W_0 instead.\n"
     ]
    },
    {
     "name": "stdout",
     "output_type": "stream",
     "text": [
      "INFO:tensorflow:Summary name generator/upconv2/W:0 is illegal; using generator/upconv2/W_0 instead.\n"
     ]
    },
    {
     "name": "stderr",
     "output_type": "stream",
     "text": [
      "2018-07-30 11:06:17,383 Summary name generator/upconv2/W:0 is illegal; using generator/upconv2/W_0 instead.\n"
     ]
    },
    {
     "name": "stdout",
     "output_type": "stream",
     "text": [
      "[0 0 8]\n",
      "INFO:tensorflow:Summary name generator/conv6_1/conv6_1_conv/W:0 is illegal; using generator/conv6_1/conv6_1_conv/W_0 instead.\n"
     ]
    },
    {
     "name": "stderr",
     "output_type": "stream",
     "text": [
      "2018-07-30 11:06:17,434 Summary name generator/conv6_1/conv6_1_conv/W:0 is illegal; using generator/conv6_1/conv6_1_conv/W_0 instead.\n"
     ]
    },
    {
     "name": "stdout",
     "output_type": "stream",
     "text": [
      "INFO:tensorflow:Summary name generator/conv6_2/conv6_2_conv/W:0 is illegal; using generator/conv6_2/conv6_2_conv/W_0 instead.\n"
     ]
    },
    {
     "name": "stderr",
     "output_type": "stream",
     "text": [
      "2018-07-30 11:06:17,545 Summary name generator/conv6_2/conv6_2_conv/W:0 is illegal; using generator/conv6_2/conv6_2_conv/W_0 instead.\n"
     ]
    },
    {
     "name": "stdout",
     "output_type": "stream",
     "text": [
      "INFO:tensorflow:Summary name generator/upconv1/W:0 is illegal; using generator/upconv1/W_0 instead.\n"
     ]
    },
    {
     "name": "stderr",
     "output_type": "stream",
     "text": [
      "2018-07-30 11:06:17,595 Summary name generator/upconv1/W:0 is illegal; using generator/upconv1/W_0 instead.\n"
     ]
    },
    {
     "name": "stdout",
     "output_type": "stream",
     "text": [
      "[0 0 0]\n",
      "INFO:tensorflow:Summary name generator/conv8_1/conv8_1_conv/W:0 is illegal; using generator/conv8_1/conv8_1_conv/W_0 instead.\n"
     ]
    },
    {
     "name": "stderr",
     "output_type": "stream",
     "text": [
      "2018-07-30 11:06:17,648 Summary name generator/conv8_1/conv8_1_conv/W:0 is illegal; using generator/conv8_1/conv8_1_conv/W_0 instead.\n"
     ]
    },
    {
     "name": "stdout",
     "output_type": "stream",
     "text": [
      "INFO:tensorflow:Summary name generator/conv8_2/W:0 is illegal; using generator/conv8_2/W_0 instead.\n"
     ]
    },
    {
     "name": "stderr",
     "output_type": "stream",
     "text": [
      "2018-07-30 11:06:17,695 Summary name generator/conv8_2/W:0 is illegal; using generator/conv8_2/W_0 instead.\n"
     ]
    },
    {
     "name": "stdout",
     "output_type": "stream",
     "text": [
      "INFO:tensorflow:Summary name generator/conv8_2/b:0 is illegal; using generator/conv8_2/b_0 instead.\n"
     ]
    },
    {
     "name": "stderr",
     "output_type": "stream",
     "text": [
      "2018-07-30 11:06:17,697 Summary name generator/conv8_2/b:0 is illegal; using generator/conv8_2/b_0 instead.\n"
     ]
    },
    {
     "name": "stdout",
     "output_type": "stream",
     "text": [
      "INFO:tensorflow:Summary name critic/conv1_1/W:0 is illegal; using critic/conv1_1/W_0 instead.\n"
     ]
    },
    {
     "name": "stderr",
     "output_type": "stream",
     "text": [
      "2018-07-30 11:06:17,718 Summary name critic/conv1_1/W:0 is illegal; using critic/conv1_1/W_0 instead.\n"
     ]
    },
    {
     "name": "stdout",
     "output_type": "stream",
     "text": [
      "INFO:tensorflow:Summary name critic/conv1_1/b:0 is illegal; using critic/conv1_1/b_0 instead.\n"
     ]
    },
    {
     "name": "stderr",
     "output_type": "stream",
     "text": [
      "2018-07-30 11:06:17,721 Summary name critic/conv1_1/b:0 is illegal; using critic/conv1_1/b_0 instead.\n"
     ]
    },
    {
     "name": "stdout",
     "output_type": "stream",
     "text": [
      "INFO:tensorflow:Summary name critic/conv2_1/W:0 is illegal; using critic/conv2_1/W_0 instead.\n"
     ]
    },
    {
     "name": "stderr",
     "output_type": "stream",
     "text": [
      "2018-07-30 11:06:17,736 Summary name critic/conv2_1/W:0 is illegal; using critic/conv2_1/W_0 instead.\n"
     ]
    },
    {
     "name": "stdout",
     "output_type": "stream",
     "text": [
      "INFO:tensorflow:Summary name critic/conv2_1/b:0 is illegal; using critic/conv2_1/b_0 instead.\n"
     ]
    },
    {
     "name": "stderr",
     "output_type": "stream",
     "text": [
      "2018-07-30 11:06:17,738 Summary name critic/conv2_1/b:0 is illegal; using critic/conv2_1/b_0 instead.\n"
     ]
    },
    {
     "name": "stdout",
     "output_type": "stream",
     "text": [
      "INFO:tensorflow:Summary name critic/conv3_1/W:0 is illegal; using critic/conv3_1/W_0 instead.\n"
     ]
    },
    {
     "name": "stderr",
     "output_type": "stream",
     "text": [
      "2018-07-30 11:06:17,755 Summary name critic/conv3_1/W:0 is illegal; using critic/conv3_1/W_0 instead.\n"
     ]
    },
    {
     "name": "stdout",
     "output_type": "stream",
     "text": [
      "INFO:tensorflow:Summary name critic/conv3_1/b:0 is illegal; using critic/conv3_1/b_0 instead.\n"
     ]
    },
    {
     "name": "stderr",
     "output_type": "stream",
     "text": [
      "2018-07-30 11:06:17,758 Summary name critic/conv3_1/b:0 is illegal; using critic/conv3_1/b_0 instead.\n"
     ]
    },
    {
     "name": "stdout",
     "output_type": "stream",
     "text": [
      "INFO:tensorflow:Summary name critic/conv3_2/W:0 is illegal; using critic/conv3_2/W_0 instead.\n"
     ]
    },
    {
     "name": "stderr",
     "output_type": "stream",
     "text": [
      "2018-07-30 11:06:17,773 Summary name critic/conv3_2/W:0 is illegal; using critic/conv3_2/W_0 instead.\n"
     ]
    },
    {
     "name": "stdout",
     "output_type": "stream",
     "text": [
      "INFO:tensorflow:Summary name critic/conv3_2/b:0 is illegal; using critic/conv3_2/b_0 instead.\n"
     ]
    },
    {
     "name": "stderr",
     "output_type": "stream",
     "text": [
      "2018-07-30 11:06:17,777 Summary name critic/conv3_2/b:0 is illegal; using critic/conv3_2/b_0 instead.\n"
     ]
    },
    {
     "name": "stdout",
     "output_type": "stream",
     "text": [
      "INFO:tensorflow:Summary name critic/conv4_1/W:0 is illegal; using critic/conv4_1/W_0 instead.\n"
     ]
    },
    {
     "name": "stderr",
     "output_type": "stream",
     "text": [
      "2018-07-30 11:06:17,791 Summary name critic/conv4_1/W:0 is illegal; using critic/conv4_1/W_0 instead.\n"
     ]
    },
    {
     "name": "stdout",
     "output_type": "stream",
     "text": [
      "INFO:tensorflow:Summary name critic/conv4_1/b:0 is illegal; using critic/conv4_1/b_0 instead.\n"
     ]
    },
    {
     "name": "stderr",
     "output_type": "stream",
     "text": [
      "2018-07-30 11:06:17,794 Summary name critic/conv4_1/b:0 is illegal; using critic/conv4_1/b_0 instead.\n"
     ]
    },
    {
     "name": "stdout",
     "output_type": "stream",
     "text": [
      "INFO:tensorflow:Summary name critic/conv4_2/W:0 is illegal; using critic/conv4_2/W_0 instead.\n"
     ]
    },
    {
     "name": "stderr",
     "output_type": "stream",
     "text": [
      "2018-07-30 11:06:17,812 Summary name critic/conv4_2/W:0 is illegal; using critic/conv4_2/W_0 instead.\n"
     ]
    },
    {
     "name": "stdout",
     "output_type": "stream",
     "text": [
      "INFO:tensorflow:Summary name critic/conv4_2/b:0 is illegal; using critic/conv4_2/b_0 instead.\n"
     ]
    },
    {
     "name": "stderr",
     "output_type": "stream",
     "text": [
      "2018-07-30 11:06:17,815 Summary name critic/conv4_2/b:0 is illegal; using critic/conv4_2/b_0 instead.\n"
     ]
    },
    {
     "name": "stdout",
     "output_type": "stream",
     "text": [
      "INFO:tensorflow:Summary name critic/conv5_1/W:0 is illegal; using critic/conv5_1/W_0 instead.\n"
     ]
    },
    {
     "name": "stderr",
     "output_type": "stream",
     "text": [
      "2018-07-30 11:06:17,829 Summary name critic/conv5_1/W:0 is illegal; using critic/conv5_1/W_0 instead.\n"
     ]
    },
    {
     "name": "stdout",
     "output_type": "stream",
     "text": [
      "INFO:tensorflow:Summary name critic/conv5_1/b:0 is illegal; using critic/conv5_1/b_0 instead.\n"
     ]
    },
    {
     "name": "stderr",
     "output_type": "stream",
     "text": [
      "2018-07-30 11:06:17,831 Summary name critic/conv5_1/b:0 is illegal; using critic/conv5_1/b_0 instead.\n"
     ]
    },
    {
     "name": "stdout",
     "output_type": "stream",
     "text": [
      "INFO:tensorflow:Summary name critic/conv5_2/W:0 is illegal; using critic/conv5_2/W_0 instead.\n"
     ]
    },
    {
     "name": "stderr",
     "output_type": "stream",
     "text": [
      "2018-07-30 11:06:17,846 Summary name critic/conv5_2/W:0 is illegal; using critic/conv5_2/W_0 instead.\n"
     ]
    },
    {
     "name": "stdout",
     "output_type": "stream",
     "text": [
      "INFO:tensorflow:Summary name critic/conv5_2/b:0 is illegal; using critic/conv5_2/b_0 instead.\n"
     ]
    },
    {
     "name": "stderr",
     "output_type": "stream",
     "text": [
      "2018-07-30 11:06:17,848 Summary name critic/conv5_2/b:0 is illegal; using critic/conv5_2/b_0 instead.\n"
     ]
    },
    {
     "name": "stdout",
     "output_type": "stream",
     "text": [
      "INFO:tensorflow:Summary name critic/convD_1/W:0 is illegal; using critic/convD_1/W_0 instead.\n"
     ]
    },
    {
     "name": "stderr",
     "output_type": "stream",
     "text": [
      "2018-07-30 11:06:17,863 Summary name critic/convD_1/W:0 is illegal; using critic/convD_1/W_0 instead.\n"
     ]
    },
    {
     "name": "stdout",
     "output_type": "stream",
     "text": [
      "INFO:tensorflow:Summary name critic/convD_1/b:0 is illegal; using critic/convD_1/b_0 instead.\n"
     ]
    },
    {
     "name": "stderr",
     "output_type": "stream",
     "text": [
      "2018-07-30 11:06:17,866 Summary name critic/convD_1/b:0 is illegal; using critic/convD_1/b_0 instead.\n"
     ]
    },
    {
     "name": "stdout",
     "output_type": "stream",
     "text": [
      "INFO:tensorflow:Summary name critic/convD_2/W:0 is illegal; using critic/convD_2/W_0 instead.\n"
     ]
    },
    {
     "name": "stderr",
     "output_type": "stream",
     "text": [
      "2018-07-30 11:06:17,881 Summary name critic/convD_2/W:0 is illegal; using critic/convD_2/W_0 instead.\n"
     ]
    },
    {
     "name": "stdout",
     "output_type": "stream",
     "text": [
      "INFO:tensorflow:Summary name critic/convD_2/b:0 is illegal; using critic/convD_2/b_0 instead.\n"
     ]
    },
    {
     "name": "stderr",
     "output_type": "stream",
     "text": [
      "2018-07-30 11:06:17,883 Summary name critic/convD_2/b:0 is illegal; using critic/convD_2/b_0 instead.\n"
     ]
    },
    {
     "name": "stdout",
     "output_type": "stream",
     "text": [
      "WARNING:tensorflow:From /local/mhoerold/entrack/src/baum_vagan/tfwrapper/layers.py:60: calling reduce_mean (from tensorflow.python.ops.math_ops) with keep_dims is deprecated and will be removed in a future version.\n",
      "Instructions for updating:\n",
      "keep_dims is deprecated, use keepdims instead\n"
     ]
    },
    {
     "name": "stderr",
     "output_type": "stream",
     "text": [
      "2018-07-30 11:06:17,900 From /local/mhoerold/entrack/src/baum_vagan/tfwrapper/layers.py:60: calling reduce_mean (from tensorflow.python.ops.math_ops) with keep_dims is deprecated and will be removed in a future version.\n",
      "Instructions for updating:\n",
      "keep_dims is deprecated, use keepdims instead\n"
     ]
    },
    {
     "name": "stdout",
     "output_type": "stream",
     "text": [
      "INFO:tensorflow:Summary name critic/critic_condition/conv1_1/W:0 is illegal; using critic/critic_condition/conv1_1/W_0 instead.\n"
     ]
    },
    {
     "name": "stderr",
     "output_type": "stream",
     "text": [
      "2018-07-30 11:06:17,915 Summary name critic/critic_condition/conv1_1/W:0 is illegal; using critic/critic_condition/conv1_1/W_0 instead.\n"
     ]
    },
    {
     "name": "stdout",
     "output_type": "stream",
     "text": [
      "INFO:tensorflow:Summary name critic/critic_condition/conv1_1/b:0 is illegal; using critic/critic_condition/conv1_1/b_0 instead.\n"
     ]
    },
    {
     "name": "stderr",
     "output_type": "stream",
     "text": [
      "2018-07-30 11:06:17,918 Summary name critic/critic_condition/conv1_1/b:0 is illegal; using critic/critic_condition/conv1_1/b_0 instead.\n"
     ]
    },
    {
     "name": "stdout",
     "output_type": "stream",
     "text": [
      "INFO:tensorflow:Summary name critic/critic_condition/conv2_1/W:0 is illegal; using critic/critic_condition/conv2_1/W_0 instead.\n"
     ]
    },
    {
     "name": "stderr",
     "output_type": "stream",
     "text": [
      "2018-07-30 11:06:17,932 Summary name critic/critic_condition/conv2_1/W:0 is illegal; using critic/critic_condition/conv2_1/W_0 instead.\n"
     ]
    },
    {
     "name": "stdout",
     "output_type": "stream",
     "text": [
      "INFO:tensorflow:Summary name critic/critic_condition/conv2_1/b:0 is illegal; using critic/critic_condition/conv2_1/b_0 instead.\n"
     ]
    },
    {
     "name": "stderr",
     "output_type": "stream",
     "text": [
      "2018-07-30 11:06:17,935 Summary name critic/critic_condition/conv2_1/b:0 is illegal; using critic/critic_condition/conv2_1/b_0 instead.\n"
     ]
    },
    {
     "name": "stdout",
     "output_type": "stream",
     "text": [
      "INFO:tensorflow:Summary name critic/critic_condition/conv3_1/W:0 is illegal; using critic/critic_condition/conv3_1/W_0 instead.\n"
     ]
    },
    {
     "name": "stderr",
     "output_type": "stream",
     "text": [
      "2018-07-30 11:06:17,950 Summary name critic/critic_condition/conv3_1/W:0 is illegal; using critic/critic_condition/conv3_1/W_0 instead.\n"
     ]
    },
    {
     "name": "stdout",
     "output_type": "stream",
     "text": [
      "INFO:tensorflow:Summary name critic/critic_condition/conv3_1/b:0 is illegal; using critic/critic_condition/conv3_1/b_0 instead.\n"
     ]
    },
    {
     "name": "stderr",
     "output_type": "stream",
     "text": [
      "2018-07-30 11:06:17,952 Summary name critic/critic_condition/conv3_1/b:0 is illegal; using critic/critic_condition/conv3_1/b_0 instead.\n"
     ]
    },
    {
     "name": "stdout",
     "output_type": "stream",
     "text": [
      "INFO:tensorflow:Summary name critic/critic_condition/conv3_2/W:0 is illegal; using critic/critic_condition/conv3_2/W_0 instead.\n"
     ]
    },
    {
     "name": "stderr",
     "output_type": "stream",
     "text": [
      "2018-07-30 11:06:17,966 Summary name critic/critic_condition/conv3_2/W:0 is illegal; using critic/critic_condition/conv3_2/W_0 instead.\n"
     ]
    },
    {
     "name": "stdout",
     "output_type": "stream",
     "text": [
      "INFO:tensorflow:Summary name critic/critic_condition/conv3_2/b:0 is illegal; using critic/critic_condition/conv3_2/b_0 instead.\n"
     ]
    },
    {
     "name": "stderr",
     "output_type": "stream",
     "text": [
      "2018-07-30 11:06:17,968 Summary name critic/critic_condition/conv3_2/b:0 is illegal; using critic/critic_condition/conv3_2/b_0 instead.\n"
     ]
    },
    {
     "name": "stdout",
     "output_type": "stream",
     "text": [
      "INFO:tensorflow:Summary name critic/critic_condition/conv4_1/W:0 is illegal; using critic/critic_condition/conv4_1/W_0 instead.\n"
     ]
    },
    {
     "name": "stderr",
     "output_type": "stream",
     "text": [
      "2018-07-30 11:06:17,985 Summary name critic/critic_condition/conv4_1/W:0 is illegal; using critic/critic_condition/conv4_1/W_0 instead.\n"
     ]
    },
    {
     "name": "stdout",
     "output_type": "stream",
     "text": [
      "INFO:tensorflow:Summary name critic/critic_condition/conv4_1/b:0 is illegal; using critic/critic_condition/conv4_1/b_0 instead.\n"
     ]
    },
    {
     "name": "stderr",
     "output_type": "stream",
     "text": [
      "2018-07-30 11:06:17,987 Summary name critic/critic_condition/conv4_1/b:0 is illegal; using critic/critic_condition/conv4_1/b_0 instead.\n"
     ]
    },
    {
     "name": "stdout",
     "output_type": "stream",
     "text": [
      "INFO:tensorflow:Summary name critic/critic_condition/conv4_2/W:0 is illegal; using critic/critic_condition/conv4_2/W_0 instead.\n"
     ]
    },
    {
     "name": "stderr",
     "output_type": "stream",
     "text": [
      "2018-07-30 11:06:18,001 Summary name critic/critic_condition/conv4_2/W:0 is illegal; using critic/critic_condition/conv4_2/W_0 instead.\n"
     ]
    },
    {
     "name": "stdout",
     "output_type": "stream",
     "text": [
      "INFO:tensorflow:Summary name critic/critic_condition/conv4_2/b:0 is illegal; using critic/critic_condition/conv4_2/b_0 instead.\n"
     ]
    },
    {
     "name": "stderr",
     "output_type": "stream",
     "text": [
      "2018-07-30 11:06:18,004 Summary name critic/critic_condition/conv4_2/b:0 is illegal; using critic/critic_condition/conv4_2/b_0 instead.\n"
     ]
    },
    {
     "name": "stdout",
     "output_type": "stream",
     "text": [
      "INFO:tensorflow:Summary name critic/critic_condition/conv5_1/W:0 is illegal; using critic/critic_condition/conv5_1/W_0 instead.\n"
     ]
    },
    {
     "name": "stderr",
     "output_type": "stream",
     "text": [
      "2018-07-30 11:06:18,018 Summary name critic/critic_condition/conv5_1/W:0 is illegal; using critic/critic_condition/conv5_1/W_0 instead.\n"
     ]
    },
    {
     "name": "stdout",
     "output_type": "stream",
     "text": [
      "INFO:tensorflow:Summary name critic/critic_condition/conv5_1/b:0 is illegal; using critic/critic_condition/conv5_1/b_0 instead.\n"
     ]
    },
    {
     "name": "stderr",
     "output_type": "stream",
     "text": [
      "2018-07-30 11:06:18,021 Summary name critic/critic_condition/conv5_1/b:0 is illegal; using critic/critic_condition/conv5_1/b_0 instead.\n"
     ]
    },
    {
     "name": "stdout",
     "output_type": "stream",
     "text": [
      "INFO:tensorflow:Summary name critic/critic_condition/conv5_2/W:0 is illegal; using critic/critic_condition/conv5_2/W_0 instead.\n"
     ]
    },
    {
     "name": "stderr",
     "output_type": "stream",
     "text": [
      "2018-07-30 11:06:18,035 Summary name critic/critic_condition/conv5_2/W:0 is illegal; using critic/critic_condition/conv5_2/W_0 instead.\n"
     ]
    },
    {
     "name": "stdout",
     "output_type": "stream",
     "text": [
      "INFO:tensorflow:Summary name critic/critic_condition/conv5_2/b:0 is illegal; using critic/critic_condition/conv5_2/b_0 instead.\n"
     ]
    },
    {
     "name": "stderr",
     "output_type": "stream",
     "text": [
      "2018-07-30 11:06:18,037 Summary name critic/critic_condition/conv5_2/b:0 is illegal; using critic/critic_condition/conv5_2/b_0 instead.\n"
     ]
    },
    {
     "name": "stdout",
     "output_type": "stream",
     "text": [
      "INFO:tensorflow:Summary name critic/critic_condition/convD_1/W:0 is illegal; using critic/critic_condition/convD_1/W_0 instead.\n"
     ]
    },
    {
     "name": "stderr",
     "output_type": "stream",
     "text": [
      "2018-07-30 11:06:18,051 Summary name critic/critic_condition/convD_1/W:0 is illegal; using critic/critic_condition/convD_1/W_0 instead.\n"
     ]
    },
    {
     "name": "stdout",
     "output_type": "stream",
     "text": [
      "INFO:tensorflow:Summary name critic/critic_condition/convD_1/b:0 is illegal; using critic/critic_condition/convD_1/b_0 instead.\n"
     ]
    },
    {
     "name": "stderr",
     "output_type": "stream",
     "text": [
      "2018-07-30 11:06:18,054 Summary name critic/critic_condition/convD_1/b:0 is illegal; using critic/critic_condition/convD_1/b_0 instead.\n"
     ]
    },
    {
     "name": "stdout",
     "output_type": "stream",
     "text": [
      "INFO:tensorflow:Summary name critic/critic_condition/convD_2/W:0 is illegal; using critic/critic_condition/convD_2/W_0 instead.\n"
     ]
    },
    {
     "name": "stderr",
     "output_type": "stream",
     "text": [
      "2018-07-30 11:06:18,068 Summary name critic/critic_condition/convD_2/W:0 is illegal; using critic/critic_condition/convD_2/W_0 instead.\n"
     ]
    },
    {
     "name": "stdout",
     "output_type": "stream",
     "text": [
      "INFO:tensorflow:Summary name critic/critic_condition/convD_2/b:0 is illegal; using critic/critic_condition/convD_2/b_0 instead.\n"
     ]
    },
    {
     "name": "stderr",
     "output_type": "stream",
     "text": [
      "2018-07-30 11:06:18,071 Summary name critic/critic_condition/convD_2/b:0 is illegal; using critic/critic_condition/convD_2/b_0 instead.\n"
     ]
    },
    {
     "name": "stdout",
     "output_type": "stream",
     "text": [
      "INFO:tensorflow:Summary name critic/conv1_1/W:0 is illegal; using critic/conv1_1/W_0 instead.\n"
     ]
    },
    {
     "name": "stderr",
     "output_type": "stream",
     "text": [
      "2018-07-30 11:06:18,104 Summary name critic/conv1_1/W:0 is illegal; using critic/conv1_1/W_0 instead.\n"
     ]
    },
    {
     "name": "stdout",
     "output_type": "stream",
     "text": [
      "INFO:tensorflow:Summary name critic/conv1_1/b:0 is illegal; using critic/conv1_1/b_0 instead.\n"
     ]
    },
    {
     "name": "stderr",
     "output_type": "stream",
     "text": [
      "2018-07-30 11:06:18,105 Summary name critic/conv1_1/b:0 is illegal; using critic/conv1_1/b_0 instead.\n"
     ]
    },
    {
     "name": "stdout",
     "output_type": "stream",
     "text": [
      "INFO:tensorflow:Summary name critic/conv2_1/W:0 is illegal; using critic/conv2_1/W_0 instead.\n"
     ]
    },
    {
     "name": "stderr",
     "output_type": "stream",
     "text": [
      "2018-07-30 11:06:18,113 Summary name critic/conv2_1/W:0 is illegal; using critic/conv2_1/W_0 instead.\n"
     ]
    },
    {
     "name": "stdout",
     "output_type": "stream",
     "text": [
      "INFO:tensorflow:Summary name critic/conv2_1/b:0 is illegal; using critic/conv2_1/b_0 instead.\n"
     ]
    },
    {
     "name": "stderr",
     "output_type": "stream",
     "text": [
      "2018-07-30 11:06:18,115 Summary name critic/conv2_1/b:0 is illegal; using critic/conv2_1/b_0 instead.\n"
     ]
    },
    {
     "name": "stdout",
     "output_type": "stream",
     "text": [
      "INFO:tensorflow:Summary name critic/conv3_1/W:0 is illegal; using critic/conv3_1/W_0 instead.\n"
     ]
    },
    {
     "name": "stderr",
     "output_type": "stream",
     "text": [
      "2018-07-30 11:06:18,122 Summary name critic/conv3_1/W:0 is illegal; using critic/conv3_1/W_0 instead.\n"
     ]
    },
    {
     "name": "stdout",
     "output_type": "stream",
     "text": [
      "INFO:tensorflow:Summary name critic/conv3_1/b:0 is illegal; using critic/conv3_1/b_0 instead.\n"
     ]
    },
    {
     "name": "stderr",
     "output_type": "stream",
     "text": [
      "2018-07-30 11:06:18,124 Summary name critic/conv3_1/b:0 is illegal; using critic/conv3_1/b_0 instead.\n"
     ]
    },
    {
     "name": "stdout",
     "output_type": "stream",
     "text": [
      "INFO:tensorflow:Summary name critic/conv3_2/W:0 is illegal; using critic/conv3_2/W_0 instead.\n"
     ]
    },
    {
     "name": "stderr",
     "output_type": "stream",
     "text": [
      "2018-07-30 11:06:18,131 Summary name critic/conv3_2/W:0 is illegal; using critic/conv3_2/W_0 instead.\n"
     ]
    },
    {
     "name": "stdout",
     "output_type": "stream",
     "text": [
      "INFO:tensorflow:Summary name critic/conv3_2/b:0 is illegal; using critic/conv3_2/b_0 instead.\n"
     ]
    },
    {
     "name": "stderr",
     "output_type": "stream",
     "text": [
      "2018-07-30 11:06:18,133 Summary name critic/conv3_2/b:0 is illegal; using critic/conv3_2/b_0 instead.\n"
     ]
    },
    {
     "name": "stdout",
     "output_type": "stream",
     "text": [
      "INFO:tensorflow:Summary name critic/conv4_1/W:0 is illegal; using critic/conv4_1/W_0 instead.\n"
     ]
    },
    {
     "name": "stderr",
     "output_type": "stream",
     "text": [
      "2018-07-30 11:06:18,140 Summary name critic/conv4_1/W:0 is illegal; using critic/conv4_1/W_0 instead.\n"
     ]
    },
    {
     "name": "stdout",
     "output_type": "stream",
     "text": [
      "INFO:tensorflow:Summary name critic/conv4_1/b:0 is illegal; using critic/conv4_1/b_0 instead.\n"
     ]
    },
    {
     "name": "stderr",
     "output_type": "stream",
     "text": [
      "2018-07-30 11:06:18,143 Summary name critic/conv4_1/b:0 is illegal; using critic/conv4_1/b_0 instead.\n"
     ]
    },
    {
     "name": "stdout",
     "output_type": "stream",
     "text": [
      "INFO:tensorflow:Summary name critic/conv4_2/W:0 is illegal; using critic/conv4_2/W_0 instead.\n"
     ]
    },
    {
     "name": "stderr",
     "output_type": "stream",
     "text": [
      "2018-07-30 11:06:18,149 Summary name critic/conv4_2/W:0 is illegal; using critic/conv4_2/W_0 instead.\n"
     ]
    },
    {
     "name": "stdout",
     "output_type": "stream",
     "text": [
      "INFO:tensorflow:Summary name critic/conv4_2/b:0 is illegal; using critic/conv4_2/b_0 instead.\n"
     ]
    },
    {
     "name": "stderr",
     "output_type": "stream",
     "text": [
      "2018-07-30 11:06:18,151 Summary name critic/conv4_2/b:0 is illegal; using critic/conv4_2/b_0 instead.\n"
     ]
    },
    {
     "name": "stdout",
     "output_type": "stream",
     "text": [
      "INFO:tensorflow:Summary name critic/conv5_1/W:0 is illegal; using critic/conv5_1/W_0 instead.\n"
     ]
    },
    {
     "name": "stderr",
     "output_type": "stream",
     "text": [
      "2018-07-30 11:06:18,158 Summary name critic/conv5_1/W:0 is illegal; using critic/conv5_1/W_0 instead.\n"
     ]
    },
    {
     "name": "stdout",
     "output_type": "stream",
     "text": [
      "INFO:tensorflow:Summary name critic/conv5_1/b:0 is illegal; using critic/conv5_1/b_0 instead.\n"
     ]
    },
    {
     "name": "stderr",
     "output_type": "stream",
     "text": [
      "2018-07-30 11:06:18,161 Summary name critic/conv5_1/b:0 is illegal; using critic/conv5_1/b_0 instead.\n"
     ]
    },
    {
     "name": "stdout",
     "output_type": "stream",
     "text": [
      "INFO:tensorflow:Summary name critic/conv5_2/W:0 is illegal; using critic/conv5_2/W_0 instead.\n"
     ]
    },
    {
     "name": "stderr",
     "output_type": "stream",
     "text": [
      "2018-07-30 11:06:18,167 Summary name critic/conv5_2/W:0 is illegal; using critic/conv5_2/W_0 instead.\n"
     ]
    },
    {
     "name": "stdout",
     "output_type": "stream",
     "text": [
      "INFO:tensorflow:Summary name critic/conv5_2/b:0 is illegal; using critic/conv5_2/b_0 instead.\n"
     ]
    },
    {
     "name": "stderr",
     "output_type": "stream",
     "text": [
      "2018-07-30 11:06:18,169 Summary name critic/conv5_2/b:0 is illegal; using critic/conv5_2/b_0 instead.\n"
     ]
    },
    {
     "name": "stdout",
     "output_type": "stream",
     "text": [
      "INFO:tensorflow:Summary name critic/convD_1/W:0 is illegal; using critic/convD_1/W_0 instead.\n"
     ]
    },
    {
     "name": "stderr",
     "output_type": "stream",
     "text": [
      "2018-07-30 11:06:18,175 Summary name critic/convD_1/W:0 is illegal; using critic/convD_1/W_0 instead.\n"
     ]
    },
    {
     "name": "stdout",
     "output_type": "stream",
     "text": [
      "INFO:tensorflow:Summary name critic/convD_1/b:0 is illegal; using critic/convD_1/b_0 instead.\n"
     ]
    },
    {
     "name": "stderr",
     "output_type": "stream",
     "text": [
      "2018-07-30 11:06:18,178 Summary name critic/convD_1/b:0 is illegal; using critic/convD_1/b_0 instead.\n"
     ]
    },
    {
     "name": "stdout",
     "output_type": "stream",
     "text": [
      "INFO:tensorflow:Summary name critic/convD_2/W:0 is illegal; using critic/convD_2/W_0 instead.\n"
     ]
    },
    {
     "name": "stderr",
     "output_type": "stream",
     "text": [
      "2018-07-30 11:06:18,184 Summary name critic/convD_2/W:0 is illegal; using critic/convD_2/W_0 instead.\n"
     ]
    },
    {
     "name": "stdout",
     "output_type": "stream",
     "text": [
      "INFO:tensorflow:Summary name critic/convD_2/b:0 is illegal; using critic/convD_2/b_0 instead.\n"
     ]
    },
    {
     "name": "stderr",
     "output_type": "stream",
     "text": [
      "2018-07-30 11:06:18,186 Summary name critic/convD_2/b:0 is illegal; using critic/convD_2/b_0 instead.\n"
     ]
    },
    {
     "name": "stdout",
     "output_type": "stream",
     "text": [
      "INFO:tensorflow:Summary name critic/critic_condition/conv1_1/W:0 is illegal; using critic/critic_condition/conv1_1/W_0 instead.\n"
     ]
    },
    {
     "name": "stderr",
     "output_type": "stream",
     "text": [
      "2018-07-30 11:06:18,196 Summary name critic/critic_condition/conv1_1/W:0 is illegal; using critic/critic_condition/conv1_1/W_0 instead.\n"
     ]
    },
    {
     "name": "stdout",
     "output_type": "stream",
     "text": [
      "INFO:tensorflow:Summary name critic/critic_condition/conv1_1/b:0 is illegal; using critic/critic_condition/conv1_1/b_0 instead.\n"
     ]
    },
    {
     "name": "stderr",
     "output_type": "stream",
     "text": [
      "2018-07-30 11:06:18,198 Summary name critic/critic_condition/conv1_1/b:0 is illegal; using critic/critic_condition/conv1_1/b_0 instead.\n"
     ]
    },
    {
     "name": "stdout",
     "output_type": "stream",
     "text": [
      "INFO:tensorflow:Summary name critic/critic_condition/conv2_1/W:0 is illegal; using critic/critic_condition/conv2_1/W_0 instead.\n"
     ]
    },
    {
     "name": "stderr",
     "output_type": "stream",
     "text": [
      "2018-07-30 11:06:18,206 Summary name critic/critic_condition/conv2_1/W:0 is illegal; using critic/critic_condition/conv2_1/W_0 instead.\n"
     ]
    },
    {
     "name": "stdout",
     "output_type": "stream",
     "text": [
      "INFO:tensorflow:Summary name critic/critic_condition/conv2_1/b:0 is illegal; using critic/critic_condition/conv2_1/b_0 instead.\n"
     ]
    },
    {
     "name": "stderr",
     "output_type": "stream",
     "text": [
      "2018-07-30 11:06:18,208 Summary name critic/critic_condition/conv2_1/b:0 is illegal; using critic/critic_condition/conv2_1/b_0 instead.\n"
     ]
    },
    {
     "name": "stdout",
     "output_type": "stream",
     "text": [
      "INFO:tensorflow:Summary name critic/critic_condition/conv3_1/W:0 is illegal; using critic/critic_condition/conv3_1/W_0 instead.\n"
     ]
    },
    {
     "name": "stderr",
     "output_type": "stream",
     "text": [
      "2018-07-30 11:06:18,215 Summary name critic/critic_condition/conv3_1/W:0 is illegal; using critic/critic_condition/conv3_1/W_0 instead.\n"
     ]
    },
    {
     "name": "stdout",
     "output_type": "stream",
     "text": [
      "INFO:tensorflow:Summary name critic/critic_condition/conv3_1/b:0 is illegal; using critic/critic_condition/conv3_1/b_0 instead.\n"
     ]
    },
    {
     "name": "stderr",
     "output_type": "stream",
     "text": [
      "2018-07-30 11:06:18,218 Summary name critic/critic_condition/conv3_1/b:0 is illegal; using critic/critic_condition/conv3_1/b_0 instead.\n"
     ]
    },
    {
     "name": "stdout",
     "output_type": "stream",
     "text": [
      "INFO:tensorflow:Summary name critic/critic_condition/conv3_2/W:0 is illegal; using critic/critic_condition/conv3_2/W_0 instead.\n"
     ]
    },
    {
     "name": "stderr",
     "output_type": "stream",
     "text": [
      "2018-07-30 11:06:18,223 Summary name critic/critic_condition/conv3_2/W:0 is illegal; using critic/critic_condition/conv3_2/W_0 instead.\n"
     ]
    },
    {
     "name": "stdout",
     "output_type": "stream",
     "text": [
      "INFO:tensorflow:Summary name critic/critic_condition/conv3_2/b:0 is illegal; using critic/critic_condition/conv3_2/b_0 instead.\n"
     ]
    },
    {
     "name": "stderr",
     "output_type": "stream",
     "text": [
      "2018-07-30 11:06:18,226 Summary name critic/critic_condition/conv3_2/b:0 is illegal; using critic/critic_condition/conv3_2/b_0 instead.\n"
     ]
    },
    {
     "name": "stdout",
     "output_type": "stream",
     "text": [
      "INFO:tensorflow:Summary name critic/critic_condition/conv4_1/W:0 is illegal; using critic/critic_condition/conv4_1/W_0 instead.\n"
     ]
    },
    {
     "name": "stderr",
     "output_type": "stream",
     "text": [
      "2018-07-30 11:06:18,232 Summary name critic/critic_condition/conv4_1/W:0 is illegal; using critic/critic_condition/conv4_1/W_0 instead.\n"
     ]
    },
    {
     "name": "stdout",
     "output_type": "stream",
     "text": [
      "INFO:tensorflow:Summary name critic/critic_condition/conv4_1/b:0 is illegal; using critic/critic_condition/conv4_1/b_0 instead.\n"
     ]
    },
    {
     "name": "stderr",
     "output_type": "stream",
     "text": [
      "2018-07-30 11:06:18,234 Summary name critic/critic_condition/conv4_1/b:0 is illegal; using critic/critic_condition/conv4_1/b_0 instead.\n"
     ]
    },
    {
     "name": "stdout",
     "output_type": "stream",
     "text": [
      "INFO:tensorflow:Summary name critic/critic_condition/conv4_2/W:0 is illegal; using critic/critic_condition/conv4_2/W_0 instead.\n"
     ]
    },
    {
     "name": "stderr",
     "output_type": "stream",
     "text": [
      "2018-07-30 11:06:18,240 Summary name critic/critic_condition/conv4_2/W:0 is illegal; using critic/critic_condition/conv4_2/W_0 instead.\n"
     ]
    },
    {
     "name": "stdout",
     "output_type": "stream",
     "text": [
      "INFO:tensorflow:Summary name critic/critic_condition/conv4_2/b:0 is illegal; using critic/critic_condition/conv4_2/b_0 instead.\n"
     ]
    },
    {
     "name": "stderr",
     "output_type": "stream",
     "text": [
      "2018-07-30 11:06:18,243 Summary name critic/critic_condition/conv4_2/b:0 is illegal; using critic/critic_condition/conv4_2/b_0 instead.\n"
     ]
    },
    {
     "name": "stdout",
     "output_type": "stream",
     "text": [
      "INFO:tensorflow:Summary name critic/critic_condition/conv5_1/W:0 is illegal; using critic/critic_condition/conv5_1/W_0 instead.\n"
     ]
    },
    {
     "name": "stderr",
     "output_type": "stream",
     "text": [
      "2018-07-30 11:06:18,250 Summary name critic/critic_condition/conv5_1/W:0 is illegal; using critic/critic_condition/conv5_1/W_0 instead.\n"
     ]
    },
    {
     "name": "stdout",
     "output_type": "stream",
     "text": [
      "INFO:tensorflow:Summary name critic/critic_condition/conv5_1/b:0 is illegal; using critic/critic_condition/conv5_1/b_0 instead.\n"
     ]
    },
    {
     "name": "stderr",
     "output_type": "stream",
     "text": [
      "2018-07-30 11:06:18,252 Summary name critic/critic_condition/conv5_1/b:0 is illegal; using critic/critic_condition/conv5_1/b_0 instead.\n"
     ]
    },
    {
     "name": "stdout",
     "output_type": "stream",
     "text": [
      "INFO:tensorflow:Summary name critic/critic_condition/conv5_2/W:0 is illegal; using critic/critic_condition/conv5_2/W_0 instead.\n"
     ]
    },
    {
     "name": "stderr",
     "output_type": "stream",
     "text": [
      "2018-07-30 11:06:18,258 Summary name critic/critic_condition/conv5_2/W:0 is illegal; using critic/critic_condition/conv5_2/W_0 instead.\n"
     ]
    },
    {
     "name": "stdout",
     "output_type": "stream",
     "text": [
      "INFO:tensorflow:Summary name critic/critic_condition/conv5_2/b:0 is illegal; using critic/critic_condition/conv5_2/b_0 instead.\n"
     ]
    },
    {
     "name": "stderr",
     "output_type": "stream",
     "text": [
      "2018-07-30 11:06:18,260 Summary name critic/critic_condition/conv5_2/b:0 is illegal; using critic/critic_condition/conv5_2/b_0 instead.\n"
     ]
    },
    {
     "name": "stdout",
     "output_type": "stream",
     "text": [
      "INFO:tensorflow:Summary name critic/critic_condition/convD_1/W:0 is illegal; using critic/critic_condition/convD_1/W_0 instead.\n"
     ]
    },
    {
     "name": "stderr",
     "output_type": "stream",
     "text": [
      "2018-07-30 11:06:18,267 Summary name critic/critic_condition/convD_1/W:0 is illegal; using critic/critic_condition/convD_1/W_0 instead.\n"
     ]
    },
    {
     "name": "stdout",
     "output_type": "stream",
     "text": [
      "INFO:tensorflow:Summary name critic/critic_condition/convD_1/b:0 is illegal; using critic/critic_condition/convD_1/b_0 instead.\n"
     ]
    },
    {
     "name": "stderr",
     "output_type": "stream",
     "text": [
      "2018-07-30 11:06:18,271 Summary name critic/critic_condition/convD_1/b:0 is illegal; using critic/critic_condition/convD_1/b_0 instead.\n"
     ]
    },
    {
     "name": "stdout",
     "output_type": "stream",
     "text": [
      "INFO:tensorflow:Summary name critic/critic_condition/convD_2/W:0 is illegal; using critic/critic_condition/convD_2/W_0 instead.\n"
     ]
    },
    {
     "name": "stderr",
     "output_type": "stream",
     "text": [
      "2018-07-30 11:06:18,279 Summary name critic/critic_condition/convD_2/W:0 is illegal; using critic/critic_condition/convD_2/W_0 instead.\n"
     ]
    },
    {
     "name": "stdout",
     "output_type": "stream",
     "text": [
      "INFO:tensorflow:Summary name critic/critic_condition/convD_2/b:0 is illegal; using critic/critic_condition/convD_2/b_0 instead.\n"
     ]
    },
    {
     "name": "stderr",
     "output_type": "stream",
     "text": [
      "2018-07-30 11:06:18,282 Summary name critic/critic_condition/convD_2/b:0 is illegal; using critic/critic_condition/convD_2/b_0 instead.\n"
     ]
    },
    {
     "name": "stdout",
     "output_type": "stream",
     "text": [
      "INFO:tensorflow:Summary name critic/conv1_1/W:0 is illegal; using critic/conv1_1/W_0 instead.\n"
     ]
    },
    {
     "name": "stderr",
     "output_type": "stream",
     "text": [
      "2018-07-30 11:06:18,322 Summary name critic/conv1_1/W:0 is illegal; using critic/conv1_1/W_0 instead.\n"
     ]
    },
    {
     "name": "stdout",
     "output_type": "stream",
     "text": [
      "INFO:tensorflow:Summary name critic/conv1_1/b:0 is illegal; using critic/conv1_1/b_0 instead.\n"
     ]
    },
    {
     "name": "stderr",
     "output_type": "stream",
     "text": [
      "2018-07-30 11:06:18,325 Summary name critic/conv1_1/b:0 is illegal; using critic/conv1_1/b_0 instead.\n"
     ]
    },
    {
     "name": "stdout",
     "output_type": "stream",
     "text": [
      "INFO:tensorflow:Summary name critic/conv2_1/W:0 is illegal; using critic/conv2_1/W_0 instead.\n"
     ]
    },
    {
     "name": "stderr",
     "output_type": "stream",
     "text": [
      "2018-07-30 11:06:18,332 Summary name critic/conv2_1/W:0 is illegal; using critic/conv2_1/W_0 instead.\n"
     ]
    },
    {
     "name": "stdout",
     "output_type": "stream",
     "text": [
      "INFO:tensorflow:Summary name critic/conv2_1/b:0 is illegal; using critic/conv2_1/b_0 instead.\n"
     ]
    },
    {
     "name": "stderr",
     "output_type": "stream",
     "text": [
      "2018-07-30 11:06:18,334 Summary name critic/conv2_1/b:0 is illegal; using critic/conv2_1/b_0 instead.\n"
     ]
    },
    {
     "name": "stdout",
     "output_type": "stream",
     "text": [
      "INFO:tensorflow:Summary name critic/conv3_1/W:0 is illegal; using critic/conv3_1/W_0 instead.\n"
     ]
    },
    {
     "name": "stderr",
     "output_type": "stream",
     "text": [
      "2018-07-30 11:06:18,341 Summary name critic/conv3_1/W:0 is illegal; using critic/conv3_1/W_0 instead.\n"
     ]
    },
    {
     "name": "stdout",
     "output_type": "stream",
     "text": [
      "INFO:tensorflow:Summary name critic/conv3_1/b:0 is illegal; using critic/conv3_1/b_0 instead.\n"
     ]
    },
    {
     "name": "stderr",
     "output_type": "stream",
     "text": [
      "2018-07-30 11:06:18,344 Summary name critic/conv3_1/b:0 is illegal; using critic/conv3_1/b_0 instead.\n"
     ]
    },
    {
     "name": "stdout",
     "output_type": "stream",
     "text": [
      "INFO:tensorflow:Summary name critic/conv3_2/W:0 is illegal; using critic/conv3_2/W_0 instead.\n"
     ]
    },
    {
     "name": "stderr",
     "output_type": "stream",
     "text": [
      "2018-07-30 11:06:18,349 Summary name critic/conv3_2/W:0 is illegal; using critic/conv3_2/W_0 instead.\n"
     ]
    },
    {
     "name": "stdout",
     "output_type": "stream",
     "text": [
      "INFO:tensorflow:Summary name critic/conv3_2/b:0 is illegal; using critic/conv3_2/b_0 instead.\n"
     ]
    },
    {
     "name": "stderr",
     "output_type": "stream",
     "text": [
      "2018-07-30 11:06:18,353 Summary name critic/conv3_2/b:0 is illegal; using critic/conv3_2/b_0 instead.\n"
     ]
    },
    {
     "name": "stdout",
     "output_type": "stream",
     "text": [
      "INFO:tensorflow:Summary name critic/conv4_1/W:0 is illegal; using critic/conv4_1/W_0 instead.\n"
     ]
    },
    {
     "name": "stderr",
     "output_type": "stream",
     "text": [
      "2018-07-30 11:06:18,363 Summary name critic/conv4_1/W:0 is illegal; using critic/conv4_1/W_0 instead.\n"
     ]
    },
    {
     "name": "stdout",
     "output_type": "stream",
     "text": [
      "INFO:tensorflow:Summary name critic/conv4_1/b:0 is illegal; using critic/conv4_1/b_0 instead.\n"
     ]
    },
    {
     "name": "stderr",
     "output_type": "stream",
     "text": [
      "2018-07-30 11:06:18,366 Summary name critic/conv4_1/b:0 is illegal; using critic/conv4_1/b_0 instead.\n"
     ]
    },
    {
     "name": "stdout",
     "output_type": "stream",
     "text": [
      "INFO:tensorflow:Summary name critic/conv4_2/W:0 is illegal; using critic/conv4_2/W_0 instead.\n"
     ]
    },
    {
     "name": "stderr",
     "output_type": "stream",
     "text": [
      "2018-07-30 11:06:18,371 Summary name critic/conv4_2/W:0 is illegal; using critic/conv4_2/W_0 instead.\n"
     ]
    },
    {
     "name": "stdout",
     "output_type": "stream",
     "text": [
      "INFO:tensorflow:Summary name critic/conv4_2/b:0 is illegal; using critic/conv4_2/b_0 instead.\n"
     ]
    },
    {
     "name": "stderr",
     "output_type": "stream",
     "text": [
      "2018-07-30 11:06:18,379 Summary name critic/conv4_2/b:0 is illegal; using critic/conv4_2/b_0 instead.\n"
     ]
    },
    {
     "name": "stdout",
     "output_type": "stream",
     "text": [
      "INFO:tensorflow:Summary name critic/conv5_1/W:0 is illegal; using critic/conv5_1/W_0 instead.\n"
     ]
    },
    {
     "name": "stderr",
     "output_type": "stream",
     "text": [
      "2018-07-30 11:06:18,388 Summary name critic/conv5_1/W:0 is illegal; using critic/conv5_1/W_0 instead.\n"
     ]
    },
    {
     "name": "stdout",
     "output_type": "stream",
     "text": [
      "INFO:tensorflow:Summary name critic/conv5_1/b:0 is illegal; using critic/conv5_1/b_0 instead.\n"
     ]
    },
    {
     "name": "stderr",
     "output_type": "stream",
     "text": [
      "2018-07-30 11:06:18,392 Summary name critic/conv5_1/b:0 is illegal; using critic/conv5_1/b_0 instead.\n"
     ]
    },
    {
     "name": "stdout",
     "output_type": "stream",
     "text": [
      "INFO:tensorflow:Summary name critic/conv5_2/W:0 is illegal; using critic/conv5_2/W_0 instead.\n"
     ]
    },
    {
     "name": "stderr",
     "output_type": "stream",
     "text": [
      "2018-07-30 11:06:18,399 Summary name critic/conv5_2/W:0 is illegal; using critic/conv5_2/W_0 instead.\n"
     ]
    },
    {
     "name": "stdout",
     "output_type": "stream",
     "text": [
      "INFO:tensorflow:Summary name critic/conv5_2/b:0 is illegal; using critic/conv5_2/b_0 instead.\n"
     ]
    },
    {
     "name": "stderr",
     "output_type": "stream",
     "text": [
      "2018-07-30 11:06:18,401 Summary name critic/conv5_2/b:0 is illegal; using critic/conv5_2/b_0 instead.\n"
     ]
    },
    {
     "name": "stdout",
     "output_type": "stream",
     "text": [
      "INFO:tensorflow:Summary name critic/convD_1/W:0 is illegal; using critic/convD_1/W_0 instead.\n"
     ]
    },
    {
     "name": "stderr",
     "output_type": "stream",
     "text": [
      "2018-07-30 11:06:18,407 Summary name critic/convD_1/W:0 is illegal; using critic/convD_1/W_0 instead.\n"
     ]
    },
    {
     "name": "stdout",
     "output_type": "stream",
     "text": [
      "INFO:tensorflow:Summary name critic/convD_1/b:0 is illegal; using critic/convD_1/b_0 instead.\n"
     ]
    },
    {
     "name": "stderr",
     "output_type": "stream",
     "text": [
      "2018-07-30 11:06:18,410 Summary name critic/convD_1/b:0 is illegal; using critic/convD_1/b_0 instead.\n"
     ]
    },
    {
     "name": "stdout",
     "output_type": "stream",
     "text": [
      "INFO:tensorflow:Summary name critic/convD_2/W:0 is illegal; using critic/convD_2/W_0 instead.\n"
     ]
    },
    {
     "name": "stderr",
     "output_type": "stream",
     "text": [
      "2018-07-30 11:06:18,416 Summary name critic/convD_2/W:0 is illegal; using critic/convD_2/W_0 instead.\n"
     ]
    },
    {
     "name": "stdout",
     "output_type": "stream",
     "text": [
      "INFO:tensorflow:Summary name critic/convD_2/b:0 is illegal; using critic/convD_2/b_0 instead.\n"
     ]
    },
    {
     "name": "stderr",
     "output_type": "stream",
     "text": [
      "2018-07-30 11:06:18,418 Summary name critic/convD_2/b:0 is illegal; using critic/convD_2/b_0 instead.\n"
     ]
    },
    {
     "name": "stdout",
     "output_type": "stream",
     "text": [
      "INFO:tensorflow:Summary name critic/critic_condition/conv1_1/W:0 is illegal; using critic/critic_condition/conv1_1/W_0 instead.\n"
     ]
    },
    {
     "name": "stderr",
     "output_type": "stream",
     "text": [
      "2018-07-30 11:06:18,429 Summary name critic/critic_condition/conv1_1/W:0 is illegal; using critic/critic_condition/conv1_1/W_0 instead.\n"
     ]
    },
    {
     "name": "stdout",
     "output_type": "stream",
     "text": [
      "INFO:tensorflow:Summary name critic/critic_condition/conv1_1/b:0 is illegal; using critic/critic_condition/conv1_1/b_0 instead.\n"
     ]
    },
    {
     "name": "stderr",
     "output_type": "stream",
     "text": [
      "2018-07-30 11:06:18,431 Summary name critic/critic_condition/conv1_1/b:0 is illegal; using critic/critic_condition/conv1_1/b_0 instead.\n"
     ]
    },
    {
     "name": "stdout",
     "output_type": "stream",
     "text": [
      "INFO:tensorflow:Summary name critic/critic_condition/conv2_1/W:0 is illegal; using critic/critic_condition/conv2_1/W_0 instead.\n"
     ]
    },
    {
     "name": "stderr",
     "output_type": "stream",
     "text": [
      "2018-07-30 11:06:18,437 Summary name critic/critic_condition/conv2_1/W:0 is illegal; using critic/critic_condition/conv2_1/W_0 instead.\n"
     ]
    },
    {
     "name": "stdout",
     "output_type": "stream",
     "text": [
      "INFO:tensorflow:Summary name critic/critic_condition/conv2_1/b:0 is illegal; using critic/critic_condition/conv2_1/b_0 instead.\n"
     ]
    },
    {
     "name": "stderr",
     "output_type": "stream",
     "text": [
      "2018-07-30 11:06:18,442 Summary name critic/critic_condition/conv2_1/b:0 is illegal; using critic/critic_condition/conv2_1/b_0 instead.\n"
     ]
    },
    {
     "name": "stdout",
     "output_type": "stream",
     "text": [
      "INFO:tensorflow:Summary name critic/critic_condition/conv3_1/W:0 is illegal; using critic/critic_condition/conv3_1/W_0 instead.\n"
     ]
    },
    {
     "name": "stderr",
     "output_type": "stream",
     "text": [
      "2018-07-30 11:06:18,449 Summary name critic/critic_condition/conv3_1/W:0 is illegal; using critic/critic_condition/conv3_1/W_0 instead.\n"
     ]
    },
    {
     "name": "stdout",
     "output_type": "stream",
     "text": [
      "INFO:tensorflow:Summary name critic/critic_condition/conv3_1/b:0 is illegal; using critic/critic_condition/conv3_1/b_0 instead.\n"
     ]
    },
    {
     "name": "stderr",
     "output_type": "stream",
     "text": [
      "2018-07-30 11:06:18,451 Summary name critic/critic_condition/conv3_1/b:0 is illegal; using critic/critic_condition/conv3_1/b_0 instead.\n"
     ]
    },
    {
     "name": "stdout",
     "output_type": "stream",
     "text": [
      "INFO:tensorflow:Summary name critic/critic_condition/conv3_2/W:0 is illegal; using critic/critic_condition/conv3_2/W_0 instead.\n"
     ]
    },
    {
     "name": "stderr",
     "output_type": "stream",
     "text": [
      "2018-07-30 11:06:18,457 Summary name critic/critic_condition/conv3_2/W:0 is illegal; using critic/critic_condition/conv3_2/W_0 instead.\n"
     ]
    },
    {
     "name": "stdout",
     "output_type": "stream",
     "text": [
      "INFO:tensorflow:Summary name critic/critic_condition/conv3_2/b:0 is illegal; using critic/critic_condition/conv3_2/b_0 instead.\n"
     ]
    },
    {
     "name": "stderr",
     "output_type": "stream",
     "text": [
      "2018-07-30 11:06:18,459 Summary name critic/critic_condition/conv3_2/b:0 is illegal; using critic/critic_condition/conv3_2/b_0 instead.\n"
     ]
    },
    {
     "name": "stdout",
     "output_type": "stream",
     "text": [
      "INFO:tensorflow:Summary name critic/critic_condition/conv4_1/W:0 is illegal; using critic/critic_condition/conv4_1/W_0 instead.\n"
     ]
    },
    {
     "name": "stderr",
     "output_type": "stream",
     "text": [
      "2018-07-30 11:06:18,465 Summary name critic/critic_condition/conv4_1/W:0 is illegal; using critic/critic_condition/conv4_1/W_0 instead.\n"
     ]
    },
    {
     "name": "stdout",
     "output_type": "stream",
     "text": [
      "INFO:tensorflow:Summary name critic/critic_condition/conv4_1/b:0 is illegal; using critic/critic_condition/conv4_1/b_0 instead.\n"
     ]
    },
    {
     "name": "stderr",
     "output_type": "stream",
     "text": [
      "2018-07-30 11:06:18,467 Summary name critic/critic_condition/conv4_1/b:0 is illegal; using critic/critic_condition/conv4_1/b_0 instead.\n"
     ]
    },
    {
     "name": "stdout",
     "output_type": "stream",
     "text": [
      "INFO:tensorflow:Summary name critic/critic_condition/conv4_2/W:0 is illegal; using critic/critic_condition/conv4_2/W_0 instead.\n"
     ]
    },
    {
     "name": "stderr",
     "output_type": "stream",
     "text": [
      "2018-07-30 11:06:18,479 Summary name critic/critic_condition/conv4_2/W:0 is illegal; using critic/critic_condition/conv4_2/W_0 instead.\n"
     ]
    },
    {
     "name": "stdout",
     "output_type": "stream",
     "text": [
      "INFO:tensorflow:Summary name critic/critic_condition/conv4_2/b:0 is illegal; using critic/critic_condition/conv4_2/b_0 instead.\n"
     ]
    },
    {
     "name": "stderr",
     "output_type": "stream",
     "text": [
      "2018-07-30 11:06:18,482 Summary name critic/critic_condition/conv4_2/b:0 is illegal; using critic/critic_condition/conv4_2/b_0 instead.\n"
     ]
    },
    {
     "name": "stdout",
     "output_type": "stream",
     "text": [
      "INFO:tensorflow:Summary name critic/critic_condition/conv5_1/W:0 is illegal; using critic/critic_condition/conv5_1/W_0 instead.\n"
     ]
    },
    {
     "name": "stderr",
     "output_type": "stream",
     "text": [
      "2018-07-30 11:06:18,490 Summary name critic/critic_condition/conv5_1/W:0 is illegal; using critic/critic_condition/conv5_1/W_0 instead.\n"
     ]
    },
    {
     "name": "stdout",
     "output_type": "stream",
     "text": [
      "INFO:tensorflow:Summary name critic/critic_condition/conv5_1/b:0 is illegal; using critic/critic_condition/conv5_1/b_0 instead.\n"
     ]
    },
    {
     "name": "stderr",
     "output_type": "stream",
     "text": [
      "2018-07-30 11:06:18,492 Summary name critic/critic_condition/conv5_1/b:0 is illegal; using critic/critic_condition/conv5_1/b_0 instead.\n"
     ]
    },
    {
     "name": "stdout",
     "output_type": "stream",
     "text": [
      "INFO:tensorflow:Summary name critic/critic_condition/conv5_2/W:0 is illegal; using critic/critic_condition/conv5_2/W_0 instead.\n"
     ]
    },
    {
     "name": "stderr",
     "output_type": "stream",
     "text": [
      "2018-07-30 11:06:18,498 Summary name critic/critic_condition/conv5_2/W:0 is illegal; using critic/critic_condition/conv5_2/W_0 instead.\n"
     ]
    },
    {
     "name": "stdout",
     "output_type": "stream",
     "text": [
      "INFO:tensorflow:Summary name critic/critic_condition/conv5_2/b:0 is illegal; using critic/critic_condition/conv5_2/b_0 instead.\n"
     ]
    },
    {
     "name": "stderr",
     "output_type": "stream",
     "text": [
      "2018-07-30 11:06:18,501 Summary name critic/critic_condition/conv5_2/b:0 is illegal; using critic/critic_condition/conv5_2/b_0 instead.\n"
     ]
    },
    {
     "name": "stdout",
     "output_type": "stream",
     "text": [
      "INFO:tensorflow:Summary name critic/critic_condition/convD_1/W:0 is illegal; using critic/critic_condition/convD_1/W_0 instead.\n"
     ]
    },
    {
     "name": "stderr",
     "output_type": "stream",
     "text": [
      "2018-07-30 11:06:18,508 Summary name critic/critic_condition/convD_1/W:0 is illegal; using critic/critic_condition/convD_1/W_0 instead.\n"
     ]
    },
    {
     "name": "stdout",
     "output_type": "stream",
     "text": [
      "INFO:tensorflow:Summary name critic/critic_condition/convD_1/b:0 is illegal; using critic/critic_condition/convD_1/b_0 instead.\n"
     ]
    },
    {
     "name": "stderr",
     "output_type": "stream",
     "text": [
      "2018-07-30 11:06:18,511 Summary name critic/critic_condition/convD_1/b:0 is illegal; using critic/critic_condition/convD_1/b_0 instead.\n"
     ]
    },
    {
     "name": "stdout",
     "output_type": "stream",
     "text": [
      "INFO:tensorflow:Summary name critic/critic_condition/convD_2/W:0 is illegal; using critic/critic_condition/convD_2/W_0 instead.\n"
     ]
    },
    {
     "name": "stderr",
     "output_type": "stream",
     "text": [
      "2018-07-30 11:06:18,517 Summary name critic/critic_condition/convD_2/W:0 is illegal; using critic/critic_condition/convD_2/W_0 instead.\n"
     ]
    },
    {
     "name": "stdout",
     "output_type": "stream",
     "text": [
      "INFO:tensorflow:Summary name critic/critic_condition/convD_2/b:0 is illegal; using critic/critic_condition/convD_2/b_0 instead.\n"
     ]
    },
    {
     "name": "stderr",
     "output_type": "stream",
     "text": [
      "2018-07-30 11:06:18,520 Summary name critic/critic_condition/convD_2/b:0 is illegal; using critic/critic_condition/convD_2/b_0 instead.\n"
     ]
    }
   ],
   "source": [
    "wrapper = VAGanWrapper(**model_config)"
   ]
  },
  {
   "cell_type": "markdown",
   "metadata": {},
   "source": [
    "## Load model"
   ]
  },
  {
   "cell_type": "code",
   "execution_count": 20,
   "metadata": {},
   "outputs": [
    {
     "name": "stdout",
     "output_type": "stream",
     "text": [
      "INFO:tensorflow:Restoring parameters from data/20180729-170849/logdir/model.ckpt-990\n"
     ]
    },
    {
     "name": "stderr",
     "output_type": "stream",
     "text": [
      "2018-07-30 11:06:49,184 Restoring parameters from data/20180729-170849/logdir/model.ckpt-990\n"
     ]
    }
   ],
   "source": [
    "wrapper.vagan.load_weights(model_dir)"
   ]
  },
  {
   "cell_type": "markdown",
   "metadata": {},
   "source": [
    "## Test sampler"
   ]
  },
  {
   "cell_type": "code",
   "execution_count": 21,
   "metadata": {},
   "outputs": [],
   "source": [
    "sampler_AD = lambda bs: wrapper.data.testAD.next_batch(bs)[0]"
   ]
  },
  {
   "cell_type": "code",
   "execution_count": 26,
   "metadata": {},
   "outputs": [
    {
     "data": {
      "text/plain": [
       "<matplotlib.image.AxesImage at 0x7fdfc007ceb8>"
      ]
     },
     "execution_count": 26,
     "metadata": {},
     "output_type": "execute_result"
    },
    {
     "data": {
      "image/png": "[encoded data removed]",
      "text/plain": [
       "<Figure size 432x288 with 1 Axes>"
      ]
     },
     "metadata": {},
     "output_type": "display_data"
    }
   ],
   "source": [
    "batch = sampler_AD(1)\n",
    "img = batch[0]\n",
    "plt.imshow(img[:, :, 0], cmap='gray')"
   ]
  },
  {
   "cell_type": "code",
   "execution_count": 27,
   "metadata": {},
   "outputs": [
    {
     "data": {
      "text/plain": [
       "<matplotlib.image.AxesImage at 0x7fdfc00625c0>"
      ]
     },
     "execution_count": 27,
     "metadata": {},
     "output_type": "execute_result"
    },
    {
     "data": {
      "image/png": "[encoded data removed]",
      "text/plain": [
       "<Figure size 432x288 with 1 Axes>"
      ]
     },
     "metadata": {},
     "output_type": "display_data"
    }
   ],
   "source": [
    "plt.imshow(img[:, :, 2], cmap='gray')"
   ]
  },
  {
   "cell_type": "markdown",
   "metadata": {},
   "source": [
    "## Predict an difference map"
   ]
  },
  {
   "cell_type": "code",
   "execution_count": 34,
   "metadata": {},
   "outputs": [
    {
     "data": {
      "text/plain": [
       "(112, 112, 1)"
      ]
     },
     "execution_count": 34,
     "metadata": {},
     "output_type": "execute_result"
    }
   ],
   "source": [
    "masks = wrapper.vagan.predict_mask(batch)\n",
    "mask = masks[0]\n",
    "mask.shape"
   ]
  },
  {
   "cell_type": "code",
   "execution_count": 36,
   "metadata": {},
   "outputs": [
    {
     "data": {
      "text/plain": [
       "<matplotlib.image.AxesImage at 0x7fdfb65e8978>"
      ]
     },
     "execution_count": 36,
     "metadata": {},
     "output_type": "execute_result"
    },
    {
     "data": {
      "image/png": "[encoded data removed]",
      "text/plain": [
       "<Figure size 432x288 with 1 Axes>"
      ]
     },
     "metadata": {},
     "output_type": "display_data"
    }
   ],
   "source": [
    "plt.imshow(mask[:, :, 0], cmap='gray')"
   ]
  },
  {
   "cell_type": "code",
   "execution_count": 37,
   "metadata": {},
   "outputs": [
    {
     "data": {
      "text/plain": [
       "<matplotlib.image.AxesImage at 0x7fdfb65439e8>"
      ]
     },
     "execution_count": 37,
     "metadata": {},
     "output_type": "execute_result"
    },
    {
     "data": {
      "image/png": "[encoded data removed]",
      "text/plain": [
       "<Figure size 432x288 with 1 Axes>"
      ]
     },
     "metadata": {},
     "output_type": "display_data"
    }
   ],
   "source": [
    "plt.imshow(np.tanh(mask[:, :, 0]), cmap='gray')"
   ]
  },
  {
   "cell_type": "code",
   "execution_count": null,
   "metadata": {},
   "outputs": [],
   "source": []
  }
 ],
 "metadata": {
  "kernelspec": {
   "display_name": "Python 3",
   "language": "python",
   "name": "python3"
  },
  "language_info": {
   "codemirror_mode": {
    "name": "ipython",
    "version": 3
   },
   "file_extension": ".py",
   "mimetype": "text/x-python",
   "name": "python",
   "nbconvert_exporter": "python",
   "pygments_lexer": "ipython3",
   "version": "3.6.5"
  }
 },
 "nbformat": 4,
 "nbformat_minor": 2
}
