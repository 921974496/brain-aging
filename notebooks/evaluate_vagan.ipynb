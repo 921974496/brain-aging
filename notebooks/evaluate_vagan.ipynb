{
 "cells": [
  {
   "cell_type": "code",
   "execution_count": null,
   "metadata": {},
   "outputs": [],
   "source": [
    "# Make module from local packages importable\n",
    "import os\n",
    "import sys\n",
    "os.chdir(\"/local/home/mhoerold/entrack\")"
   ]
  },
  {
   "cell_type": "code",
   "execution_count": null,
   "metadata": {},
   "outputs": [],
   "source": [
    "from src.baum_vagan.vagan.model_wrapper import VAGanWrapper\n",
    "from src.baum_vagan.utils import map_image_to_intensity_range\n",
    "from src.baum_vagan.utils import ncc\n",
    "import yaml\n",
    "import numpy as np\n",
    "import matplotlib.pyplot as plt\n",
    "from skimage import filters"
   ]
  },
  {
   "cell_type": "markdown",
   "metadata": {},
   "source": [
    "## Define some constants"
   ]
  },
  {
   "cell_type": "code",
   "execution_count": null,
   "metadata": {},
   "outputs": [],
   "source": [
    "smt_label = \"20180817-075128\"\n",
    "config_path = os.path.join(\"data\", smt_label, \"config.yaml\")\n",
    "model_dir = os.path.join(\"data\", smt_label, \"logdir\")\n",
    "with open(config_path, 'r') as f:\n",
    "    model_config = yaml.load(f)"
   ]
  },
  {
   "cell_type": "code",
   "execution_count": null,
   "metadata": {
    "scrolled": true
   },
   "outputs": [],
   "source": [
    "model_config[\"model_id\"] = \"\"\n",
    "model_config"
   ]
  },
  {
   "cell_type": "code",
   "execution_count": null,
   "metadata": {},
   "outputs": [],
   "source": [
    "wrapper = VAGanWrapper(**model_config)"
   ]
  },
  {
   "cell_type": "markdown",
   "metadata": {},
   "source": [
    "## Load model"
   ]
  },
  {
   "cell_type": "code",
   "execution_count": null,
   "metadata": {},
   "outputs": [],
   "source": [
    "wrapper.vagan.load_weights(model_dir)"
   ]
  },
  {
   "cell_type": "code",
   "execution_count": null,
   "metadata": {},
   "outputs": [],
   "source": [
    "def four_disks(effect_size=50., image_size=100, moving_effect=True,\n",
    "               big_rad=15, small_rad=9, big=[True, True, True, True],\n",
    "               center_fixed=True):\n",
    "    stdbckg = 50.  # std deviation of the background\n",
    "    stdkernel = 2.5  # std deviation of the Gaussian smoothing kernel\n",
    "    img = np.zeros([image_size, image_size])\n",
    "\n",
    "    def draw_disk(center, radius):\n",
    "        i_pos = range(center[0] - radius - 1, center[0] + radius + 1)\n",
    "        j_pos = range(center[1] - radius - 1, center[1] + radius + 1)\n",
    "\n",
    "        for i in i_pos:\n",
    "            for j in j_pos:\n",
    "                # check if inside circle\n",
    "                if (i - center[0]) ** 2 + (j - center[1]) ** 2 <= radius ** 2:\n",
    "                    img[i, j] = effect_size\n",
    "\n",
    "    # Compute disk centers\n",
    "    offset = 10\n",
    "    if not center_fixed:\n",
    "        # Large disks\n",
    "        c1 = (offset + big_rad, offset + big_rad)\n",
    "        c2 = (offset + big_rad, image_size - offset - big_rad)\n",
    "        # Small disks\n",
    "        c3 = (image_size - offset - big_rad, offset + big_rad)\n",
    "        c4 = (image_size - offset - big_rad, image_size - offset - big_rad)\n",
    "    else:\n",
    "        off = int(image_size / 4)\n",
    "        c1 = (off, off)\n",
    "        c2 = (off, image_size - off)\n",
    "        c3 = (image_size - off, off)\n",
    "        c4 = (image_size - off, image_size - off)\n",
    "\n",
    "    centers = [c1, c2, c3, c4]\n",
    "    for b, c in zip(big, centers):\n",
    "        if b:\n",
    "            draw_disk(c, big_rad)\n",
    "        else:\n",
    "            draw_disk(c, small_rad)\n",
    "\n",
    "    noise = np.random.normal(\n",
    "        scale=stdbckg, size=np.asarray([image_size, image_size])\n",
    "    )\n",
    "    smnoise = filters.gaussian(noise, stdkernel)\n",
    "    smnoise = smnoise / np.std(smnoise) * stdbckg\n",
    "    img_with_noise = img + smnoise\n",
    "\n",
    "    return img, img_with_noise"
   ]
  },
  {
   "cell_type": "markdown",
   "metadata": {},
   "source": [
    "## Test sampler"
   ]
  },
  {
   "cell_type": "code",
   "execution_count": null,
   "metadata": {},
   "outputs": [],
   "source": [
    "sampler_AD = lambda bs: wrapper.data.testAD.next_batch(bs)[0]"
   ]
  },
  {
   "cell_type": "code",
   "execution_count": null,
   "metadata": {},
   "outputs": [],
   "source": [
    "batch = sampler_AD(1)\n",
    "img = batch[0]\n",
    "print(img[0, 0, 1])\n",
    "plt.imshow(img[:, :, 0], cmap='gray')\n",
    "print(type(img[0, 0, 1]))"
   ]
  },
  {
   "cell_type": "code",
   "execution_count": null,
   "metadata": {},
   "outputs": [],
   "source": [
    "plt.imshow(img[:, :, 2], cmap='bwr', vmin=-1, vmax=1)"
   ]
  },
  {
   "cell_type": "markdown",
   "metadata": {},
   "source": [
    "## Predict a difference map"
   ]
  },
  {
   "cell_type": "code",
   "execution_count": null,
   "metadata": {},
   "outputs": [],
   "source": [
    "print(batch[0, 0, 0, 1])\n",
    "\n",
    "fresh, noise = four_disks(\n",
    "    effect_size=100.0,\n",
    "    image_size=112,\n",
    "    big_rad=13,\n",
    "    big=[True, True, True, True]\n",
    ")\n",
    "unknown_disk = map_image_to_intensity_range(noise, -1, 1)\n",
    "# batch[0, :, :, 1] = wrapper.data.normalize_delta(8)\n",
    "batch[0, :, :, 0] = unknown_disk\n",
    "masks = wrapper.vagan.predict_mask(batch)\n",
    "mask = masks[0]\n",
    "mask.shape\n",
    "print(batch.shape)\n",
    "plt.figure()\n",
    "plt.imshow(unknown_disk, cmap='gray')"
   ]
  },
  {
   "cell_type": "code",
   "execution_count": null,
   "metadata": {},
   "outputs": [],
   "source": [
    "plt.imshow(mask[:, :, 0], cmap='bwr', vmin=-1, vmax=1)"
   ]
  },
  {
   "cell_type": "code",
   "execution_count": null,
   "metadata": {},
   "outputs": [],
   "source": [
    "plt.imshow(img[:, :, 0] + mask[:, :, 0], cmap='gray', vmin=-1, vmax=1)"
   ]
  },
  {
   "cell_type": "code",
   "execution_count": null,
   "metadata": {},
   "outputs": [],
   "source": [
    "plt.imshow(img[:, :, 0], cmap='gray', vmin=-1, vmax=1)"
   ]
  },
  {
   "cell_type": "code",
   "execution_count": null,
   "metadata": {},
   "outputs": [],
   "source": [
    "print(np.min(img[:, :, 0]))\n",
    "print(np.max(img[:, :, 0]))"
   ]
  },
  {
   "cell_type": "code",
   "execution_count": null,
   "metadata": {},
   "outputs": [],
   "source": []
  },
  {
   "cell_type": "markdown",
   "metadata": {},
   "source": [
    "## Unknown t0"
   ]
  },
  {
   "cell_type": "code",
   "execution_count": null,
   "metadata": {},
   "outputs": [],
   "source": [
    "import math\n",
    "new_radii = list(range(8, 25))\n",
    "known = [10, 15, 17, 20]\n",
    "known_delta = 6\n",
    "\n",
    "masks = []\n",
    "inps = []\n",
    "for rad in new_radii:\n",
    "    img, img_with_noise = four_disks(\n",
    "        effect_size=100.0,\n",
    "        image_size=112,\n",
    "        big_rad=rad,\n",
    "        big=[True, True, True, True]\n",
    "    )\n",
    "    inp = map_image_to_intensity_range(img_with_noise, -1, 1)\n",
    "    inp = np.reshape(inp, (112, 112, 1))\n",
    "    inp = np.concatenate((inp, inp * 0 + known_delta, inp), axis = -1)\n",
    "    inps.append(inp)\n",
    "    \n",
    "batch = np.array(inps)\n",
    "masks = wrapper.vagan.predict_mask(batch)\n",
    "masks = np.squeeze(masks)\n",
    "\n",
    "plt.figure(figsize=(14,14))\n",
    "\n",
    "nrows = int(math.ceil(np.sqrt(batch.shape[0])))\n",
    "ncols = nrows\n",
    "for i, mask in enumerate(masks):\n",
    "    plt.subplot(nrows, ncols, i + 1)\n",
    "    plt.imshow(mask, cmap='bwr', vmin=-1, vmax=1)\n",
    "    plt.axis('off')\n",
    "    radius = new_radii[i]\n",
    "    plt.title(\"Radius={}, known={}\".format(radius, radius in known))"
   ]
  },
  {
   "cell_type": "markdown",
   "metadata": {},
   "source": [
    "## Unknown delta"
   ]
  },
  {
   "cell_type": "code",
   "execution_count": null,
   "metadata": {},
   "outputs": [],
   "source": [
    "new_deltas = list(range(3, 10))\n",
    "known = [4, 6, 8]\n",
    "known_delta = 6\n",
    "\n",
    "masks = []\n",
    "inps = []\n",
    "for delta in new_deltas:\n",
    "    img, img_with_noise = four_disks(\n",
    "        effect_size=100.0,\n",
    "        image_size=112,\n",
    "        big_rad=15,\n",
    "        big=[True, True, True, True]\n",
    "    )\n",
    "    inp = map_image_to_intensity_range(img_with_noise, -1, 1)\n",
    "    inp = np.reshape(inp, (112, 112, 1))\n",
    "    inp = np.concatenate((inp, inp * 0 + delta, inp), axis = -1)\n",
    "    inps.append(inp)\n",
    "    \n",
    "batch = np.array(inps)\n",
    "masks = wrapper.vagan.predict_mask(batch)\n",
    "masks = np.squeeze(masks)\n",
    "\n",
    "plt.figure(figsize=(14,14))\n",
    "\n",
    "nrows = int(math.ceil(np.sqrt(batch.shape[0])))\n",
    "ncols = nrows\n",
    "for i, mask in enumerate(masks):\n",
    "    plt.subplot(nrows, ncols, i + 1)\n",
    "    plt.imshow(mask, cmap='bwr', vmin=-1, vmax=1)\n",
    "    plt.axis('off')\n",
    "    delta = new_deltas[i]\n",
    "    plt.title(\"Delta={}, known={}\".format(delta, delta in known))"
   ]
  },
  {
   "cell_type": "code",
   "execution_count": null,
   "metadata": {},
   "outputs": [],
   "source": [
    "len(wrapper.data.testAD.ids)"
   ]
  },
  {
   "cell_type": "markdown",
   "metadata": {},
   "source": [
    "## Test NCC"
   ]
  },
  {
   "cell_type": "code",
   "execution_count": null,
   "metadata": {},
   "outputs": [],
   "source": [
    "sampler = lambda bs: wrapper.data.testAD.next_batch(bs)[0]\n",
    "scores = []\n",
    "for _ in wrapper.data.testAD.ids:\n",
    "    batch = sampler(1)\n",
    "    #print(batch.shape)\n",
    "    #plt.imshow(batch[0, :, :, 2])\n",
    "    gt = batch[0, :, :, 2]\n",
    "    masks = wrapper.vagan.predict_mask(batch)\n",
    "    pred = masks[0, :, :, 0]\n",
    "    #print(masks.shape)\n",
    "    #plt.figure()\n",
    "    #plt.imshow(np.squeeze(masks))\n",
    "    sc = ncc(gt, pred)\n",
    "    scores.append(sc)\n",
    "    \n",
    "print(\"mean {}\".format(np.mean(scores)))\n",
    "print(\"median {}\".format(np.median(scores)))\n",
    "print(\"std {}\".format(np.std(scores)))"
   ]
  },
  {
   "cell_type": "code",
   "execution_count": null,
   "metadata": {},
   "outputs": [],
   "source": [
    "len(scores)"
   ]
  },
  {
   "cell_type": "code",
   "execution_count": null,
   "metadata": {},
   "outputs": [],
   "source": []
  }
 ],
 "metadata": {
  "kernelspec": {
   "display_name": "Python 3",
   "language": "python",
   "name": "python3"
  },
  "language_info": {
   "codemirror_mode": {
    "name": "ipython",
    "version": 3
   },
   "file_extension": ".py",
   "mimetype": "text/x-python",
   "name": "python",
   "nbconvert_exporter": "python",
   "pygments_lexer": "ipython3",
   "version": "3.6.5"
  }
 },
 "nbformat": 4,
 "nbformat_minor": 2
}
