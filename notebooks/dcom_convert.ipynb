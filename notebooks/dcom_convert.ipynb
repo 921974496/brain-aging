{
 "cells": [
  {
   "cell_type": "code",
   "execution_count": null,
   "metadata": {},
   "outputs": [],
   "source": [
    "import glob\n",
    "import sys\n",
    "import os\n",
    "import fnmatch\n",
    "\n",
    "DTI_DATA_FROM = '/local/PPMI_DTI/PPMI/'  # Contains data downloaded from loni (64 dcm files per DTI scan)\n",
    "DTI_NIFTI_DATA_TO = '/local/PPMI/raw/' # Where to store the images once we have converted them to Nifti\n",
    "todo_folders = []\n",
    "print('Scanning DTI folder for images..')\n",
    "for root, dir, files in os.walk(DTI_DATA_FROM):\n",
    "    dcom_files_inside = fnmatch.filter(files, \"*.dcm\")\n",
    "    if len(dcom_files_inside) > 0:\n",
    "        todo_folders.append({\n",
    "            'folder': root.split(DTI_DATA_FROM)[1],\n",
    "            'image_id': int(dcom_files_inside[0].split('.')[-2].split('_I')[-1]),\n",
    "        })\n",
    "print('Found %s dcm images to process' % len(todo_folders))\n",
    "todo_folders[0]"
   ]
  },
  {
   "cell_type": "code",
   "execution_count": null,
   "metadata": {
    "scrolled": false
   },
   "outputs": [],
   "source": [
    "for i, f in enumerate(todo_folders):\n",
    "    folder_to = os.path.join(DTI_NIFTI_DATA_TO, f['folder'])\n",
    "    image_base = os.path.join(folder_to, 'I%d' % f['image_id'])\n",
    "    if os.path.exists('%s.nii.gz' % image_base):\n",
    "        print('[%d/%d] Image %d: ALREADY DONE' % (i+1, len(todo_folders), f['image_id']))\n",
    "        continue\n",
    "    try:\n",
    "        os.makedirs(folder_to)\n",
    "    except OSError:\n",
    "        pass  # Directory already exists\n",
    "    cmd = 'mrconvert {dcom_images} {to_nifti_file} -export_grad_fsl {bvecs} {bvals} && gzip {to_nifti_file}'.format(\n",
    "        dcom_images=os.path.join(DTI_DATA_FROM, f['folder']),\n",
    "        to_nifti_file='%s.nii' % image_base,\n",
    "        bvecs='%s_bvecs' % image_base,\n",
    "        bvals='%s_bvals' % image_base,\n",
    "    )\n",
    "    os.system(cmd)\n",
    "    print('[%d/%d] Image %d: DONE [%s]' % (i+1, len(todo_folders), f['image_id'], f['folder']))"
   ]
  }
 ],
 "metadata": {
  "kernelspec": {
   "display_name": "Python 2",
   "language": "python",
   "name": "python2"
  },
  "language_info": {
   "codemirror_mode": {
    "name": "ipython",
    "version": 2
   },
   "file_extension": ".py",
   "mimetype": "text/x-python",
   "name": "python",
   "nbconvert_exporter": "python",
   "pygments_lexer": "ipython2",
   "version": "2.7.12"
  }
 },
 "nbformat": 4,
 "nbformat_minor": 2
}
