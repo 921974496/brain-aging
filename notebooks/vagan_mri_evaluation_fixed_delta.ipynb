{
 "cells": [
  {
   "cell_type": "markdown",
   "metadata": {},
   "source": [
    "## Set working directory"
   ]
  },
  {
   "cell_type": "code",
   "execution_count": 1,
   "metadata": {},
   "outputs": [],
   "source": [
    "import os\n",
    "os.chdir('/home/mhoerold/entrack')"
   ]
  },
  {
   "cell_type": "markdown",
   "metadata": {},
   "source": [
    "## Imports"
   ]
  },
  {
   "cell_type": "code",
   "execution_count": 2,
   "metadata": {},
   "outputs": [],
   "source": [
    "import matplotlib.pyplot as plt\n",
    "import numpy as np\n",
    "import yaml\n",
    "\n",
    "from src.baum_vagan.vagan.model_wrapper import VAGanWrapper\n",
    "from src.baum_vagan.utils import ncc"
   ]
  },
  {
   "cell_type": "markdown",
   "metadata": {},
   "source": [
    "## Load model for evaluation"
   ]
  },
  {
   "cell_type": "code",
   "execution_count": 3,
   "metadata": {},
   "outputs": [
    {
     "name": "stdout",
     "output_type": "stream",
     "text": [
      "ADNI_AIBL has 387 files\n",
      "0 files found but not specified meta csv\n",
      "Number of files: 387\n",
      "Number of files missing: 19373\n",
      "Splitting 220 images\n",
      ">>>>>> k-fold split\n",
      "###### Folds info #######\n",
      ">>>>>>>>>>>>>>>>\n",
      ">>>> Distinct patients: 10\n",
      ">>>> Distinct images: 41\n",
      ">>>> Age stats, mean=77.41463470458984, std=7.4407429695129395\n",
      ">>>> Age diffences stats, mean=2.387096881866455, std=1.8781840801239014\n",
      ">>>> healthy count: 41 (1.0)\n",
      ">>>> Gender 0: 29 (0.7073170731707317)\n",
      ">>>> Gender 1: 12 (0.2926829268292683)\n",
      ">>>>>>>>>>>>>>>>\n",
      ">>>>>>>>>>>>>>>>\n",
      ">>>> Distinct patients: 9\n",
      ">>>> Distinct images: 45\n",
      ">>>> Age stats, mean=74.19999694824219, std=3.448671579360962\n",
      ">>>> Age diffences stats, mean=2.027777671813965, std=1.423729658126831\n",
      ">>>> healthy count: 45 (1.0)\n",
      ">>>> Gender 0: 17 (0.37777777777777777)\n",
      ">>>> Gender 1: 28 (0.6222222222222222)\n",
      ">>>>>>>>>>>>>>>>\n",
      ">>>>>>>>>>>>>>>>\n",
      ">>>> Distinct patients: 9\n",
      ">>>> Distinct images: 47\n",
      ">>>> Age stats, mean=80.14893341064453, std=9.348976135253906\n",
      ">>>> Age diffences stats, mean=3.3157894611358643, std=2.514225482940674\n",
      ">>>> healthy count: 47 (1.0)\n",
      ">>>> Gender 0: 22 (0.46808510638297873)\n",
      ">>>> Gender 1: 25 (0.5319148936170213)\n",
      ">>>>>>>>>>>>>>>>\n",
      ">>>>>>>>>>>>>>>>\n",
      ">>>> Distinct patients: 9\n",
      ">>>> Distinct images: 47\n",
      ">>>> Age stats, mean=76.14893341064453, std=4.890193462371826\n",
      ">>>> Age diffences stats, mean=2.8157894611358643, std=1.8758193254470825\n",
      ">>>> healthy count: 47 (1.0)\n",
      ">>>> Gender 0: 17 (0.3617021276595745)\n",
      ">>>> Gender 1: 30 (0.6382978723404256)\n",
      ">>>>>>>>>>>>>>>>\n",
      ">>>>>>>>>>>>>>>>\n",
      ">>>> Distinct patients: 9\n",
      ">>>> Distinct images: 40\n",
      ">>>> Age stats, mean=78.55000305175781, std=6.741476058959961\n",
      ">>>> Age diffences stats, mean=2.4838709831237793, std=2.0770785808563232\n",
      ">>>> healthy count: 40 (1.0)\n",
      ">>>> Gender 0: 30 (0.75)\n",
      ">>>> Gender 1: 10 (0.25)\n",
      ">>>>>>>>>>>>>>>>\n",
      "#########################\n",
      ">>>>>> k-fold split\n",
      "###### Folds info #######\n",
      ">>>>>>>>>>>>>>>>\n",
      ">>>> Distinct patients: 8\n",
      ">>>> Distinct images: 39\n",
      ">>>> Age stats, mean=75.53845977783203, std=4.81901216506958\n",
      ">>>> Age diffences stats, mean=3.161290407180786, std=2.287367582321167\n",
      ">>>> healthy count: 39 (1.0)\n",
      ">>>> Gender 0: 13 (0.3333333333333333)\n",
      ">>>> Gender 1: 26 (0.6666666666666666)\n",
      ">>>>>>>>>>>>>>>>\n",
      ">>>>>>>>>>>>>>>>\n",
      ">>>> Distinct patients: 7\n",
      ">>>> Distinct images: 40\n",
      ">>>> Age stats, mean=79.19999694824219, std=6.645298957824707\n",
      ">>>> Age diffences stats, mean=2.6666667461395264, std=2.4204514026641846\n",
      ">>>> healthy count: 40 (1.0)\n",
      ">>>> Gender 0: 25 (0.625)\n",
      ">>>> Gender 1: 15 (0.375)\n",
      ">>>>>>>>>>>>>>>>\n",
      ">>>>>>>>>>>>>>>>\n",
      ">>>> Distinct patients: 7\n",
      ">>>> Distinct images: 32\n",
      ">>>> Age stats, mean=78.40625, std=7.94063663482666\n",
      ">>>> Age diffences stats, mean=1.9600000381469727, std=1.5357083082199097\n",
      ">>>> healthy count: 32 (1.0)\n",
      ">>>> Gender 0: 10 (0.3125)\n",
      ">>>> Gender 1: 22 (0.6875)\n",
      ">>>>>>>>>>>>>>>>\n",
      ">>>>>>>>>>>>>>>>\n",
      ">>>> Distinct patients: 7\n",
      ">>>> Distinct images: 37\n",
      ">>>> Age stats, mean=75.51351165771484, std=6.228190898895264\n",
      ">>>> Age diffences stats, mean=2.933333396911621, std=1.8785336017608643\n",
      ">>>> healthy count: 37 (1.0)\n",
      ">>>> Gender 0: 32 (0.8648648648648649)\n",
      ">>>> Gender 1: 5 (0.13513513513513514)\n",
      ">>>>>>>>>>>>>>>>\n",
      ">>>>>>>>>>>>>>>>\n",
      ">>>> Distinct patients: 7\n",
      ">>>> Distinct images: 31\n",
      ">>>> Age stats, mean=77.74193572998047, std=7.971593856811523\n",
      ">>>> Age diffences stats, mean=2.5, std=1.7078251838684082\n",
      ">>>> healthy count: 31 (1.0)\n",
      ">>>> Gender 0: 6 (0.1935483870967742)\n",
      ">>>> Gender 1: 25 (0.8064516129032258)\n",
      ">>>>>>>>>>>>>>>>\n",
      "#########################\n",
      "Achieved train ratio: 0.7734806629834254\n",
      ">>>>>>>>> Sanity checks OK\n",
      ">>>>>>>> Train stats\n",
      ">>>>>>>>>>>>>>>>\n",
      ">>>> Distinct patients: 28\n",
      ">>>> Distinct images: 140\n",
      ">>>> Age stats, mean=77.72142791748047, std=7.3056416511535645\n",
      ">>>> healthy count: 140 (1.0)\n",
      ">>>> Gender 0: 73 (0.5214285714285715)\n",
      ">>>> Gender 1: 67 (0.4785714285714286)\n",
      ">>>>>>>>>>>>>>>>\n",
      ">>>>>>>> Validation stats\n",
      ">>>>>>>>>>>>>>>>\n",
      ">>>> Distinct patients: 8\n",
      ">>>> Distinct images: 39\n",
      ">>>> Age stats, mean=75.53845977783203, std=4.81901216506958\n",
      ">>>> healthy count: 39 (1.0)\n",
      ">>>> Gender 0: 13 (0.3333333333333333)\n",
      ">>>> Gender 1: 26 (0.6666666666666666)\n",
      ">>>>>>>>>>>>>>>>\n",
      ">>>>>>>> Test stats\n",
      ">>>>>>>>>>>>>>>>\n",
      ">>>> Distinct patients: 10\n",
      ">>>> Distinct images: 41\n",
      ">>>> Age stats, mean=77.41463470458984, std=7.4407429695129395\n",
      ">>>> healthy count: 41 (1.0)\n",
      ">>>> Gender 0: 29 (0.7073170731707317)\n",
      ">>>> Gender 1: 12 (0.2926829268292683)\n",
      ">>>>>>>>>>>>>>>>\n",
      ">>>>> Normalization computed!!\n",
      ">> min std voxel 0.009473106299074508\n",
      "INFO:tensorflow:Summary name generator/conv1_1/conv1_1_conv/W:0 is illegal; using generator/conv1_1/conv1_1_conv/W_0 instead.\n"
     ]
    },
    {
     "name": "stderr",
     "output_type": "stream",
     "text": [
      "2018-08-05 14:51:51,635 Summary name generator/conv1_1/conv1_1_conv/W:0 is illegal; using generator/conv1_1/conv1_1_conv/W_0 instead.\n"
     ]
    },
    {
     "name": "stdout",
     "output_type": "stream",
     "text": [
      "INFO:tensorflow:Summary name generator/conv1_2/conv1_2_conv/W:0 is illegal; using generator/conv1_2/conv1_2_conv/W_0 instead.\n"
     ]
    },
    {
     "name": "stderr",
     "output_type": "stream",
     "text": [
      "2018-08-05 14:51:51,681 Summary name generator/conv1_2/conv1_2_conv/W:0 is illegal; using generator/conv1_2/conv1_2_conv/W_0 instead.\n"
     ]
    },
    {
     "name": "stdout",
     "output_type": "stream",
     "text": [
      "INFO:tensorflow:Summary name generator/conv2_1/conv2_1_conv/W:0 is illegal; using generator/conv2_1/conv2_1_conv/W_0 instead.\n"
     ]
    },
    {
     "name": "stderr",
     "output_type": "stream",
     "text": [
      "2018-08-05 14:51:51,727 Summary name generator/conv2_1/conv2_1_conv/W:0 is illegal; using generator/conv2_1/conv2_1_conv/W_0 instead.\n"
     ]
    },
    {
     "name": "stdout",
     "output_type": "stream",
     "text": [
      "INFO:tensorflow:Summary name generator/conv2_2/conv2_2_conv/W:0 is illegal; using generator/conv2_2/conv2_2_conv/W_0 instead.\n"
     ]
    },
    {
     "name": "stderr",
     "output_type": "stream",
     "text": [
      "2018-08-05 14:51:51,773 Summary name generator/conv2_2/conv2_2_conv/W:0 is illegal; using generator/conv2_2/conv2_2_conv/W_0 instead.\n"
     ]
    },
    {
     "name": "stdout",
     "output_type": "stream",
     "text": [
      "INFO:tensorflow:Summary name generator/conv3_1/conv3_1_conv/W:0 is illegal; using generator/conv3_1/conv3_1_conv/W_0 instead.\n"
     ]
    },
    {
     "name": "stderr",
     "output_type": "stream",
     "text": [
      "2018-08-05 14:51:51,819 Summary name generator/conv3_1/conv3_1_conv/W:0 is illegal; using generator/conv3_1/conv3_1_conv/W_0 instead.\n"
     ]
    },
    {
     "name": "stdout",
     "output_type": "stream",
     "text": [
      "INFO:tensorflow:Summary name generator/conv3_2/conv3_2_conv/W:0 is illegal; using generator/conv3_2/conv3_2_conv/W_0 instead.\n"
     ]
    },
    {
     "name": "stderr",
     "output_type": "stream",
     "text": [
      "2018-08-05 14:51:51,858 Summary name generator/conv3_2/conv3_2_conv/W:0 is illegal; using generator/conv3_2/conv3_2_conv/W_0 instead.\n"
     ]
    },
    {
     "name": "stdout",
     "output_type": "stream",
     "text": [
      "INFO:tensorflow:Summary name generator/conv4_1/conv4_1_conv/W:0 is illegal; using generator/conv4_1/conv4_1_conv/W_0 instead.\n"
     ]
    },
    {
     "name": "stderr",
     "output_type": "stream",
     "text": [
      "2018-08-05 14:51:51,898 Summary name generator/conv4_1/conv4_1_conv/W:0 is illegal; using generator/conv4_1/conv4_1_conv/W_0 instead.\n"
     ]
    },
    {
     "name": "stdout",
     "output_type": "stream",
     "text": [
      "INFO:tensorflow:Summary name generator/conv4_2/conv4_2_conv/W:0 is illegal; using generator/conv4_2/conv4_2_conv/W_0 instead.\n"
     ]
    },
    {
     "name": "stderr",
     "output_type": "stream",
     "text": [
      "2018-08-05 14:51:51,937 Summary name generator/conv4_2/conv4_2_conv/W:0 is illegal; using generator/conv4_2/conv4_2_conv/W_0 instead.\n"
     ]
    },
    {
     "name": "stdout",
     "output_type": "stream",
     "text": [
      "INFO:tensorflow:Summary name generator/upconv3/W:0 is illegal; using generator/upconv3/W_0 instead.\n"
     ]
    },
    {
     "name": "stderr",
     "output_type": "stream",
     "text": [
      "2018-08-05 14:51:51,980 Summary name generator/upconv3/W:0 is illegal; using generator/upconv3/W_0 instead.\n"
     ]
    },
    {
     "name": "stdout",
     "output_type": "stream",
     "text": [
      "INFO:tensorflow:Summary name generator/conv5_1/conv5_1_conv/W:0 is illegal; using generator/conv5_1/conv5_1_conv/W_0 instead.\n"
     ]
    },
    {
     "name": "stderr",
     "output_type": "stream",
     "text": [
      "2018-08-05 14:51:52,023 Summary name generator/conv5_1/conv5_1_conv/W:0 is illegal; using generator/conv5_1/conv5_1_conv/W_0 instead.\n"
     ]
    },
    {
     "name": "stdout",
     "output_type": "stream",
     "text": [
      "INFO:tensorflow:Summary name generator/conv5_2/conv5_2_conv/W:0 is illegal; using generator/conv5_2/conv5_2_conv/W_0 instead.\n"
     ]
    },
    {
     "name": "stderr",
     "output_type": "stream",
     "text": [
      "2018-08-05 14:51:52,111 Summary name generator/conv5_2/conv5_2_conv/W:0 is illegal; using generator/conv5_2/conv5_2_conv/W_0 instead.\n"
     ]
    },
    {
     "name": "stdout",
     "output_type": "stream",
     "text": [
      "INFO:tensorflow:Summary name generator/upconv2/W:0 is illegal; using generator/upconv2/W_0 instead.\n"
     ]
    },
    {
     "name": "stderr",
     "output_type": "stream",
     "text": [
      "2018-08-05 14:51:52,156 Summary name generator/upconv2/W:0 is illegal; using generator/upconv2/W_0 instead.\n"
     ]
    },
    {
     "name": "stdout",
     "output_type": "stream",
     "text": [
      "INFO:tensorflow:Summary name generator/conv6_1/conv6_1_conv/W:0 is illegal; using generator/conv6_1/conv6_1_conv/W_0 instead.\n"
     ]
    },
    {
     "name": "stderr",
     "output_type": "stream",
     "text": [
      "2018-08-05 14:51:52,201 Summary name generator/conv6_1/conv6_1_conv/W:0 is illegal; using generator/conv6_1/conv6_1_conv/W_0 instead.\n"
     ]
    },
    {
     "name": "stdout",
     "output_type": "stream",
     "text": [
      "INFO:tensorflow:Summary name generator/conv6_2/conv6_2_conv/W:0 is illegal; using generator/conv6_2/conv6_2_conv/W_0 instead.\n"
     ]
    },
    {
     "name": "stderr",
     "output_type": "stream",
     "text": [
      "2018-08-05 14:51:52,243 Summary name generator/conv6_2/conv6_2_conv/W:0 is illegal; using generator/conv6_2/conv6_2_conv/W_0 instead.\n"
     ]
    },
    {
     "name": "stdout",
     "output_type": "stream",
     "text": [
      "INFO:tensorflow:Summary name generator/upconv1/W:0 is illegal; using generator/upconv1/W_0 instead.\n"
     ]
    },
    {
     "name": "stderr",
     "output_type": "stream",
     "text": [
      "2018-08-05 14:51:52,287 Summary name generator/upconv1/W:0 is illegal; using generator/upconv1/W_0 instead.\n"
     ]
    },
    {
     "name": "stdout",
     "output_type": "stream",
     "text": [
      "INFO:tensorflow:Summary name generator/conv8_1/conv8_1_conv/W:0 is illegal; using generator/conv8_1/conv8_1_conv/W_0 instead.\n"
     ]
    },
    {
     "name": "stderr",
     "output_type": "stream",
     "text": [
      "2018-08-05 14:51:52,331 Summary name generator/conv8_1/conv8_1_conv/W:0 is illegal; using generator/conv8_1/conv8_1_conv/W_0 instead.\n"
     ]
    },
    {
     "name": "stdout",
     "output_type": "stream",
     "text": [
      "INFO:tensorflow:Summary name generator/conv8_2/W:0 is illegal; using generator/conv8_2/W_0 instead.\n"
     ]
    },
    {
     "name": "stderr",
     "output_type": "stream",
     "text": [
      "2018-08-05 14:51:52,375 Summary name generator/conv8_2/W:0 is illegal; using generator/conv8_2/W_0 instead.\n"
     ]
    },
    {
     "name": "stdout",
     "output_type": "stream",
     "text": [
      "INFO:tensorflow:Summary name generator/conv8_2/b:0 is illegal; using generator/conv8_2/b_0 instead.\n"
     ]
    },
    {
     "name": "stderr",
     "output_type": "stream",
     "text": [
      "2018-08-05 14:51:52,376 Summary name generator/conv8_2/b:0 is illegal; using generator/conv8_2/b_0 instead.\n"
     ]
    },
    {
     "name": "stdout",
     "output_type": "stream",
     "text": [
      "INFO:tensorflow:Summary name critic/conv1_1/W:0 is illegal; using critic/conv1_1/W_0 instead.\n"
     ]
    },
    {
     "name": "stderr",
     "output_type": "stream",
     "text": [
      "2018-08-05 14:51:52,391 Summary name critic/conv1_1/W:0 is illegal; using critic/conv1_1/W_0 instead.\n"
     ]
    },
    {
     "name": "stdout",
     "output_type": "stream",
     "text": [
      "INFO:tensorflow:Summary name critic/conv1_1/b:0 is illegal; using critic/conv1_1/b_0 instead.\n"
     ]
    },
    {
     "name": "stderr",
     "output_type": "stream",
     "text": [
      "2018-08-05 14:51:52,393 Summary name critic/conv1_1/b:0 is illegal; using critic/conv1_1/b_0 instead.\n"
     ]
    },
    {
     "name": "stdout",
     "output_type": "stream",
     "text": [
      "INFO:tensorflow:Summary name critic/conv2_1/W:0 is illegal; using critic/conv2_1/W_0 instead.\n"
     ]
    },
    {
     "name": "stderr",
     "output_type": "stream",
     "text": [
      "2018-08-05 14:51:52,404 Summary name critic/conv2_1/W:0 is illegal; using critic/conv2_1/W_0 instead.\n"
     ]
    },
    {
     "name": "stdout",
     "output_type": "stream",
     "text": [
      "INFO:tensorflow:Summary name critic/conv2_1/b:0 is illegal; using critic/conv2_1/b_0 instead.\n"
     ]
    },
    {
     "name": "stderr",
     "output_type": "stream",
     "text": [
      "2018-08-05 14:51:52,405 Summary name critic/conv2_1/b:0 is illegal; using critic/conv2_1/b_0 instead.\n"
     ]
    },
    {
     "name": "stdout",
     "output_type": "stream",
     "text": [
      "INFO:tensorflow:Summary name critic/conv3_1/W:0 is illegal; using critic/conv3_1/W_0 instead.\n"
     ]
    },
    {
     "name": "stderr",
     "output_type": "stream",
     "text": [
      "2018-08-05 14:51:52,416 Summary name critic/conv3_1/W:0 is illegal; using critic/conv3_1/W_0 instead.\n"
     ]
    },
    {
     "name": "stdout",
     "output_type": "stream",
     "text": [
      "INFO:tensorflow:Summary name critic/conv3_1/b:0 is illegal; using critic/conv3_1/b_0 instead.\n"
     ]
    },
    {
     "name": "stderr",
     "output_type": "stream",
     "text": [
      "2018-08-05 14:51:52,418 Summary name critic/conv3_1/b:0 is illegal; using critic/conv3_1/b_0 instead.\n"
     ]
    },
    {
     "name": "stdout",
     "output_type": "stream",
     "text": [
      "INFO:tensorflow:Summary name critic/conv3_2/W:0 is illegal; using critic/conv3_2/W_0 instead.\n"
     ]
    },
    {
     "name": "stderr",
     "output_type": "stream",
     "text": [
      "2018-08-05 14:51:52,431 Summary name critic/conv3_2/W:0 is illegal; using critic/conv3_2/W_0 instead.\n"
     ]
    },
    {
     "name": "stdout",
     "output_type": "stream",
     "text": [
      "INFO:tensorflow:Summary name critic/conv3_2/b:0 is illegal; using critic/conv3_2/b_0 instead.\n"
     ]
    },
    {
     "name": "stderr",
     "output_type": "stream",
     "text": [
      "2018-08-05 14:51:52,432 Summary name critic/conv3_2/b:0 is illegal; using critic/conv3_2/b_0 instead.\n"
     ]
    },
    {
     "name": "stdout",
     "output_type": "stream",
     "text": [
      "INFO:tensorflow:Summary name critic/conv4_1/W:0 is illegal; using critic/conv4_1/W_0 instead.\n"
     ]
    },
    {
     "name": "stderr",
     "output_type": "stream",
     "text": [
      "2018-08-05 14:51:52,447 Summary name critic/conv4_1/W:0 is illegal; using critic/conv4_1/W_0 instead.\n"
     ]
    },
    {
     "name": "stdout",
     "output_type": "stream",
     "text": [
      "INFO:tensorflow:Summary name critic/conv4_1/b:0 is illegal; using critic/conv4_1/b_0 instead.\n"
     ]
    },
    {
     "name": "stderr",
     "output_type": "stream",
     "text": [
      "2018-08-05 14:51:52,448 Summary name critic/conv4_1/b:0 is illegal; using critic/conv4_1/b_0 instead.\n"
     ]
    },
    {
     "name": "stdout",
     "output_type": "stream",
     "text": [
      "INFO:tensorflow:Summary name critic/conv4_2/W:0 is illegal; using critic/conv4_2/W_0 instead.\n"
     ]
    },
    {
     "name": "stderr",
     "output_type": "stream",
     "text": [
      "2018-08-05 14:51:52,458 Summary name critic/conv4_2/W:0 is illegal; using critic/conv4_2/W_0 instead.\n"
     ]
    },
    {
     "name": "stdout",
     "output_type": "stream",
     "text": [
      "INFO:tensorflow:Summary name critic/conv4_2/b:0 is illegal; using critic/conv4_2/b_0 instead.\n"
     ]
    },
    {
     "name": "stderr",
     "output_type": "stream",
     "text": [
      "2018-08-05 14:51:52,460 Summary name critic/conv4_2/b:0 is illegal; using critic/conv4_2/b_0 instead.\n"
     ]
    },
    {
     "name": "stdout",
     "output_type": "stream",
     "text": [
      "INFO:tensorflow:Summary name critic/conv5_1/W:0 is illegal; using critic/conv5_1/W_0 instead.\n"
     ]
    },
    {
     "name": "stderr",
     "output_type": "stream",
     "text": [
      "2018-08-05 14:51:52,470 Summary name critic/conv5_1/W:0 is illegal; using critic/conv5_1/W_0 instead.\n"
     ]
    },
    {
     "name": "stdout",
     "output_type": "stream",
     "text": [
      "INFO:tensorflow:Summary name critic/conv5_1/b:0 is illegal; using critic/conv5_1/b_0 instead.\n"
     ]
    },
    {
     "name": "stderr",
     "output_type": "stream",
     "text": [
      "2018-08-05 14:51:52,471 Summary name critic/conv5_1/b:0 is illegal; using critic/conv5_1/b_0 instead.\n"
     ]
    },
    {
     "name": "stdout",
     "output_type": "stream",
     "text": [
      "INFO:tensorflow:Summary name critic/conv5_2/W:0 is illegal; using critic/conv5_2/W_0 instead.\n"
     ]
    },
    {
     "name": "stderr",
     "output_type": "stream",
     "text": [
      "2018-08-05 14:51:52,481 Summary name critic/conv5_2/W:0 is illegal; using critic/conv5_2/W_0 instead.\n"
     ]
    },
    {
     "name": "stdout",
     "output_type": "stream",
     "text": [
      "INFO:tensorflow:Summary name critic/conv5_2/b:0 is illegal; using critic/conv5_2/b_0 instead.\n"
     ]
    },
    {
     "name": "stderr",
     "output_type": "stream",
     "text": [
      "2018-08-05 14:51:52,483 Summary name critic/conv5_2/b:0 is illegal; using critic/conv5_2/b_0 instead.\n"
     ]
    },
    {
     "name": "stdout",
     "output_type": "stream",
     "text": [
      "INFO:tensorflow:Summary name critic/convD_1/W:0 is illegal; using critic/convD_1/W_0 instead.\n"
     ]
    },
    {
     "name": "stderr",
     "output_type": "stream",
     "text": [
      "2018-08-05 14:51:52,492 Summary name critic/convD_1/W:0 is illegal; using critic/convD_1/W_0 instead.\n"
     ]
    },
    {
     "name": "stdout",
     "output_type": "stream",
     "text": [
      "INFO:tensorflow:Summary name critic/convD_1/b:0 is illegal; using critic/convD_1/b_0 instead.\n"
     ]
    },
    {
     "name": "stderr",
     "output_type": "stream",
     "text": [
      "2018-08-05 14:51:52,494 Summary name critic/convD_1/b:0 is illegal; using critic/convD_1/b_0 instead.\n"
     ]
    },
    {
     "name": "stdout",
     "output_type": "stream",
     "text": [
      "INFO:tensorflow:Summary name critic/convD_2/W:0 is illegal; using critic/convD_2/W_0 instead.\n"
     ]
    },
    {
     "name": "stderr",
     "output_type": "stream",
     "text": [
      "2018-08-05 14:51:52,504 Summary name critic/convD_2/W:0 is illegal; using critic/convD_2/W_0 instead.\n"
     ]
    },
    {
     "name": "stdout",
     "output_type": "stream",
     "text": [
      "INFO:tensorflow:Summary name critic/convD_2/b:0 is illegal; using critic/convD_2/b_0 instead.\n"
     ]
    },
    {
     "name": "stderr",
     "output_type": "stream",
     "text": [
      "2018-08-05 14:51:52,506 Summary name critic/convD_2/b:0 is illegal; using critic/convD_2/b_0 instead.\n"
     ]
    },
    {
     "name": "stdout",
     "output_type": "stream",
     "text": [
      "WARNING:tensorflow:From /home/mhoerold/entrack/src/baum_vagan/tfwrapper/layers.py:49: calling reduce_mean (from tensorflow.python.ops.math_ops) with keep_dims is deprecated and will be removed in a future version.\n",
      "Instructions for updating:\n",
      "keep_dims is deprecated, use keepdims instead\n"
     ]
    },
    {
     "name": "stderr",
     "output_type": "stream",
     "text": [
      "2018-08-05 14:51:52,546 From /home/mhoerold/entrack/src/baum_vagan/tfwrapper/layers.py:49: calling reduce_mean (from tensorflow.python.ops.math_ops) with keep_dims is deprecated and will be removed in a future version.\n",
      "Instructions for updating:\n",
      "keep_dims is deprecated, use keepdims instead\n"
     ]
    },
    {
     "name": "stdout",
     "output_type": "stream",
     "text": [
      "INFO:tensorflow:Summary name critic/critic_condition/conv1_1/W:0 is illegal; using critic/critic_condition/conv1_1/W_0 instead.\n"
     ]
    },
    {
     "name": "stderr",
     "output_type": "stream",
     "text": [
      "2018-08-05 14:51:52,557 Summary name critic/critic_condition/conv1_1/W:0 is illegal; using critic/critic_condition/conv1_1/W_0 instead.\n"
     ]
    },
    {
     "name": "stdout",
     "output_type": "stream",
     "text": [
      "INFO:tensorflow:Summary name critic/critic_condition/conv1_1/b:0 is illegal; using critic/critic_condition/conv1_1/b_0 instead.\n"
     ]
    },
    {
     "name": "stderr",
     "output_type": "stream",
     "text": [
      "2018-08-05 14:51:52,559 Summary name critic/critic_condition/conv1_1/b:0 is illegal; using critic/critic_condition/conv1_1/b_0 instead.\n"
     ]
    },
    {
     "name": "stdout",
     "output_type": "stream",
     "text": [
      "INFO:tensorflow:Summary name critic/critic_condition/conv2_1/W:0 is illegal; using critic/critic_condition/conv2_1/W_0 instead.\n"
     ]
    },
    {
     "name": "stderr",
     "output_type": "stream",
     "text": [
      "2018-08-05 14:51:52,568 Summary name critic/critic_condition/conv2_1/W:0 is illegal; using critic/critic_condition/conv2_1/W_0 instead.\n"
     ]
    },
    {
     "name": "stdout",
     "output_type": "stream",
     "text": [
      "INFO:tensorflow:Summary name critic/critic_condition/conv2_1/b:0 is illegal; using critic/critic_condition/conv2_1/b_0 instead.\n"
     ]
    },
    {
     "name": "stderr",
     "output_type": "stream",
     "text": [
      "2018-08-05 14:51:52,570 Summary name critic/critic_condition/conv2_1/b:0 is illegal; using critic/critic_condition/conv2_1/b_0 instead.\n"
     ]
    },
    {
     "name": "stdout",
     "output_type": "stream",
     "text": [
      "INFO:tensorflow:Summary name critic/critic_condition/conv3_1/W:0 is illegal; using critic/critic_condition/conv3_1/W_0 instead.\n"
     ]
    },
    {
     "name": "stderr",
     "output_type": "stream",
     "text": [
      "2018-08-05 14:51:52,580 Summary name critic/critic_condition/conv3_1/W:0 is illegal; using critic/critic_condition/conv3_1/W_0 instead.\n"
     ]
    },
    {
     "name": "stdout",
     "output_type": "stream",
     "text": [
      "INFO:tensorflow:Summary name critic/critic_condition/conv3_1/b:0 is illegal; using critic/critic_condition/conv3_1/b_0 instead.\n"
     ]
    },
    {
     "name": "stderr",
     "output_type": "stream",
     "text": [
      "2018-08-05 14:51:52,582 Summary name critic/critic_condition/conv3_1/b:0 is illegal; using critic/critic_condition/conv3_1/b_0 instead.\n"
     ]
    },
    {
     "name": "stdout",
     "output_type": "stream",
     "text": [
      "INFO:tensorflow:Summary name critic/critic_condition/conv3_2/W:0 is illegal; using critic/critic_condition/conv3_2/W_0 instead.\n"
     ]
    },
    {
     "name": "stderr",
     "output_type": "stream",
     "text": [
      "2018-08-05 14:51:52,592 Summary name critic/critic_condition/conv3_2/W:0 is illegal; using critic/critic_condition/conv3_2/W_0 instead.\n"
     ]
    },
    {
     "name": "stdout",
     "output_type": "stream",
     "text": [
      "INFO:tensorflow:Summary name critic/critic_condition/conv3_2/b:0 is illegal; using critic/critic_condition/conv3_2/b_0 instead.\n"
     ]
    },
    {
     "name": "stderr",
     "output_type": "stream",
     "text": [
      "2018-08-05 14:51:52,593 Summary name critic/critic_condition/conv3_2/b:0 is illegal; using critic/critic_condition/conv3_2/b_0 instead.\n"
     ]
    },
    {
     "name": "stdout",
     "output_type": "stream",
     "text": [
      "INFO:tensorflow:Summary name critic/critic_condition/conv4_1/W:0 is illegal; using critic/critic_condition/conv4_1/W_0 instead.\n"
     ]
    },
    {
     "name": "stderr",
     "output_type": "stream",
     "text": [
      "2018-08-05 14:51:52,604 Summary name critic/critic_condition/conv4_1/W:0 is illegal; using critic/critic_condition/conv4_1/W_0 instead.\n"
     ]
    },
    {
     "name": "stdout",
     "output_type": "stream",
     "text": [
      "INFO:tensorflow:Summary name critic/critic_condition/conv4_1/b:0 is illegal; using critic/critic_condition/conv4_1/b_0 instead.\n"
     ]
    },
    {
     "name": "stderr",
     "output_type": "stream",
     "text": [
      "2018-08-05 14:51:52,605 Summary name critic/critic_condition/conv4_1/b:0 is illegal; using critic/critic_condition/conv4_1/b_0 instead.\n"
     ]
    },
    {
     "name": "stdout",
     "output_type": "stream",
     "text": [
      "INFO:tensorflow:Summary name critic/critic_condition/conv4_2/W:0 is illegal; using critic/critic_condition/conv4_2/W_0 instead.\n"
     ]
    },
    {
     "name": "stderr",
     "output_type": "stream",
     "text": [
      "2018-08-05 14:51:52,615 Summary name critic/critic_condition/conv4_2/W:0 is illegal; using critic/critic_condition/conv4_2/W_0 instead.\n"
     ]
    },
    {
     "name": "stdout",
     "output_type": "stream",
     "text": [
      "INFO:tensorflow:Summary name critic/critic_condition/conv4_2/b:0 is illegal; using critic/critic_condition/conv4_2/b_0 instead.\n"
     ]
    },
    {
     "name": "stderr",
     "output_type": "stream",
     "text": [
      "2018-08-05 14:51:52,617 Summary name critic/critic_condition/conv4_2/b:0 is illegal; using critic/critic_condition/conv4_2/b_0 instead.\n"
     ]
    },
    {
     "name": "stdout",
     "output_type": "stream",
     "text": [
      "INFO:tensorflow:Summary name critic/critic_condition/conv5_1/W:0 is illegal; using critic/critic_condition/conv5_1/W_0 instead.\n"
     ]
    },
    {
     "name": "stderr",
     "output_type": "stream",
     "text": [
      "2018-08-05 14:51:52,627 Summary name critic/critic_condition/conv5_1/W:0 is illegal; using critic/critic_condition/conv5_1/W_0 instead.\n"
     ]
    },
    {
     "name": "stdout",
     "output_type": "stream",
     "text": [
      "INFO:tensorflow:Summary name critic/critic_condition/conv5_1/b:0 is illegal; using critic/critic_condition/conv5_1/b_0 instead.\n"
     ]
    },
    {
     "name": "stderr",
     "output_type": "stream",
     "text": [
      "2018-08-05 14:51:52,629 Summary name critic/critic_condition/conv5_1/b:0 is illegal; using critic/critic_condition/conv5_1/b_0 instead.\n"
     ]
    },
    {
     "name": "stdout",
     "output_type": "stream",
     "text": [
      "INFO:tensorflow:Summary name critic/critic_condition/conv5_2/W:0 is illegal; using critic/critic_condition/conv5_2/W_0 instead.\n"
     ]
    },
    {
     "name": "stderr",
     "output_type": "stream",
     "text": [
      "2018-08-05 14:51:52,639 Summary name critic/critic_condition/conv5_2/W:0 is illegal; using critic/critic_condition/conv5_2/W_0 instead.\n"
     ]
    },
    {
     "name": "stdout",
     "output_type": "stream",
     "text": [
      "INFO:tensorflow:Summary name critic/critic_condition/conv5_2/b:0 is illegal; using critic/critic_condition/conv5_2/b_0 instead.\n"
     ]
    },
    {
     "name": "stderr",
     "output_type": "stream",
     "text": [
      "2018-08-05 14:51:52,641 Summary name critic/critic_condition/conv5_2/b:0 is illegal; using critic/critic_condition/conv5_2/b_0 instead.\n"
     ]
    },
    {
     "name": "stdout",
     "output_type": "stream",
     "text": [
      "INFO:tensorflow:Summary name critic/critic_condition/convD_1/W:0 is illegal; using critic/critic_condition/convD_1/W_0 instead.\n"
     ]
    },
    {
     "name": "stderr",
     "output_type": "stream",
     "text": [
      "2018-08-05 14:51:52,651 Summary name critic/critic_condition/convD_1/W:0 is illegal; using critic/critic_condition/convD_1/W_0 instead.\n"
     ]
    },
    {
     "name": "stdout",
     "output_type": "stream",
     "text": [
      "INFO:tensorflow:Summary name critic/critic_condition/convD_1/b:0 is illegal; using critic/critic_condition/convD_1/b_0 instead.\n"
     ]
    },
    {
     "name": "stderr",
     "output_type": "stream",
     "text": [
      "2018-08-05 14:51:52,652 Summary name critic/critic_condition/convD_1/b:0 is illegal; using critic/critic_condition/convD_1/b_0 instead.\n"
     ]
    },
    {
     "name": "stdout",
     "output_type": "stream",
     "text": [
      "INFO:tensorflow:Summary name critic/critic_condition/convD_2/W:0 is illegal; using critic/critic_condition/convD_2/W_0 instead.\n"
     ]
    },
    {
     "name": "stderr",
     "output_type": "stream",
     "text": [
      "2018-08-05 14:51:52,663 Summary name critic/critic_condition/convD_2/W:0 is illegal; using critic/critic_condition/convD_2/W_0 instead.\n"
     ]
    },
    {
     "name": "stdout",
     "output_type": "stream",
     "text": [
      "INFO:tensorflow:Summary name critic/critic_condition/convD_2/b:0 is illegal; using critic/critic_condition/convD_2/b_0 instead.\n"
     ]
    },
    {
     "name": "stderr",
     "output_type": "stream",
     "text": [
      "2018-08-05 14:51:52,665 Summary name critic/critic_condition/convD_2/b:0 is illegal; using critic/critic_condition/convD_2/b_0 instead.\n"
     ]
    },
    {
     "name": "stdout",
     "output_type": "stream",
     "text": [
      "INFO:tensorflow:Summary name critic/conv1_1/W:0 is illegal; using critic/conv1_1/W_0 instead.\n"
     ]
    },
    {
     "name": "stderr",
     "output_type": "stream",
     "text": [
      "2018-08-05 14:51:52,684 Summary name critic/conv1_1/W:0 is illegal; using critic/conv1_1/W_0 instead.\n"
     ]
    },
    {
     "name": "stdout",
     "output_type": "stream",
     "text": [
      "INFO:tensorflow:Summary name critic/conv1_1/b:0 is illegal; using critic/conv1_1/b_0 instead.\n"
     ]
    },
    {
     "name": "stderr",
     "output_type": "stream",
     "text": [
      "2018-08-05 14:51:52,685 Summary name critic/conv1_1/b:0 is illegal; using critic/conv1_1/b_0 instead.\n"
     ]
    },
    {
     "name": "stdout",
     "output_type": "stream",
     "text": [
      "INFO:tensorflow:Summary name critic/conv2_1/W:0 is illegal; using critic/conv2_1/W_0 instead.\n"
     ]
    },
    {
     "name": "stderr",
     "output_type": "stream",
     "text": [
      "2018-08-05 14:51:52,690 Summary name critic/conv2_1/W:0 is illegal; using critic/conv2_1/W_0 instead.\n"
     ]
    },
    {
     "name": "stdout",
     "output_type": "stream",
     "text": [
      "INFO:tensorflow:Summary name critic/conv2_1/b:0 is illegal; using critic/conv2_1/b_0 instead.\n"
     ]
    },
    {
     "name": "stderr",
     "output_type": "stream",
     "text": [
      "2018-08-05 14:51:52,692 Summary name critic/conv2_1/b:0 is illegal; using critic/conv2_1/b_0 instead.\n"
     ]
    },
    {
     "name": "stdout",
     "output_type": "stream",
     "text": [
      "INFO:tensorflow:Summary name critic/conv3_1/W:0 is illegal; using critic/conv3_1/W_0 instead.\n"
     ]
    },
    {
     "name": "stderr",
     "output_type": "stream",
     "text": [
      "2018-08-05 14:51:52,697 Summary name critic/conv3_1/W:0 is illegal; using critic/conv3_1/W_0 instead.\n"
     ]
    },
    {
     "name": "stdout",
     "output_type": "stream",
     "text": [
      "INFO:tensorflow:Summary name critic/conv3_1/b:0 is illegal; using critic/conv3_1/b_0 instead.\n"
     ]
    },
    {
     "name": "stderr",
     "output_type": "stream",
     "text": [
      "2018-08-05 14:51:52,699 Summary name critic/conv3_1/b:0 is illegal; using critic/conv3_1/b_0 instead.\n"
     ]
    },
    {
     "name": "stdout",
     "output_type": "stream",
     "text": [
      "INFO:tensorflow:Summary name critic/conv3_2/W:0 is illegal; using critic/conv3_2/W_0 instead.\n"
     ]
    },
    {
     "name": "stderr",
     "output_type": "stream",
     "text": [
      "2018-08-05 14:51:52,704 Summary name critic/conv3_2/W:0 is illegal; using critic/conv3_2/W_0 instead.\n"
     ]
    },
    {
     "name": "stdout",
     "output_type": "stream",
     "text": [
      "INFO:tensorflow:Summary name critic/conv3_2/b:0 is illegal; using critic/conv3_2/b_0 instead.\n"
     ]
    },
    {
     "name": "stderr",
     "output_type": "stream",
     "text": [
      "2018-08-05 14:51:52,706 Summary name critic/conv3_2/b:0 is illegal; using critic/conv3_2/b_0 instead.\n"
     ]
    },
    {
     "name": "stdout",
     "output_type": "stream",
     "text": [
      "INFO:tensorflow:Summary name critic/conv4_1/W:0 is illegal; using critic/conv4_1/W_0 instead.\n"
     ]
    },
    {
     "name": "stderr",
     "output_type": "stream",
     "text": [
      "2018-08-05 14:51:52,712 Summary name critic/conv4_1/W:0 is illegal; using critic/conv4_1/W_0 instead.\n"
     ]
    },
    {
     "name": "stdout",
     "output_type": "stream",
     "text": [
      "INFO:tensorflow:Summary name critic/conv4_1/b:0 is illegal; using critic/conv4_1/b_0 instead.\n"
     ]
    },
    {
     "name": "stderr",
     "output_type": "stream",
     "text": [
      "2018-08-05 14:51:52,714 Summary name critic/conv4_1/b:0 is illegal; using critic/conv4_1/b_0 instead.\n"
     ]
    },
    {
     "name": "stdout",
     "output_type": "stream",
     "text": [
      "INFO:tensorflow:Summary name critic/conv4_2/W:0 is illegal; using critic/conv4_2/W_0 instead.\n"
     ]
    },
    {
     "name": "stderr",
     "output_type": "stream",
     "text": [
      "2018-08-05 14:51:52,719 Summary name critic/conv4_2/W:0 is illegal; using critic/conv4_2/W_0 instead.\n"
     ]
    },
    {
     "name": "stdout",
     "output_type": "stream",
     "text": [
      "INFO:tensorflow:Summary name critic/conv4_2/b:0 is illegal; using critic/conv4_2/b_0 instead.\n"
     ]
    },
    {
     "name": "stderr",
     "output_type": "stream",
     "text": [
      "2018-08-05 14:51:52,721 Summary name critic/conv4_2/b:0 is illegal; using critic/conv4_2/b_0 instead.\n"
     ]
    },
    {
     "name": "stdout",
     "output_type": "stream",
     "text": [
      "INFO:tensorflow:Summary name critic/conv5_1/W:0 is illegal; using critic/conv5_1/W_0 instead.\n"
     ]
    },
    {
     "name": "stderr",
     "output_type": "stream",
     "text": [
      "2018-08-05 14:51:52,726 Summary name critic/conv5_1/W:0 is illegal; using critic/conv5_1/W_0 instead.\n"
     ]
    },
    {
     "name": "stdout",
     "output_type": "stream",
     "text": [
      "INFO:tensorflow:Summary name critic/conv5_1/b:0 is illegal; using critic/conv5_1/b_0 instead.\n"
     ]
    },
    {
     "name": "stderr",
     "output_type": "stream",
     "text": [
      "2018-08-05 14:51:52,728 Summary name critic/conv5_1/b:0 is illegal; using critic/conv5_1/b_0 instead.\n"
     ]
    },
    {
     "name": "stdout",
     "output_type": "stream",
     "text": [
      "INFO:tensorflow:Summary name critic/conv5_2/W:0 is illegal; using critic/conv5_2/W_0 instead.\n"
     ]
    },
    {
     "name": "stderr",
     "output_type": "stream",
     "text": [
      "2018-08-05 14:51:52,733 Summary name critic/conv5_2/W:0 is illegal; using critic/conv5_2/W_0 instead.\n"
     ]
    },
    {
     "name": "stdout",
     "output_type": "stream",
     "text": [
      "INFO:tensorflow:Summary name critic/conv5_2/b:0 is illegal; using critic/conv5_2/b_0 instead.\n"
     ]
    },
    {
     "name": "stderr",
     "output_type": "stream",
     "text": [
      "2018-08-05 14:51:52,735 Summary name critic/conv5_2/b:0 is illegal; using critic/conv5_2/b_0 instead.\n"
     ]
    },
    {
     "name": "stdout",
     "output_type": "stream",
     "text": [
      "INFO:tensorflow:Summary name critic/convD_1/W:0 is illegal; using critic/convD_1/W_0 instead.\n"
     ]
    },
    {
     "name": "stderr",
     "output_type": "stream",
     "text": [
      "2018-08-05 14:51:52,739 Summary name critic/convD_1/W:0 is illegal; using critic/convD_1/W_0 instead.\n"
     ]
    },
    {
     "name": "stdout",
     "output_type": "stream",
     "text": [
      "INFO:tensorflow:Summary name critic/convD_1/b:0 is illegal; using critic/convD_1/b_0 instead.\n"
     ]
    },
    {
     "name": "stderr",
     "output_type": "stream",
     "text": [
      "2018-08-05 14:51:52,741 Summary name critic/convD_1/b:0 is illegal; using critic/convD_1/b_0 instead.\n"
     ]
    },
    {
     "name": "stdout",
     "output_type": "stream",
     "text": [
      "INFO:tensorflow:Summary name critic/convD_2/W:0 is illegal; using critic/convD_2/W_0 instead.\n"
     ]
    },
    {
     "name": "stderr",
     "output_type": "stream",
     "text": [
      "2018-08-05 14:51:52,745 Summary name critic/convD_2/W:0 is illegal; using critic/convD_2/W_0 instead.\n"
     ]
    },
    {
     "name": "stdout",
     "output_type": "stream",
     "text": [
      "INFO:tensorflow:Summary name critic/convD_2/b:0 is illegal; using critic/convD_2/b_0 instead.\n"
     ]
    },
    {
     "name": "stderr",
     "output_type": "stream",
     "text": [
      "2018-08-05 14:51:52,747 Summary name critic/convD_2/b:0 is illegal; using critic/convD_2/b_0 instead.\n"
     ]
    },
    {
     "name": "stdout",
     "output_type": "stream",
     "text": [
      "INFO:tensorflow:Summary name critic/critic_condition/conv1_1/W:0 is illegal; using critic/critic_condition/conv1_1/W_0 instead.\n"
     ]
    },
    {
     "name": "stderr",
     "output_type": "stream",
     "text": [
      "2018-08-05 14:51:52,754 Summary name critic/critic_condition/conv1_1/W:0 is illegal; using critic/critic_condition/conv1_1/W_0 instead.\n"
     ]
    },
    {
     "name": "stdout",
     "output_type": "stream",
     "text": [
      "INFO:tensorflow:Summary name critic/critic_condition/conv1_1/b:0 is illegal; using critic/critic_condition/conv1_1/b_0 instead.\n"
     ]
    },
    {
     "name": "stderr",
     "output_type": "stream",
     "text": [
      "2018-08-05 14:51:52,756 Summary name critic/critic_condition/conv1_1/b:0 is illegal; using critic/critic_condition/conv1_1/b_0 instead.\n"
     ]
    },
    {
     "name": "stdout",
     "output_type": "stream",
     "text": [
      "INFO:tensorflow:Summary name critic/critic_condition/conv2_1/W:0 is illegal; using critic/critic_condition/conv2_1/W_0 instead.\n"
     ]
    },
    {
     "name": "stderr",
     "output_type": "stream",
     "text": [
      "2018-08-05 14:51:52,761 Summary name critic/critic_condition/conv2_1/W:0 is illegal; using critic/critic_condition/conv2_1/W_0 instead.\n"
     ]
    },
    {
     "name": "stdout",
     "output_type": "stream",
     "text": [
      "INFO:tensorflow:Summary name critic/critic_condition/conv2_1/b:0 is illegal; using critic/critic_condition/conv2_1/b_0 instead.\n"
     ]
    },
    {
     "name": "stderr",
     "output_type": "stream",
     "text": [
      "2018-08-05 14:51:52,763 Summary name critic/critic_condition/conv2_1/b:0 is illegal; using critic/critic_condition/conv2_1/b_0 instead.\n"
     ]
    },
    {
     "name": "stdout",
     "output_type": "stream",
     "text": [
      "INFO:tensorflow:Summary name critic/critic_condition/conv3_1/W:0 is illegal; using critic/critic_condition/conv3_1/W_0 instead.\n"
     ]
    },
    {
     "name": "stderr",
     "output_type": "stream",
     "text": [
      "2018-08-05 14:51:52,769 Summary name critic/critic_condition/conv3_1/W:0 is illegal; using critic/critic_condition/conv3_1/W_0 instead.\n"
     ]
    },
    {
     "name": "stdout",
     "output_type": "stream",
     "text": [
      "INFO:tensorflow:Summary name critic/critic_condition/conv3_1/b:0 is illegal; using critic/critic_condition/conv3_1/b_0 instead.\n"
     ]
    },
    {
     "name": "stderr",
     "output_type": "stream",
     "text": [
      "2018-08-05 14:51:52,771 Summary name critic/critic_condition/conv3_1/b:0 is illegal; using critic/critic_condition/conv3_1/b_0 instead.\n"
     ]
    },
    {
     "name": "stdout",
     "output_type": "stream",
     "text": [
      "INFO:tensorflow:Summary name critic/critic_condition/conv3_2/W:0 is illegal; using critic/critic_condition/conv3_2/W_0 instead.\n"
     ]
    },
    {
     "name": "stderr",
     "output_type": "stream",
     "text": [
      "2018-08-05 14:51:52,775 Summary name critic/critic_condition/conv3_2/W:0 is illegal; using critic/critic_condition/conv3_2/W_0 instead.\n"
     ]
    },
    {
     "name": "stdout",
     "output_type": "stream",
     "text": [
      "INFO:tensorflow:Summary name critic/critic_condition/conv3_2/b:0 is illegal; using critic/critic_condition/conv3_2/b_0 instead.\n"
     ]
    },
    {
     "name": "stderr",
     "output_type": "stream",
     "text": [
      "2018-08-05 14:51:52,777 Summary name critic/critic_condition/conv3_2/b:0 is illegal; using critic/critic_condition/conv3_2/b_0 instead.\n"
     ]
    },
    {
     "name": "stdout",
     "output_type": "stream",
     "text": [
      "INFO:tensorflow:Summary name critic/critic_condition/conv4_1/W:0 is illegal; using critic/critic_condition/conv4_1/W_0 instead.\n"
     ]
    },
    {
     "name": "stderr",
     "output_type": "stream",
     "text": [
      "2018-08-05 14:51:52,782 Summary name critic/critic_condition/conv4_1/W:0 is illegal; using critic/critic_condition/conv4_1/W_0 instead.\n"
     ]
    },
    {
     "name": "stdout",
     "output_type": "stream",
     "text": [
      "INFO:tensorflow:Summary name critic/critic_condition/conv4_1/b:0 is illegal; using critic/critic_condition/conv4_1/b_0 instead.\n"
     ]
    },
    {
     "name": "stderr",
     "output_type": "stream",
     "text": [
      "2018-08-05 14:51:52,784 Summary name critic/critic_condition/conv4_1/b:0 is illegal; using critic/critic_condition/conv4_1/b_0 instead.\n"
     ]
    },
    {
     "name": "stdout",
     "output_type": "stream",
     "text": [
      "INFO:tensorflow:Summary name critic/critic_condition/conv4_2/W:0 is illegal; using critic/critic_condition/conv4_2/W_0 instead.\n"
     ]
    },
    {
     "name": "stderr",
     "output_type": "stream",
     "text": [
      "2018-08-05 14:51:52,789 Summary name critic/critic_condition/conv4_2/W:0 is illegal; using critic/critic_condition/conv4_2/W_0 instead.\n"
     ]
    },
    {
     "name": "stdout",
     "output_type": "stream",
     "text": [
      "INFO:tensorflow:Summary name critic/critic_condition/conv4_2/b:0 is illegal; using critic/critic_condition/conv4_2/b_0 instead.\n"
     ]
    },
    {
     "name": "stderr",
     "output_type": "stream",
     "text": [
      "2018-08-05 14:51:52,790 Summary name critic/critic_condition/conv4_2/b:0 is illegal; using critic/critic_condition/conv4_2/b_0 instead.\n"
     ]
    },
    {
     "name": "stdout",
     "output_type": "stream",
     "text": [
      "INFO:tensorflow:Summary name critic/critic_condition/conv5_1/W:0 is illegal; using critic/critic_condition/conv5_1/W_0 instead.\n"
     ]
    },
    {
     "name": "stderr",
     "output_type": "stream",
     "text": [
      "2018-08-05 14:51:52,795 Summary name critic/critic_condition/conv5_1/W:0 is illegal; using critic/critic_condition/conv5_1/W_0 instead.\n"
     ]
    },
    {
     "name": "stdout",
     "output_type": "stream",
     "text": [
      "INFO:tensorflow:Summary name critic/critic_condition/conv5_1/b:0 is illegal; using critic/critic_condition/conv5_1/b_0 instead.\n"
     ]
    },
    {
     "name": "stderr",
     "output_type": "stream",
     "text": [
      "2018-08-05 14:51:52,797 Summary name critic/critic_condition/conv5_1/b:0 is illegal; using critic/critic_condition/conv5_1/b_0 instead.\n"
     ]
    },
    {
     "name": "stdout",
     "output_type": "stream",
     "text": [
      "INFO:tensorflow:Summary name critic/critic_condition/conv5_2/W:0 is illegal; using critic/critic_condition/conv5_2/W_0 instead.\n"
     ]
    },
    {
     "name": "stderr",
     "output_type": "stream",
     "text": [
      "2018-08-05 14:51:52,801 Summary name critic/critic_condition/conv5_2/W:0 is illegal; using critic/critic_condition/conv5_2/W_0 instead.\n"
     ]
    },
    {
     "name": "stdout",
     "output_type": "stream",
     "text": [
      "INFO:tensorflow:Summary name critic/critic_condition/conv5_2/b:0 is illegal; using critic/critic_condition/conv5_2/b_0 instead.\n"
     ]
    },
    {
     "name": "stderr",
     "output_type": "stream",
     "text": [
      "2018-08-05 14:51:52,803 Summary name critic/critic_condition/conv5_2/b:0 is illegal; using critic/critic_condition/conv5_2/b_0 instead.\n"
     ]
    },
    {
     "name": "stdout",
     "output_type": "stream",
     "text": [
      "INFO:tensorflow:Summary name critic/critic_condition/convD_1/W:0 is illegal; using critic/critic_condition/convD_1/W_0 instead.\n"
     ]
    },
    {
     "name": "stderr",
     "output_type": "stream",
     "text": [
      "2018-08-05 14:51:52,808 Summary name critic/critic_condition/convD_1/W:0 is illegal; using critic/critic_condition/convD_1/W_0 instead.\n"
     ]
    },
    {
     "name": "stdout",
     "output_type": "stream",
     "text": [
      "INFO:tensorflow:Summary name critic/critic_condition/convD_1/b:0 is illegal; using critic/critic_condition/convD_1/b_0 instead.\n"
     ]
    },
    {
     "name": "stderr",
     "output_type": "stream",
     "text": [
      "2018-08-05 14:51:52,810 Summary name critic/critic_condition/convD_1/b:0 is illegal; using critic/critic_condition/convD_1/b_0 instead.\n"
     ]
    },
    {
     "name": "stdout",
     "output_type": "stream",
     "text": [
      "INFO:tensorflow:Summary name critic/critic_condition/convD_2/W:0 is illegal; using critic/critic_condition/convD_2/W_0 instead.\n"
     ]
    },
    {
     "name": "stderr",
     "output_type": "stream",
     "text": [
      "2018-08-05 14:51:52,815 Summary name critic/critic_condition/convD_2/W:0 is illegal; using critic/critic_condition/convD_2/W_0 instead.\n"
     ]
    },
    {
     "name": "stdout",
     "output_type": "stream",
     "text": [
      "INFO:tensorflow:Summary name critic/critic_condition/convD_2/b:0 is illegal; using critic/critic_condition/convD_2/b_0 instead.\n"
     ]
    },
    {
     "name": "stderr",
     "output_type": "stream",
     "text": [
      "2018-08-05 14:51:52,818 Summary name critic/critic_condition/convD_2/b:0 is illegal; using critic/critic_condition/convD_2/b_0 instead.\n"
     ]
    },
    {
     "name": "stdout",
     "output_type": "stream",
     "text": [
      "INFO:tensorflow:Summary name critic/conv1_1/W:0 is illegal; using critic/conv1_1/W_0 instead.\n"
     ]
    },
    {
     "name": "stderr",
     "output_type": "stream",
     "text": [
      "2018-08-05 14:51:52,908 Summary name critic/conv1_1/W:0 is illegal; using critic/conv1_1/W_0 instead.\n"
     ]
    },
    {
     "name": "stdout",
     "output_type": "stream",
     "text": [
      "INFO:tensorflow:Summary name critic/conv1_1/b:0 is illegal; using critic/conv1_1/b_0 instead.\n"
     ]
    },
    {
     "name": "stderr",
     "output_type": "stream",
     "text": [
      "2018-08-05 14:51:52,909 Summary name critic/conv1_1/b:0 is illegal; using critic/conv1_1/b_0 instead.\n"
     ]
    },
    {
     "name": "stdout",
     "output_type": "stream",
     "text": [
      "INFO:tensorflow:Summary name critic/conv2_1/W:0 is illegal; using critic/conv2_1/W_0 instead.\n"
     ]
    },
    {
     "name": "stderr",
     "output_type": "stream",
     "text": [
      "2018-08-05 14:51:52,914 Summary name critic/conv2_1/W:0 is illegal; using critic/conv2_1/W_0 instead.\n"
     ]
    },
    {
     "name": "stdout",
     "output_type": "stream",
     "text": [
      "INFO:tensorflow:Summary name critic/conv2_1/b:0 is illegal; using critic/conv2_1/b_0 instead.\n"
     ]
    },
    {
     "name": "stderr",
     "output_type": "stream",
     "text": [
      "2018-08-05 14:51:52,915 Summary name critic/conv2_1/b:0 is illegal; using critic/conv2_1/b_0 instead.\n"
     ]
    },
    {
     "name": "stdout",
     "output_type": "stream",
     "text": [
      "INFO:tensorflow:Summary name critic/conv3_1/W:0 is illegal; using critic/conv3_1/W_0 instead.\n"
     ]
    },
    {
     "name": "stderr",
     "output_type": "stream",
     "text": [
      "2018-08-05 14:51:52,920 Summary name critic/conv3_1/W:0 is illegal; using critic/conv3_1/W_0 instead.\n"
     ]
    },
    {
     "name": "stdout",
     "output_type": "stream",
     "text": [
      "INFO:tensorflow:Summary name critic/conv3_1/b:0 is illegal; using critic/conv3_1/b_0 instead.\n"
     ]
    },
    {
     "name": "stderr",
     "output_type": "stream",
     "text": [
      "2018-08-05 14:51:52,922 Summary name critic/conv3_1/b:0 is illegal; using critic/conv3_1/b_0 instead.\n"
     ]
    },
    {
     "name": "stdout",
     "output_type": "stream",
     "text": [
      "INFO:tensorflow:Summary name critic/conv3_2/W:0 is illegal; using critic/conv3_2/W_0 instead.\n"
     ]
    },
    {
     "name": "stderr",
     "output_type": "stream",
     "text": [
      "2018-08-05 14:51:52,926 Summary name critic/conv3_2/W:0 is illegal; using critic/conv3_2/W_0 instead.\n"
     ]
    },
    {
     "name": "stdout",
     "output_type": "stream",
     "text": [
      "INFO:tensorflow:Summary name critic/conv3_2/b:0 is illegal; using critic/conv3_2/b_0 instead.\n"
     ]
    },
    {
     "name": "stderr",
     "output_type": "stream",
     "text": [
      "2018-08-05 14:51:52,928 Summary name critic/conv3_2/b:0 is illegal; using critic/conv3_2/b_0 instead.\n"
     ]
    },
    {
     "name": "stdout",
     "output_type": "stream",
     "text": [
      "INFO:tensorflow:Summary name critic/conv4_1/W:0 is illegal; using critic/conv4_1/W_0 instead.\n"
     ]
    },
    {
     "name": "stderr",
     "output_type": "stream",
     "text": [
      "2018-08-05 14:51:52,933 Summary name critic/conv4_1/W:0 is illegal; using critic/conv4_1/W_0 instead.\n"
     ]
    },
    {
     "name": "stdout",
     "output_type": "stream",
     "text": [
      "INFO:tensorflow:Summary name critic/conv4_1/b:0 is illegal; using critic/conv4_1/b_0 instead.\n"
     ]
    },
    {
     "name": "stderr",
     "output_type": "stream",
     "text": [
      "2018-08-05 14:51:52,934 Summary name critic/conv4_1/b:0 is illegal; using critic/conv4_1/b_0 instead.\n"
     ]
    },
    {
     "name": "stdout",
     "output_type": "stream",
     "text": [
      "INFO:tensorflow:Summary name critic/conv4_2/W:0 is illegal; using critic/conv4_2/W_0 instead.\n"
     ]
    },
    {
     "name": "stderr",
     "output_type": "stream",
     "text": [
      "2018-08-05 14:51:52,939 Summary name critic/conv4_2/W:0 is illegal; using critic/conv4_2/W_0 instead.\n"
     ]
    },
    {
     "name": "stdout",
     "output_type": "stream",
     "text": [
      "INFO:tensorflow:Summary name critic/conv4_2/b:0 is illegal; using critic/conv4_2/b_0 instead.\n"
     ]
    },
    {
     "name": "stderr",
     "output_type": "stream",
     "text": [
      "2018-08-05 14:51:52,940 Summary name critic/conv4_2/b:0 is illegal; using critic/conv4_2/b_0 instead.\n"
     ]
    },
    {
     "name": "stdout",
     "output_type": "stream",
     "text": [
      "INFO:tensorflow:Summary name critic/conv5_1/W:0 is illegal; using critic/conv5_1/W_0 instead.\n"
     ]
    },
    {
     "name": "stderr",
     "output_type": "stream",
     "text": [
      "2018-08-05 14:51:52,946 Summary name critic/conv5_1/W:0 is illegal; using critic/conv5_1/W_0 instead.\n"
     ]
    },
    {
     "name": "stdout",
     "output_type": "stream",
     "text": [
      "INFO:tensorflow:Summary name critic/conv5_1/b:0 is illegal; using critic/conv5_1/b_0 instead.\n"
     ]
    },
    {
     "name": "stderr",
     "output_type": "stream",
     "text": [
      "2018-08-05 14:51:52,948 Summary name critic/conv5_1/b:0 is illegal; using critic/conv5_1/b_0 instead.\n"
     ]
    },
    {
     "name": "stdout",
     "output_type": "stream",
     "text": [
      "INFO:tensorflow:Summary name critic/conv5_2/W:0 is illegal; using critic/conv5_2/W_0 instead.\n"
     ]
    },
    {
     "name": "stderr",
     "output_type": "stream",
     "text": [
      "2018-08-05 14:51:52,953 Summary name critic/conv5_2/W:0 is illegal; using critic/conv5_2/W_0 instead.\n"
     ]
    },
    {
     "name": "stdout",
     "output_type": "stream",
     "text": [
      "INFO:tensorflow:Summary name critic/conv5_2/b:0 is illegal; using critic/conv5_2/b_0 instead.\n"
     ]
    },
    {
     "name": "stderr",
     "output_type": "stream",
     "text": [
      "2018-08-05 14:51:52,954 Summary name critic/conv5_2/b:0 is illegal; using critic/conv5_2/b_0 instead.\n"
     ]
    },
    {
     "name": "stdout",
     "output_type": "stream",
     "text": [
      "INFO:tensorflow:Summary name critic/convD_1/W:0 is illegal; using critic/convD_1/W_0 instead.\n"
     ]
    },
    {
     "name": "stderr",
     "output_type": "stream",
     "text": [
      "2018-08-05 14:51:52,958 Summary name critic/convD_1/W:0 is illegal; using critic/convD_1/W_0 instead.\n"
     ]
    },
    {
     "name": "stdout",
     "output_type": "stream",
     "text": [
      "INFO:tensorflow:Summary name critic/convD_1/b:0 is illegal; using critic/convD_1/b_0 instead.\n"
     ]
    },
    {
     "name": "stderr",
     "output_type": "stream",
     "text": [
      "2018-08-05 14:51:52,960 Summary name critic/convD_1/b:0 is illegal; using critic/convD_1/b_0 instead.\n"
     ]
    },
    {
     "name": "stdout",
     "output_type": "stream",
     "text": [
      "INFO:tensorflow:Summary name critic/convD_2/W:0 is illegal; using critic/convD_2/W_0 instead.\n"
     ]
    },
    {
     "name": "stderr",
     "output_type": "stream",
     "text": [
      "2018-08-05 14:51:52,965 Summary name critic/convD_2/W:0 is illegal; using critic/convD_2/W_0 instead.\n"
     ]
    },
    {
     "name": "stdout",
     "output_type": "stream",
     "text": [
      "INFO:tensorflow:Summary name critic/convD_2/b:0 is illegal; using critic/convD_2/b_0 instead.\n"
     ]
    },
    {
     "name": "stderr",
     "output_type": "stream",
     "text": [
      "2018-08-05 14:51:52,967 Summary name critic/convD_2/b:0 is illegal; using critic/convD_2/b_0 instead.\n"
     ]
    },
    {
     "name": "stdout",
     "output_type": "stream",
     "text": [
      "INFO:tensorflow:Summary name critic/critic_condition/conv1_1/W:0 is illegal; using critic/critic_condition/conv1_1/W_0 instead.\n"
     ]
    },
    {
     "name": "stderr",
     "output_type": "stream",
     "text": [
      "2018-08-05 14:51:52,974 Summary name critic/critic_condition/conv1_1/W:0 is illegal; using critic/critic_condition/conv1_1/W_0 instead.\n"
     ]
    },
    {
     "name": "stdout",
     "output_type": "stream",
     "text": [
      "INFO:tensorflow:Summary name critic/critic_condition/conv1_1/b:0 is illegal; using critic/critic_condition/conv1_1/b_0 instead.\n"
     ]
    },
    {
     "name": "stderr",
     "output_type": "stream",
     "text": [
      "2018-08-05 14:51:52,975 Summary name critic/critic_condition/conv1_1/b:0 is illegal; using critic/critic_condition/conv1_1/b_0 instead.\n"
     ]
    },
    {
     "name": "stdout",
     "output_type": "stream",
     "text": [
      "INFO:tensorflow:Summary name critic/critic_condition/conv2_1/W:0 is illegal; using critic/critic_condition/conv2_1/W_0 instead.\n"
     ]
    },
    {
     "name": "stderr",
     "output_type": "stream",
     "text": [
      "2018-08-05 14:51:52,981 Summary name critic/critic_condition/conv2_1/W:0 is illegal; using critic/critic_condition/conv2_1/W_0 instead.\n"
     ]
    },
    {
     "name": "stdout",
     "output_type": "stream",
     "text": [
      "INFO:tensorflow:Summary name critic/critic_condition/conv2_1/b:0 is illegal; using critic/critic_condition/conv2_1/b_0 instead.\n"
     ]
    },
    {
     "name": "stderr",
     "output_type": "stream",
     "text": [
      "2018-08-05 14:51:52,982 Summary name critic/critic_condition/conv2_1/b:0 is illegal; using critic/critic_condition/conv2_1/b_0 instead.\n"
     ]
    },
    {
     "name": "stdout",
     "output_type": "stream",
     "text": [
      "INFO:tensorflow:Summary name critic/critic_condition/conv3_1/W:0 is illegal; using critic/critic_condition/conv3_1/W_0 instead.\n"
     ]
    },
    {
     "name": "stderr",
     "output_type": "stream",
     "text": [
      "2018-08-05 14:51:52,988 Summary name critic/critic_condition/conv3_1/W:0 is illegal; using critic/critic_condition/conv3_1/W_0 instead.\n"
     ]
    },
    {
     "name": "stdout",
     "output_type": "stream",
     "text": [
      "INFO:tensorflow:Summary name critic/critic_condition/conv3_1/b:0 is illegal; using critic/critic_condition/conv3_1/b_0 instead.\n"
     ]
    },
    {
     "name": "stderr",
     "output_type": "stream",
     "text": [
      "2018-08-05 14:51:52,991 Summary name critic/critic_condition/conv3_1/b:0 is illegal; using critic/critic_condition/conv3_1/b_0 instead.\n"
     ]
    },
    {
     "name": "stdout",
     "output_type": "stream",
     "text": [
      "INFO:tensorflow:Summary name critic/critic_condition/conv3_2/W:0 is illegal; using critic/critic_condition/conv3_2/W_0 instead.\n"
     ]
    },
    {
     "name": "stderr",
     "output_type": "stream",
     "text": [
      "2018-08-05 14:51:52,996 Summary name critic/critic_condition/conv3_2/W:0 is illegal; using critic/critic_condition/conv3_2/W_0 instead.\n"
     ]
    },
    {
     "name": "stdout",
     "output_type": "stream",
     "text": [
      "INFO:tensorflow:Summary name critic/critic_condition/conv3_2/b:0 is illegal; using critic/critic_condition/conv3_2/b_0 instead.\n"
     ]
    },
    {
     "name": "stderr",
     "output_type": "stream",
     "text": [
      "2018-08-05 14:51:52,997 Summary name critic/critic_condition/conv3_2/b:0 is illegal; using critic/critic_condition/conv3_2/b_0 instead.\n"
     ]
    },
    {
     "name": "stdout",
     "output_type": "stream",
     "text": [
      "INFO:tensorflow:Summary name critic/critic_condition/conv4_1/W:0 is illegal; using critic/critic_condition/conv4_1/W_0 instead.\n"
     ]
    },
    {
     "name": "stderr",
     "output_type": "stream",
     "text": [
      "2018-08-05 14:51:53,002 Summary name critic/critic_condition/conv4_1/W:0 is illegal; using critic/critic_condition/conv4_1/W_0 instead.\n"
     ]
    },
    {
     "name": "stdout",
     "output_type": "stream",
     "text": [
      "INFO:tensorflow:Summary name critic/critic_condition/conv4_1/b:0 is illegal; using critic/critic_condition/conv4_1/b_0 instead.\n"
     ]
    },
    {
     "name": "stderr",
     "output_type": "stream",
     "text": [
      "2018-08-05 14:51:53,004 Summary name critic/critic_condition/conv4_1/b:0 is illegal; using critic/critic_condition/conv4_1/b_0 instead.\n"
     ]
    },
    {
     "name": "stdout",
     "output_type": "stream",
     "text": [
      "INFO:tensorflow:Summary name critic/critic_condition/conv4_2/W:0 is illegal; using critic/critic_condition/conv4_2/W_0 instead.\n"
     ]
    },
    {
     "name": "stderr",
     "output_type": "stream",
     "text": [
      "2018-08-05 14:51:53,008 Summary name critic/critic_condition/conv4_2/W:0 is illegal; using critic/critic_condition/conv4_2/W_0 instead.\n"
     ]
    },
    {
     "name": "stdout",
     "output_type": "stream",
     "text": [
      "INFO:tensorflow:Summary name critic/critic_condition/conv4_2/b:0 is illegal; using critic/critic_condition/conv4_2/b_0 instead.\n"
     ]
    },
    {
     "name": "stderr",
     "output_type": "stream",
     "text": [
      "2018-08-05 14:51:53,010 Summary name critic/critic_condition/conv4_2/b:0 is illegal; using critic/critic_condition/conv4_2/b_0 instead.\n"
     ]
    },
    {
     "name": "stdout",
     "output_type": "stream",
     "text": [
      "INFO:tensorflow:Summary name critic/critic_condition/conv5_1/W:0 is illegal; using critic/critic_condition/conv5_1/W_0 instead.\n"
     ]
    },
    {
     "name": "stderr",
     "output_type": "stream",
     "text": [
      "2018-08-05 14:51:53,015 Summary name critic/critic_condition/conv5_1/W:0 is illegal; using critic/critic_condition/conv5_1/W_0 instead.\n"
     ]
    },
    {
     "name": "stdout",
     "output_type": "stream",
     "text": [
      "INFO:tensorflow:Summary name critic/critic_condition/conv5_1/b:0 is illegal; using critic/critic_condition/conv5_1/b_0 instead.\n"
     ]
    },
    {
     "name": "stderr",
     "output_type": "stream",
     "text": [
      "2018-08-05 14:51:53,017 Summary name critic/critic_condition/conv5_1/b:0 is illegal; using critic/critic_condition/conv5_1/b_0 instead.\n"
     ]
    },
    {
     "name": "stdout",
     "output_type": "stream",
     "text": [
      "INFO:tensorflow:Summary name critic/critic_condition/conv5_2/W:0 is illegal; using critic/critic_condition/conv5_2/W_0 instead.\n"
     ]
    },
    {
     "name": "stderr",
     "output_type": "stream",
     "text": [
      "2018-08-05 14:51:53,021 Summary name critic/critic_condition/conv5_2/W:0 is illegal; using critic/critic_condition/conv5_2/W_0 instead.\n"
     ]
    },
    {
     "name": "stdout",
     "output_type": "stream",
     "text": [
      "INFO:tensorflow:Summary name critic/critic_condition/conv5_2/b:0 is illegal; using critic/critic_condition/conv5_2/b_0 instead.\n"
     ]
    },
    {
     "name": "stderr",
     "output_type": "stream",
     "text": [
      "2018-08-05 14:51:53,023 Summary name critic/critic_condition/conv5_2/b:0 is illegal; using critic/critic_condition/conv5_2/b_0 instead.\n"
     ]
    },
    {
     "name": "stdout",
     "output_type": "stream",
     "text": [
      "INFO:tensorflow:Summary name critic/critic_condition/convD_1/W:0 is illegal; using critic/critic_condition/convD_1/W_0 instead.\n"
     ]
    },
    {
     "name": "stderr",
     "output_type": "stream",
     "text": [
      "2018-08-05 14:51:53,027 Summary name critic/critic_condition/convD_1/W:0 is illegal; using critic/critic_condition/convD_1/W_0 instead.\n"
     ]
    },
    {
     "name": "stdout",
     "output_type": "stream",
     "text": [
      "INFO:tensorflow:Summary name critic/critic_condition/convD_1/b:0 is illegal; using critic/critic_condition/convD_1/b_0 instead.\n"
     ]
    },
    {
     "name": "stderr",
     "output_type": "stream",
     "text": [
      "2018-08-05 14:51:53,029 Summary name critic/critic_condition/convD_1/b:0 is illegal; using critic/critic_condition/convD_1/b_0 instead.\n"
     ]
    },
    {
     "name": "stdout",
     "output_type": "stream",
     "text": [
      "INFO:tensorflow:Summary name critic/critic_condition/convD_2/W:0 is illegal; using critic/critic_condition/convD_2/W_0 instead.\n"
     ]
    },
    {
     "name": "stderr",
     "output_type": "stream",
     "text": [
      "2018-08-05 14:51:53,033 Summary name critic/critic_condition/convD_2/W:0 is illegal; using critic/critic_condition/convD_2/W_0 instead.\n"
     ]
    },
    {
     "name": "stdout",
     "output_type": "stream",
     "text": [
      "INFO:tensorflow:Summary name critic/critic_condition/convD_2/b:0 is illegal; using critic/critic_condition/convD_2/b_0 instead.\n"
     ]
    },
    {
     "name": "stderr",
     "output_type": "stream",
     "text": [
      "2018-08-05 14:51:53,035 Summary name critic/critic_condition/convD_2/b:0 is illegal; using critic/critic_condition/convD_2/b_0 instead.\n"
     ]
    },
    {
     "name": "stdout",
     "output_type": "stream",
     "text": [
      "INFO:tensorflow:Restoring parameters from data/20180805-120815-debug/logdir/model.ckpt-0\n"
     ]
    },
    {
     "name": "stderr",
     "output_type": "stream",
     "text": [
      "2018-08-05 14:51:57,312 Restoring parameters from data/20180805-120815-debug/logdir/model.ckpt-0\n"
     ]
    }
   ],
   "source": [
    "smt_label = \"20180805-120815-debug\"\n",
    "config_path = os.path.join(\"data\", smt_label, \"config.yaml\")\n",
    "model_dir = os.path.join(\"data\", smt_label, \"logdir\")\n",
    "with open(config_path, 'r') as f:\n",
    "    model_config = yaml.load(f)\n",
    "wrapper = VAGanWrapper(**model_config)\n",
    "wrapper.vagan.load_weights(model_dir)\n",
    "vagan = wrapper.vagan"
   ]
  },
  {
   "cell_type": "code",
   "execution_count": 4,
   "metadata": {},
   "outputs": [],
   "source": [
    "## Some streamers\n",
    "train_stream = lambda bs: wrapper.data.trainAD.next_batch(bs)[0]\n",
    "validation_stream = lambda bs: wrapper.data.validationAD.next_batch(bs)[0]\n",
    "test_stream = lambda bs: wrapper.data.testAD.next_batch(bs)[0]\n",
    "\n",
    "n_train_samples = wrapper.data.n_train_samples\n",
    "n_val_samples = wrapper.data.n_val_samples\n",
    "n_test_samples = wrapper.data.n_test_samples\n",
    "\n",
    "# Input wrapper\n",
    "input_wrapper = wrapper.config.input_wrapper\n",
    "gt_channel = 1"
   ]
  },
  {
   "cell_type": "markdown",
   "metadata": {},
   "source": [
    "## Compute scores (e.g. NCC)"
   ]
  },
  {
   "cell_type": "code",
   "execution_count": 8,
   "metadata": {},
   "outputs": [
    {
     "name": "stdout",
     "output_type": "stream",
     "text": [
      "Evaluating test\n",
      "NCC: mean 0.10396340588118456, std 0.1702553253822495, median 0.11101594547139965\n",
      "Evaluating validation\n",
      "NCC: mean 0.12884404713949651, std 0.11970881671606072, median 0.15173815837581117\n",
      "Evaluating train\n"
     ]
    },
    {
     "ename": "KeyboardInterrupt",
     "evalue": "",
     "output_type": "error",
     "traceback": [
      "\u001b[0;31m---------------------------------------------------------------------------\u001b[0m",
      "\u001b[0;31mKeyboardInterrupt\u001b[0m                         Traceback (most recent call last)",
      "\u001b[0;32m<ipython-input-8-f377b82a4b60>\u001b[0m in \u001b[0;36m<module>\u001b[0;34m()\u001b[0m\n\u001b[1;32m     24\u001b[0m     \u001b[0mscores\u001b[0m \u001b[0;34m=\u001b[0m \u001b[0;34m[\u001b[0m\u001b[0;34m]\u001b[0m\u001b[0;34m\u001b[0m\u001b[0m\n\u001b[1;32m     25\u001b[0m     \u001b[0;32mfor\u001b[0m \u001b[0m_\u001b[0m \u001b[0;32min\u001b[0m \u001b[0mrange\u001b[0m\u001b[0;34m(\u001b[0m\u001b[0mn_samples\u001b[0m\u001b[0;34m)\u001b[0m\u001b[0;34m:\u001b[0m\u001b[0;34m\u001b[0m\u001b[0m\n\u001b[0;32m---> 26\u001b[0;31m         \u001b[0minp\u001b[0m \u001b[0;34m=\u001b[0m \u001b[0mstream\u001b[0m\u001b[0;34m(\u001b[0m\u001b[0;36m1\u001b[0m\u001b[0;34m)\u001b[0m\u001b[0;34m\u001b[0m\u001b[0m\n\u001b[0m\u001b[1;32m     27\u001b[0m         \u001b[0mdiff_map\u001b[0m \u001b[0;34m=\u001b[0m \u001b[0mvagan\u001b[0m\u001b[0;34m.\u001b[0m\u001b[0mpredict_mask\u001b[0m\u001b[0;34m(\u001b[0m\u001b[0minp\u001b[0m\u001b[0;34m)\u001b[0m\u001b[0;34m\u001b[0m\u001b[0m\n\u001b[1;32m     28\u001b[0m         \u001b[0;31m# wrapped = input_wrapper(inp)\u001b[0m\u001b[0;34m\u001b[0m\u001b[0;34m\u001b[0m\u001b[0m\n",
      "\u001b[0;32m<ipython-input-4-dc8e3eefd8a4>\u001b[0m in \u001b[0;36m<lambda>\u001b[0;34m(bs)\u001b[0m\n\u001b[1;32m      1\u001b[0m \u001b[0;31m## Some streamers\u001b[0m\u001b[0;34m\u001b[0m\u001b[0;34m\u001b[0m\u001b[0m\n\u001b[0;32m----> 2\u001b[0;31m \u001b[0mtrain_stream\u001b[0m \u001b[0;34m=\u001b[0m \u001b[0;32mlambda\u001b[0m \u001b[0mbs\u001b[0m\u001b[0;34m:\u001b[0m \u001b[0mwrapper\u001b[0m\u001b[0;34m.\u001b[0m\u001b[0mdata\u001b[0m\u001b[0;34m.\u001b[0m\u001b[0mtrainAD\u001b[0m\u001b[0;34m.\u001b[0m\u001b[0mnext_batch\u001b[0m\u001b[0;34m(\u001b[0m\u001b[0mbs\u001b[0m\u001b[0;34m)\u001b[0m\u001b[0;34m[\u001b[0m\u001b[0;36m0\u001b[0m\u001b[0;34m]\u001b[0m\u001b[0;34m\u001b[0m\u001b[0m\n\u001b[0m\u001b[1;32m      3\u001b[0m \u001b[0mvalidation_stream\u001b[0m \u001b[0;34m=\u001b[0m \u001b[0;32mlambda\u001b[0m \u001b[0mbs\u001b[0m\u001b[0;34m:\u001b[0m \u001b[0mwrapper\u001b[0m\u001b[0;34m.\u001b[0m\u001b[0mdata\u001b[0m\u001b[0;34m.\u001b[0m\u001b[0mvalidationAD\u001b[0m\u001b[0;34m.\u001b[0m\u001b[0mnext_batch\u001b[0m\u001b[0;34m(\u001b[0m\u001b[0mbs\u001b[0m\u001b[0;34m)\u001b[0m\u001b[0;34m[\u001b[0m\u001b[0;36m0\u001b[0m\u001b[0;34m]\u001b[0m\u001b[0;34m\u001b[0m\u001b[0m\n\u001b[1;32m      4\u001b[0m \u001b[0mtest_stream\u001b[0m \u001b[0;34m=\u001b[0m \u001b[0;32mlambda\u001b[0m \u001b[0mbs\u001b[0m\u001b[0;34m:\u001b[0m \u001b[0mwrapper\u001b[0m\u001b[0;34m.\u001b[0m\u001b[0mdata\u001b[0m\u001b[0;34m.\u001b[0m\u001b[0mtestAD\u001b[0m\u001b[0;34m.\u001b[0m\u001b[0mnext_batch\u001b[0m\u001b[0;34m(\u001b[0m\u001b[0mbs\u001b[0m\u001b[0;34m)\u001b[0m\u001b[0;34m[\u001b[0m\u001b[0;36m0\u001b[0m\u001b[0;34m]\u001b[0m\u001b[0;34m\u001b[0m\u001b[0m\n\u001b[1;32m      5\u001b[0m \u001b[0;34m\u001b[0m\u001b[0m\n",
      "\u001b[0;32m~/entrack/src/data/streaming/vagan_streaming.py\u001b[0m in \u001b[0;36mnext_batch\u001b[0;34m(self, batch_size)\u001b[0m\n\u001b[1;32m    107\u001b[0m         \u001b[0my_batch\u001b[0m \u001b[0;34m=\u001b[0m \u001b[0;34m[\u001b[0m\u001b[0;34m]\u001b[0m\u001b[0;34m\u001b[0m\u001b[0m\n\u001b[1;32m    108\u001b[0m         \u001b[0;32mfor\u001b[0m \u001b[0mi\u001b[0m \u001b[0;32min\u001b[0m \u001b[0mrange\u001b[0m\u001b[0;34m(\u001b[0m\u001b[0mbatch_size\u001b[0m\u001b[0;34m)\u001b[0m\u001b[0;34m:\u001b[0m\u001b[0;34m\u001b[0m\u001b[0m\n\u001b[0;32m--> 109\u001b[0;31m             \u001b[0mx\u001b[0m\u001b[0;34m,\u001b[0m \u001b[0my\u001b[0m \u001b[0;34m=\u001b[0m \u001b[0mnext\u001b[0m\u001b[0;34m(\u001b[0m\u001b[0mself\u001b[0m\u001b[0;34m.\u001b[0m\u001b[0mimg_gen\u001b[0m\u001b[0;34m)\u001b[0m\u001b[0;34m\u001b[0m\u001b[0m\n\u001b[0m\u001b[1;32m    110\u001b[0m             \u001b[0mX_batch\u001b[0m\u001b[0;34m.\u001b[0m\u001b[0mappend\u001b[0m\u001b[0;34m(\u001b[0m\u001b[0mx\u001b[0m\u001b[0;34m)\u001b[0m\u001b[0;34m\u001b[0m\u001b[0m\n\u001b[1;32m    111\u001b[0m             \u001b[0my_batch\u001b[0m\u001b[0;34m.\u001b[0m\u001b[0mappend\u001b[0m\u001b[0;34m(\u001b[0m\u001b[0my\u001b[0m\u001b[0;34m)\u001b[0m\u001b[0;34m\u001b[0m\u001b[0m\n",
      "\u001b[0;32m~/entrack/src/data/streaming/vagan_streaming.py\u001b[0m in \u001b[0;36mnext_image\u001b[0;34m(self)\u001b[0m\n\u001b[1;32m     96\u001b[0m                     \u001b[0;31m# for compatibility\u001b[0m\u001b[0;34m\u001b[0m\u001b[0;34m\u001b[0m\u001b[0m\n\u001b[1;32m     97\u001b[0m                     \u001b[0mlabel\u001b[0m \u001b[0;34m=\u001b[0m \u001b[0;34m-\u001b[0m\u001b[0;36m1\u001b[0m\u001b[0;34m\u001b[0m\u001b[0m\n\u001b[0;32m---> 98\u001b[0;31m                     \u001b[0mim\u001b[0m \u001b[0;34m=\u001b[0m \u001b[0msample\u001b[0m\u001b[0;34m.\u001b[0m\u001b[0mload\u001b[0m\u001b[0;34m(\u001b[0m\u001b[0;34m)\u001b[0m\u001b[0;34m\u001b[0m\u001b[0m\n\u001b[0m\u001b[1;32m     99\u001b[0m                     \u001b[0mloaded\u001b[0m\u001b[0;34m.\u001b[0m\u001b[0mappend\u001b[0m\u001b[0;34m(\u001b[0m\u001b[0;34m[\u001b[0m\u001b[0mim\u001b[0m\u001b[0;34m,\u001b[0m \u001b[0mlabel\u001b[0m\u001b[0;34m]\u001b[0m\u001b[0;34m)\u001b[0m\u001b[0;34m\u001b[0m\u001b[0m\n\u001b[1;32m    100\u001b[0m             \u001b[0;32melse\u001b[0m\u001b[0;34m:\u001b[0m\u001b[0;34m\u001b[0m\u001b[0m\n",
      "\u001b[0;32m~/entrack/src/data/streaming/vagan_streaming.py\u001b[0m in \u001b[0;36mload\u001b[0;34m(self)\u001b[0m\n\u001b[1;32m    238\u001b[0m     \u001b[0;32mdef\u001b[0m \u001b[0mload\u001b[0m\u001b[0;34m(\u001b[0m\u001b[0mself\u001b[0m\u001b[0;34m)\u001b[0m\u001b[0;34m:\u001b[0m\u001b[0;34m\u001b[0m\u001b[0m\n\u001b[1;32m    239\u001b[0m         \u001b[0mim1\u001b[0m \u001b[0;34m=\u001b[0m \u001b[0mself\u001b[0m\u001b[0;34m.\u001b[0m\u001b[0mload_image\u001b[0m\u001b[0;34m(\u001b[0m\u001b[0mself\u001b[0m\u001b[0;34m.\u001b[0m\u001b[0mfid1\u001b[0m\u001b[0;34m)\u001b[0m\u001b[0;34m\u001b[0m\u001b[0m\n\u001b[0;32m--> 240\u001b[0;31m         \u001b[0mim2\u001b[0m \u001b[0;34m=\u001b[0m \u001b[0mself\u001b[0m\u001b[0;34m.\u001b[0m\u001b[0mload_image\u001b[0m\u001b[0;34m(\u001b[0m\u001b[0mself\u001b[0m\u001b[0;34m.\u001b[0m\u001b[0mfid2\u001b[0m\u001b[0;34m)\u001b[0m\u001b[0;34m\u001b[0m\u001b[0m\n\u001b[0m\u001b[1;32m    241\u001b[0m         \u001b[0mdelta_im\u001b[0m \u001b[0;34m=\u001b[0m \u001b[0mim2\u001b[0m \u001b[0;34m-\u001b[0m \u001b[0mim1\u001b[0m\u001b[0;34m\u001b[0m\u001b[0m\n\u001b[1;32m    242\u001b[0m         \u001b[0mim\u001b[0m \u001b[0;34m=\u001b[0m \u001b[0mnp\u001b[0m\u001b[0;34m.\u001b[0m\u001b[0mconcatenate\u001b[0m\u001b[0;34m(\u001b[0m\u001b[0;34m(\u001b[0m\u001b[0mim1\u001b[0m\u001b[0;34m,\u001b[0m \u001b[0mdelta_im\u001b[0m\u001b[0;34m)\u001b[0m\u001b[0;34m,\u001b[0m \u001b[0maxis\u001b[0m\u001b[0;34m=\u001b[0m\u001b[0;34m-\u001b[0m\u001b[0;36m1\u001b[0m\u001b[0;34m)\u001b[0m\u001b[0;34m\u001b[0m\u001b[0m\n",
      "\u001b[0;32m~/entrack/src/data/streaming/vagan_streaming.py\u001b[0m in \u001b[0;36mload_image\u001b[0;34m(self, fid)\u001b[0m\n\u001b[1;32m    231\u001b[0m             \u001b[0mim\u001b[0m \u001b[0;34m=\u001b[0m \u001b[0mself\u001b[0m\u001b[0;34m.\u001b[0m\u001b[0mstreamer\u001b[0m\u001b[0;34m.\u001b[0m\u001b[0mnormalize_image\u001b[0m\u001b[0;34m(\u001b[0m\u001b[0mim\u001b[0m\u001b[0;34m)\u001b[0m\u001b[0;34m\u001b[0m\u001b[0m\n\u001b[1;32m    232\u001b[0m         \u001b[0;32mif\u001b[0m \u001b[0mself\u001b[0m\u001b[0;34m.\u001b[0m\u001b[0mstreamer\u001b[0m\u001b[0;34m.\u001b[0m\u001b[0mrescale_to_one\u001b[0m\u001b[0;34m:\u001b[0m\u001b[0;34m\u001b[0m\u001b[0m\n\u001b[0;32m--> 233\u001b[0;31m             \u001b[0mim\u001b[0m \u001b[0;34m=\u001b[0m \u001b[0mmap_image_to_intensity_range\u001b[0m\u001b[0;34m(\u001b[0m\u001b[0mim\u001b[0m\u001b[0;34m,\u001b[0m \u001b[0;34m-\u001b[0m\u001b[0;36m1\u001b[0m\u001b[0;34m,\u001b[0m \u001b[0;36m1\u001b[0m\u001b[0;34m,\u001b[0m \u001b[0;36m0.05\u001b[0m\u001b[0;34m)\u001b[0m\u001b[0;34m\u001b[0m\u001b[0m\n\u001b[0m\u001b[1;32m    234\u001b[0m \u001b[0;34m\u001b[0m\u001b[0m\n\u001b[1;32m    235\u001b[0m         \u001b[0mim\u001b[0m \u001b[0;34m=\u001b[0m \u001b[0mnp\u001b[0m\u001b[0;34m.\u001b[0m\u001b[0mreshape\u001b[0m\u001b[0;34m(\u001b[0m\u001b[0mim\u001b[0m\u001b[0;34m,\u001b[0m \u001b[0mtuple\u001b[0m\u001b[0;34m(\u001b[0m\u001b[0mlist\u001b[0m\u001b[0;34m(\u001b[0m\u001b[0mim\u001b[0m\u001b[0;34m.\u001b[0m\u001b[0mshape\u001b[0m\u001b[0;34m)\u001b[0m \u001b[0;34m+\u001b[0m \u001b[0;34m[\u001b[0m\u001b[0;36m1\u001b[0m\u001b[0;34m]\u001b[0m\u001b[0;34m)\u001b[0m\u001b[0;34m)\u001b[0m\u001b[0;34m\u001b[0m\u001b[0m\n",
      "\u001b[0;32m~/entrack/src/baum_vagan/utils.py\u001b[0m in \u001b[0;36mmap_image_to_intensity_range\u001b[0;34m(image, min_o, max_o, percentiles)\u001b[0m\n\u001b[1;32m    120\u001b[0m     \u001b[0mmax_i\u001b[0m \u001b[0;34m=\u001b[0m \u001b[0mnp\u001b[0m\u001b[0;34m.\u001b[0m\u001b[0mpercentile\u001b[0m\u001b[0;34m(\u001b[0m\u001b[0mimage\u001b[0m\u001b[0;34m,\u001b[0m \u001b[0;36m100\u001b[0m \u001b[0;34m-\u001b[0m \u001b[0mpercentiles\u001b[0m\u001b[0;34m)\u001b[0m\u001b[0;34m\u001b[0m\u001b[0m\n\u001b[1;32m    121\u001b[0m \u001b[0;34m\u001b[0m\u001b[0m\n\u001b[0;32m--> 122\u001b[0;31m     \u001b[0mimage\u001b[0m \u001b[0;34m=\u001b[0m \u001b[0;34m(\u001b[0m\u001b[0mnp\u001b[0m\u001b[0;34m.\u001b[0m\u001b[0mdivide\u001b[0m\u001b[0;34m(\u001b[0m\u001b[0;34m(\u001b[0m\u001b[0mimage\u001b[0m \u001b[0;34m-\u001b[0m \u001b[0mmin_i\u001b[0m\u001b[0;34m)\u001b[0m\u001b[0;34m,\u001b[0m \u001b[0mmax_i\u001b[0m \u001b[0;34m-\u001b[0m \u001b[0mmin_i\u001b[0m\u001b[0;34m)\u001b[0m \u001b[0;34m*\u001b[0m \u001b[0;34m(\u001b[0m\u001b[0mmax_o\u001b[0m \u001b[0;34m-\u001b[0m \u001b[0mmin_o\u001b[0m\u001b[0;34m)\u001b[0m \u001b[0;34m+\u001b[0m \u001b[0mmin_o\u001b[0m\u001b[0;34m)\u001b[0m\u001b[0;34m.\u001b[0m\u001b[0mcopy\u001b[0m\u001b[0;34m(\u001b[0m\u001b[0;34m)\u001b[0m\u001b[0;34m\u001b[0m\u001b[0m\n\u001b[0m\u001b[1;32m    123\u001b[0m \u001b[0;34m\u001b[0m\u001b[0m\n\u001b[1;32m    124\u001b[0m     \u001b[0mimage\u001b[0m\u001b[0;34m[\u001b[0m\u001b[0mimage\u001b[0m \u001b[0;34m>\u001b[0m \u001b[0mmax_o\u001b[0m\u001b[0;34m]\u001b[0m \u001b[0;34m=\u001b[0m \u001b[0mmax_o\u001b[0m\u001b[0;34m\u001b[0m\u001b[0m\n",
      "\u001b[0;31mKeyboardInterrupt\u001b[0m: "
     ]
    }
   ],
   "source": [
    "streamers = [\n",
    "    {\n",
    "        \"streamer\": test_stream,\n",
    "        \"name\": \"test\",\n",
    "        \"n_samples\": n_test_samples\n",
    "    },\n",
    "    {\n",
    "        \"streamer\": validation_stream,\n",
    "        \"name\": \"validation\",\n",
    "        \"n_samples\": n_val_samples\n",
    "    },\n",
    "    {\n",
    "        \"streamer\": train_stream,\n",
    "        \"name\": \"train\",\n",
    "        \"n_samples\": n_train_samples\n",
    "    }\n",
    "]\n",
    "\n",
    "for s in streamers:\n",
    "    stream = s[\"streamer\"]\n",
    "    name = s[\"name\"]\n",
    "    n_samples = s [\"n_samples\"]\n",
    "    print(\"Evaluating {}\".format(name))\n",
    "    scores = []\n",
    "    for _ in range(n_samples):\n",
    "        inp = stream(1)\n",
    "        diff_map = vagan.predict_mask(inp)\n",
    "        # wrapped = input_wrapper(inp)\n",
    "        gt = inp[:, :, :, :, gt_channel:gt_channel + 1]\n",
    "        sc = ncc(diff_map, gt)\n",
    "        scores.append(sc)\n",
    "        \n",
    "    print(\"NCC: mean {}, std {}, median {}\"\n",
    "          .format(np.mean(scores), np.std(scores), np.median(scores)))"
   ]
  },
  {
   "cell_type": "code",
   "execution_count": 6,
   "metadata": {},
   "outputs": [
    {
     "data": {
      "text/plain": [
       "28"
      ]
     },
     "execution_count": 6,
     "metadata": {},
     "output_type": "execute_result"
    }
   ],
   "source": [
    "n_test_samples"
   ]
  },
  {
   "cell_type": "code",
   "execution_count": 7,
   "metadata": {},
   "outputs": [
    {
     "data": {
      "text/plain": [
       "29"
      ]
     },
     "execution_count": 7,
     "metadata": {},
     "output_type": "execute_result"
    }
   ],
   "source": [
    "n_val_samples"
   ]
  },
  {
   "cell_type": "code",
   "execution_count": null,
   "metadata": {},
   "outputs": [],
   "source": []
  }
 ],
 "metadata": {
  "kernelspec": {
   "display_name": "Python 3",
   "language": "python",
   "name": "python3"
  },
  "language_info": {
   "codemirror_mode": {
    "name": "ipython",
    "version": 3
   },
   "file_extension": ".py",
   "mimetype": "text/x-python",
   "name": "python",
   "nbconvert_exporter": "python",
   "pygments_lexer": "ipython3",
   "version": "3.6.5"
  }
 },
 "nbformat": 4,
 "nbformat_minor": 2
}
