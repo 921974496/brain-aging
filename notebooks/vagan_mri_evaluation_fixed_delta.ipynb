{
 "cells": [
  {
   "cell_type": "markdown",
   "metadata": {},
   "source": [
    "## Set working directory"
   ]
  },
  {
   "cell_type": "code",
   "execution_count": null,
   "metadata": {},
   "outputs": [],
   "source": [
    "import os\n",
    "os.chdir('/home/mhoerold/entrack')"
   ]
  },
  {
   "cell_type": "markdown",
   "metadata": {},
   "source": [
    "## Imports"
   ]
  },
  {
   "cell_type": "code",
   "execution_count": null,
   "metadata": {},
   "outputs": [],
   "source": [
    "import matplotlib.pyplot as plt\n",
    "import numpy as np\n",
    "import yaml\n",
    "import nibabel as nib\n",
    "import copy\n",
    "\n",
    "from src.baum_vagan.vagan.model_wrapper import VAGanWrapper\n",
    "from src.baum_vagan.utils import ncc\n",
    "from src.data.streaming.vagan_streaming import MRIImagePair, AgeFixedDeltaStream\n",
    "from src.baum_vagan.utils import map_image_to_intensity_range"
   ]
  },
  {
   "cell_type": "markdown",
   "metadata": {},
   "source": [
    "## Load model for evaluation"
   ]
  },
  {
   "cell_type": "code",
   "execution_count": null,
   "metadata": {
    "scrolled": true
   },
   "outputs": [],
   "source": [
    "smt_label = \"20180807-142109-debug\"\n",
    "config_path = os.path.join(\"data\", smt_label, \"config.yaml\")\n",
    "model_dir = os.path.join(\"data\", smt_label, \"logdir\")\n",
    "with open(config_path, 'r') as f:\n",
    "    model_config = yaml.load(f)\n",
    "wrapper = VAGanWrapper(**model_config)\n",
    "wrapper.vagan.load_weights(model_dir)\n",
    "vagan = wrapper.vagan"
   ]
  },
  {
   "cell_type": "code",
   "execution_count": null,
   "metadata": {},
   "outputs": [],
   "source": [
    "## Some streamers\n",
    "train_stream = lambda bs: wrapper.data.trainAD.next_batch(bs)[0]\n",
    "validation_stream = lambda bs: wrapper.data.validationAD.next_batch(bs)[0]\n",
    "test_stream = lambda bs: wrapper.data.testAD.next_batch(bs)[0]\n",
    "\n",
    "n_train_samples = wrapper.data.n_train_samples\n",
    "n_val_samples = wrapper.data.n_val_samples\n",
    "n_test_samples = wrapper.data.n_test_samples\n",
    "\n",
    "# Input wrapper\n",
    "input_wrapper = wrapper.config.input_wrapper\n",
    "gt_channel = 1"
   ]
  },
  {
   "cell_type": "code",
   "execution_count": null,
   "metadata": {},
   "outputs": [],
   "source": []
  },
  {
   "cell_type": "code",
   "execution_count": null,
   "metadata": {},
   "outputs": [],
   "source": [
    "def extract_x_t0_x_t1_delta_x_t0(batch):\n",
    "    x_t0 = batch[:, :, :, :, 0:1]\n",
    "    delta_x_t0 = batch[:, :, :, :, 1:2]\n",
    "    x_t1 = x_t0 + delta_x_t0\n",
    "    return x_t0, x_t1, delta_x_t0"
   ]
  },
  {
   "cell_type": "markdown",
   "metadata": {},
   "source": [
    "## Compute scores (e.g. NCC)"
   ]
  },
  {
   "cell_type": "code",
   "execution_count": null,
   "metadata": {
    "scrolled": true
   },
   "outputs": [],
   "source": [
    "streamers = [\n",
    "    {\n",
    "        \"streamer\": test_stream,\n",
    "        \"name\": \"test\",\n",
    "        \"n_samples\": n_test_samples\n",
    "    },\n",
    "    {\n",
    "        \"streamer\": validation_stream,\n",
    "        \"name\": \"validation\",\n",
    "        \"n_samples\": n_val_samples\n",
    "    },\n",
    "    {\n",
    "        \"streamer\": train_stream,\n",
    "        \"name\": \"train\",\n",
    "        \"n_samples\": n_train_samples\n",
    "    }\n",
    "]\n",
    "\n",
    "for s in streamers:\n",
    "    stream = s[\"streamer\"]\n",
    "    name = s[\"name\"]\n",
    "    n_samples = s [\"n_samples\"]\n",
    "    print(\"Evaluating {}\".format(name))\n",
    "    scores = []\n",
    "    for _ in range(n_samples):\n",
    "        inp = stream(1)\n",
    "        diff_map = vagan.predict_mask(inp)\n",
    "        # wrapped = input_wrapper(inp)\n",
    "        gt = inp[:, :, :, :, gt_channel:gt_channel + 1]\n",
    "        sc = ncc(diff_map, gt)\n",
    "        scores.append(sc)\n",
    "        \n",
    "    print(\"NCC: mean {}, std {}, median {}\"\n",
    "          .format(np.mean(scores), np.std(scores), np.median(scores)))"
   ]
  },
  {
   "cell_type": "markdown",
   "metadata": {},
   "source": [
    "## Analyze slices of generated difference map"
   ]
  },
  {
   "cell_type": "code",
   "execution_count": null,
   "metadata": {
    "scrolled": true
   },
   "outputs": [],
   "source": [
    "def difference_map_comparison(diff_map_1, diff_map_2):\n",
    "    nrows = 1\n",
    "    ncols = 3\n",
    "    \n",
    "    plt.figure(figsize=(20, 10))\n",
    "    # Difference\n",
    "    plt.subplot(nrows, ncols, 1)\n",
    "    im = diff_map_2 - diff_map_1\n",
    "    plt.imshow(im, cmap='bwr')\n",
    "    plt.title(\"map2 - map1\")\n",
    "    plt.axis('off')\n",
    "    \n",
    "    # Absolute difference\n",
    "    plt.subplot(nrows, ncols, 2)\n",
    "    im = np.abs(diff_map_1 - diff_map_2)\n",
    "    plt.imshow(im, cmap='gray')\n",
    "    plt.title(\"Absolute difference\")\n",
    "    plt.axis('off')\n",
    "    \n",
    "    # Element-wise product\n",
    "    plt.subplot(nrows, ncols, 3)\n",
    "    im = diff_map_1 * diff_map_2\n",
    "    plt.imshow(im, cmap='bwr', vmin=-1, vmax=1)\n",
    "    ncc_sc = round(ncc(diff_map_1, diff_map_2)[0], 4)\n",
    "    plt.title(\"Element-wise product, ncc={}\".format(str(ncc_sc)))\n",
    "    plt.axis('off')\n",
    "    \n",
    "def plot_patient_slice(x_t0, x_t1, delta_x_t0, delta_gen, axis, slice_idx):\n",
    "    x_t1_gen = x_t0 + delta_gen\n",
    "    \n",
    "    x_t0 = np.squeeze(np.take(x_t0, slice_idx, axis=axis))\n",
    "    x_t1 = np.squeeze(np.take(x_t1, slice_idx, axis=axis))\n",
    "    delta_x_t0 = np.squeeze(np.take(delta_x_t0, slice_idx, axis=axis))\n",
    "    delta_gen = np.squeeze(np.take(delta_gen, slice_idx, axis=axis))\n",
    "    x_t1_gen = np.squeeze(np.take(x_t1_gen, slice_idx, axis=axis))\n",
    "    \n",
    "    figsize = (20, 20)\n",
    "    fs = 20\n",
    "    fig = plt.figure(figsize=figsize, edgecolor='black', linewidth=0.1)\n",
    "    plt.subplots_adjust(hspace=0.2, bottom=0.1)\n",
    "    \n",
    "    ax1 = fig.add_subplot(231)\n",
    "    ax1.set_title(\"x_t0\", size=fs)\n",
    "    ax1.imshow(x_t0, cmap='gray')\n",
    "    \n",
    "    ax2 = fig.add_subplot(232)\n",
    "    ax2.set_title(\"delta_x_t0\", size=fs)\n",
    "    ax2.imshow(delta_x_t0, cmap='bwr', vmin=-1, vmax=1)\n",
    "    \n",
    "    ax3 = fig.add_subplot(233)\n",
    "    ax3.set_title(\"x_t1\", size=fs)\n",
    "    ax3.imshow(x_t1, cmap='gray')\n",
    "    \n",
    "    ax4 = fig.add_subplot(235)\n",
    "    ax4.set_title(\"generated delta_x_t0\", size=fs)\n",
    "    ax4.imshow(delta_gen, cmap='bwr', vmin=-1, vmax=1)\n",
    "    \n",
    "    ax5 = fig.add_subplot(236)\n",
    "    ax5.set_title(\"generated x_t1\", size=fs)\n",
    "    ax5.imshow(x_t1_gen, cmap='gray')\n",
    "    \n",
    "    for ax in [ax1, ax2, ax3, ax4, ax5]:\n",
    "        ax.axis('off')\n",
    "        \n",
    "    fig.tight_layout()\n",
    "    \n",
    "    difference_map_comparison(delta_gen, delta_x_t0)\n",
    "    \n",
    "n_samples = 20\n",
    "for _ in range(n_samples):\n",
    "    inp = test_stream(1)\n",
    "    x_t0, x_t1, delta_x_t0 = extract_x_t0_x_t1_delta_x_t0(inp)\n",
    "    delta_gen = vagan.predict_mask(inp)\n",
    "    x_t1_gen = x_t0 + delta_gen\n",
    "    \n",
    "    plot_patient_slice(x_t0, x_t1, delta_x_t0, delta_gen, 1, 35)\n",
    "    plot_patient_slice(x_t0, x_t1, delta_x_t0, delta_gen, 2, 59)\n",
    "    plot_patient_slice(x_t0, x_t1, delta_x_t0, delta_gen, 3, 40)"
   ]
  },
  {
   "cell_type": "markdown",
   "metadata": {},
   "source": [
    "## Iterative predictions"
   ]
  },
  {
   "cell_type": "code",
   "execution_count": null,
   "metadata": {
    "scrolled": true
   },
   "outputs": [],
   "source": [
    "deltas = list(range(2, 11))\n",
    "tol = 0.2\n",
    "config = copy.deepcopy(wrapper.data.config)\n",
    "delta_to_streamer = {}\n",
    "for delta in deltas:\n",
    "    config[\"delta_min\"] = delta - tol\n",
    "    config[\"delta_max\"] = delta + tol\n",
    "    config[\"normalize_images\"] = False\n",
    "    config[\"silent\"] = True\n",
    "    try:\n",
    "        streamer = AgeFixedDeltaStream(config)\n",
    "        streamer.all_pairs = streamer.train_pairs + streamer.test_pairs + streamer.val_pairs\n",
    "        np.random.shuffle(streamer.all_pairs)\n",
    "        delta_to_streamer[delta] = streamer\n",
    "    except:\n",
    "        print(\"No streamer for delta = {}\".format(delta))"
   ]
  },
  {
   "cell_type": "code",
   "execution_count": null,
   "metadata": {
    "scrolled": true
   },
   "outputs": [],
   "source": [
    "def iterate_model(model, img, n_steps):\n",
    "    images = []\n",
    "    masks = []\n",
    "    # placeholder needs a second channel not used by generator\n",
    "    img = np.concatenate((img, img), axis=-1)\n",
    "    img = np.array([img])  # make a batch of size 1\n",
    "    for _ in range(n_steps):\n",
    "        M = model.predict_mask(img)\n",
    "        masks.append(np.squeeze(M))\n",
    "        img += M\n",
    "        images.append(np.squeeze(img[:, :, :, :, 0]))\n",
    "        # placeholder needs a second channel not used by generator\n",
    "        # img = np.concatenate((img, img), axis=-1)\n",
    "        \n",
    "    return images, masks\n",
    "\n",
    "def plot_iterative_predictions(pair, delta):\n",
    "    # Use normalization of trained model\n",
    "    # print(pair.get_age_delta())\n",
    "    # print(pair.streamer.get_image_label(pair.fid1))\n",
    "    pair = MRIImagePair(\n",
    "        streamer=wrapper.data,\n",
    "        fid1=pair.fid1,\n",
    "        fid2=pair.fid2\n",
    "    )\n",
    "    t0 = round(wrapper.data.get_exact_age(pair.fid1), 2)\n",
    "    tn = round(wrapper.data.get_exact_age(pair.fid2), 2)\n",
    "\n",
    "    x_t0 = pair.load_image(pair.fid1)\n",
    "    x_tn = pair.load_image(pair.fid2)\n",
    "    images, masks = iterate_model(wrapper.vagan, x_t0, delta)\n",
    "\n",
    "    def get_slice(img):\n",
    "        img = np.squeeze(img)\n",
    "        return img[35, :, :]\n",
    "\n",
    "    # plot predictions\n",
    "    nrows = 2\n",
    "    ncols = delta + 1\n",
    "    fsize = 4\n",
    "    plt.figure(figsize=(ncols * fsize, nrows * fsize))\n",
    "    # plot images\n",
    "    plt.subplot(nrows, ncols, 1)\n",
    "    plt.imshow(get_slice(x_t0), cmap='gray')\n",
    "    plt.title(\"x_t0, age={}\".format(str(t0)))\n",
    "    plt.axis('off')\n",
    "\n",
    "    for i, img in enumerate(images):\n",
    "        plt.subplot(nrows, ncols, i + 2)\n",
    "        plt.imshow(get_slice(img), cmap='gray')\n",
    "        plt.title('Generated x_t{}'.format(i + 1))\n",
    "        plt.axis('off')\n",
    "\n",
    "    # plot masks\n",
    "    # concatenate differnce maps to plot with same scale\n",
    "    plt.subplot(nrows, ncols, (ncols + 1, ncols + len(masks)))\n",
    "    mask_slices = [get_slice(m) for m in masks]\n",
    "    mask_slices_im = np.hstack(tuple(mask_slices))\n",
    "    plt.imshow(mask_slices_im, cmap='bwr', vmin=-1, vmax=1)\n",
    "    plt.title(\"Generated difference maps\")\n",
    "    plt.axis('off')\n",
    "    \"\"\"\n",
    "    for i, mask in enumerate(masks):\n",
    "        plt.subplot(nrows, ncols, ncols + 1 + i)\n",
    "        plt.imshow(get_slice(mask), cmap='bwr')\n",
    "        plt.title('Generated diff map at t{}'.format(i))\n",
    "        plt.axis('off')\n",
    "    \"\"\"\n",
    "\n",
    "    # plot gt\n",
    "    plt.subplot(nrows, ncols, nrows * ncols)\n",
    "    plt.imshow(get_slice(x_tn), cmap='gray')\n",
    "    plt.title('x_t{}, age={}'.format(delta, str(tn)))\n",
    "    plt.axis('off')\n",
    "    \n",
    "for delta in range(2, 6): \n",
    "    pairs = delta_to_streamer[delta].all_pairs[:5]\n",
    "    plot_iterative_predictions(pairs[1], delta)\n",
    "    plot_iterative_predictions(pairs[0], delta)"
   ]
  },
  {
   "cell_type": "markdown",
   "metadata": {},
   "source": [
    "## Very far predictions"
   ]
  },
  {
   "cell_type": "code",
   "execution_count": null,
   "metadata": {},
   "outputs": [],
   "source": [
    "def plot_far_prediction(pair, deltas=[10, 20, 30]):\n",
    "    # Use normalization of trained model\n",
    "    # print(pair.get_age_delta())\n",
    "    # print(pair.streamer.get_image_label(pair.fid1))\n",
    "    pair = MRIImagePair(\n",
    "        streamer=wrapper.data,\n",
    "        fid1=pair.fid1,\n",
    "        fid2=pair.fid2\n",
    "    )\n",
    "    x_t0 = pair.load_image(pair.fid1)\n",
    "\n",
    "    t0 = round(wrapper.data.get_exact_age(pair.fid1), 2)\n",
    "    \n",
    "    cur_inp = x_t0\n",
    "    preds = []\n",
    "    for i, delta in enumerate(deltas):\n",
    "        steps = delta\n",
    "        if i > 0:\n",
    "            steps = deltas[i] - deltas[i - 1]\n",
    "        images, _ = iterate_model(wrapper.vagan, cur_inp, steps)\n",
    "        cur_inp = images[len(images) - 1][:, :, :]\n",
    "        cur_inp = np.reshape(cur_inp, tuple(list(cur_inp.shape) + [1]))\n",
    "        preds.append(np.copy(cur_inp))\n",
    "    \n",
    "    def get_slice(img):\n",
    "        img = np.squeeze(img)\n",
    "        return img[35, :, :]\n",
    "    \n",
    "    plt.figure(figsize=(10, 10))\n",
    "    plt.subplot(1, len(deltas) + 1, 1)\n",
    "    plt.imshow(get_slice(x_t0), cmap='gray')\n",
    "    plt.title(\"x_t0, age={}\".format(str(t0)))\n",
    "    \n",
    "    for i, delta in enumerate(deltas):\n",
    "        plt.subplot(1, len(deltas) + 1, i + 2)\n",
    "        plt.imshow(get_slice(preds[i]), cmap='gray')\n",
    "        plt.title(\"x_t{}\".format(delta))"
   ]
  },
  {
   "cell_type": "code",
   "execution_count": null,
   "metadata": {},
   "outputs": [],
   "source": [
    "pairs = delta_to_streamer[2].all_pairs[:10]\n",
    "for i in range(7, 10):\n",
    "    plot_far_prediction(pairs[i], deltas=[10, 20, 30])"
   ]
  },
  {
   "cell_type": "code",
   "execution_count": null,
   "metadata": {},
   "outputs": [],
   "source": [
    "pairs = delta_to_streamer[2].all_pairs[:10]\n",
    "for i in range(7, 10):\n",
    "    plot_far_prediction(pairs[i], deltas=[3, 6, 9])"
   ]
  },
  {
   "cell_type": "code",
   "execution_count": null,
   "metadata": {},
   "outputs": [],
   "source": []
  }
 ],
 "metadata": {
  "kernelspec": {
   "display_name": "Python 3",
   "language": "python",
   "name": "python3"
  },
  "language_info": {
   "codemirror_mode": {
    "name": "ipython",
    "version": 3
   },
   "file_extension": ".py",
   "mimetype": "text/x-python",
   "name": "python",
   "nbconvert_exporter": "python",
   "pygments_lexer": "ipython3",
   "version": "3.6.5"
  }
 },
 "nbformat": 4,
 "nbformat_minor": 2
}
