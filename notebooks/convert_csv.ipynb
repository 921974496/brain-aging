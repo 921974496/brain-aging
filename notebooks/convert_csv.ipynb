{
 "cells": [
  {
   "cell_type": "code",
   "execution_count": 1,
   "metadata": {},
   "outputs": [],
   "source": [
    "import os\n",
    "import sys\n",
    "os.chdir('/local/home/dhaziza/entrack')\n",
    "os.environ[\"CUDA_DEVICE_ORDER\"]=\"PCI_BUS_ID\"   # see issue #152\n",
    "os.environ[\"CUDA_VISIBLE_DEVICES\"]=\"4\"\n",
    "sys.path.append('/local/home/dhaziza/entrack/')\n",
    "\n",
    "import src.features as ft_def\n",
    "import csv\n",
    "import re\n",
    "\n",
    "def intvals(s):\n",
    "    vals = re.findall(r'\\d+', s)\n",
    "    return [int(i) for i in vals]\n",
    "\n",
    "def intval(s):\n",
    "    vals = intvals(s)\n",
    "    return vals[0]\n",
    "\n",
    "def boolval(cond):\n",
    "    return 1 if cond else 0\n",
    "\n",
    "def print_stats(dataset, name, field, cond):\n",
    "    num = 0.0\n",
    "    total_value = 0.0\n",
    "    for row in dataset:\n",
    "        if cond(row):\n",
    "            num += 1\n",
    "            total_value += row[field]\n",
    "\n",
    "    if num == 0:\n",
    "        print '!! NO DATA FOR %s' % name\n",
    "        return\n",
    "    value_mean = total_value/num\n",
    "\n",
    "    value_std = 0.0\n",
    "    for row in dataset:\n",
    "        if cond(row):\n",
    "            value_std += (row[field] - value_mean)*(row[field] - value_mean)\n",
    "    value_std /= num\n",
    "    print '%s Mean %s %f, variance %f [%d entries]' % (name, field, value_mean, value_std, num)"
   ]
  },
  {
   "cell_type": "code",
   "execution_count": 2,
   "metadata": {},
   "outputs": [
    {
     "name": "stdout",
     "output_type": "stream",
     "text": [
      "KOLN Mean age 63.546875, variance 83.904053 [128 entries]\n"
     ]
    }
   ],
   "source": [
    "# Koln data\n",
    "csv_orig = 'data/raw/csv/orig/koln.csv'\n",
    "csv_output = 'data/raw/csv/koln.csv'\n",
    "\n",
    "data = []\n",
    "with open(csv_orig) as csvfile:\n",
    "    reader = csv.DictReader(csvfile)\n",
    "    for row in reader:\n",
    "        data.append({\n",
    "            ft_def.AGE: int(row['Alter']),\n",
    "            ft_def.HEALTH_AD: 0,\n",
    "            ft_def.HEALTH_EMCI: 0,\n",
    "            ft_def.HEALTH_LMCI: 0,\n",
    "            ft_def.HEALTH_MCI: 0,\n",
    "            ft_def.HEALTH_PD: 1,\n",
    "            ft_def.HEALTH_SMC: 0,\n",
    "            ft_def.HEALTHY: 0,\n",
    "            ft_def.SEX: int(row['Geschlecht (male =1; female =2)'])-1,\n",
    "            ft_def.STUDY_PATIENT_ID: intval(row['ID'])\n",
    "        })\n",
    "\n",
    "with open(csv_output, \"wb+\") as csvfile:\n",
    "    writer = csv.DictWriter(csvfile, data[0].keys(), dialect='excel')\n",
    "    writer.writeheader()\n",
    "    for row in data:\n",
    "        writer.writerow(row)\n",
    "\n",
    "print_stats(data, 'KOLN', 'age', lambda r: True)"
   ]
  },
  {
   "cell_type": "code",
   "execution_count": 3,
   "metadata": {},
   "outputs": [
    {
     "name": "stdout",
     "output_type": "stream",
     "text": [
      "ADNI_AIBL Mean age 76.648725, variance 47.048237 [8862 entries]\n",
      "ADNI_AIBL/health_ad Mean age 75.707483, variance 57.387601 [1323 entries]\n",
      "!! NO DATA FOR ADNI_AIBL/health_emci\n",
      "ADNI_AIBL/health_lmci Mean age 76.335133, variance 51.774314 [2408 entries]\n",
      "ADNI_AIBL/health_mci Mean age 75.960647, variance 56.531027 [2287 entries]\n",
      "!! NO DATA FOR ADNI_AIBL/health_smc\n",
      "ADNI_AIBL/healthy Mean age 77.905415, variance 28.155962 [2844 entries]\n"
     ]
    }
   ],
   "source": [
    "# ADNI AIBL\n",
    "csv_orig = 'data/raw/csv/orig/adni_aibl.csv'\n",
    "csv_output = 'data/raw/csv/adni_aibl.csv'\n",
    "\n",
    "data = []\n",
    "ADNI_AIBL_GROUPS = ['Normal', 'AD', 'EMCI', 'LMCI', 'MCI', 'SMC']\n",
    "with open(csv_orig) as csvfile:\n",
    "    reader = csv.DictReader(csvfile)\n",
    "    for row in reader:\n",
    "        if row['Imaging Protocol'] != 'Field Strength=1.5':\n",
    "            continue\n",
    "        # Reconstruct a single int subject id from something like '002_S_0295'\n",
    "        subject_id = intvals(row['Subject ID'])\n",
    "        subject_id = subject_id[0]*10000 + subject_id[1]\n",
    "        group = row['DX Group']\n",
    "        assert(group in ADNI_AIBL_GROUPS)\n",
    "        data.append({\n",
    "            ft_def.AGE: intval(row['Age']),\n",
    "            ft_def.HEALTH_AD: boolval(group == 'AD'),\n",
    "            ft_def.HEALTH_EMCI: boolval(group == 'EMCI'),\n",
    "            ft_def.HEALTH_LMCI: boolval(group == 'LMCI'),\n",
    "            ft_def.HEALTH_MCI: boolval(group == 'MCI'),\n",
    "            ft_def.HEALTH_PD: 0,\n",
    "            ft_def.HEALTH_SMC: boolval(group == 'SMC'),\n",
    "            ft_def.HEALTHY: boolval(group == 'Normal'),\n",
    "            ft_def.SEX: 0 if row['Sex'] == 'M' else 1,\n",
    "            ft_def.STUDY_IMAGE_ID: int(row['Image ID']),\n",
    "            ft_def.STUDY_PATIENT_ID: subject_id,\n",
    "        })\n",
    "\n",
    "\n",
    "with open(csv_output, \"wb+\") as csvfile:\n",
    "    writer = csv.DictWriter(csvfile, data[0].keys(), dialect='excel')\n",
    "    writer.writeheader()\n",
    "    for row in data:\n",
    "        writer.writerow(row)\n",
    "\n",
    "print_stats(data, 'ADNI_AIBL', 'age', lambda x: True)\n",
    "for ft in [ft_def.HEALTH_AD, ft_def.HEALTH_EMCI, ft_def.HEALTH_LMCI, ft_def.HEALTH_MCI, ft_def.HEALTH_SMC, ft_def.HEALTHY]:\n",
    "    print_stats(data, 'ADNI_AIBL/%s' % ft, 'age', lambda row: row[ft] == 1)"
   ]
  }
 ],
 "metadata": {
  "kernelspec": {
   "display_name": "Python 2",
   "language": "python",
   "name": "python2"
  },
  "language_info": {
   "codemirror_mode": {
    "name": "ipython",
    "version": 2
   },
   "file_extension": ".py",
   "mimetype": "text/x-python",
   "name": "python",
   "nbconvert_exporter": "python",
   "pygments_lexer": "ipython2",
   "version": "2.7.12"
  }
 },
 "nbformat": 4,
 "nbformat_minor": 2
}
