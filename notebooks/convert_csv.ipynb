{
 "cells": [
  {
   "cell_type": "code",
   "execution_count": null,
   "metadata": {},
   "outputs": [],
   "source": [
    "import os\n",
    "import sys\n",
    "os.chdir('/local/home/dhaziza/entrack')\n",
    "os.environ[\"CUDA_DEVICE_ORDER\"]=\"PCI_BUS_ID\"   # see issue #152\n",
    "os.environ[\"CUDA_VISIBLE_DEVICES\"]=\"4\"\n",
    "sys.path.append('/local/home/dhaziza/entrack/')\n",
    "\n",
    "import src.features as ft_def\n",
    "import csv\n",
    "import re\n",
    "\n",
    "def intvals(s):\n",
    "    vals = re.findall(r'\\d+', s)\n",
    "    return [int(i) for i in vals]\n",
    "\n",
    "def intval(s):\n",
    "    vals = intvals(s)\n",
    "    return vals[0]"
   ]
  },
  {
   "cell_type": "code",
   "execution_count": null,
   "metadata": {},
   "outputs": [],
   "source": [
    "# Koln data\n",
    "csv_orig = 'data/raw/csv/orig/koln.csv'\n",
    "csv_output = 'data/raw/csv/koln.csv'\n",
    "\n",
    "data = []\n",
    "with open(csv_orig) as csvfile:\n",
    "    reader = csv.DictReader(csvfile)\n",
    "    for row in reader:\n",
    "        data.append({\n",
    "            ft_def.AGE: int(row['Alter']),\n",
    "            ft_def.SEX: int(row['Geschlecht (male =1; female =2)'])-1,\n",
    "            ft_def.STUDY_PATIENT_ID: intval(row['ID'])\n",
    "        })\n",
    "\n",
    "with open(csv_output, \"wb+\") as csvfile:\n",
    "    writer = csv.DictWriter(csvfile, data[0].keys(), dialect='excel')\n",
    "    writer.writeheader()\n",
    "    for row in data:\n",
    "        writer.writerow(row)"
   ]
  },
  {
   "cell_type": "code",
   "execution_count": null,
   "metadata": {},
   "outputs": [],
   "source": [
    "# ADNI AIBL\n",
    "csv_orig = 'data/raw/csv/orig/adni_aibl.csv'\n",
    "csv_output = 'data/raw/csv/adni_aibl.csv'\n",
    "\n",
    "data = []\n",
    "with open(csv_orig) as csvfile:\n",
    "    reader = csv.DictReader(csvfile)\n",
    "    for row in reader:\n",
    "        if row['Imaging Protocol'] != 'Field Strength=1.5':\n",
    "            continue\n",
    "        # Reconstruct a single int subject id from something like '002_S_0295'\n",
    "        subject_id = intvals(row['Subject ID'])\n",
    "        subject_id = subject_id[0]*10000 + subject_id[1]\n",
    "        data.append({\n",
    "            ft_def.AGE: intval(row['Age']),\n",
    "            ft_def.SEX: 0 if row['Sex'] == 'M' else 1,\n",
    "            ft_def.STUDY_IMAGE_ID: int(row['Image ID']),\n",
    "            ft_def.STUDY_PATIENT_ID: subject_id,\n",
    "        })\n",
    "\n",
    "num = 0.0\n",
    "total_age = 0.0\n",
    "with open(csv_output, \"wb+\") as csvfile:\n",
    "    writer = csv.DictWriter(csvfile, data[0].keys(), dialect='excel')\n",
    "    writer.writeheader()\n",
    "    for row in data:\n",
    "        writer.writerow(row)\n",
    "        num += 1\n",
    "        total_age += row['age']\n",
    "print 'Avg age: %f' % (total_age/num)"
   ]
  },
  {
   "cell_type": "code",
   "execution_count": null,
   "metadata": {},
   "outputs": [],
   "source": [
    "row"
   ]
  },
  {
   "cell_type": "code",
   "execution_count": null,
   "metadata": {},
   "outputs": [],
   "source": []
  }
 ],
 "metadata": {
  "kernelspec": {
   "display_name": "Python 2",
   "language": "python",
   "name": "python2"
  },
  "language_info": {
   "codemirror_mode": {
    "name": "ipython",
    "version": 2
   },
   "file_extension": ".py",
   "mimetype": "text/x-python",
   "name": "python",
   "nbconvert_exporter": "python",
   "pygments_lexer": "ipython2",
   "version": "2.7.12"
  }
 },
 "nbformat": 4,
 "nbformat_minor": 2
}
