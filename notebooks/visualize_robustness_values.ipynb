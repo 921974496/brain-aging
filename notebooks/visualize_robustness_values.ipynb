{
 "cells": [
  {
   "cell_type": "code",
   "execution_count": 1,
   "metadata": {},
   "outputs": [],
   "source": [
    "# Make module from local packages importable\n",
    "import os\n",
    "import sys\n",
    "nb_dir = os.path.split(os.getcwd())[0]\n",
    "if nb_dir not in sys.path:\n",
    "    sys.path.append(nb_dir)"
   ]
  },
  {
   "cell_type": "markdown",
   "metadata": {},
   "source": [
    "#### We assume that the robustness measures are stored in a dictionary D. Feature names are the keys of D and map to a dictionary mapping robustness names to their computed values."
   ]
  },
  {
   "cell_type": "code",
   "execution_count": 4,
   "metadata": {},
   "outputs": [],
   "source": [
    "import json\n",
    "json_path = \"../data/20180531-075608-debug/robustness_measures/computations.json\"\n",
    "with open(json_path) as f:\n",
    "    feature_dic = json.load(f)"
   ]
  },
  {
   "cell_type": "code",
   "execution_count": 5,
   "metadata": {},
   "outputs": [
    {
     "name": "stdout",
     "output_type": "stream",
     "text": [
      "Number of features 92\n"
     ]
    }
   ],
   "source": [
    "print(\"Number of features {}\".format(len(feature_dic)))"
   ]
  },
  {
   "cell_type": "code",
   "execution_count": 8,
   "metadata": {
    "scrolled": true
   },
   "outputs": [
    {
     "data": {
      "text/plain": [
       "['brain_firstorder_10Percentile',\n",
       " 'brain_firstorder_90Percentile',\n",
       " 'brain_firstorder_Energy',\n",
       " 'brain_firstorder_Entropy',\n",
       " 'brain_firstorder_InterquartileRange',\n",
       " 'brain_firstorder_Kurtosis',\n",
       " 'brain_firstorder_Maximum',\n",
       " 'brain_firstorder_MeanAbsoluteDeviation',\n",
       " 'brain_firstorder_Mean',\n",
       " 'brain_firstorder_Median',\n",
       " 'brain_firstorder_Minimum',\n",
       " 'brain_firstorder_Range',\n",
       " 'brain_firstorder_RobustMeanAbsoluteDeviation',\n",
       " 'brain_firstorder_RootMeanSquared',\n",
       " 'brain_firstorder_Skewness',\n",
       " 'brain_firstorder_TotalEnergy',\n",
       " 'brain_firstorder_Uniformity',\n",
       " 'brain_firstorder_Variance',\n",
       " 'brain_glcm_Autocorrelation',\n",
       " 'brain_glcm_ClusterProminence',\n",
       " 'brain_glcm_ClusterShade',\n",
       " 'brain_glcm_ClusterTendency',\n",
       " 'brain_glcm_Contrast',\n",
       " 'brain_glcm_Correlation',\n",
       " 'brain_glcm_DifferenceAverage',\n",
       " 'brain_glcm_DifferenceEntropy',\n",
       " 'brain_glcm_DifferenceVariance',\n",
       " 'brain_glcm_Id',\n",
       " 'brain_glcm_Idm',\n",
       " 'brain_glcm_Idmn',\n",
       " 'brain_glcm_Idn',\n",
       " 'brain_glcm_Imc1',\n",
       " 'brain_glcm_Imc2',\n",
       " 'brain_glcm_InverseVariance',\n",
       " 'brain_glcm_JointAverage',\n",
       " 'brain_glcm_JointEnergy',\n",
       " 'brain_glcm_JointEntropy',\n",
       " 'brain_glcm_MaximumProbability',\n",
       " 'brain_glcm_SumAverage',\n",
       " 'brain_glcm_SumEntropy',\n",
       " 'brain_glcm_SumSquares',\n",
       " 'brain_gldm_DependenceEntropy',\n",
       " 'brain_gldm_DependenceNonUniformity',\n",
       " 'brain_gldm_DependenceNonUniformityNormalized',\n",
       " 'brain_gldm_DependenceVariance',\n",
       " 'brain_gldm_GrayLevelNonUniformity',\n",
       " 'brain_gldm_GrayLevelVariance',\n",
       " 'brain_gldm_HighGrayLevelEmphasis',\n",
       " 'brain_gldm_LargeDependenceEmphasis',\n",
       " 'brain_gldm_LargeDependenceHighGrayLevelEmphasis',\n",
       " 'brain_gldm_LargeDependenceLowGrayLevelEmphasis',\n",
       " 'brain_gldm_LowGrayLevelEmphasis',\n",
       " 'brain_gldm_SmallDependenceEmphasis',\n",
       " 'brain_gldm_SmallDependenceHighGrayLevelEmphasis',\n",
       " 'brain_gldm_SmallDependenceLowGrayLevelEmphasis',\n",
       " 'brain_glrlm_GrayLevelNonUniformity',\n",
       " 'brain_glrlm_GrayLevelNonUniformityNormalized',\n",
       " 'brain_glrlm_GrayLevelVariance',\n",
       " 'brain_glrlm_HighGrayLevelRunEmphasis',\n",
       " 'brain_glrlm_LongRunEmphasis',\n",
       " 'brain_glrlm_LongRunHighGrayLevelEmphasis',\n",
       " 'brain_glrlm_LongRunLowGrayLevelEmphasis',\n",
       " 'brain_glrlm_LowGrayLevelRunEmphasis',\n",
       " 'brain_glrlm_RunEntropy',\n",
       " 'brain_glrlm_RunLengthNonUniformity',\n",
       " 'brain_glrlm_RunLengthNonUniformityNormalized',\n",
       " 'brain_glrlm_RunPercentage',\n",
       " 'brain_glrlm_RunVariance',\n",
       " 'brain_glrlm_ShortRunEmphasis',\n",
       " 'brain_glrlm_ShortRunHighGrayLevelEmphasis',\n",
       " 'brain_glrlm_ShortRunLowGrayLevelEmphasis',\n",
       " 'brain_glszm_GrayLevelNonUniformity',\n",
       " 'brain_glszm_GrayLevelNonUniformityNormalized',\n",
       " 'brain_glszm_GrayLevelVariance',\n",
       " 'brain_glszm_HighGrayLevelZoneEmphasis',\n",
       " 'brain_glszm_LargeAreaEmphasis',\n",
       " 'brain_glszm_LargeAreaHighGrayLevelEmphasis',\n",
       " 'brain_glszm_LargeAreaLowGrayLevelEmphasis',\n",
       " 'brain_glszm_LowGrayLevelZoneEmphasis',\n",
       " 'brain_glszm_SizeZoneNonUniformity',\n",
       " 'brain_glszm_SizeZoneNonUniformityNormalized',\n",
       " 'brain_glszm_SmallAreaEmphasis',\n",
       " 'brain_glszm_SmallAreaHighGrayLevelEmphasis',\n",
       " 'brain_glszm_SmallAreaLowGrayLevelEmphasis',\n",
       " 'brain_glszm_ZoneEntropy',\n",
       " 'brain_glszm_ZonePercentage',\n",
       " 'brain_glszm_ZoneVariance',\n",
       " 'brain_ngtdm_Busyness',\n",
       " 'brain_ngtdm_Coarseness',\n",
       " 'brain_ngtdm_Complexity',\n",
       " 'brain_ngtdm_Contrast',\n",
       " 'brain_ngtdm_Strength']"
      ]
     },
     "execution_count": 8,
     "metadata": {},
     "output_type": "execute_result"
    }
   ],
   "source": [
    "feature_names = list(feature_dic.keys())\n",
    "feature_names"
   ]
  },
  {
   "cell_type": "code",
   "execution_count": 12,
   "metadata": {},
   "outputs": [
    {
     "name": "stdout",
     "output_type": "stream",
     "text": [
      "Number of samples 113\n"
     ]
    }
   ],
   "source": [
    "some_feature = feature_names[0]\n",
    "print(\"Number of samples {}\".format(feature_dic[some_feature][\"n_samples\"]))"
   ]
  },
  {
   "cell_type": "code",
   "execution_count": 18,
   "metadata": {},
   "outputs": [
    {
     "data": {
      "text/plain": [
       "['ICC_C1', 'ICC_A1', 'pearsonr', 'linccc']"
      ]
     },
     "execution_count": 18,
     "metadata": {},
     "output_type": "execute_result"
    }
   ],
   "source": [
    "robustness_names = list(feature_dic[some_feature].keys())\n",
    "robustness_names.remove('n_samples')\n",
    "robustness_names"
   ]
  },
  {
   "cell_type": "markdown",
   "metadata": {},
   "source": [
    "## Sort by robustness value"
   ]
  },
  {
   "cell_type": "code",
   "execution_count": 35,
   "metadata": {},
   "outputs": [],
   "source": [
    "def sort_by_value(f_dic, robustness_name):\n",
    "    # Collect values\n",
    "    pairs = []\n",
    "    for f_name in f_dic:\n",
    "        pairs.append((f_name, f_dic[f_name][robustness_name]))\n",
    "\n",
    "    # Sort by second value (robustness)\n",
    "    pairs = sorted(pairs, key=lambda x: -x[1])\n",
    "    return pairs"
   ]
  },
  {
   "cell_type": "code",
   "execution_count": 36,
   "metadata": {},
   "outputs": [
    {
     "name": "stdout",
     "output_type": "stream",
     "text": [
      "--- ICC_C1 ---\n",
      "('brain_glcm_Idmn', 0.7091813542299263)\n",
      "('brain_glcm_Correlation', 0.6336038176639441)\n",
      "('brain_firstorder_Skewness', 0.6008108603262344)\n",
      "('brain_glszm_SmallAreaEmphasis', 0.600406527085757)\n",
      "('brain_glszm_SizeZoneNonUniformityNormalized', 0.5966969625217929)\n",
      "('brain_glcm_Contrast', 0.5947299753100489)\n",
      "('brain_glcm_DifferenceVariance', 0.594512775959436)\n",
      "('brain_glcm_InverseVariance', 0.592113215759138)\n",
      "('brain_glcm_ClusterProminence', 0.5863827373541627)\n",
      "('brain_glrlm_RunEntropy', 0.5827958979912645)\n",
      "('brain_glszm_SizeZoneNonUniformity', 0.5794225702889128)\n",
      "('brain_ngtdm_Contrast', 0.578937017030559)\n",
      "('brain_glcm_Idn', 0.5788307068916744)\n",
      "('brain_glcm_DifferenceAverage', 0.5787159711936403)\n",
      "('brain_glcm_ClusterShade', 0.5769403158719959)\n",
      "--- ICC_A1 ---\n",
      "('brain_glcm_Idmn', 0.7098421252647636)\n",
      "('brain_glcm_Correlation', 0.6183096779316335)\n",
      "('brain_firstorder_Skewness', 0.589079908389471)\n",
      "('brain_glszm_SmallAreaEmphasis', 0.5888330010581414)\n",
      "('brain_glcm_InverseVariance', 0.5886293045881031)\n",
      "('brain_glszm_SizeZoneNonUniformityNormalized', 0.58501265109092)\n",
      "('brain_glcm_Contrast', 0.5821486061378709)\n",
      "('brain_glcm_DifferenceVariance', 0.5819750130046085)\n",
      "('brain_glcm_Idn', 0.5802673210035234)\n",
      "('brain_glcm_ClusterProminence', 0.573711762837179)\n",
      "('brain_glrlm_RunEntropy', 0.5713292924951904)\n",
      "('brain_glszm_SizeZoneNonUniformity', 0.5675309803905735)\n",
      "('brain_ngtdm_Contrast', 0.5668990897846451)\n",
      "('brain_glcm_DifferenceAverage', 0.5666138592242618)\n",
      "('brain_glcm_ClusterShade', 0.5643063575825377)\n",
      "--- pearsonr ---\n",
      "('brain_glcm_Idmn', 0.7099120103552287)\n",
      "('brain_glcm_Correlation', 0.6367075401785681)\n",
      "('brain_firstorder_Skewness', 0.6008171478705109)\n",
      "('brain_glszm_SmallAreaEmphasis', 0.600641131762789)\n",
      "('brain_glszm_SizeZoneNonUniformityNormalized', 0.5969129915134957)\n",
      "('brain_glcm_Contrast', 0.5947688888931477)\n",
      "('brain_glcm_DifferenceVariance', 0.5945526736311373)\n",
      "('brain_glcm_InverseVariance', 0.5921132361615861)\n",
      "('brain_glcm_ClusterProminence', 0.5863853722684372)\n",
      "('brain_glrlm_RunEntropy', 0.5830480298399061)\n",
      "('brain_glszm_SizeZoneNonUniformity', 0.5796114774581496)\n",
      "('brain_ngtdm_Contrast', 0.5790815218249259)\n",
      "('brain_glcm_Idn', 0.5789033484726945)\n",
      "('brain_glcm_DifferenceAverage', 0.5788669908032208)\n",
      "('brain_glcm_ClusterShade', 0.5769445271505427)\n",
      "--- linccc ---\n",
      "('brain_glcm_Idmn', 0.7080078925379988)\n",
      "('brain_glcm_Correlation', 0.6162096666270107)\n",
      "('brain_firstorder_Skewness', 0.5869265164438824)\n",
      "('brain_glszm_SmallAreaEmphasis', 0.5866792230627109)\n",
      "('brain_glcm_InverseVariance', 0.5864752089226003)\n",
      "('brain_glszm_SizeZoneNonUniformityNormalized', 0.5828530382592165)\n",
      "('brain_glcm_Contrast', 0.5799847895954486)\n",
      "('brain_glcm_DifferenceVariance', 0.5798109463678653)\n",
      "('brain_glcm_Idn', 0.5781008227262732)\n",
      "('brain_glcm_ClusterProminence', 0.5715364123933085)\n",
      "('brain_glrlm_RunEntropy', 0.5691509145913081)\n",
      "('brain_glszm_SizeZoneNonUniformity', 0.5653479849549342)\n",
      "('brain_ngtdm_Contrast', 0.5647153511009451)\n",
      "('brain_glcm_DifferenceAverage', 0.5644297873734702)\n",
      "('brain_glcm_ClusterShade', 0.5621196436982762)\n"
     ]
    }
   ],
   "source": [
    "for r_name in robustness_names:\n",
    "    s = sort_by_value(feature_dic, r_name)\n",
    "    print(\"--- {} ---\".format(r_name))\n",
    "    for t in s[:15]:\n",
    "        print(t)"
   ]
  },
  {
   "cell_type": "markdown",
   "metadata": {},
   "source": [
    "## Robustness Histogram"
   ]
  },
  {
   "cell_type": "code",
   "execution_count": 37,
   "metadata": {},
   "outputs": [],
   "source": [
    "import matplotlib.pyplot as plt"
   ]
  },
  {
   "cell_type": "code",
   "execution_count": 41,
   "metadata": {},
   "outputs": [
    {
     "data": {
      "image/png": "[encoded data removed]",
      "text/plain": [
       "<Figure size 720x432 with 1 Axes>"
      ]
     },
     "metadata": {},
     "output_type": "display_data"
    },
    {
     "data": {
      "image/png": "[encoded data removed]",
      "text/plain": [
       "<Figure size 720x432 with 1 Axes>"
      ]
     },
     "metadata": {},
     "output_type": "display_data"
    },
    {
     "data": {
      "image/png": "[encoded data removed]",
      "text/plain": [
       "<Figure size 720x432 with 1 Axes>"
      ]
     },
     "metadata": {},
     "output_type": "display_data"
    },
    {
     "data": {
      "image/png": "[encoded data removed]",
      "text/plain": [
       "<Figure size 720x432 with 1 Axes>"
      ]
     },
     "metadata": {},
     "output_type": "display_data"
    }
   ],
   "source": [
    "for r_name in robustness_names:\n",
    "    # collect values\n",
    "    values = []\n",
    "    for f_name in feature_dic:\n",
    "        values.append(feature_dic[f_name][r_name])\n",
    "        \n",
    "    plt.figure(figsize=(10, 6))\n",
    "    plt.title(\"Value histogram for {}\".format(r_name))\n",
    "    plt.xlabel(\"Robustness Value\")\n",
    "    plt.ylabel(\"Count\")\n",
    "    plt.hist(values, edgecolor='black')"
   ]
  },
  {
   "cell_type": "code",
   "execution_count": null,
   "metadata": {},
   "outputs": [],
   "source": []
  }
 ],
 "metadata": {
  "kernelspec": {
   "display_name": "Python 3",
   "language": "python",
   "name": "python3"
  },
  "language_info": {
   "codemirror_mode": {
    "name": "ipython",
    "version": 3
   },
   "file_extension": ".py",
   "mimetype": "text/x-python",
   "name": "python",
   "nbconvert_exporter": "python",
   "pygments_lexer": "ipython3",
   "version": "3.6.5"
  }
 },
 "nbformat": 4,
 "nbformat_minor": 2
}
