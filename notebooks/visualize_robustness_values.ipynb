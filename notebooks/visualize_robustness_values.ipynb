{
 "cells": [
  {
   "cell_type": "code",
   "execution_count": 31,
   "metadata": {},
   "outputs": [],
   "source": [
    "# Make module from local packages importable\n",
    "import os\n",
    "import sys\n",
    "nb_dir = os.path.split(os.getcwd())[0]\n",
    "if nb_dir not in sys.path:\n",
    "    sys.path.append(nb_dir)"
   ]
  },
  {
   "cell_type": "markdown",
   "metadata": {},
   "source": [
    "#### We assume that the robustness measures are stored in a dictionary D. Feature names are the keys of D and map to a dictionary mapping robustness names to their computed values."
   ]
  },
  {
   "cell_type": "code",
   "execution_count": 32,
   "metadata": {},
   "outputs": [],
   "source": [
    "import json\n",
    "#json_path = \"../data/20180531-143635/robustness_measures/computations.json\"\n",
    "json_path = \"../data/20180531-151046/robustness_measures/computations.json\"\n",
    "#family = \"pyrad\"\n",
    "family = \"ipca\"\n",
    "with open(json_path) as f:\n",
    "    feature_dic = json.load(f)"
   ]
  },
  {
   "cell_type": "code",
   "execution_count": 33,
   "metadata": {},
   "outputs": [
    {
     "name": "stdout",
     "output_type": "stream",
     "text": [
      "Number of features 100\n"
     ]
    }
   ],
   "source": [
    "print(\"Number of features {}\".format(len(feature_dic)))"
   ]
  },
  {
   "cell_type": "code",
   "execution_count": 34,
   "metadata": {
    "scrolled": true
   },
   "outputs": [
    {
     "data": {
      "text/plain": [
       "['0',\n",
       " '1',\n",
       " '2',\n",
       " '3',\n",
       " '4',\n",
       " '5',\n",
       " '6',\n",
       " '7',\n",
       " '8',\n",
       " '9',\n",
       " '10',\n",
       " '11',\n",
       " '12',\n",
       " '13',\n",
       " '14',\n",
       " '15',\n",
       " '16',\n",
       " '17',\n",
       " '18',\n",
       " '19',\n",
       " '20',\n",
       " '21',\n",
       " '22',\n",
       " '23',\n",
       " '24',\n",
       " '25',\n",
       " '26',\n",
       " '27',\n",
       " '28',\n",
       " '29',\n",
       " '30',\n",
       " '31',\n",
       " '32',\n",
       " '33',\n",
       " '34',\n",
       " '35',\n",
       " '36',\n",
       " '37',\n",
       " '38',\n",
       " '39',\n",
       " '40',\n",
       " '41',\n",
       " '42',\n",
       " '43',\n",
       " '44',\n",
       " '45',\n",
       " '46',\n",
       " '47',\n",
       " '48',\n",
       " '49',\n",
       " '50',\n",
       " '51',\n",
       " '52',\n",
       " '53',\n",
       " '54',\n",
       " '55',\n",
       " '56',\n",
       " '57',\n",
       " '58',\n",
       " '59',\n",
       " '60',\n",
       " '61',\n",
       " '62',\n",
       " '63',\n",
       " '64',\n",
       " '65',\n",
       " '66',\n",
       " '67',\n",
       " '68',\n",
       " '69',\n",
       " '70',\n",
       " '71',\n",
       " '72',\n",
       " '73',\n",
       " '74',\n",
       " '75',\n",
       " '76',\n",
       " '77',\n",
       " '78',\n",
       " '79',\n",
       " '80',\n",
       " '81',\n",
       " '82',\n",
       " '83',\n",
       " '84',\n",
       " '85',\n",
       " '86',\n",
       " '87',\n",
       " '88',\n",
       " '89',\n",
       " '90',\n",
       " '91',\n",
       " '92',\n",
       " '93',\n",
       " '94',\n",
       " '95',\n",
       " '96',\n",
       " '97',\n",
       " '98',\n",
       " '99']"
      ]
     },
     "execution_count": 34,
     "metadata": {},
     "output_type": "execute_result"
    }
   ],
   "source": [
    "feature_names = list(feature_dic.keys())\n",
    "feature_names"
   ]
  },
  {
   "cell_type": "code",
   "execution_count": 35,
   "metadata": {},
   "outputs": [
    {
     "name": "stdout",
     "output_type": "stream",
     "text": [
      "Number of samples 12478\n"
     ]
    }
   ],
   "source": [
    "some_feature = feature_names[0]\n",
    "print(\"Number of samples {}\".format(feature_dic[some_feature][\"n_samples\"]))"
   ]
  },
  {
   "cell_type": "code",
   "execution_count": 36,
   "metadata": {},
   "outputs": [
    {
     "data": {
      "text/plain": [
       "['ICC_C1', 'ICC_A1', 'pearsonr', 'linccc']"
      ]
     },
     "execution_count": 36,
     "metadata": {},
     "output_type": "execute_result"
    }
   ],
   "source": [
    "robustness_names = list(feature_dic[some_feature].keys())\n",
    "robustness_names.remove('n_samples')\n",
    "robustness_names"
   ]
  },
  {
   "cell_type": "markdown",
   "metadata": {},
   "source": [
    "## Sort by robustness value"
   ]
  },
  {
   "cell_type": "code",
   "execution_count": 37,
   "metadata": {},
   "outputs": [],
   "source": [
    "def sort_by_value(f_dic, robustness_name):\n",
    "    # Collect values\n",
    "    pairs = []\n",
    "    for f_name in f_dic:\n",
    "        pairs.append((f_name, f_dic[f_name][robustness_name]))\n",
    "\n",
    "    # Sort by second value (robustness)\n",
    "    pairs = sorted(pairs, key=lambda x: -x[1])\n",
    "    return pairs"
   ]
  },
  {
   "cell_type": "code",
   "execution_count": 38,
   "metadata": {},
   "outputs": [
    {
     "name": "stdout",
     "output_type": "stream",
     "text": [
      "--- ICC_C1 ---\n",
      "FeatureName,FeatureValue\n",
      "73,0.9687313258290149\n",
      "71,0.9618777817703826\n",
      "90,0.9601423185400434\n",
      "48,0.9599406772706258\n",
      "84,0.9591355579737919\n",
      "52,0.9579006231196275\n",
      "44,0.952831074939461\n",
      "83,0.9524962720459131\n",
      "64,0.952375602259963\n",
      "66,0.9520676008837827\n",
      "72,0.9517134323543146\n",
      "74,0.9511602476090002\n",
      "69,0.9501835479797086\n",
      "58,0.9495876862686141\n",
      "59,0.9494837186907025\n",
      "--- ICC_A1 ---\n",
      "FeatureName,FeatureValue\n",
      "73,0.9687336000331506\n",
      "71,0.9618806393623883\n",
      "90,0.9601452409259073\n",
      "48,0.9599425616933482\n",
      "84,0.959136448759755\n",
      "52,0.9579038524473756\n",
      "44,0.9528346768021028\n",
      "83,0.9524949493290227\n",
      "64,0.9523779138232628\n",
      "66,0.9520702292992519\n",
      "72,0.9517154129667708\n",
      "74,0.9511526501598819\n",
      "69,0.9501873083131319\n",
      "58,0.9495894973235269\n",
      "59,0.949483985725071\n",
      "--- pearsonr ---\n",
      "FeatureName,FeatureValue\n",
      "73,0.9687335244417095\n",
      "71,0.9618796275000737\n",
      "90,0.960142323219721\n",
      "48,0.9599593992179989\n",
      "84,0.9591429228861409\n",
      "52,0.9579220777657985\n",
      "44,0.9528310793861365\n",
      "83,0.9525203216815137\n",
      "64,0.9523871733979622\n",
      "66,0.9520703103441036\n",
      "72,0.9517270612757264\n",
      "74,0.9511619275800897\n",
      "69,0.9502760576021902\n",
      "58,0.9496362844869467\n",
      "59,0.9495031555280702\n",
      "--- linccc ---\n",
      "FeatureName,FeatureValue\n",
      "73,0.9687311724675257\n",
      "71,0.9618777006621428\n",
      "90,0.9601421739839321\n",
      "48,0.9599394798053551\n",
      "84,0.9591333074923785\n",
      "52,0.9579006205866827\n",
      "44,0.9528310749278058\n",
      "83,0.9524913228043332\n",
      "64,0.9523742788108418\n",
      "66,0.9520665719831913\n",
      "72,0.9517117299493906\n",
      "74,0.9511489264198519\n",
      "69,0.9501835148372588\n",
      "58,0.9495856607369683\n",
      "59,0.9494801415355717\n"
     ]
    }
   ],
   "source": [
    "import re\n",
    "def to_camelcase(s):\n",
    "    return re.sub(r'(?!^)_([a-zA-Z0-9])', lambda m: m.group(1).upper(), s)\n",
    "\n",
    "for r_name in robustness_names:\n",
    "    s = sort_by_value(feature_dic, r_name)\n",
    "    print(\"--- {} ---\".format(r_name))\n",
    "    with open(\"{}_{}_top_features.csv\".format(family, r_name), \"w\") as f:\n",
    "        print(\"FeatureName,FeatureValue\")\n",
    "        f.write(\"FeatureName,FeatureValue\\n\")\n",
    "        for t in s[:15]:\n",
    "            f.write(\"{},{}\".format(to_camelcase(t[0]), t[1]))\n",
    "            f.write(\"\\n\")\n",
    "            print(\"{},{}\".format(to_camelcase(t[0]), t[1]))"
   ]
  },
  {
   "cell_type": "markdown",
   "metadata": {},
   "source": [
    "## Robustness Histogram"
   ]
  },
  {
   "cell_type": "code",
   "execution_count": 39,
   "metadata": {},
   "outputs": [],
   "source": [
    "import matplotlib.pyplot as plt\n",
    "import math"
   ]
  },
  {
   "cell_type": "code",
   "execution_count": 40,
   "metadata": {},
   "outputs": [
    {
     "data": {
      "image/png": "[encoded data removed]",
      "text/plain": [
       "<Figure size 720x432 with 1 Axes>"
      ]
     },
     "metadata": {},
     "output_type": "display_data"
    },
    {
     "data": {
      "image/png": "[encoded data removed]",
      "text/plain": [
       "<Figure size 720x432 with 1 Axes>"
      ]
     },
     "metadata": {},
     "output_type": "display_data"
    },
    {
     "data": {
      "image/png": "[encoded data removed]",
      "text/plain": [
       "<Figure size 720x432 with 1 Axes>"
      ]
     },
     "metadata": {},
     "output_type": "display_data"
    },
    {
     "data": {
      "image/png": "[encoded data removed]",
      "text/plain": [
       "<Figure size 720x432 with 1 Axes>"
      ]
     },
     "metadata": {},
     "output_type": "display_data"
    }
   ],
   "source": [
    "for r_name in robustness_names:\n",
    "    # collect values\n",
    "    values = []\n",
    "    for f_name in feature_dic:\n",
    "        v = feature_dic[f_name][r_name]\n",
    "        if not math.isnan(v):\n",
    "            values.append(v)\n",
    "        \n",
    "    plt.figure(figsize=(10, 6))\n",
    "    plt.title(\"Value histogram for {}\".format(r_name))\n",
    "    plt.xlabel(\"Robustness Value\")\n",
    "    plt.ylabel(\"Count\")\n",
    "    plt.hist(values, edgecolor='black')\n",
    "    plt.savefig(\"{}_{}_histo.pdf\".format(family, r_name))"
   ]
  },
  {
   "cell_type": "code",
   "execution_count": 46,
   "metadata": {},
   "outputs": [
    {
     "data": {
      "text/plain": [
       "{'n_samples': 12478,\n",
       " 'ICC_C1': 0.9033494911778347,\n",
       " 'ICC_A1': 0.9033286580484573,\n",
       " 'pearsonr': 0.903777753214569,\n",
       " 'linccc': 0.9033216591451149}"
      ]
     },
     "execution_count": 46,
     "metadata": {},
     "output_type": "execute_result"
    }
   ],
   "source": [
    "feature_dic[\"5\"]"
   ]
  },
  {
   "cell_type": "code",
   "execution_count": null,
   "metadata": {},
   "outputs": [],
   "source": []
  }
 ],
 "metadata": {
  "kernelspec": {
   "display_name": "Python 3",
   "language": "python",
   "name": "python3"
  },
  "language_info": {
   "codemirror_mode": {
    "name": "ipython",
    "version": 3
   },
   "file_extension": ".py",
   "mimetype": "text/x-python",
   "name": "python",
   "nbconvert_exporter": "python",
   "pygments_lexer": "ipython3",
   "version": "3.6.5"
  }
 },
 "nbformat": 4,
 "nbformat_minor": 2
}
