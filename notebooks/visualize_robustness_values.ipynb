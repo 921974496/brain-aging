{
 "cells": [
  {
   "cell_type": "code",
   "execution_count": 1,
   "metadata": {},
   "outputs": [],
   "source": [
    "# Make module from local packages importable\n",
    "import os\n",
    "import sys\n",
    "nb_dir = os.path.split(os.getcwd())[0]\n",
    "if nb_dir not in sys.path:\n",
    "    sys.path.append(nb_dir)"
   ]
  },
  {
   "cell_type": "markdown",
   "metadata": {},
   "source": [
    "#### We assume that the robustness measures are stored in a dictionary D. Feature names are the keys of D and map to a dictionary mapping robustness names to their computed values."
   ]
  },
  {
   "cell_type": "code",
   "execution_count": 2,
   "metadata": {},
   "outputs": [],
   "source": [
    "import json\n",
    "json_path = \"../data/20180531-143635/robustness_measures/computations.json\"\n",
    "with open(json_path) as f:\n",
    "    feature_dic = json.load(f)"
   ]
  },
  {
   "cell_type": "code",
   "execution_count": 3,
   "metadata": {},
   "outputs": [
    {
     "name": "stdout",
     "output_type": "stream",
     "text": [
      "Number of features 92\n"
     ]
    }
   ],
   "source": [
    "print(\"Number of features {}\".format(len(feature_dic)))"
   ]
  },
  {
   "cell_type": "code",
   "execution_count": 4,
   "metadata": {
    "scrolled": true
   },
   "outputs": [
    {
     "data": {
      "text/plain": [
       "['brain_firstorder_10Percentile',\n",
       " 'brain_firstorder_90Percentile',\n",
       " 'brain_firstorder_Energy',\n",
       " 'brain_firstorder_Entropy',\n",
       " 'brain_firstorder_InterquartileRange',\n",
       " 'brain_firstorder_Kurtosis',\n",
       " 'brain_firstorder_Maximum',\n",
       " 'brain_firstorder_MeanAbsoluteDeviation',\n",
       " 'brain_firstorder_Mean',\n",
       " 'brain_firstorder_Median',\n",
       " 'brain_firstorder_Minimum',\n",
       " 'brain_firstorder_Range',\n",
       " 'brain_firstorder_RobustMeanAbsoluteDeviation',\n",
       " 'brain_firstorder_RootMeanSquared',\n",
       " 'brain_firstorder_Skewness',\n",
       " 'brain_firstorder_TotalEnergy',\n",
       " 'brain_firstorder_Uniformity',\n",
       " 'brain_firstorder_Variance',\n",
       " 'brain_glcm_Autocorrelation',\n",
       " 'brain_glcm_ClusterProminence',\n",
       " 'brain_glcm_ClusterShade',\n",
       " 'brain_glcm_ClusterTendency',\n",
       " 'brain_glcm_Contrast',\n",
       " 'brain_glcm_Correlation',\n",
       " 'brain_glcm_DifferenceAverage',\n",
       " 'brain_glcm_DifferenceEntropy',\n",
       " 'brain_glcm_DifferenceVariance',\n",
       " 'brain_glcm_Id',\n",
       " 'brain_glcm_Idm',\n",
       " 'brain_glcm_Idmn',\n",
       " 'brain_glcm_Idn',\n",
       " 'brain_glcm_Imc1',\n",
       " 'brain_glcm_Imc2',\n",
       " 'brain_glcm_InverseVariance',\n",
       " 'brain_glcm_JointAverage',\n",
       " 'brain_glcm_JointEnergy',\n",
       " 'brain_glcm_JointEntropy',\n",
       " 'brain_glcm_MaximumProbability',\n",
       " 'brain_glcm_SumAverage',\n",
       " 'brain_glcm_SumEntropy',\n",
       " 'brain_glcm_SumSquares',\n",
       " 'brain_gldm_DependenceEntropy',\n",
       " 'brain_gldm_DependenceNonUniformity',\n",
       " 'brain_gldm_DependenceNonUniformityNormalized',\n",
       " 'brain_gldm_DependenceVariance',\n",
       " 'brain_gldm_GrayLevelNonUniformity',\n",
       " 'brain_gldm_GrayLevelVariance',\n",
       " 'brain_gldm_HighGrayLevelEmphasis',\n",
       " 'brain_gldm_LargeDependenceEmphasis',\n",
       " 'brain_gldm_LargeDependenceHighGrayLevelEmphasis',\n",
       " 'brain_gldm_LargeDependenceLowGrayLevelEmphasis',\n",
       " 'brain_gldm_LowGrayLevelEmphasis',\n",
       " 'brain_gldm_SmallDependenceEmphasis',\n",
       " 'brain_gldm_SmallDependenceHighGrayLevelEmphasis',\n",
       " 'brain_gldm_SmallDependenceLowGrayLevelEmphasis',\n",
       " 'brain_glrlm_GrayLevelNonUniformity',\n",
       " 'brain_glrlm_GrayLevelNonUniformityNormalized',\n",
       " 'brain_glrlm_GrayLevelVariance',\n",
       " 'brain_glrlm_HighGrayLevelRunEmphasis',\n",
       " 'brain_glrlm_LongRunEmphasis',\n",
       " 'brain_glrlm_LongRunHighGrayLevelEmphasis',\n",
       " 'brain_glrlm_LongRunLowGrayLevelEmphasis',\n",
       " 'brain_glrlm_LowGrayLevelRunEmphasis',\n",
       " 'brain_glrlm_RunEntropy',\n",
       " 'brain_glrlm_RunLengthNonUniformity',\n",
       " 'brain_glrlm_RunLengthNonUniformityNormalized',\n",
       " 'brain_glrlm_RunPercentage',\n",
       " 'brain_glrlm_RunVariance',\n",
       " 'brain_glrlm_ShortRunEmphasis',\n",
       " 'brain_glrlm_ShortRunHighGrayLevelEmphasis',\n",
       " 'brain_glrlm_ShortRunLowGrayLevelEmphasis',\n",
       " 'brain_glszm_GrayLevelNonUniformity',\n",
       " 'brain_glszm_GrayLevelNonUniformityNormalized',\n",
       " 'brain_glszm_GrayLevelVariance',\n",
       " 'brain_glszm_HighGrayLevelZoneEmphasis',\n",
       " 'brain_glszm_LargeAreaEmphasis',\n",
       " 'brain_glszm_LargeAreaHighGrayLevelEmphasis',\n",
       " 'brain_glszm_LargeAreaLowGrayLevelEmphasis',\n",
       " 'brain_glszm_LowGrayLevelZoneEmphasis',\n",
       " 'brain_glszm_SizeZoneNonUniformity',\n",
       " 'brain_glszm_SizeZoneNonUniformityNormalized',\n",
       " 'brain_glszm_SmallAreaEmphasis',\n",
       " 'brain_glszm_SmallAreaHighGrayLevelEmphasis',\n",
       " 'brain_glszm_SmallAreaLowGrayLevelEmphasis',\n",
       " 'brain_glszm_ZoneEntropy',\n",
       " 'brain_glszm_ZonePercentage',\n",
       " 'brain_glszm_ZoneVariance',\n",
       " 'brain_ngtdm_Busyness',\n",
       " 'brain_ngtdm_Coarseness',\n",
       " 'brain_ngtdm_Complexity',\n",
       " 'brain_ngtdm_Contrast',\n",
       " 'brain_ngtdm_Strength']"
      ]
     },
     "execution_count": 4,
     "metadata": {},
     "output_type": "execute_result"
    }
   ],
   "source": [
    "feature_names = list(feature_dic.keys())\n",
    "feature_names"
   ]
  },
  {
   "cell_type": "code",
   "execution_count": 5,
   "metadata": {},
   "outputs": [
    {
     "name": "stdout",
     "output_type": "stream",
     "text": [
      "Number of samples 12478\n"
     ]
    }
   ],
   "source": [
    "some_feature = feature_names[0]\n",
    "print(\"Number of samples {}\".format(feature_dic[some_feature][\"n_samples\"]))"
   ]
  },
  {
   "cell_type": "code",
   "execution_count": 6,
   "metadata": {},
   "outputs": [
    {
     "data": {
      "text/plain": [
       "['ICC_C1', 'ICC_A1', 'pearsonr', 'linccc']"
      ]
     },
     "execution_count": 6,
     "metadata": {},
     "output_type": "execute_result"
    }
   ],
   "source": [
    "robustness_names = list(feature_dic[some_feature].keys())\n",
    "robustness_names.remove('n_samples')\n",
    "robustness_names"
   ]
  },
  {
   "cell_type": "markdown",
   "metadata": {},
   "source": [
    "## Sort by robustness value"
   ]
  },
  {
   "cell_type": "code",
   "execution_count": 7,
   "metadata": {},
   "outputs": [],
   "source": [
    "def sort_by_value(f_dic, robustness_name):\n",
    "    # Collect values\n",
    "    pairs = []\n",
    "    for f_name in f_dic:\n",
    "        pairs.append((f_name, f_dic[f_name][robustness_name]))\n",
    "\n",
    "    # Sort by second value (robustness)\n",
    "    pairs = sorted(pairs, key=lambda x: -x[1])\n",
    "    return pairs"
   ]
  },
  {
   "cell_type": "code",
   "execution_count": 17,
   "metadata": {},
   "outputs": [
    {
     "name": "stdout",
     "output_type": "stream",
     "text": [
      "--- ICC_C1 ---\n",
      "feature_name,feature_value\n",
      "brain_firstorder_10Percentile,1\n",
      "brain_firstorder_Median,1\n",
      "brain_glszm_ZonePercentage,0.9469791933557149\n",
      "brain_gldm_SmallDependenceEmphasis,0.9449838017488063\n",
      "brain_glrlm_RunLengthNonUniformity,0.9421373129861106\n",
      "brain_glcm_Id,0.9393424805136257\n",
      "brain_glcm_Idm,0.9390374656901352\n",
      "brain_glcm_DifferenceEntropy,0.9386998635664283\n",
      "brain_glrlm_RunEntropy,0.9385746054679227\n",
      "brain_glcm_Imc1,0.9382340014639853\n",
      "brain_glrlm_GrayLevelNonUniformity,0.9372528148554042\n",
      "brain_glcm_JointEntropy,0.9363997887663207\n",
      "brain_glszm_SizeZoneNonUniformity,0.9355890235031228\n",
      "brain_gldm_DependenceVariance,0.9346877544605775\n",
      "brain_glszm_SizeZoneNonUniformityNormalized,0.934380430316641\n",
      "--- ICC_A1 ---\n",
      "feature_name,feature_value\n",
      "brain_firstorder_10Percentile,nan\n",
      "brain_glszm_ZonePercentage,0.9469638779145748\n",
      "brain_gldm_SmallDependenceEmphasis,0.9449687373345526\n",
      "brain_glrlm_RunLengthNonUniformity,0.9421416756425707\n",
      "brain_glcm_Id,0.9393470465972312\n",
      "brain_glcm_Idm,0.9390419679904001\n",
      "brain_glcm_DifferenceEntropy,0.9387033583244137\n",
      "brain_glrlm_RunEntropy,0.938542098812817\n",
      "brain_glcm_Imc1,0.9382386432545546\n",
      "brain_glrlm_GrayLevelNonUniformity,0.9372565084882154\n",
      "brain_glcm_JointEntropy,0.9364043071708724\n",
      "brain_glszm_SizeZoneNonUniformity,0.9355571579794534\n",
      "brain_gldm_DependenceVariance,0.9346907051302186\n",
      "brain_glszm_SizeZoneNonUniformityNormalized,0.9343739671847188\n",
      "brain_glrlm_RunLengthNonUniformityNormalized,0.9336748640719718\n",
      "--- pearsonr ---\n",
      "feature_name,feature_value\n",
      "brain_firstorder_10Percentile,nan\n",
      "brain_glcm_Id,0.9394011121178424\n",
      "brain_glcm_Idm,0.9390890872836358\n",
      "brain_glcm_DifferenceEntropy,0.9387672947702642\n",
      "brain_glcm_Imc1,0.9382737181795192\n",
      "brain_glcm_JointEntropy,0.936481677737981\n",
      "brain_gldm_DependenceVariance,0.9347556822566274\n",
      "brain_firstorder_Entropy,0.9321310317827847\n",
      "brain_glcm_SumEntropy,0.930577656566663\n",
      "brain_glcm_InverseVariance,0.9288572714438003\n",
      "brain_glcm_DifferenceAverage,0.9194055138613795\n",
      "brain_firstorder_Range,0.9182708518589887\n",
      "brain_firstorder_Maximum,0.9182708518586316\n",
      "brain_firstorder_RootMeanSquared,0.9115590635583627\n",
      "brain_firstorder_MeanAbsoluteDeviation,0.910208918969904\n",
      "--- linccc ---\n",
      "feature_name,feature_value\n",
      "brain_firstorder_10Percentile,1\n",
      "brain_firstorder_Median,1\n",
      "brain_glszm_ZonePercentage,0.9469598526618412\n",
      "brain_gldm_SmallDependenceEmphasis,0.9449645694581857\n",
      "brain_glrlm_RunLengthNonUniformity,0.9421373067649652\n",
      "brain_glcm_Id,0.9393424802835593\n",
      "brain_glcm_Idm,0.9390373801992098\n",
      "brain_glcm_DifferenceEntropy,0.9386987467125905\n",
      "brain_glrlm_RunEntropy,0.9385374758631134\n",
      "brain_glcm_Imc1,0.9382339989807126\n",
      "brain_glrlm_GrayLevelNonUniformity,0.937251795299944\n",
      "brain_glcm_JointEntropy,0.9363995343106377\n",
      "brain_glszm_SizeZoneNonUniformity,0.9355523259163983\n",
      "brain_gldm_DependenceVariance,0.9346858126343183\n",
      "brain_glszm_SizeZoneNonUniformityNormalized,0.9343690526272043\n"
     ]
    }
   ],
   "source": [
    "for r_name in robustness_names:\n",
    "    s = sort_by_value(feature_dic, r_name)\n",
    "    print(\"--- {} ---\".format(r_name))\n",
    "    print(\"feature_name,feature_value\")\n",
    "    for t in s[:15]:\n",
    "        print(\"{},{}\".format(t[0], t[1]))"
   ]
  },
  {
   "cell_type": "markdown",
   "metadata": {},
   "source": [
    "## Robustness Histogram"
   ]
  },
  {
   "cell_type": "code",
   "execution_count": 13,
   "metadata": {},
   "outputs": [],
   "source": [
    "import matplotlib.pyplot as plt\n",
    "import math"
   ]
  },
  {
   "cell_type": "code",
   "execution_count": 14,
   "metadata": {},
   "outputs": [
    {
     "data": {
      "image/png": "[encoded data removed]",
      "text/plain": [
       "<Figure size 720x432 with 1 Axes>"
      ]
     },
     "metadata": {},
     "output_type": "display_data"
    },
    {
     "data": {
      "image/png": "[encoded data removed]",
      "text/plain": [
       "<Figure size 720x432 with 1 Axes>"
      ]
     },
     "metadata": {},
     "output_type": "display_data"
    },
    {
     "data": {
      "image/png": "[encoded data removed]",
      "text/plain": [
       "<Figure size 720x432 with 1 Axes>"
      ]
     },
     "metadata": {},
     "output_type": "display_data"
    },
    {
     "data": {
      "image/png": "[encoded data removed]",
      "text/plain": [
       "<Figure size 720x432 with 1 Axes>"
      ]
     },
     "metadata": {},
     "output_type": "display_data"
    }
   ],
   "source": [
    "for r_name in robustness_names:\n",
    "    # collect values\n",
    "    values = []\n",
    "    for f_name in feature_dic:\n",
    "        v = feature_dic[f_name][r_name]\n",
    "        if not math.isnan(v):\n",
    "            values.append(v)\n",
    "        \n",
    "    plt.figure(figsize=(10, 6))\n",
    "    plt.title(\"Value histogram for {}\".format(r_name))\n",
    "    plt.xlabel(\"Robustness Value\")\n",
    "    plt.ylabel(\"Count\")\n",
    "    plt.hist(values, edgecolor='black')"
   ]
  }
 ],
 "metadata": {
  "kernelspec": {
   "display_name": "Python 3",
   "language": "python",
   "name": "python3"
  },
  "language_info": {
   "codemirror_mode": {
    "name": "ipython",
    "version": 3
   },
   "file_extension": ".py",
   "mimetype": "text/x-python",
   "name": "python",
   "nbconvert_exporter": "python",
   "pygments_lexer": "ipython3",
   "version": "3.6.5"
  }
 },
 "nbformat": 4,
 "nbformat_minor": 2
}
