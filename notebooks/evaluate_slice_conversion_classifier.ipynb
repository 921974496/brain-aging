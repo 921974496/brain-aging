{
 "cells": [
  {
   "cell_type": "code",
   "execution_count": 2,
   "metadata": {},
   "outputs": [],
   "source": [
    "import os\n",
    "os.chdir('/home/mhoerold/entrack')"
   ]
  },
  {
   "cell_type": "code",
   "execution_count": 10,
   "metadata": {},
   "outputs": [],
   "source": [
    "import matplotlib.pyplot as plt\n",
    "import numpy as np\n",
    "import yaml\n",
    "import nibabel as nib\n",
    "import copy\n",
    "import tensorflow as tf\n",
    "import pydoc\n",
    "\n",
    "from src.test_retest.mri.supervised_features import SliceClassification"
   ]
  },
  {
   "cell_type": "markdown",
   "metadata": {},
   "source": [
    "## Load model"
   ]
  },
  {
   "cell_type": "code",
   "execution_count": 12,
   "metadata": {
    "scrolled": true
   },
   "outputs": [
    {
     "name": "stdout",
     "output_type": "stream",
     "text": [
      "ADNI_AIBL has 571 files\n",
      "0 images blacklisted\n",
      "0 files found but not specified meta csv\n",
      "Number of files: 571\n",
      "Number of files missing: 19189\n",
      "Splitting 15 images\n",
      ">>>>>>> Loading split\n",
      "Achieved train ratio: 0.75\n",
      ">>>>>>>>> Sanity checks OK\n",
      ">>>>>>>> Train stats\n",
      ">>>>>>>>>>>>>>>>\n",
      ">>>> Distinct patients: 9\n",
      ">>>> Distinct images: 9\n",
      ">>>> Age stats, mean=74.55555725097656, std=7.573507785797119\n",
      ">>>> health_mci count: 9 (1.0)\n",
      ">>>> Gender 0: 5 (0.5555555555555556)\n",
      ">>>> Gender 1: 4 (0.4444444444444444)\n",
      ">>>>>>>>>>>>>>>>\n",
      ">>>>>>>> Validation stats\n",
      ">>>>>>>>>>>>>>>>\n",
      ">>>> Distinct patients: 3\n",
      ">>>> Distinct images: 3\n",
      ">>>> Age stats, mean=66.33333587646484, std=6.79869270324707\n",
      ">>>> health_mci count: 3 (1.0)\n",
      ">>>> Gender 0: 2 (0.6666666666666666)\n",
      ">>>> Gender 1: 1 (0.3333333333333333)\n",
      ">>>>>>>>>>>>>>>>\n",
      ">>>>>>>> Test stats\n",
      ">>>>>>>>>>>>>>>>\n",
      ">>>> Distinct patients: 3\n",
      ">>>> Distinct images: 3\n",
      ">>>> Age stats, mean=71.33333587646484, std=4.988876819610596\n",
      ">>>> health_mci count: 3 (1.0)\n",
      ">>>> Gender 0: 2 (0.6666666666666666)\n",
      ">>>> Gender 1: 1 (0.3333333333333333)\n",
      ">>>>>>>>>>>>>>>>\n",
      "INFO:tensorflow:Using default config.\n"
     ]
    },
    {
     "name": "stderr",
     "output_type": "stream",
     "text": [
      "2018-09-02 17:57:03,779 Using default config.\n"
     ]
    },
    {
     "name": "stdout",
     "output_type": "stream",
     "text": [
      "INFO:tensorflow:Using config: {'_model_dir': 'data/mci_ad_direct_conv_clf', '_tf_random_seed': None, '_save_summary_steps': 100, '_save_checkpoints_steps': None, '_save_checkpoints_secs': 600, '_session_config': None, '_keep_checkpoint_max': 5, '_keep_checkpoint_every_n_hours': 10000, '_log_step_count_steps': 100, '_train_distribute': None, '_service': None, '_cluster_spec': <tensorflow.python.training.server_lib.ClusterSpec object at 0x7f6f7c762ac8>, '_task_type': 'worker', '_task_id': 0, '_global_id_in_cluster': 0, '_master': '', '_evaluation_master': '', '_is_chief': True, '_num_ps_replicas': 0, '_num_worker_replicas': 1}\n"
     ]
    },
    {
     "name": "stderr",
     "output_type": "stream",
     "text": [
      "2018-09-02 17:57:03,780 Using config: {'_model_dir': 'data/mci_ad_direct_conv_clf', '_tf_random_seed': None, '_save_summary_steps': 100, '_save_checkpoints_steps': None, '_save_checkpoints_secs': 600, '_session_config': None, '_keep_checkpoint_max': 5, '_keep_checkpoint_every_n_hours': 10000, '_log_step_count_steps': 100, '_train_distribute': None, '_service': None, '_cluster_spec': <tensorflow.python.training.server_lib.ClusterSpec object at 0x7f6f7c762ac8>, '_task_type': 'worker', '_task_id': 0, '_global_id_in_cluster': 0, '_master': '', '_evaluation_master': '', '_is_chief': True, '_num_ps_replicas': 0, '_num_worker_replicas': 1}\n"
     ]
    }
   ],
   "source": [
    "smt_label = \"mci_ad_direct_conv_clf\"\n",
    "model_dir = os.path.join(\"data\", smt_label)\n",
    "config_path = os.path.join(\"configs\", \"single_clf\", \"clf_direct_conversion.yaml\")\n",
    "with open(config_path, 'r') as f:\n",
    "    model_config = yaml.load(f)\n",
    "    \n",
    "model_config[\"params\"][\"streamer\"][\"class\"] = pydoc.locate(model_config[\"params\"][\"streamer\"][\"class\"])\n",
    "obj = SliceClassification(**model_config[\"params\"])\n",
    "\n",
    "est = tf.estimator.Estimator(\n",
    "    model_fn=obj.model_fn,\n",
    "    model_dir=model_dir,\n",
    "    params=model_config[\"params\"][\"params\"]\n",
    ")"
   ]
  },
  {
   "cell_type": "markdown",
   "metadata": {},
   "source": [
    "## Make some predictions"
   ]
  },
  {
   "cell_type": "code",
   "execution_count": 14,
   "metadata": {},
   "outputs": [],
   "source": [
    "preds = est.predict(obj.streamer.get_input_fn(\"test\"))"
   ]
  },
  {
   "cell_type": "code",
   "execution_count": 15,
   "metadata": {},
   "outputs": [
    {
     "name": "stdout",
     "output_type": "stream",
     "text": [
      "INFO:tensorflow:Calling model_fn.\n"
     ]
    },
    {
     "name": "stderr",
     "output_type": "stream",
     "text": [
      "2018-09-02 18:00:40,712 Calling model_fn.\n"
     ]
    },
    {
     "name": "stdout",
     "output_type": "stream",
     "text": [
      "INFO:tensorflow:Done calling model_fn.\n"
     ]
    },
    {
     "name": "stderr",
     "output_type": "stream",
     "text": [
      "2018-09-02 18:00:40,811 Done calling model_fn.\n"
     ]
    },
    {
     "name": "stdout",
     "output_type": "stream",
     "text": [
      "INFO:tensorflow:Graph was finalized.\n"
     ]
    },
    {
     "name": "stderr",
     "output_type": "stream",
     "text": [
      "2018-09-02 18:00:40,869 Graph was finalized.\n"
     ]
    },
    {
     "name": "stdout",
     "output_type": "stream",
     "text": [
      "INFO:tensorflow:Restoring parameters from data/mci_ad_direct_conv_clf/model.ckpt-74\n"
     ]
    },
    {
     "name": "stderr",
     "output_type": "stream",
     "text": [
      "2018-09-02 18:00:40,872 Restoring parameters from data/mci_ad_direct_conv_clf/model.ckpt-74\n"
     ]
    },
    {
     "name": "stdout",
     "output_type": "stream",
     "text": [
      "INFO:tensorflow:Running local_init_op.\n"
     ]
    },
    {
     "name": "stderr",
     "output_type": "stream",
     "text": [
      "2018-09-02 18:00:40,919 Running local_init_op.\n"
     ]
    },
    {
     "name": "stdout",
     "output_type": "stream",
     "text": [
      "INFO:tensorflow:Done running local_init_op.\n"
     ]
    },
    {
     "name": "stderr",
     "output_type": "stream",
     "text": [
      "2018-09-02 18:00:40,926 Done running local_init_op.\n"
     ]
    },
    {
     "name": "stdout",
     "output_type": "stream",
     "text": [
      "0\n",
      "0\n",
      "0\n"
     ]
    }
   ],
   "source": [
    "for pred in preds:\n",
    "    print(pred[\"classes\"])"
   ]
  },
  {
   "cell_type": "code",
   "execution_count": null,
   "metadata": {},
   "outputs": [],
   "source": []
  }
 ],
 "metadata": {
  "kernelspec": {
   "display_name": "Python 3",
   "language": "python",
   "name": "python3"
  },
  "language_info": {
   "codemirror_mode": {
    "name": "ipython",
    "version": 3
   },
   "file_extension": ".py",
   "mimetype": "text/x-python",
   "name": "python",
   "nbconvert_exporter": "python",
   "pygments_lexer": "ipython3",
   "version": "3.6.5"
  }
 },
 "nbformat": 4,
 "nbformat_minor": 2
}
