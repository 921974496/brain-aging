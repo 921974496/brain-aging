{
 "cells": [
  {
   "cell_type": "code",
   "execution_count": null,
   "metadata": {},
   "outputs": [],
   "source": [
    "import os\n",
    "os.chdir('/home/mhoerold/entrack')"
   ]
  },
  {
   "cell_type": "code",
   "execution_count": null,
   "metadata": {},
   "outputs": [],
   "source": [
    "import matplotlib.pyplot as plt\n",
    "import numpy as np\n",
    "import yaml\n",
    "import nibabel as nib\n",
    "import copy\n",
    "import tensorflow as tf\n",
    "import pydoc\n",
    "\n",
    "from src.test_retest.mri.supervised_features import SliceClassification\n",
    "from src.data.streaming.base import Group"
   ]
  },
  {
   "cell_type": "markdown",
   "metadata": {},
   "source": [
    "## Load model"
   ]
  },
  {
   "cell_type": "code",
   "execution_count": null,
   "metadata": {
    "scrolled": true
   },
   "outputs": [],
   "source": [
    "smt_label = \"mci_ad_direct_conv_clf\"\n",
    "model_dir = os.path.join(\"data\", smt_label)\n",
    "config_path = os.path.join(\"configs\", \"single_clf\", \"clf_direct_conversion.yaml\")\n",
    "with open(config_path, 'r') as f:\n",
    "    model_config = yaml.load(f)\n",
    "\n",
    "# change streamer to stream conversion pairs\n",
    "model_config[\"params\"][\"streamer\"][\"class\"] = \"src.data.streaming.mri_streaming.MRIConversionSingleStream\"\n",
    "model_config[\"params\"][\"streamer\"][\"class\"] = pydoc.locate(model_config[\"params\"][\"streamer\"][\"class\"])\n",
    "\n",
    "obj = SliceClassification(**model_config[\"params\"])\n",
    "\n",
    "est = tf.estimator.Estimator(\n",
    "    model_fn=obj.model_fn,\n",
    "    model_dir=model_dir,\n",
    "    params=model_config[\"params\"][\"params\"]\n",
    ")"
   ]
  },
  {
   "cell_type": "markdown",
   "metadata": {},
   "source": [
    "## Prepare t0 and t1 stream"
   ]
  },
  {
   "cell_type": "code",
   "execution_count": null,
   "metadata": {},
   "outputs": [],
   "source": [
    "def fids_to_groups(fids):\n",
    "    return [Group([fid]) for fid in fids]\n",
    "    \n",
    "streamer = obj.streamer\n",
    "t0_input_fn = streamer.get_input_fn_for_groups(fids_to_groups(streamer.t0_fids))\n",
    "t1_input_fn = streamer.get_input_fn_for_groups(fids_to_groups(streamer.t1_fids))"
   ]
  },
  {
   "cell_type": "markdown",
   "metadata": {},
   "source": [
    "## Make some predictions"
   ]
  },
  {
   "cell_type": "code",
   "execution_count": null,
   "metadata": {},
   "outputs": [],
   "source": [
    "def make_predictions(input_fn):\n",
    "    y = []\n",
    "    image_label = []\n",
    "    \n",
    "    preds = est.predict(input_fn)\n",
    "    for pred in preds:\n",
    "        y.append(pred[\"classes\"])\n",
    "        image_label.append(pred[\"image_label\"][0].decode('utf-8'))\n",
    "        \n",
    "    return y, image_label"
   ]
  },
  {
   "cell_type": "code",
   "execution_count": null,
   "metadata": {},
   "outputs": [],
   "source": [
    "t0_y, t0_labels = make_predictions(t0_input_fn)\n",
    "t1_y, t1_labels = make_predictions(t1_input_fn)"
   ]
  },
  {
   "cell_type": "code",
   "execution_count": null,
   "metadata": {},
   "outputs": [],
   "source": [
    "correct = 0\n",
    "for t0, lab0, t1, lab1 in zip(t0_y, t0_labels, t1_y, t1_labels):\n",
    "    print(\"{} {}\".format(lab0, lab1))\n",
    "    assert streamer.get_patient_id(lab0) == streamer.get_patient_id(lab1)\n",
    "    converts = streamer.get_diagnose(lab0) != streamer.get_diagnose(lab1)\n",
    "    pred = t0 != t1\n",
    "    print(\"Expected {}, got {}\".format(converts, pred))\n",
    "    if pred == converts:\n",
    "        correct += 1\n",
    "        \n",
    "correct / len(t0_y)"
   ]
  }
 ],
 "metadata": {
  "kernelspec": {
   "display_name": "Python 3",
   "language": "python",
   "name": "python3"
  },
  "language_info": {
   "codemirror_mode": {
    "name": "ipython",
    "version": 3
   },
   "file_extension": ".py",
   "mimetype": "text/x-python",
   "name": "python",
   "nbconvert_exporter": "python",
   "pygments_lexer": "ipython3",
   "version": "3.6.5"
  }
 },
 "nbformat": 4,
 "nbformat_minor": 2
}
