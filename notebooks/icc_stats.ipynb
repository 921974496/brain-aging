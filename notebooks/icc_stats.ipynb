{
 "cells": [
  {
   "cell_type": "code",
   "execution_count": 74,
   "metadata": {},
   "outputs": [
    {
     "name": "stdout",
     "output_type": "stream",
     "text": [
      "The autoreload extension is already loaded. To reload it, use:\n",
      "  %reload_ext autoreload\n"
     ]
    }
   ],
   "source": [
    "# Make module from local packages importable\n",
    "import os\n",
    "import sys\n",
    "nb_dir = os.path.split(os.getcwd())[0]\n",
    "if nb_dir not in sys.path:\n",
    "    sys.path.append(nb_dir)\n",
    "%load_ext autoreload\n",
    "%autoreload 2"
   ]
  },
  {
   "cell_type": "code",
   "execution_count": 75,
   "metadata": {},
   "outputs": [],
   "source": [
    "import tensorflow as tf\n",
    "import yaml\n",
    "\n",
    "from db_utils.db_connection import SumatraDB"
   ]
  },
  {
   "cell_type": "markdown",
   "metadata": {},
   "source": [
    "# Load trained model"
   ]
  },
  {
   "cell_type": "code",
   "execution_count": 76,
   "metadata": {},
   "outputs": [
    {
     "data": {
      "text/plain": [
       "{'class': 'src.test_retest.non_linear_estimator.MnistDeepTestRetestClassifier',\n",
       " 'params': {'config': {'keep_checkpoint_max': 5,\n",
       "   'log_step_count_steps': 100,\n",
       "   'save_checkpoints_steps': 100,\n",
       "   'save_summary_steps': 1,\n",
       "   'tf_random_seed': 42},\n",
       "  'data_params': {'data_path': 'data/mnist',\n",
       "   'test_size': 10000,\n",
       "   'test_test_retest': 'data/mnist_sampled_test_set/X_mnist_sampled_test_set.npy',\n",
       "   'train_size': 500,\n",
       "   'train_test_retest': 'data/mnist_sampled_train_set/X_mnist_sampled_train_set.npy'},\n",
       "  'input_fn_config': {'batch_size': 64, 'num_epochs': 15, 'shuffle': True},\n",
       "  'params': {'hidden_layer_sizes': [784],\n",
       "   'input_dim': 784,\n",
       "   'lambda_o': 0,\n",
       "   'lambda_w': 0,\n",
       "   'learning_rate': 0.001,\n",
       "   'n_classes': 10,\n",
       "   'output_regularizer': 'js_divergence',\n",
       "   'weight_regularizer': 'l2'},\n",
       "  'sumatra_params': {'log_train': False}}}"
      ]
     },
     "execution_count": 76,
     "metadata": {},
     "output_type": "execute_result"
    }
   ],
   "source": [
    "DATA_PATH=\"../data\"\n",
    "RECORD_LABEL=\"20180507-145400\"\n",
    "RECORD_PATH=os.path.join(DATA_PATH, RECORD_LABEL)\n",
    "HIDDEN_FEATURES_TEST_LABEL = \"hidden_features_test_layer_0\"\n",
    "HIDDEN_FEATURES_RETEST_LABEL = \"hidden_features_retest_layer_0\"\n",
    "\n",
    "# Query config from database\n",
    "db = SumatraDB(db=\"../.smt/records\")\n",
    "COLUMNS = [\"label\", \"reason\", \"timestamp\", \"tags\", \"parameters_id\", \"version\"]\n",
    "record = db.get_filtered_by_label(COLUMNS, RECORD_LABEL)[0]\n",
    "config = db.get_params_dic(record.params_id)\n",
    "\n",
    "# Create folder for generated plots\n",
    "if not os.path.exists(\"generated_plots\"):\n",
    "    os.mkdir(\"generated_plots\")\n",
    "\n",
    "config"
   ]
  },
  {
   "cell_type": "code",
   "execution_count": 77,
   "metadata": {},
   "outputs": [],
   "source": [
    "import importlib\n",
    "# Load python class to construct object\n",
    "full_path = config[\"class\"]\n",
    "module_string = \".\".join(full_path.split(\".\")[:-1])\n",
    "module = importlib.import_module(module_string)\n",
    "class_ = getattr(module, full_path.split(\".\")[-1])\n",
    "obj = class_(**config[\"params\"])"
   ]
  },
  {
   "cell_type": "code",
   "execution_count": 78,
   "metadata": {},
   "outputs": [
    {
     "name": "stdout",
     "output_type": "stream",
     "text": [
      "INFO:tensorflow:Using default config.\n",
      "INFO:tensorflow:Using config: {'_model_dir': '../data/20180507-145400', '_tf_random_seed': None, '_save_summary_steps': 100, '_save_checkpoints_steps': None, '_save_checkpoints_secs': 600, '_session_config': None, '_keep_checkpoint_max': 5, '_keep_checkpoint_every_n_hours': 10000, '_log_step_count_steps': 100, '_service': None, '_cluster_spec': <tensorflow.python.training.server_lib.ClusterSpec object at 0x7fef04771a90>, '_task_type': 'worker', '_task_id': 0, '_global_id_in_cluster': 0, '_master': '', '_evaluation_master': '', '_is_chief': True, '_num_ps_replicas': 0, '_num_worker_replicas': 1}\n"
     ]
    }
   ],
   "source": [
    "# Construct estimator\n",
    "est = tf.estimator.Estimator(\n",
    "    model_fn=obj.model_fn,\n",
    "    model_dir=RECORD_PATH,\n",
    "    params=config[\"params\"][\"params\"]\n",
    ")"
   ]
  },
  {
   "cell_type": "code",
   "execution_count": 79,
   "metadata": {},
   "outputs": [],
   "source": [
    "# Print weight names"
   ]
  },
  {
   "cell_type": "code",
   "execution_count": 80,
   "metadata": {},
   "outputs": [
    {
     "data": {
      "text/plain": [
       "'\\nhidden_weights = est.get_variable_value(\\'hidden_weights\\')\\nhidden_bias = est.get_variable_value(\"hidden_bias\")\\nlogistic_weights = est.get_variable_value(\"logistic_weights\")\\nlogistic_bias = est.get_variable_value(\"logistic_bias\")\\n'"
      ]
     },
     "execution_count": 80,
     "metadata": {},
     "output_type": "execute_result"
    }
   ],
   "source": [
    "\"\"\"\n",
    "hidden_weights = est.get_variable_value('hidden_weights')\n",
    "hidden_bias = est.get_variable_value(\"hidden_bias\")\n",
    "logistic_weights = est.get_variable_value(\"logistic_weights\")\n",
    "logistic_bias = est.get_variable_value(\"logistic_bias\")\n",
    "\"\"\""
   ]
  },
  {
   "cell_type": "markdown",
   "metadata": {},
   "source": [
    "# Load sampled test-retest"
   ]
  },
  {
   "cell_type": "code",
   "execution_count": 81,
   "metadata": {},
   "outputs": [],
   "source": [
    "from src.data.mnist import read as mnist_read\n",
    "import numpy as np"
   ]
  },
  {
   "cell_type": "code",
   "execution_count": 82,
   "metadata": {},
   "outputs": [],
   "source": [
    "test, retest, labels = mnist_read.load_test_retest(\"../data/mnist\", \"../data/mnist_sampled_test_set/X_mnist_sampled_test_set.npy\", 10000, False)"
   ]
  },
  {
   "cell_type": "code",
   "execution_count": 83,
   "metadata": {},
   "outputs": [],
   "source": [
    "from src.test_retest.test_retest_base import mnist_test_retest_input_fn"
   ]
  },
  {
   "cell_type": "markdown",
   "metadata": {},
   "source": [
    "# Predict hidden features"
   ]
  },
  {
   "cell_type": "code",
   "execution_count": 84,
   "metadata": {},
   "outputs": [],
   "source": [
    "# Fix paths to run notebook from notebook path\n",
    "data_params = config[\"params\"][\"data_params\"]\n",
    "data_params[\"data_path\"] = os.path.join(\"..\", data_params[\"data_path\"])\n",
    "data_params[\"train_test_retest\"] = os.path.join(\"..\", data_params[\"train_test_retest\"])\n",
    "data_params[\"test_test_retest\"] = os.path.join(\"..\", data_params[\"test_test_retest\"])\n",
    "# Input configuration\n",
    "input_config = config[\"params\"][\"input_fn_config\"]\n",
    "input_config[\"num_epochs\"] = 1\n",
    "input_config[\"shuffle\"] = False"
   ]
  },
  {
   "cell_type": "code",
   "execution_count": 85,
   "metadata": {},
   "outputs": [],
   "source": [
    "# Construct input function for model\n",
    "fn = mnist_test_retest_input_fn(\n",
    "    X=None,\n",
    "    data_params=data_params,\n",
    "    train=False,\n",
    "    input_fn_config=input_config\n",
    ")\n",
    "res = est.predict(input_fn=fn) #, predict_keys=[\"hidden_features_test\", \"hidden_features_retest\"])"
   ]
  },
  {
   "cell_type": "code",
   "execution_count": 86,
   "metadata": {
    "scrolled": false
   },
   "outputs": [
    {
     "name": "stdout",
     "output_type": "stream",
     "text": [
      "INFO:tensorflow:Calling model_fn.\n",
      "INFO:tensorflow:Done calling model_fn.\n",
      "INFO:tensorflow:Graph was finalized.\n",
      "INFO:tensorflow:Restoring parameters from ../data/20180507-145400/model.ckpt-120\n",
      "INFO:tensorflow:Running local_init_op.\n",
      "INFO:tensorflow:Done running local_init_op.\n"
     ]
    }
   ],
   "source": [
    "# Collect hidden features\n",
    "hidden_features_test = []\n",
    "hidden_features_retest = []\n",
    "for r in res:\n",
    "    hidden_features_test.append(r[HIDDEN_FEATURES_TEST_LABEL])\n",
    "    hidden_features_retest.append(r[HIDDEN_FEATURES_RETEST_LABEL])\n",
    "hidden_features_test = np.array(hidden_features_test)\n",
    "hidden_features_retest = np.array(hidden_features_retest)"
   ]
  },
  {
   "cell_type": "markdown",
   "metadata": {},
   "source": [
    "# ICC Stats"
   ]
  },
  {
   "cell_type": "code",
   "execution_count": 87,
   "metadata": {},
   "outputs": [],
   "source": [
    "from src.test_retest.numpy_utils import per_feature_ICC, ICC_C1\n",
    "import matplotlib.pyplot as plt"
   ]
  },
  {
   "cell_type": "code",
   "execution_count": 88,
   "metadata": {},
   "outputs": [],
   "source": [
    "iccs = per_feature_ICC(hidden_features_test, hidden_features_retest, ICC_C1)"
   ]
  },
  {
   "cell_type": "code",
   "execution_count": 89,
   "metadata": {},
   "outputs": [
    {
     "data": {
      "image/png": "[encoded data removed]",
      "text/plain": [
       "<Figure size 864x576 with 1 Axes>"
      ]
     },
     "metadata": {},
     "output_type": "display_data"
    }
   ],
   "source": [
    "# Histogram\n",
    "bins = np.linspace(0.6, 1, 17).tolist()\n",
    "bins = [0] + bins\n",
    "plt.figure(figsize=(12,8))\n",
    "plt.grid(True, alpha=1)\n",
    "plt.rc('axes', axisbelow=True)\n",
    "plt.hist(iccs, bins=bins, edgecolor=\"black\")\n",
    "plt.title(\"Feature ICC histogram\")\n",
    "plt.xlabel(\"ICC value\")\n",
    "plt.ylabel(\"Count\")\n",
    "plt.savefig(os.path.join(\"generated_plots\", RECORD_LABEL + \"_icc_histo\" + '.pdf'))"
   ]
  },
  {
   "cell_type": "code",
   "execution_count": 90,
   "metadata": {},
   "outputs": [
    {
     "data": {
      "image/png": "[encoded data removed]",
      "text/plain": [
       "<Figure size 720x576 with 1 Axes>"
      ]
     },
     "metadata": {},
     "output_type": "display_data"
    }
   ],
   "source": [
    "# Cumulative\n",
    "y_values = np.linspace(0, 1, 100).tolist()\n",
    "# y_values = list(reversed(y_values))\n",
    "x_values = []\n",
    "plt.figure(figsize=(10,8))\n",
    "for y in y_values:\n",
    "    n_features = len(iccs)\n",
    "    x_values.append(np.mean(iccs <= y))\n",
    "plt.grid(True)\n",
    "plt.ylabel(\"Percentage of total number of features\")\n",
    "plt.xlabel(\"ICC value\")\n",
    "plt.title(\"Cumulative plot\")\n",
    "plt.plot(y_values, x_values)\n",
    "plt.savefig(os.path.join(\"generated_plots\", RECORD_LABEL + \"_icc_cumu\" + '.pdf'))"
   ]
  },
  {
   "cell_type": "markdown",
   "metadata": {},
   "source": [
    "# Load ICC matrices dumped by hook"
   ]
  },
  {
   "cell_type": "code",
   "execution_count": 3,
   "metadata": {},
   "outputs": [
    {
     "ename": "NameError",
     "evalue": "name 'os' is not defined",
     "output_type": "error",
     "traceback": [
      "\u001b[0;31m---------------------------------------------------------------------------\u001b[0m",
      "\u001b[0;31mNameError\u001b[0m                                 Traceback (most recent call last)",
      "\u001b[0;32m<ipython-input-3-f6aa0c846639>\u001b[0m in \u001b[0;36m<module>\u001b[0;34m()\u001b[0m\n\u001b[1;32m      1\u001b[0m \u001b[0;32mfrom\u001b[0m \u001b[0mipywidgets\u001b[0m \u001b[0;32mimport\u001b[0m \u001b[0minteract\u001b[0m\u001b[0;34m\u001b[0m\u001b[0m\n\u001b[0;32m----> 2\u001b[0;31m \u001b[0micc_path\u001b[0m \u001b[0;34m=\u001b[0m \u001b[0mos\u001b[0m\u001b[0;34m.\u001b[0m\u001b[0mpath\u001b[0m\u001b[0;34m.\u001b[0m\u001b[0mjoin\u001b[0m\u001b[0;34m(\u001b[0m\u001b[0mRECORD_PATH\u001b[0m\u001b[0;34m,\u001b[0m \u001b[0;34m\"icc\"\u001b[0m\u001b[0;34m)\u001b[0m\u001b[0;34m\u001b[0m\u001b[0m\n\u001b[0m\u001b[1;32m      3\u001b[0m \u001b[0mmeans\u001b[0m \u001b[0;34m=\u001b[0m \u001b[0;34m[\u001b[0m\u001b[0;34m]\u001b[0m\u001b[0;34m\u001b[0m\u001b[0m\n\u001b[1;32m      4\u001b[0m \u001b[0mstds\u001b[0m \u001b[0;34m=\u001b[0m \u001b[0;34m[\u001b[0m\u001b[0;34m]\u001b[0m\u001b[0;34m\u001b[0m\u001b[0m\n\u001b[1;32m      5\u001b[0m \u001b[0;32mfor\u001b[0m \u001b[0mfile_name\u001b[0m \u001b[0;32min\u001b[0m \u001b[0mos\u001b[0m\u001b[0;34m.\u001b[0m\u001b[0mlistdir\u001b[0m\u001b[0;34m(\u001b[0m\u001b[0micc_path\u001b[0m\u001b[0;34m)\u001b[0m\u001b[0;34m:\u001b[0m\u001b[0;34m\u001b[0m\u001b[0m\n",
      "\u001b[0;31mNameError\u001b[0m: name 'os' is not defined"
     ]
    }
   ],
   "source": [
    "from ipywidgets import interact\n",
    "icc_path = os.path.join(RECORD_PATH, \"icc\")\n",
    "means = []\n",
    "stds = []\n",
    "for file_name in os.listdir(icc_path):\n",
    "    path = os.path.join(icc_path, file_name)\n",
    "    iccs_per_batch = np.load(icc_path)\n",
    "    means.append(np.mean(iccs_per_batch, axis=0))\n",
    "    stds.append(np.std(iccs_per_batch, axis=0))\n",
    "\n",
    "means = np.array(means)\n",
    "stds = np.array(stds)\n",
    "lower = means - stds\n",
    "upper = means + stds\n",
    "\n",
    "def plot_feature_evolution(feature_id):\n",
    "    x = list(range(len(means)))\n",
    "    plt.plot(x, means[:, feature_id])\n",
    "    \n",
    "interact(plot_feature_evolution, feature_id=100)"
   ]
  },
  {
   "cell_type": "code",
   "execution_count": null,
   "metadata": {},
   "outputs": [],
   "source": []
  }
 ],
 "metadata": {
  "kernelspec": {
   "display_name": "Python 3",
   "language": "python",
   "name": "python3"
  },
  "language_info": {
   "codemirror_mode": {
    "name": "ipython",
    "version": 3
   },
   "file_extension": ".py",
   "mimetype": "text/x-python",
   "name": "python",
   "nbconvert_exporter": "python",
   "pygments_lexer": "ipython3",
   "version": "3.6.5"
  }
 },
 "nbformat": 4,
 "nbformat_minor": 2
}
