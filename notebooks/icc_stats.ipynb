{
 "cells": [
  {
   "cell_type": "code",
   "execution_count": 149,
   "metadata": {},
   "outputs": [
    {
     "name": "stdout",
     "output_type": "stream",
     "text": [
      "The autoreload extension is already loaded. To reload it, use:\n",
      "  %reload_ext autoreload\n"
     ]
    }
   ],
   "source": [
    "# Make module from local packages importable\n",
    "import os\n",
    "import sys\n",
    "nb_dir = os.path.split(os.getcwd())[0]\n",
    "if nb_dir not in sys.path:\n",
    "    sys.path.append(nb_dir)\n",
    "%load_ext autoreload\n",
    "%autoreload 2"
   ]
  },
  {
   "cell_type": "code",
   "execution_count": 150,
   "metadata": {},
   "outputs": [],
   "source": [
    "import tensorflow as tf\n",
    "import yaml\n",
    "\n",
    "from db_utils.db_connection import SumatraDB"
   ]
  },
  {
   "cell_type": "markdown",
   "metadata": {},
   "source": [
    "# Load trained model"
   ]
  },
  {
   "cell_type": "code",
   "execution_count": 186,
   "metadata": {},
   "outputs": [
    {
     "data": {
      "text/plain": [
       "{'class': 'src.test_retest.non_linear_estimator.MnistDeepTestRetestClassifier',\n",
       " 'params': {'config': {'keep_checkpoint_max': 5,\n",
       "   'log_step_count_steps': 100,\n",
       "   'save_checkpoints_steps': 100,\n",
       "   'save_summary_steps': 1,\n",
       "   'tf_random_seed': 42},\n",
       "  'data_params': {'data_path': 'data/mnist',\n",
       "   'test_size': 10000,\n",
       "   'test_test_retest': 'data/mnist_sampled_test_set/X_mnist_sampled_test_set.npy',\n",
       "   'train_size': 2000,\n",
       "   'train_test_retest': 'data/mnist_sampled_train_set/X_mnist_sampled_train_set.npy'},\n",
       "  'input_fn_config': {'batch_size': 64, 'num_epochs': 5, 'shuffle': True},\n",
       "  'params': {'hidden_layer_sizes': [784],\n",
       "   'input_dim': 784,\n",
       "   'lambda_o': 0,\n",
       "   'lambda_w': 0,\n",
       "   'learning_rate': 0.001,\n",
       "   'n_classes': 10,\n",
       "   'output_regularizer': 'js_divergence',\n",
       "   'weight_regularizer': 'l2'},\n",
       "  'sumatra_params': {'log_train': False}}}"
      ]
     },
     "execution_count": 186,
     "metadata": {},
     "output_type": "execute_result"
    }
   ],
   "source": [
    "DATA_PATH=\"../data\"\n",
    "RECORD_LABEL=\"20180508-142858\"\n",
    "RECORD_PATH=os.path.join(DATA_PATH, RECORD_LABEL)\n",
    "HIDDEN_FEATURES_TEST_LABEL = \"hidden_features_test_layer_0\"\n",
    "HIDDEN_FEATURES_RETEST_LABEL = \"hidden_features_retest_layer_0\"\n",
    "\n",
    "# Query config from database\n",
    "db = SumatraDB(db=\"../.smt/records\")\n",
    "COLUMNS = [\"label\", \"reason\", \"timestamp\", \"tags\", \"parameters_id\", \"version\"]\n",
    "record = db.get_filtered_by_label(COLUMNS, RECORD_LABEL)[0]\n",
    "config = db.get_params_dic(record.params_id)\n",
    "\n",
    "# Create folder for generated plots\n",
    "if not os.path.exists(\"generated_plots\"):\n",
    "    os.mkdir(\"generated_plots\")\n",
    "\n",
    "config"
   ]
  },
  {
   "cell_type": "code",
   "execution_count": 152,
   "metadata": {},
   "outputs": [],
   "source": [
    "import importlib\n",
    "# Load python class to construct object\n",
    "full_path = config[\"class\"]\n",
    "module_string = \".\".join(full_path.split(\".\")[:-1])\n",
    "module = importlib.import_module(module_string)\n",
    "class_ = getattr(module, full_path.split(\".\")[-1])\n",
    "obj = class_(**config[\"params\"])"
   ]
  },
  {
   "cell_type": "code",
   "execution_count": 153,
   "metadata": {},
   "outputs": [
    {
     "name": "stdout",
     "output_type": "stream",
     "text": [
      "INFO:tensorflow:Using default config.\n",
      "INFO:tensorflow:Using config: {'_model_dir': '../data/20180508-142858', '_tf_random_seed': None, '_save_summary_steps': 100, '_save_checkpoints_steps': None, '_save_checkpoints_secs': 600, '_session_config': None, '_keep_checkpoint_max': 5, '_keep_checkpoint_every_n_hours': 10000, '_log_step_count_steps': 100, '_service': None, '_cluster_spec': <tensorflow.python.training.server_lib.ClusterSpec object at 0x1821ab5f28>, '_task_type': 'worker', '_task_id': 0, '_global_id_in_cluster': 0, '_master': '', '_evaluation_master': '', '_is_chief': True, '_num_ps_replicas': 0, '_num_worker_replicas': 1}\n"
     ]
    }
   ],
   "source": [
    "# Construct estimator\n",
    "est = tf.estimator.Estimator(\n",
    "    model_fn=obj.model_fn,\n",
    "    model_dir=RECORD_PATH,\n",
    "    params=config[\"params\"][\"params\"]\n",
    ")"
   ]
  },
  {
   "cell_type": "code",
   "execution_count": 154,
   "metadata": {},
   "outputs": [],
   "source": [
    "# Print weight names"
   ]
  },
  {
   "cell_type": "code",
   "execution_count": 155,
   "metadata": {},
   "outputs": [
    {
     "data": {
      "text/plain": [
       "'\\nhidden_weights = est.get_variable_value(\\'hidden_weights\\')\\nhidden_bias = est.get_variable_value(\"hidden_bias\")\\nlogistic_weights = est.get_variable_value(\"logistic_weights\")\\nlogistic_bias = est.get_variable_value(\"logistic_bias\")\\n'"
      ]
     },
     "execution_count": 155,
     "metadata": {},
     "output_type": "execute_result"
    }
   ],
   "source": [
    "\"\"\"\n",
    "hidden_weights = est.get_variable_value('hidden_weights')\n",
    "hidden_bias = est.get_variable_value(\"hidden_bias\")\n",
    "logistic_weights = est.get_variable_value(\"logistic_weights\")\n",
    "logistic_bias = est.get_variable_value(\"logistic_bias\")\n",
    "\"\"\""
   ]
  },
  {
   "cell_type": "markdown",
   "metadata": {},
   "source": [
    "# Load sampled test-retest"
   ]
  },
  {
   "cell_type": "code",
   "execution_count": 156,
   "metadata": {},
   "outputs": [],
   "source": [
    "from src.data.mnist import read as mnist_read\n",
    "import numpy as np"
   ]
  },
  {
   "cell_type": "code",
   "execution_count": 157,
   "metadata": {},
   "outputs": [],
   "source": [
    "test, retest, labels = mnist_read.load_test_retest(\"../data/mnist\", \"../data/mnist_sampled_test_set/X_mnist_sampled_test_set.npy\", 10000, False)"
   ]
  },
  {
   "cell_type": "code",
   "execution_count": 158,
   "metadata": {},
   "outputs": [],
   "source": [
    "from src.test_retest.test_retest_base import mnist_test_retest_input_fn"
   ]
  },
  {
   "cell_type": "markdown",
   "metadata": {},
   "source": [
    "# Predict hidden features"
   ]
  },
  {
   "cell_type": "code",
   "execution_count": 159,
   "metadata": {},
   "outputs": [],
   "source": [
    "# Fix paths to run notebook from notebook path\n",
    "data_params = config[\"params\"][\"data_params\"]\n",
    "data_params[\"data_path\"] = os.path.join(\"..\", data_params[\"data_path\"])\n",
    "data_params[\"train_test_retest\"] = os.path.join(\"..\", data_params[\"train_test_retest\"])\n",
    "data_params[\"test_test_retest\"] = os.path.join(\"..\", data_params[\"test_test_retest\"])\n",
    "# Input configuration\n",
    "input_config = config[\"params\"][\"input_fn_config\"]\n",
    "input_config[\"num_epochs\"] = 1\n",
    "input_config[\"shuffle\"] = False"
   ]
  },
  {
   "cell_type": "code",
   "execution_count": 160,
   "metadata": {},
   "outputs": [],
   "source": [
    "# Construct input function for model\n",
    "fn = mnist_test_retest_input_fn(\n",
    "    X=None,\n",
    "    data_params=data_params,\n",
    "    train=False,\n",
    "    input_fn_config=input_config\n",
    ")\n",
    "res = est.predict(input_fn=fn) #, predict_keys=[\"hidden_features_test\", \"hidden_features_retest\"])"
   ]
  },
  {
   "cell_type": "code",
   "execution_count": 161,
   "metadata": {
    "scrolled": false
   },
   "outputs": [
    {
     "name": "stdout",
     "output_type": "stream",
     "text": [
      "INFO:tensorflow:Calling model_fn.\n",
      "INFO:tensorflow:Done calling model_fn.\n",
      "INFO:tensorflow:Graph was finalized.\n",
      "INFO:tensorflow:Restoring parameters from ../data/20180508-142858/model.ckpt-160\n",
      "INFO:tensorflow:Running local_init_op.\n",
      "INFO:tensorflow:Done running local_init_op.\n"
     ]
    }
   ],
   "source": [
    "# Collect hidden features\n",
    "hidden_features_test = []\n",
    "hidden_features_retest = []\n",
    "for r in res:\n",
    "    hidden_features_test.append(r[HIDDEN_FEATURES_TEST_LABEL])\n",
    "    hidden_features_retest.append(r[HIDDEN_FEATURES_RETEST_LABEL])\n",
    "hidden_features_test = np.array(hidden_features_test)\n",
    "hidden_features_retest = np.array(hidden_features_retest)"
   ]
  },
  {
   "cell_type": "markdown",
   "metadata": {},
   "source": [
    "# ICC Stats"
   ]
  },
  {
   "cell_type": "code",
   "execution_count": 162,
   "metadata": {},
   "outputs": [],
   "source": [
    "from src.test_retest.numpy_utils import per_feature_ICC, ICC_C1\n",
    "import matplotlib.pyplot as plt"
   ]
  },
  {
   "cell_type": "code",
   "execution_count": 163,
   "metadata": {},
   "outputs": [],
   "source": [
    "iccs = per_feature_ICC(hidden_features_test, hidden_features_retest, ICC_C1)"
   ]
  },
  {
   "cell_type": "code",
   "execution_count": 187,
   "metadata": {},
   "outputs": [
    {
     "data": {
      "image/png": "[encoded data removed]",
      "text/plain": [
       "<Figure size 864x576 with 1 Axes>"
      ]
     },
     "metadata": {},
     "output_type": "display_data"
    }
   ],
   "source": [
    "# Histogram\n",
    "bins = np.linspace(0.6, 1, 17).tolist()\n",
    "bins = [0] + bins\n",
    "plt.figure(figsize=(12,8))\n",
    "plt.grid(True, alpha=1)\n",
    "plt.rc('axes', axisbelow=True)\n",
    "plt.hist(iccs, bins=bins, edgecolor=\"black\")\n",
    "plt.title(\"Feature ICC histogram\")\n",
    "plt.xlabel(\"ICC value\")\n",
    "plt.ylabel(\"Count\")\n",
    "plt.savefig(os.path.join(\"generated_plots\", RECORD_LABEL + \"_icc_histo\" + '.pdf'))"
   ]
  },
  {
   "cell_type": "code",
   "execution_count": 188,
   "metadata": {},
   "outputs": [
    {
     "data": {
      "image/png": "[encoded data removed]",
      "text/plain": [
       "<Figure size 720x576 with 1 Axes>"
      ]
     },
     "metadata": {},
     "output_type": "display_data"
    }
   ],
   "source": [
    "# Cumulative\n",
    "y_values = np.linspace(0, 1, 100).tolist()\n",
    "# y_values = list(reversed(y_values))\n",
    "x_values = []\n",
    "plt.figure(figsize=(10,8))\n",
    "for y in y_values:\n",
    "    n_features = len(iccs)\n",
    "    x_values.append(np.mean(iccs <= y))\n",
    "plt.grid(True)\n",
    "plt.ylabel(\"Percentage of total number of features\")\n",
    "plt.xlabel(\"ICC value\")\n",
    "plt.title(\"Cumulative plot\")\n",
    "plt.plot(y_values, x_values)\n",
    "plt.savefig(os.path.join(\"generated_plots\", RECORD_LABEL + \"_icc_cumu\" + '.pdf'))"
   ]
  },
  {
   "cell_type": "code",
   "execution_count": null,
   "metadata": {},
   "outputs": [],
   "source": []
  }
 ],
 "metadata": {
  "kernelspec": {
   "display_name": "Python 3",
   "language": "python",
   "name": "python3"
  },
  "language_info": {
   "codemirror_mode": {
    "name": "ipython",
    "version": 3
   },
   "file_extension": ".py",
   "mimetype": "text/x-python",
   "name": "python",
   "nbconvert_exporter": "python",
   "pygments_lexer": "ipython3",
   "version": "3.6.5"
  }
 },
 "nbformat": 4,
 "nbformat_minor": 2
}
