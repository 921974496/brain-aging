{
 "cells": [
  {
   "cell_type": "code",
   "execution_count": 12,
   "metadata": {},
   "outputs": [
    {
     "name": "stdout",
     "output_type": "stream",
     "text": [
      "('Validation patients count in Dict: ', 201, 'Train patients count in Dict:', 659)\n"
     ]
    }
   ],
   "source": [
    "import os\n",
    "import sys\n",
    "import numpy as np\n",
    "import nibabel as nib\n",
    "import pickle\n",
    "from PIL import Image\n",
    "import matplotlib.pyplot as plt\n",
    "%matplotlib inline\n",
    "os.chdir('/local/home/dhaziza/entrack')\n",
    "os.environ[\"CUDA_DEVICE_ORDER\"]=\"PCI_BUS_ID\"   # see issue #152\n",
    "sys.path.append('/local/home/dhaziza/entrack/')\n",
    "\n",
    "from src.data.providers.py_streaming import get_train_test_filenames\n",
    "\n",
    "config = {\n",
    "  'classes': ['healthy', 'health_pd'],\n",
    "  'data_paths': {\n",
    "    'datadir': '/local/PPMI/_brain_registered_2mm/',\n",
    "    'class_labels': '/local/PPMI/PPMI_T2_NC_PD_vanilla_labels.pkl',\n",
    "    'valid_data': '/local/PPMI/PPMI_T2_NC_PD_vanilla_test.pkl',\n",
    "    'train_data': '/local/PPMI/PPMI_T2_NC_PD_vanilla_train.pkl',\n",
    "    'regex': '\\.nii\\.gz',\n",
    "    'split_on': '.nii.gz',\n",
    "  }\n",
    "}\n",
    "train, valid = get_train_test_filenames(config)"
   ]
  },
  {
   "cell_type": "code",
   "execution_count": 14,
   "metadata": {},
   "outputs": [
    {
     "name": "stdout",
     "output_type": "stream",
     "text": [
      "c0[train]: Done 0 / 149\n",
      "c1[train]: Done 0 / 478\n",
      "c1[train]: Done 300 / 478\n",
      "c0[valid]: Done 0 / 48\n",
      "c1[valid]: Done 0 / 144\n"
     ]
    }
   ],
   "source": [
    "ROOT_DATA_DIR = 'notebooks/2d_crops_pd'\n",
    "z_slices = range(20, 70, 2)\n",
    "\n",
    "def normalize(v):\n",
    "    v = v - np.mean(v)\n",
    "    norm = np.std(v)\n",
    "    if norm == 0:\n",
    "        return v\n",
    "    return v / norm\n",
    "\n",
    "def dump_files(files, _class, train, plot=False):\n",
    "    total_todo = len(files)\n",
    "    print_every = 300\n",
    "    train_text = 'train' if train else 'valid'\n",
    "    files.sort()\n",
    "    for i, f in enumerate(files):\n",
    "        data = nib.load(f).get_data().astype(np.float32)\n",
    "        data = normalize(data)\n",
    "        for z in z_slices:\n",
    "            try:\n",
    "                os.makedirs('%s/z%d/c%d_z%d' % (ROOT_DATA_DIR, z, _class, z))\n",
    "            except OSError: # Directory exists\n",
    "                pass\n",
    "            save_to = '%s/z%d/c%d_z%d/%d_%s.jpg' % (\n",
    "                ROOT_DATA_DIR, z, _class, z, i, train_text)\n",
    "            sliced_data = data[:, :, z]\n",
    "            sliced_data = (sliced_data*10 + 128)\n",
    "            sliced_data = sliced_data.astype(np.uint8)\n",
    "            im = Image.fromarray(sliced_data)\n",
    "            im.save(save_to)\n",
    "        if i % print_every == 0:\n",
    "            print('c%d[%s]: Done %d / %d' % (_class, train_text, i, total_todo))\n",
    "        \n",
    "dump_files(train[0], 0, True)\n",
    "dump_files(train[1], 1, True)\n",
    "dump_files(valid[0], 0, False)\n",
    "dump_files(valid[1], 1, False)"
   ]
  }
 ],
 "metadata": {
  "kernelspec": {
   "display_name": "Python 2",
   "language": "python",
   "name": "python2"
  },
  "language_info": {
   "codemirror_mode": {
    "name": "ipython",
    "version": 2
   },
   "file_extension": ".py",
   "mimetype": "text/x-python",
   "name": "python",
   "nbconvert_exporter": "python",
   "pygments_lexer": "ipython2",
   "version": "2.7.12"
  }
 },
 "nbformat": 4,
 "nbformat_minor": 2
}
