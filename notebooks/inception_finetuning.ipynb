{
 "cells": [
  {
   "cell_type": "code",
   "execution_count": 1,
   "metadata": {},
   "outputs": [
    {
     "name": "stdout",
     "output_type": "stream",
     "text": [
      "('Validation patients count in Dict: ', 800, 'Train patients count in Dict:', 14370)\n",
      "('Train Class ', 0, 6218)\n",
      "('Valid Class ', 0, 400)\n",
      "('Train Class ', 1, 8152)\n",
      "('Valid Class ', 1, 400)\n"
     ]
    }
   ],
   "source": [
    "import os\n",
    "import sys\n",
    "import numpy as np\n",
    "import nibabel as nib\n",
    "import pickle\n",
    "from PIL import Image\n",
    "import matplotlib.pyplot as plt\n",
    "%matplotlib inline\n",
    "os.chdir('/local/home/dhaziza/entrack')\n",
    "os.environ[\"CUDA_DEVICE_ORDER\"]=\"PCI_BUS_ID\"   # see issue #152\n",
    "sys.path.append('/local/home/dhaziza/entrack/')\n",
    "\n",
    "from src.data.providers.py_streaming import get_train_test_filenames\n",
    "\n",
    "config = {\n",
    "    'classes': 2,\n",
    "    'data_paths': {\n",
    "        'datadir': '/local/ADNI_AIBL/ADNI_AIBL_T1_normalized/train_NC_AD/',\n",
    "        'class_labels': '/local/ADNI_AIBL/ADNI_AIBL_T1_normalized/py2/AIBL_ADNI_class_labels_T1_NC_AD.pkl',\n",
    "        'valid_data': '/local/ADNI_AIBL/ADNI_AIBL_T1_normalized/py2/AIBL_ADNI_valid_T1_NC_AD.pkl',\n",
    "        'train_data': '/local/ADNI_AIBL/ADNI_AIBL_T1_normalized/py2/AIBL_ADNI_train_T1_NC_AD.pkl',\n",
    "        'regex': '_normalized\\.nii\\.gz',\n",
    "        'split_on': '_normalized.nii.gz',\n",
    "    }\n",
    "}\n",
    "train, valid = get_train_test_filenames(config)"
   ]
  },
  {
   "cell_type": "code",
   "execution_count": 2,
   "metadata": {},
   "outputs": [
    {
     "name": "stdout",
     "output_type": "stream",
     "text": [
      "notebooks/2d_crops/c0[train]: Done 0 / 6218\n",
      "notebooks/2d_crops/c0[train]: Done 621 / 6218\n",
      "notebooks/2d_crops/c0[train]: Done 1242 / 6218\n",
      "notebooks/2d_crops/c0[train]: Done 1863 / 6218\n",
      "notebooks/2d_crops/c0[train]: Done 2484 / 6218\n",
      "notebooks/2d_crops/c0[train]: Done 3105 / 6218\n",
      "notebooks/2d_crops/c0[train]: Done 3726 / 6218\n",
      "notebooks/2d_crops/c0[train]: Done 4347 / 6218\n",
      "notebooks/2d_crops/c0[train]: Done 4968 / 6218\n",
      "notebooks/2d_crops/c0[train]: Done 5589 / 6218\n",
      "notebooks/2d_crops/c0[train]: Done 6210 / 6218\n",
      "notebooks/2d_crops/c1[train]: Done 0 / 8152\n",
      "notebooks/2d_crops/c1[train]: Done 815 / 8152\n",
      "notebooks/2d_crops/c1[train]: Done 1630 / 8152\n",
      "notebooks/2d_crops/c1[train]: Done 2445 / 8152\n",
      "notebooks/2d_crops/c1[train]: Done 3260 / 8152\n",
      "notebooks/2d_crops/c1[train]: Done 4075 / 8152\n",
      "notebooks/2d_crops/c1[train]: Done 4890 / 8152\n",
      "notebooks/2d_crops/c1[train]: Done 5705 / 8152\n",
      "notebooks/2d_crops/c1[train]: Done 6520 / 8152\n",
      "notebooks/2d_crops/c1[train]: Done 7335 / 8152\n",
      "notebooks/2d_crops/c1[train]: Done 8150 / 8152\n",
      "notebooks/2d_crops/c0[valid]: Done 0 / 400\n",
      "notebooks/2d_crops/c0[valid]: Done 40 / 400\n",
      "notebooks/2d_crops/c0[valid]: Done 80 / 400\n",
      "notebooks/2d_crops/c0[valid]: Done 120 / 400\n",
      "notebooks/2d_crops/c0[valid]: Done 160 / 400\n",
      "notebooks/2d_crops/c0[valid]: Done 200 / 400\n",
      "notebooks/2d_crops/c0[valid]: Done 240 / 400\n",
      "notebooks/2d_crops/c0[valid]: Done 280 / 400\n",
      "notebooks/2d_crops/c0[valid]: Done 320 / 400\n",
      "notebooks/2d_crops/c0[valid]: Done 360 / 400\n",
      "notebooks/2d_crops/c1[valid]: Done 0 / 400\n",
      "notebooks/2d_crops/c1[valid]: Done 40 / 400\n",
      "notebooks/2d_crops/c1[valid]: Done 80 / 400\n",
      "notebooks/2d_crops/c1[valid]: Done 120 / 400\n",
      "notebooks/2d_crops/c1[valid]: Done 160 / 400\n",
      "notebooks/2d_crops/c1[valid]: Done 200 / 400\n",
      "notebooks/2d_crops/c1[valid]: Done 240 / 400\n",
      "notebooks/2d_crops/c1[valid]: Done 280 / 400\n",
      "notebooks/2d_crops/c1[valid]: Done 320 / 400\n",
      "notebooks/2d_crops/c1[valid]: Done 360 / 400\n"
     ]
    }
   ],
   "source": [
    "ROOT_DATA_DIR = 'notebooks/2d_crops'\n",
    "def dump_files(files, _class, train, plot=False):\n",
    "    save_folder = '%s/c%s' % (ROOT_DATA_DIR, _class)\n",
    "    total_todo = len(files)\n",
    "    print_every = total_todo / 10\n",
    "    train_text = 'train' if train else 'valid'\n",
    "    files.sort()\n",
    "    for i, f in enumerate(files):\n",
    "        save_to = '%s/%d_%s.jpg' % (save_folder, i, train_text)\n",
    "        data = nib.load(f).get_data()\n",
    "        data = data[:, :, 45]\n",
    "        data = (data*10 + 128)\n",
    "        data = data.astype(np.uint8)\n",
    "        if plot:\n",
    "            print data.shape\n",
    "            plt.imshow(data)\n",
    "            plt.show()\n",
    "        im = Image.fromarray(data)\n",
    "        im.save(save_to)\n",
    "        if i % print_every == 0:\n",
    "            print('%s[%s]: Done %d / %d' % (save_folder, train_text, i, total_todo))\n",
    "        \n",
    "dump_files(train[0], 0, True)\n",
    "dump_files(train[1], 1, True)\n",
    "dump_files(valid[0], 0, False)\n",
    "dump_files(valid[1], 1, False)"
   ]
  }
 ],
 "metadata": {
  "kernelspec": {
   "display_name": "Python 2",
   "language": "python",
   "name": "python2"
  },
  "language_info": {
   "codemirror_mode": {
    "name": "ipython",
    "version": 2
   },
   "file_extension": ".py",
   "mimetype": "text/x-python",
   "name": "python",
   "nbconvert_exporter": "python",
   "pygments_lexer": "ipython2",
   "version": "2.7.12"
  }
 },
 "nbformat": 4,
 "nbformat_minor": 2
}
