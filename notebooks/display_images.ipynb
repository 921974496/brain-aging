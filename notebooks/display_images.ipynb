{
 "cells": [
  {
   "cell_type": "code",
   "execution_count": null,
   "metadata": {},
   "outputs": [],
   "source": [
    "import os\n",
    "import sys\n",
    "import numpy as np\n",
    "import matplotlib.pyplot as plt\n",
    "%matplotlib inline\n",
    "os.chdir('/local/home/dhaziza/entrack')\n",
    "sys.path.append('/local/home/dhaziza/entrack/')\n",
    "os.environ[\"CUDA_DEVICE_ORDER\"]=\"PCI_BUS_ID\"   # see issue #152\n",
    "os.environ[\"CUDA_VISIBLE_DEVICES\"]=\"4\"\n",
    "\n",
    "\n",
    "import glob\n",
    "import random\n",
    "import nibabel as nib\n",
    "from src.data.plots import display_image_path"
   ]
  },
  {
   "cell_type": "code",
   "execution_count": null,
   "metadata": {
    "scrolled": false
   },
   "outputs": [],
   "source": [
    "def display_all(gl):\n",
    "    print(gl)\n",
    "    files = glob.glob(gl)\n",
    "    for f in files:\n",
    "        #f = random.choice(files)\n",
    "        print(f)\n",
    "        display_image_path(f)\n",
    "\n",
    "#_ = display_all('data/raw/KOLN_T1/*/*/*.nii.gz', [256, 256, 128])\n",
    "#display_all('/local/OASIS/OASIS_normalized/CV1/*.nii.gz')\n",
    "_ = display_image_path('data/raw/templates/MNI152_T1_1mm_brain.nii.gz')\n",
    "_ = display_image_path('data/raw/templates/MNI152_T2_1mm_brain.nii.gz')\n",
    "\n",
    "#display_all('data/raw/templates/*.nii.gz')\n",
    "#display_all('/local/PPMI/_registered_2mm/*.nii.gz')\n",
    "#display_all('/local/PPMI/_brain_extracted_2mm/*.nii.gz')\n",
    "display_all('/local/PPMI/_brain_extracted_1mm/*.nii.gz')\n",
    "#display_all('/local/PPMI/_brain_registered_2mm/*.nii.gz')\n",
    "\n",
    "### ADNI/AIBL\n",
    "#display_all('/local/ADNI_AIBL/ADNI_AIBL_T1_smoothed/all_images/*.nii.gz')\n",
    "#display_all('/local/ADNI_AIBL/ADNI_AIBL_T1_normalized/train/*.nii.gz')\n",
    "#display_all('/local/ADNI_AIBL/ADNI_AIBL_T2_smoothed/*.nii.gz')\n",
    "#display_all('/local/ADNI_AIBL/ADNI_AIBL_T2_normalized/train/*.nii.gz')\n"
   ]
  },
  {
   "cell_type": "code",
   "execution_count": null,
   "metadata": {
    "scrolled": false
   },
   "outputs": [],
   "source": [
    "def debug_images_ppmi(ids=['*']):\n",
    "    for id in ids:\n",
    "        if id != '*':\n",
    "            for f in glob.glob('/local/PPMI/raw/*/*/*/*/*I%s.nii' % id):\n",
    "                print(f)\n",
    "                display_image_path(f)\n",
    "        for f in glob.glob('/local/PPMI/01*/I%s.nii.gz' % id):\n",
    "            if len(f.split('/')[-1].split('_')) > 1:\n",
    "                continue\n",
    "            print(f)\n",
    "            display_image_path(f)\n",
    "        for f in glob.glob('/local/PPMI/12*/I%s.nii.gz' % id):\n",
    "            if len(f.split('/')[-1].split('_')) > 1:\n",
    "                continue\n",
    "            print(f)\n",
    "            display_image_path(f)\n",
    "\n",
    "def debug_display_ppmi():\n",
    "    print('PPMI')\n",
    "    for f in glob.glob('/local/PPMI/02*/*.nii.gz'):\n",
    "        if len(f.split('/')[-1].split('_')) > 1:\n",
    "            continue\n",
    "        print(f)\n",
    "        display_image_path(f)\n",
    "\n",
    "\n",
    "def debug_display_koln_t2(ids=['*']):\n",
    "    print('KOLN/T2')\n",
    "    for img in ids:\n",
    "        if img != '*':\n",
    "            for f in glob.glob('/local/KOLN/T2/raw/*/%s/*.nii.gz' % img):\n",
    "                print(f)\n",
    "                display_image_path(f)\n",
    "        for f in glob.glob('/local/KOLN/T2/01*/I%s.nii.gz' % img):\n",
    "            if len(f.split('/')[-1].split('_')) > 1:\n",
    "                continue\n",
    "            print(f)\n",
    "            display_image_path(f)\n",
    "\n",
    "def debug_display_adni_t2():\n",
    "    for f in glob.glob('/local/ADNI_AIBL/ADNI_AIBL_T2_smoothed/*.nii.gz'):\n",
    "        print(f)\n",
    "        display_image_path(f)\n",
    "        \n",
    "PPMI_WRONG = [498879, 369009, 769275, 430154, 436355, 901139, 491582, 368565]\n",
    "PPMI_WRONG = [366339, 373999, 340757, 249413, 364028, 366334, 223787, 366361, 382297, 378210]\n",
    "KOLN_BUGGED = [150622, 111104, 150706, 120210]\n",
    "#print('rm ' + ' '.join(['/local/PPMI/01_brain_extracted/I%d.nii.gz' % i for i in PPMI_WRONG]))\n",
    "debug_images_ppmi([713705])\n",
    "#debug_display_koln_t2()\n",
    "#debug_display_adni_t2()"
   ]
  },
  {
   "cell_type": "code",
   "execution_count": null,
   "metadata": {
    "scrolled": false
   },
   "outputs": [],
   "source": [
    "import subprocess\n",
    "import os\n",
    "\n",
    "\n",
    "def koln_data(img):\n",
    "    return '/local/KOLN/T2/raw/*/%s/*.nii.gz' % img\n",
    "def ppmi_data(img):\n",
    "    return '/local/PPMI/raw/*/*/*/*/*I%s.nii' % img\n",
    "\n",
    "def extract_and_display(id_list, id_to_file, options_list):\n",
    "    print('------------- extract_and_display -------------')\n",
    "    for idx, img in enumerate(id_list):\n",
    "        print('------------- image %s' % (img))\n",
    "        raw_file = glob.glob(id_to_file(img))\n",
    "        assert(len(raw_file) > 0)\n",
    "        if len(raw_file) > 1:\n",
    "            print('[WARNING] Several files with this id. Taking the first one (%s)' % raw_file[0])\n",
    "        raw_file = raw_file[0]\n",
    "        #orig_data = display_image_path(raw_file)\n",
    "        #print(orig_data.shape)\n",
    "        for options in options_list:\n",
    "            mri_output = '/tmp/bet_test/%s.nii.gz' % img\n",
    "            cmd = 'bet {mri_image} {mri_output} {options}'\n",
    "            cmd = cmd.format(\n",
    "                mri_image=raw_file,\n",
    "                mri_output=mri_output,\n",
    "                options=options,\n",
    "            )\n",
    "            os.environ['FSLOUTPUTTYPE'] = 'NIFTI_GZ'\n",
    "            os.environ['FSLDIR'] = '/local/fsl'\n",
    "            print(cmd)\n",
    "            subprocess.call(cmd, shell=True)\n",
    "            display_image_path(mri_output)\n",
    "\n",
    "#extract_and_display(KOLN_BUGGED, koln_data, ['-f 0.5'])\n",
    "extract_and_display(PPMI_WRONG, ppmi_data, ['-f 0.1', '-S -f 0.8', '-B -f 0.8'])"
   ]
  },
  {
   "cell_type": "code",
   "execution_count": null,
   "metadata": {
    "scrolled": true
   },
   "outputs": [],
   "source": [
    "extract_and_display(PPMI_WRONG, ppmi_data, ['-f 0.1', '-f 0.15', '-f 0.2'])"
   ]
  },
  {
   "cell_type": "code",
   "execution_count": null,
   "metadata": {
    "scrolled": false
   },
   "outputs": [],
   "source": [
    "extract_and_display(PPMI_WRONG, ppmi_data, ['-f 0.1', '-R -f 0.1', '-S -f 0.1', '-B -f 0.1', '-A -f 0.1'])"
   ]
  },
  {
   "cell_type": "code",
   "execution_count": null,
   "metadata": {},
   "outputs": [],
   "source": []
  }
 ],
 "metadata": {
  "kernelspec": {
   "display_name": "Python 2",
   "language": "python",
   "name": "python2"
  },
  "language_info": {
   "codemirror_mode": {
    "name": "ipython",
    "version": 2
   },
   "file_extension": ".py",
   "mimetype": "text/x-python",
   "name": "python",
   "nbconvert_exporter": "python",
   "pygments_lexer": "ipython2",
   "version": "2.7.12"
  }
 },
 "nbformat": 4,
 "nbformat_minor": 2
}
