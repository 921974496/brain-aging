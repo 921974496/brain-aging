{
 "cells": [
  {
   "cell_type": "code",
   "execution_count": null,
   "metadata": {},
   "outputs": [],
   "source": [
    "import os\n",
    "import sys\n",
    "os.chdir('/local/home/dhaziza/entrack')\n",
    "os.environ[\"CUDA_DEVICE_ORDER\"]=\"PCI_BUS_ID\"   # see issue #152\n",
    "os.environ[\"CUDA_VISIBLE_DEVICES\"]=\"4\"\n",
    "sys.path.append('/local/home/dhaziza/entrack/')"
   ]
  },
  {
   "cell_type": "code",
   "execution_count": null,
   "metadata": {
    "scrolled": false
   },
   "outputs": [],
   "source": [
    "def display(gl):\n",
    "    print gl\n",
    "    import glob\n",
    "    import random\n",
    "    import nibabel as nib\n",
    "    import matplotlib.pyplot as plt\n",
    "    %matplotlib inline\n",
    "    \n",
    "    files = glob.glob(gl)\n",
    "    for i in range(4):\n",
    "        f = random.choice(files)\n",
    "        dat = nib.load(f).get_data()\n",
    "        if i == 0:\n",
    "            print(dat.shape)\n",
    "        print f\n",
    "        plt.imshow(dat[:,:,50])\n",
    "        plt.show()\n",
    "\n",
    "display('data/raw/KOLN_T1/*/*/*.nii.gz')\n",
    "#display('/local/ADNI_AIBL/ADNI_AIBL_T1_smoothed/ADNI/*.nii.gz')\n",
    "display('/local/ADNI_AIBL/ADNI_AIBL_T1_normalized/train/*.nii.gz')\n",
    "#display('/local/OASIS/OASIS_normalized/CV1/*.nii.gz')"
   ]
  }
 ],
 "metadata": {
  "kernelspec": {
   "display_name": "Python 2",
   "language": "python",
   "name": "python2"
  },
  "language_info": {
   "codemirror_mode": {
    "name": "ipython",
    "version": 2
   },
   "file_extension": ".py",
   "mimetype": "text/x-python",
   "name": "python",
   "nbconvert_exporter": "python",
   "pygments_lexer": "ipython2",
   "version": "2.7.12"
  }
 },
 "nbformat": 4,
 "nbformat_minor": 2
}
