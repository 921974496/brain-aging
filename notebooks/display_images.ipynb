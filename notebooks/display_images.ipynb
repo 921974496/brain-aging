{
 "cells": [
  {
   "cell_type": "code",
   "execution_count": null,
   "metadata": {},
   "outputs": [],
   "source": [
    "import os\n",
    "import sys\n",
    "import numpy as np\n",
    "import matplotlib.pyplot as plt\n",
    "%matplotlib inline\n",
    "os.chdir('/local/home/dhaziza/entrack')\n",
    "sys.path.append('/local/home/dhaziza/entrack/')\n",
    "os.environ[\"CUDA_DEVICE_ORDER\"]=\"PCI_BUS_ID\"   # see issue #152\n",
    "os.environ[\"CUDA_VISIBLE_DEVICES\"]=\"4\"\n",
    "\n",
    "\n",
    "import glob\n",
    "import random\n",
    "import nibabel as nib\n",
    "from src.data.plots import display_image_path"
   ]
  },
  {
   "cell_type": "code",
   "execution_count": null,
   "metadata": {
    "scrolled": false
   },
   "outputs": [],
   "source": [
    "def display_all(gl, filter_shape=None):\n",
    "    print(gl)\n",
    "    files = glob.glob(gl)\n",
    "    all_data = []\n",
    "    for f in files:\n",
    "        #f = random.choice(files)\n",
    "        dat = display_image_path(f)\n",
    "        if filter_shape is not None and list(filter_shape) != list(dat.shape):\n",
    "            continue\n",
    "        all_data.append(dat)\n",
    "    all_data = np.array(all_data)\n",
    "    # Percentile\n",
    "    ptiles_x = np.linspace(0, 100, num=100)\n",
    "    ptiles = np.percentile(all_data, ptiles_x)\n",
    "    plt.plot(ptiles_x, ptiles)\n",
    "    plt.title(\"Intensity percentiles\")\n",
    "    plt.xlabel(\"%\")\n",
    "    plt.ylabel(\"Percentile value\")\n",
    "    plt.show()\n",
    "    for p in range(0, 100, 10):\n",
    "        print('Percentile %f%%: %f' % (p, ptiles[p]))\n",
    "    plt.plot(ptiles_x, np.log(ptiles+10))\n",
    "    plt.title(\"Intensity percentiles (log scale)\")\n",
    "    plt.xlabel(\"%\")\n",
    "    plt.ylabel(\"log(10 + percentile value)\")\n",
    "    plt.show()\n",
    "    # Histogram\n",
    "    hist_bins = 100\n",
    "    hist_range = (0, 1000)\n",
    "    hgram, _ = np.histogram(all_data, bins=hist_bins, range=hist_range)\n",
    "    plt.plot(\n",
    "        np.linspace(hist_range[0], hist_range[1], num=hist_bins),\n",
    "        [[v, 0] for v in hgram]\n",
    "    )\n",
    "    plt.title(\"Intensity Histogram\")\n",
    "    plt.xlabel(\"Voxel intensity\")\n",
    "    plt.ylabel(\"Count\")\n",
    "    plt.show()\n",
    "\n",
    "#_ = display_all('data/raw/KOLN_T1/*/*/*.nii.gz', [256, 256, 128])\n",
    "#display_all('/local/ADNI_AIBL/ADNI_AIBL_T1_smoothed/ADNI/*.nii.gz')\n",
    "#display_all('/local/ADNI_AIBL/ADNI_AIBL_T1_normalized/train/*.nii.gz')\n",
    "#display_all('/local/OASIS/OASIS_normalized/CV1/*.nii.gz')\n",
    "_ = display_image_path('/local/fsl/data/standard/MNI152_T1_1mm_brain.nii.gz')\n",
    "display_all('/local/PPMI/02_registered/*.nii.gz')\n"
   ]
  },
  {
   "cell_type": "code",
   "execution_count": null,
   "metadata": {},
   "outputs": [],
   "source": [
    "for f in glob.glob('/local/PPMI/02_registered/*.nii.gz'):\n",
    "    display_image_path(f)"
   ]
  }
 ],
 "metadata": {
  "kernelspec": {
   "display_name": "Python 2",
   "language": "python",
   "name": "python2"
  },
  "language_info": {
   "codemirror_mode": {
    "name": "ipython",
    "version": 2
   },
   "file_extension": ".py",
   "mimetype": "text/x-python",
   "name": "python",
   "nbconvert_exporter": "python",
   "pygments_lexer": "ipython2",
   "version": "2.7.12"
  }
 },
 "nbformat": 4,
 "nbformat_minor": 2
}
