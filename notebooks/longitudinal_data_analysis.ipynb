{
 "cells": [
  {
   "cell_type": "code",
   "execution_count": 2,
   "metadata": {},
   "outputs": [],
   "source": [
    "# Make module from local packages importable\n",
    "import os\n",
    "os.chdir('/home/mhoerold/entrack')"
   ]
  },
  {
   "cell_type": "code",
   "execution_count": 3,
   "metadata": {},
   "outputs": [],
   "source": [
    "import pandas as pd\n",
    "import matplotlib.pyplot as plt\n",
    "import numpy as np\n",
    "import csv\n",
    "import bisect"
   ]
  },
  {
   "cell_type": "code",
   "execution_count": 9,
   "metadata": {},
   "outputs": [],
   "source": [
    "file_path = \"data/raw/csv/adni_aibl_exact_age.csv\"\n",
    "df = pd.read_csv(file_path)"
   ]
  },
  {
   "cell_type": "code",
   "execution_count": 10,
   "metadata": {},
   "outputs": [],
   "source": [
    "data_dic = df.to_dict('records')"
   ]
  },
  {
   "cell_type": "markdown",
   "metadata": {},
   "source": [
    "## Distribution of time intervals between images of the same patient"
   ]
  },
  {
   "cell_type": "markdown",
   "metadata": {},
   "source": [
    "### All possible pairs"
   ]
  },
  {
   "cell_type": "code",
   "execution_count": 5,
   "metadata": {},
   "outputs": [
    {
     "data": {
      "text/plain": [
       "Index(['health_ad', 'patient_label', 'sex', 'health_emci', 'mri_manufacturer',\n",
       "       'health_lmci', 'health_smc', 'dataset', 'health_mci',\n",
       "       'study_patient_id', 'healthy', 'age', 'study_id', 'mri_field_strength',\n",
       "       'study_image_id', 'image_label', 'age_exact', 'weighting'],\n",
       "      dtype='object')"
      ]
     },
     "execution_count": 5,
     "metadata": {},
     "output_type": "execute_result"
    }
   ],
   "source": [
    "df.columns"
   ]
  },
  {
   "cell_type": "code",
   "execution_count": 11,
   "metadata": {},
   "outputs": [],
   "source": [
    "patients = df.patient_label.unique()"
   ]
  },
  {
   "cell_type": "code",
   "execution_count": 14,
   "metadata": {},
   "outputs": [],
   "source": [
    "def all_age_differences(patients, diag_pair, reduce_same_day_images=False):\n",
    "    diffs = []\n",
    "    labels = []\n",
    "    for pat in patients:\n",
    "        cur_df = df.loc[df.patient_label == pat]\n",
    "        cur_df = cur_df.sort_values(by=['age_exact'])\n",
    "        records = cur_df.to_dict('records')\n",
    "        \n",
    "        if reduce_same_day_images:\n",
    "            to_remove = list()\n",
    "            for i in range(1, len(records)):\n",
    "                if records[i]['age_exact'] == records[i - 1]['age_exact']:\n",
    "                    to_remove.append(i)\n",
    "            to_remove.reverse()\n",
    "            for i in to_remove:\n",
    "                del records[i]\n",
    "        \n",
    "        n = len(records)\n",
    "        for i in range(n):\n",
    "            a = records[i]\n",
    "            for j in range(i + 1, n):\n",
    "                b = records[j]\n",
    "                if a[diag_pair[0]] == 1 and b[diag_pair[1]] == 1:\n",
    "                    diffs.append(b['age_exact'] - a['age_exact'])\n",
    "                    labels.append(pat)\n",
    "\n",
    "    return labels, diffs"
   ]
  },
  {
   "cell_type": "code",
   "execution_count": 15,
   "metadata": {},
   "outputs": [
    {
     "name": "stdout",
     "output_type": "stream",
     "text": [
      "7824\n"
     ]
    },
    {
     "data": {
      "text/plain": [
       "(array([ 250.,  540.,  684.,  606., 1042.,  225.,  240.,  419.,  861.,\n",
       "         159.,  129.,  198.,  558.,  105.,  109.,  164.,  311.,   84.,\n",
       "          67.,  108.,  219.,   74.,   45.,   69.,  133.,   53.,   41.,\n",
       "          46.,   84.,   35.,   18.,   20.,   50.,   12.,   12.,    7.,\n",
       "          27.,    7.,    3.,    4.,    6.,    0.,    0.,    0.,    0.,\n",
       "           0.,    0.,    0.,    0.,    0.,    0.,    0.]),\n",
       " array([ 0.  ,  0.25,  0.5 ,  0.75,  1.  ,  1.25,  1.5 ,  1.75,  2.  ,\n",
       "         2.25,  2.5 ,  2.75,  3.  ,  3.25,  3.5 ,  3.75,  4.  ,  4.25,\n",
       "         4.5 ,  4.75,  5.  ,  5.25,  5.5 ,  5.75,  6.  ,  6.25,  6.5 ,\n",
       "         6.75,  7.  ,  7.25,  7.5 ,  7.75,  8.  ,  8.25,  8.5 ,  8.75,\n",
       "         9.  ,  9.25,  9.5 ,  9.75, 10.  , 10.25, 10.5 , 10.75, 11.  ,\n",
       "        11.25, 11.5 , 11.75, 12.  , 12.25, 12.5 , 12.75, 13.  ]),\n",
       " <a list of 52 Patch objects>)"
      ]
     },
     "execution_count": 15,
     "metadata": {},
     "output_type": "execute_result"
    },
    {
     "data": {
      "image/png": "[encoded data removed]",
      "text/plain": [
       "<Figure size 576x288 with 1 Axes>"
      ]
     },
     "metadata": {},
     "output_type": "display_data"
    }
   ],
   "source": [
    "bins = np.linspace(0, 13, 13*4 + 1)\n",
    "labels, diffs = all_age_differences(patients, ('healthy', 'healthy'), True)\n",
    "print(len(diffs))\n",
    "plt.figure(figsize=(8, 4))\n",
    "plt.title(\"All HC/HC same patient pairs\")\n",
    "plt.xlabel(\"Age difference\")\n",
    "plt.ylabel(\"Number of pairs\")\n",
    "plt.xticks(np.linspace(0, 13, 13 * 2 + 1), rotation='vertical')\n",
    "plt.hist(diffs, bins=bins, edgecolor='black')"
   ]
  },
  {
   "cell_type": "code",
   "execution_count": 9,
   "metadata": {
    "collapsed": true
   },
   "outputs": [],
   "source": [
    "# How many different patients per time difference\n",
    "patient_diff = pd.DataFrame(data={'patient_label': labels, 'diff': diffs})"
   ]
  },
  {
   "cell_type": "code",
   "execution_count": 10,
   "metadata": {
    "scrolled": true
   },
   "outputs": [
    {
     "data": {
      "text/plain": [
       "[604,\n",
       " 350,\n",
       " 400,\n",
       " 344,\n",
       " 515,\n",
       " 181,\n",
       " 203,\n",
       " 273,\n",
       " 494,\n",
       " 125,\n",
       " 103,\n",
       " 115,\n",
       " 300,\n",
       " 88,\n",
       " 93,\n",
       " 98,\n",
       " 193,\n",
       " 58,\n",
       " 54,\n",
       " 69,\n",
       " 130,\n",
       " 51,\n",
       " 40,\n",
       " 46,\n",
       " 71,\n",
       " 41,\n",
       " 36,\n",
       " 34,\n",
       " 50,\n",
       " 28,\n",
       " 16,\n",
       " 15,\n",
       " 37,\n",
       " 11,\n",
       " 12,\n",
       " 6,\n",
       " 22,\n",
       " 6,\n",
       " 3,\n",
       " 3,\n",
       " 6,\n",
       " 0,\n",
       " 0,\n",
       " 0,\n",
       " 0,\n",
       " 0,\n",
       " 0,\n",
       " 0,\n",
       " 0,\n",
       " 0,\n",
       " 0,\n",
       " 0]"
      ]
     },
     "execution_count": 10,
     "metadata": {},
     "output_type": "execute_result"
    }
   ],
   "source": [
    "max_diff = 11\n",
    "unique_patients = []\n",
    "for i in range(len(bins) - 1):\n",
    "    d = patient_diff.loc[(patient_diff['diff'] >= bins[i]) & (patient_diff['diff'] < bins[i + 1])]\n",
    "    unique_patients.append(len(d.patient_label.unique()))\n",
    "\n",
    "unique_patients"
   ]
  },
  {
   "cell_type": "code",
   "execution_count": 16,
   "metadata": {},
   "outputs": [
    {
     "data": {
      "text/plain": [
       "Text(0,0.5,'Distinct patients')"
      ]
     },
     "execution_count": 16,
     "metadata": {},
     "output_type": "execute_result"
    },
    {
     "data": {
      "image/png": "[encoded data removed]",
      "text/plain": [
       "<Figure size 432x288 with 1 Axes>"
      ]
     },
     "metadata": {},
     "output_type": "display_data"
    }
   ],
   "source": [
    "plt.bar(x=list(range(len(bins)-1)), height=unique_patients, edgecolor='black')\n",
    "plt.xlabel(\"Age difference\")\n",
    "plt.ylabel(\"Distinct patients\")"
   ]
  },
  {
   "cell_type": "code",
   "execution_count": 12,
   "metadata": {},
   "outputs": [
    {
     "data": {
      "text/plain": [
       "154"
      ]
     },
     "execution_count": 12,
     "metadata": {},
     "output_type": "execute_result"
    }
   ],
   "source": [
    "d = patient_diff.loc[patient_diff['diff'] == 1]\n",
    "len(d.patient_label.unique())"
   ]
  },
  {
   "cell_type": "code",
   "execution_count": 13,
   "metadata": {},
   "outputs": [
    {
     "data": {
      "text/plain": [
       "52"
      ]
     },
     "execution_count": 13,
     "metadata": {},
     "output_type": "execute_result"
    }
   ],
   "source": [
    "len(unique_patients)"
   ]
  },
  {
   "cell_type": "code",
   "execution_count": 14,
   "metadata": {},
   "outputs": [
    {
     "data": {
      "text/plain": [
       "53"
      ]
     },
     "execution_count": 14,
     "metadata": {},
     "output_type": "execute_result"
    }
   ],
   "source": [
    "len(bins)"
   ]
  },
  {
   "cell_type": "code",
   "execution_count": 15,
   "metadata": {},
   "outputs": [
    {
     "data": {
      "text/plain": [
       "array([ 0.  ,  0.25,  0.5 ,  0.75,  1.  ,  1.25,  1.5 ,  1.75,  2.  ,\n",
       "        2.25,  2.5 ,  2.75,  3.  ,  3.25,  3.5 ,  3.75,  4.  ,  4.25,\n",
       "        4.5 ,  4.75,  5.  ,  5.25,  5.5 ,  5.75,  6.  ,  6.25,  6.5 ,\n",
       "        6.75,  7.  ,  7.25,  7.5 ,  7.75,  8.  ,  8.25,  8.5 ,  8.75,\n",
       "        9.  ,  9.25,  9.5 ,  9.75, 10.  , 10.25, 10.5 , 10.75, 11.  ,\n",
       "       11.25, 11.5 , 11.75, 12.  , 12.25, 12.5 , 12.75, 13.  ])"
      ]
     },
     "execution_count": 15,
     "metadata": {},
     "output_type": "execute_result"
    }
   ],
   "source": [
    "np.linspace(0, 13, 13 * 4 + 1)"
   ]
  },
  {
   "cell_type": "code",
   "execution_count": 17,
   "metadata": {},
   "outputs": [
    {
     "data": {
      "text/plain": [
       "array([ 0.  ,  0.25,  0.5 ,  0.75,  1.  ,  1.25,  1.5 ,  1.75,  2.  ,\n",
       "        2.25,  2.5 ,  2.75,  3.  ,  3.25,  3.5 ,  3.75,  4.  ,  4.25,\n",
       "        4.5 ,  4.75,  5.  ,  5.25,  5.5 ,  5.75,  6.  ,  6.25,  6.5 ,\n",
       "        6.75,  7.  ,  7.25,  7.5 ,  7.75,  8.  ,  8.25,  8.5 ,  8.75,\n",
       "        9.  ,  9.25,  9.5 ,  9.75, 10.  , 10.25, 10.5 , 10.75, 11.  ,\n",
       "       11.25, 11.5 , 11.75, 12.  , 12.25, 12.5 , 12.75, 13.  ])"
      ]
     },
     "execution_count": 17,
     "metadata": {},
     "output_type": "execute_result"
    }
   ],
   "source": [
    "bins"
   ]
  },
  {
   "cell_type": "markdown",
   "metadata": {},
   "source": [
    "## Look at real images"
   ]
  },
  {
   "cell_type": "code",
   "execution_count": 6,
   "metadata": {
    "collapsed": true
   },
   "outputs": [],
   "source": [
    "import nibabel as nib"
   ]
  },
  {
   "cell_type": "code",
   "execution_count": 10,
   "metadata": {},
   "outputs": [
    {
     "data": {
      "text/plain": [
       "array(['002_S_0295', '002_S_0413', '002_S_0559', ..., '990', '993', '995'],\n",
       "      dtype=object)"
      ]
     },
     "execution_count": 10,
     "metadata": {},
     "output_type": "execute_result"
    }
   ],
   "source": [
    "patients"
   ]
  },
  {
   "cell_type": "code",
   "execution_count": 11,
   "metadata": {},
   "outputs": [
    {
     "data": {
      "text/plain": [
       "2458"
      ]
     },
     "execution_count": 11,
     "metadata": {},
     "output_type": "execute_result"
    }
   ],
   "source": [
    "len(patients)"
   ]
  },
  {
   "cell_type": "code",
   "execution_count": 36,
   "metadata": {
    "scrolled": false
   },
   "outputs": [
    {
     "name": "stdout",
     "output_type": "stream",
     "text": [
      "93     0\n",
      "94     0\n",
      "95     0\n",
      "96     0\n",
      "97     0\n",
      "98     0\n",
      "102    0\n",
      "101    0\n",
      "99     0\n",
      "100    0\n",
      "103    0\n",
      "104    0\n",
      "105    0\n",
      "106    0\n",
      "107    0\n",
      "111    0\n",
      "110    0\n",
      "108    0\n",
      "109    0\n",
      "112    0\n",
      "113    0\n",
      "114    0\n",
      "115    0\n",
      "116    0\n",
      "117    0\n",
      "118    0\n",
      "119    0\n",
      "120    0\n",
      "121    0\n",
      "122    0\n",
      "123    0\n",
      "Name: healthy, dtype: int64\n"
     ]
    },
    {
     "ename": "ValueError",
     "evalue": "num must be 1 <= num <= 9, not 10",
     "output_type": "error",
     "traceback": [
      "\u001b[0;31m---------------------------------------------------------------------------\u001b[0m",
      "\u001b[0;31mValueError\u001b[0m                                Traceback (most recent call last)",
      "\u001b[0;32m<ipython-input-36-f2db65101020>\u001b[0m in \u001b[0;36m<module>\u001b[0;34m()\u001b[0m\n\u001b[1;32m     18\u001b[0m     \u001b[0mim\u001b[0m \u001b[0;34m=\u001b[0m \u001b[0mnib\u001b[0m\u001b[0;34m.\u001b[0m\u001b[0mload\u001b[0m\u001b[0;34m(\u001b[0m\u001b[0mimage_path\u001b[0m\u001b[0;34m)\u001b[0m\u001b[0;34m\u001b[0m\u001b[0m\n\u001b[1;32m     19\u001b[0m     \u001b[0mdata\u001b[0m \u001b[0;34m=\u001b[0m \u001b[0mim\u001b[0m\u001b[0;34m.\u001b[0m\u001b[0mget_data\u001b[0m\u001b[0;34m(\u001b[0m\u001b[0;34m)\u001b[0m\u001b[0;34m\u001b[0m\u001b[0m\n\u001b[0;32m---> 20\u001b[0;31m     \u001b[0mfig\u001b[0m\u001b[0;34m.\u001b[0m\u001b[0madd_subplot\u001b[0m\u001b[0;34m(\u001b[0m\u001b[0mrows\u001b[0m\u001b[0;34m,\u001b[0m \u001b[0mcolumns\u001b[0m\u001b[0;34m,\u001b[0m \u001b[0mcount\u001b[0m\u001b[0;34m)\u001b[0m\u001b[0;34m\u001b[0m\u001b[0m\n\u001b[0m\u001b[1;32m     21\u001b[0m     \u001b[0mplt\u001b[0m\u001b[0;34m.\u001b[0m\u001b[0mtitle\u001b[0m\u001b[0;34m(\u001b[0m\u001b[0;34m\"label {}, age {}\"\u001b[0m\u001b[0;34m.\u001b[0m\u001b[0mformat\u001b[0m\u001b[0;34m(\u001b[0m\u001b[0mlab\u001b[0m\u001b[0;34m,\u001b[0m \u001b[0mage\u001b[0m\u001b[0;34m)\u001b[0m\u001b[0;34m)\u001b[0m\u001b[0;34m\u001b[0m\u001b[0m\n\u001b[1;32m     22\u001b[0m     \u001b[0mplt\u001b[0m\u001b[0;34m.\u001b[0m\u001b[0mimshow\u001b[0m\u001b[0;34m(\u001b[0m\u001b[0mdata\u001b[0m\u001b[0;34m[\u001b[0m\u001b[0;34m:\u001b[0m\u001b[0;34m,\u001b[0m \u001b[0;34m:\u001b[0m\u001b[0;34m,\u001b[0m \u001b[0;36m45\u001b[0m\u001b[0;34m]\u001b[0m\u001b[0;34m,\u001b[0m \u001b[0mcmap\u001b[0m\u001b[0;34m=\u001b[0m\u001b[0;34m'gray'\u001b[0m\u001b[0;34m)\u001b[0m\u001b[0;34m\u001b[0m\u001b[0m\n",
      "\u001b[0;32m~/miniconda3/envs/thesis/lib/python3.6/site-packages/matplotlib/figure.py\u001b[0m in \u001b[0;36madd_subplot\u001b[0;34m(self, *args, **kwargs)\u001b[0m\n\u001b[1;32m   1237\u001b[0m                     \u001b[0mself\u001b[0m\u001b[0;34m.\u001b[0m\u001b[0m_axstack\u001b[0m\u001b[0;34m.\u001b[0m\u001b[0mremove\u001b[0m\u001b[0;34m(\u001b[0m\u001b[0max\u001b[0m\u001b[0;34m)\u001b[0m\u001b[0;34m\u001b[0m\u001b[0m\n\u001b[1;32m   1238\u001b[0m \u001b[0;34m\u001b[0m\u001b[0m\n\u001b[0;32m-> 1239\u001b[0;31m             \u001b[0ma\u001b[0m \u001b[0;34m=\u001b[0m \u001b[0msubplot_class_factory\u001b[0m\u001b[0;34m(\u001b[0m\u001b[0mprojection_class\u001b[0m\u001b[0;34m)\u001b[0m\u001b[0;34m(\u001b[0m\u001b[0mself\u001b[0m\u001b[0;34m,\u001b[0m \u001b[0;34m*\u001b[0m\u001b[0margs\u001b[0m\u001b[0;34m,\u001b[0m \u001b[0;34m**\u001b[0m\u001b[0mkwargs\u001b[0m\u001b[0;34m)\u001b[0m\u001b[0;34m\u001b[0m\u001b[0m\n\u001b[0m\u001b[1;32m   1240\u001b[0m         \u001b[0mself\u001b[0m\u001b[0;34m.\u001b[0m\u001b[0m_axstack\u001b[0m\u001b[0;34m.\u001b[0m\u001b[0madd\u001b[0m\u001b[0;34m(\u001b[0m\u001b[0mkey\u001b[0m\u001b[0;34m,\u001b[0m \u001b[0ma\u001b[0m\u001b[0;34m)\u001b[0m\u001b[0;34m\u001b[0m\u001b[0m\n\u001b[1;32m   1241\u001b[0m         \u001b[0mself\u001b[0m\u001b[0;34m.\u001b[0m\u001b[0msca\u001b[0m\u001b[0;34m(\u001b[0m\u001b[0ma\u001b[0m\u001b[0;34m)\u001b[0m\u001b[0;34m\u001b[0m\u001b[0m\n",
      "\u001b[0;32m~/miniconda3/envs/thesis/lib/python3.6/site-packages/matplotlib/axes/_subplots.py\u001b[0m in \u001b[0;36m__init__\u001b[0;34m(self, fig, *args, **kwargs)\u001b[0m\n\u001b[1;32m     65\u001b[0m                     raise ValueError(\n\u001b[1;32m     66\u001b[0m                         (\"num must be 1 <= num <= {maxn}, not {num}\"\n\u001b[0;32m---> 67\u001b[0;31m                         ).format(maxn=rows*cols, num=num))\n\u001b[0m\u001b[1;32m     68\u001b[0m                 self._subplotspec = GridSpec(\n\u001b[1;32m     69\u001b[0m                         rows, cols, figure=self.figure)[int(num) - 1]\n",
      "\u001b[0;31mValueError\u001b[0m: num must be 1 <= num <= 9, not 10"
     ]
    },
    {
     "data": {
      "image/png": "[encoded data removed]",
      "text/plain": [
       "<Figure size 1080x1080 with 9 Axes>"
      ]
     },
     "metadata": {},
     "output_type": "display_data"
    }
   ],
   "source": [
    "pat_idx = 5\n",
    "sub = df.loc[df['patient_label'] == patients[pat_idx]]\n",
    "sub = sub.sort_values(by=['age_exact'])\n",
    "\n",
    "slice_idx = 60\n",
    "rows = 3\n",
    "columns = 3\n",
    "fig = plt.figure(figsize=(15, 15))\n",
    "#print(sub.age_exact)\n",
    "last_age = -1\n",
    "count = 1\n",
    "print(sub.healthy)\n",
    "for lab, age in zip(sub.image_label, sub.age_exact):\n",
    "    if age == last_age:\n",
    "        continue  # avoid test-restest images\n",
    "    last_age = age\n",
    "    image_path = \"/local/ADNI_AIBL/ADNI_AIBL_T1_smoothed/all_images/{}_mni_aligned.nii.gz\".format(lab)\n",
    "    im = nib.load(image_path)\n",
    "    data = im.get_data()\n",
    "    fig.add_subplot(rows, columns, count)\n",
    "    plt.title(\"label {}, age {}\".format(lab, age))\n",
    "    plt.imshow(data[:, :, 45], cmap='gray')\n",
    "    count += 1"
   ]
  },
  {
   "cell_type": "code",
   "execution_count": 16,
   "metadata": {},
   "outputs": [
    {
     "data": {
      "text/plain": [
       "(['002_S_0295',\n",
       "  '002_S_0295',\n",
       "  '002_S_0295',\n",
       "  '002_S_0295',\n",
       "  '002_S_0295',\n",
       "  '002_S_0295',\n",
       "  '002_S_0295',\n",
       "  '002_S_0295',\n",
       "  '002_S_0295',\n",
       "  '002_S_0295',\n",
       "  '002_S_0295',\n",
       "  '002_S_0295',\n",
       "  '002_S_0295',\n",
       "  '002_S_0295',\n",
       "  '002_S_0295',\n",
       "  '002_S_0295',\n",
       "  '002_S_0295',\n",
       "  '002_S_0295',\n",
       "  '002_S_0295',\n",
       "  '002_S_0295'],\n",
       " [0.542500000000004,\n",
       "  1.1013999999999982,\n",
       "  2.2657999999999987,\n",
       "  3.0959000000000003,\n",
       "  4.071200000000005,\n",
       "  5.126000000000005,\n",
       "  6.065799999999996,\n",
       "  0.5588999999999942,\n",
       "  1.7232999999999947,\n",
       "  2.5533999999999963,\n",
       "  3.5287000000000006,\n",
       "  4.583500000000001,\n",
       "  5.523299999999992,\n",
       "  1.1644000000000005,\n",
       "  1.9945000000000022,\n",
       "  2.9698000000000064,\n",
       "  4.024600000000007,\n",
       "  4.964399999999998,\n",
       "  0.8301000000000016,\n",
       "  1.805400000000006])"
      ]
     },
     "execution_count": 16,
     "metadata": {},
     "output_type": "execute_result"
    }
   ],
   "source": [
    "labels[:20], diffs[:20]"
   ]
  },
  {
   "cell_type": "code",
   "execution_count": 49,
   "metadata": {},
   "outputs": [],
   "source": [
    "def conversions(patients, min_max_age_gap):\n",
    "    conv_dic = {}\n",
    "    multiple_conversions = 0\n",
    "    age_diffs = []\n",
    "    for pat in patients:\n",
    "        cur_df = df.loc[df.patient_label == pat]\n",
    "        cur_df = cur_df.sort_values(by=['age_exact'])\n",
    "        records = cur_df.to_dict('records')\n",
    "        \n",
    "        ages = [r[\"age_exact\"] for r in records]\n",
    "        assert all(ages[i] <= ages[i + 1] for i in range(len(records) - 1))\n",
    "        max_age_gap = ages[-1] - ages[0]\n",
    "        if max_age_gap < min_max_age_gap:\n",
    "            continue\n",
    "        \n",
    "        def get_diag(rec):\n",
    "            if rec[\"health_ad\"] == 1:\n",
    "                return \"AD\"\n",
    "            elif rec[\"healthy\"] == 1:\n",
    "                return \"HC\"\n",
    "            elif rec[\"health_mci\"] == 1:\n",
    "                return \"MCI\"\n",
    "            else:\n",
    "                raise ValueError(\"unknown diagnosis\")\n",
    "        \n",
    "        n_changes = 0\n",
    "        for i in range(1, len(records)):\n",
    "            prev_d = get_diag(records[i - 1])\n",
    "            cur_d = get_diag(records[i])\n",
    "            \n",
    "            if cur_d is not prev_d:\n",
    "                n_changes += 1\n",
    "                \n",
    "        if n_changes > 1:\n",
    "            multiple_conversions += 1\n",
    "            continue\n",
    "            \n",
    "        conv = get_diag(records[0]) + \"/\" + get_diag(records[-1])\n",
    "        if conv == \"AD/AD\":\n",
    "            age_diffs.append(max_age_gap)\n",
    "        if conv not in conv_dic:\n",
    "            conv_dic[conv] = 1\n",
    "        else:\n",
    "            conv_dic[conv] += 1\n",
    "\n",
    "    return conv_dic, multiple_conversions, age_diffs"
   ]
  },
  {
   "cell_type": "code",
   "execution_count": 54,
   "metadata": {},
   "outputs": [
    {
     "data": {
      "text/plain": [
       "({'HC/HC': 449,\n",
       "  'AD/AD': 151,\n",
       "  'MCI/AD': 230,\n",
       "  'MCI/MCI': 353,\n",
       "  'MCI/HC': 33,\n",
       "  'HC/MCI': 56,\n",
       "  'HC/AD': 8,\n",
       "  'AD/MCI': 3},\n",
       " 45,\n",
       " [2.202699999999993,\n",
       "  2.0738999999999947,\n",
       "  2.0383999999999958,\n",
       "  2.123299999999986,\n",
       "  2.1699000000000126,\n",
       "  2.1096000000000004,\n",
       "  2.0767000000000024,\n",
       "  2.2053999999999974,\n",
       "  2.1233000000000004,\n",
       "  2.0190999999999946,\n",
       "  2.1452000000000027,\n",
       "  2.235599999999991,\n",
       "  2.0712000000000046,\n",
       "  2.109499999999997,\n",
       "  2.01100000000001,\n",
       "  2.0302000000000078,\n",
       "  2.0,\n",
       "  2.0411,\n",
       "  2.1041000000000025,\n",
       "  2.0519999999999996,\n",
       "  2.0246000000000066,\n",
       "  2.032900000000012,\n",
       "  2.1781000000000006,\n",
       "  2.1260000000000048,\n",
       "  2.0685000000000002,\n",
       "  2.4739999999999895,\n",
       "  2.0,\n",
       "  2.065799999999996,\n",
       "  2.147900000000007,\n",
       "  2.109499999999997,\n",
       "  2.282199999999989,\n",
       "  2.046599999999998,\n",
       "  2.0548,\n",
       "  2.0356000000000023,\n",
       "  2.065799999999996,\n",
       "  2.180800000000005,\n",
       "  2.0712000000000046,\n",
       "  2.0356000000000023,\n",
       "  2.0575000000000045,\n",
       "  2.1314999999999884,\n",
       "  2.0493000000000023,\n",
       "  2.0685000000000002,\n",
       "  2.1096000000000004,\n",
       "  2.02470000000001,\n",
       "  2.0904000000000025,\n",
       "  2.1260000000000048,\n",
       "  2.0274,\n",
       "  2.0028000000000077,\n",
       "  2.046599999999998,\n",
       "  2.1067999999999927,\n",
       "  2.0382999999999925,\n",
       "  2.05210000000001,\n",
       "  2.073999999999998,\n",
       "  2.0493000000000023,\n",
       "  2.1151000000000124,\n",
       "  2.0959000000000003,\n",
       "  2.0822000000000003,\n",
       "  2.1642999999999972,\n",
       "  2.0411,\n",
       "  2.046599999999998,\n",
       "  2.0574999999999974,\n",
       "  2.0357000000000056,\n",
       "  2.05210000000001,\n",
       "  2.046599999999998,\n",
       "  2.0493999999999915,\n",
       "  2.049299999999988,\n",
       "  2.052099999999996,\n",
       "  2.01100000000001,\n",
       "  2.0548,\n",
       "  2.1204999999999927,\n",
       "  2.032900000000012,\n",
       "  2.073999999999998,\n",
       "  2.1259999999999906,\n",
       "  2.0711999999999904,\n",
       "  2.052099999999996,\n",
       "  2.0712999999999937,\n",
       "  2.0849000000000046,\n",
       "  2.032899999999998,\n",
       "  2.046600000000012,\n",
       "  2.293199999999999,\n",
       "  2.59729999999999,\n",
       "  2.8795000000000073,\n",
       "  2.1096000000000004,\n",
       "  2.2329000000000008,\n",
       "  2.1315000000000026,\n",
       "  2.1589000000000027,\n",
       "  2.2438999999999965,\n",
       "  2.0959000000000003,\n",
       "  2.0302000000000078,\n",
       "  2.10690000000001,\n",
       "  2.2164999999999964,\n",
       "  3.0767000000000024,\n",
       "  2.4000000000000057,\n",
       "  4.0,\n",
       "  4.0,\n",
       "  2.0,\n",
       "  2.0,\n",
       "  2.0,\n",
       "  2.032899999999998,\n",
       "  2.0,\n",
       "  3.0,\n",
       "  3.0,\n",
       "  2.2301000000000073,\n",
       "  2.06580000000001,\n",
       "  2.0411,\n",
       "  2.005499999999998,\n",
       "  2.0164000000000044,\n",
       "  2.073999999999998,\n",
       "  2.060299999999991,\n",
       "  2.041099999999986,\n",
       "  2.0822000000000003,\n",
       "  2.032899999999998,\n",
       "  2.0165000000000077,\n",
       "  2.0137,\n",
       "  2.0301999999999936,\n",
       "  2.115099999999998,\n",
       "  2.07950000000001,\n",
       "  2.1096000000000004,\n",
       "  2.1041000000000025,\n",
       "  2.0302000000000078,\n",
       "  2.073999999999998,\n",
       "  2.0768000000000058,\n",
       "  2.0685000000000002,\n",
       "  2.0411,\n",
       "  2.0493000000000023,\n",
       "  2.1260000000000048,\n",
       "  2.1122999999999905,\n",
       "  2.0930999999999926,\n",
       "  2.213700000000003,\n",
       "  2.043900000000008,\n",
       "  2.0630000000000024,\n",
       "  2.120500000000007,\n",
       "  2.0301000000000045,\n",
       "  2.0711999999999904,\n",
       "  2.093200000000003,\n",
       "  2.4821000000000026,\n",
       "  2.1096000000000004,\n",
       "  2.0575000000000045,\n",
       "  2.0219000000000023,\n",
       "  2.0,\n",
       "  2.1096000000000004,\n",
       "  2.0,\n",
       "  2.0,\n",
       "  4.0,\n",
       "  3.0,\n",
       "  4.0,\n",
       "  3.0,\n",
       "  2.0,\n",
       "  3.0,\n",
       "  3.0,\n",
       "  2.0])"
      ]
     },
     "execution_count": 54,
     "metadata": {},
     "output_type": "execute_result"
    }
   ],
   "source": [
    "res = conversions(patients, min_max_age_gap=2)\n",
    "res"
   ]
  },
  {
   "cell_type": "code",
   "execution_count": 51,
   "metadata": {},
   "outputs": [
    {
     "data": {
      "text/plain": [
       "(array([130.,  32., 107.,  11.,   8., 135.,   4.,   8.,   0.,   4.]),\n",
       " array([0. , 0.4, 0.8, 1.2, 1.6, 2. , 2.4, 2.8, 3.2, 3.6, 4. ]),\n",
       " <a list of 10 Patch objects>)"
      ]
     },
     "execution_count": 51,
     "metadata": {},
     "output_type": "execute_result"
    },
    {
     "data": {
      "image/png": "[encoded data removed]",
      "text/plain": [
       "<Figure size 432x288 with 1 Axes>"
      ]
     },
     "metadata": {},
     "output_type": "display_data"
    }
   ],
   "source": [
    "plt.hist(res[2], edgecolor='black')"
   ]
  },
  {
   "cell_type": "markdown",
   "metadata": {},
   "source": [
    "## Conversion data availability"
   ]
  },
  {
   "cell_type": "code",
   "execution_count": 12,
   "metadata": {},
   "outputs": [],
   "source": [
    "def conversion_data(patients, delta):\n",
    "    conv_to_count = {}\n",
    "    conv_to_patient = {}\n",
    "    multiple_conversions = 0\n",
    "    age_diffs = []\n",
    "    for pat in patients:\n",
    "        cur_df = df.loc[df.patient_label == pat]\n",
    "        cur_df = cur_df.sort_values(by=['age_exact'])\n",
    "        records = cur_df.to_dict('records')\n",
    "        \n",
    "        ages = [r[\"age_exact\"] for r in records]\n",
    "        assert all(ages[i] <= ages[i + 1] for i in range(len(records) - 1))\n",
    "        \n",
    "        def get_diag(rec):\n",
    "            if rec[\"health_ad\"] == 1:\n",
    "                return \"AD\"\n",
    "            elif rec[\"healthy\"] == 1:\n",
    "                return \"HC\"\n",
    "            elif rec[\"health_mci\"] == 1:\n",
    "                return \"MCI\"\n",
    "            else:\n",
    "                raise ValueError(\"unknown diagnosis\")\n",
    "        \n",
    "        n_changes = 0\n",
    "        for i in range(1, len(records)):\n",
    "            prev_d = get_diag(records[i - 1])\n",
    "            cur_d = get_diag(records[i])\n",
    "            \n",
    "            if cur_d is not prev_d:\n",
    "                n_changes += 1\n",
    "                \n",
    "        if n_changes > 1:\n",
    "            multiple_conversions += 1\n",
    "            continue\n",
    "            \n",
    "        target = ages[0] + delta\n",
    "        pos = bisect.bisect_right(ages, target)\n",
    "            \n",
    "        conv = None\n",
    "        if pos == len(ages):\n",
    "            # can only use converting patient\n",
    "            if n_changes == 1:\n",
    "                conv = get_diag(records[0]) + \"/\" + get_diag(records[-1])\n",
    "        else:\n",
    "            d0 = get_diag(records[0])\n",
    "            d1 = get_diag(records[pos])\n",
    "            if (d0 == d1 and n_changes == 0) or (d0 is not d1):\n",
    "                conv = d0 + \"/\" + d1\n",
    "            \n",
    "        if conv is None:\n",
    "            continue\n",
    "            \n",
    "        if conv not in conv_to_count:\n",
    "            conv_to_count[conv] = 1\n",
    "            conv_to_patient[conv] = set([records[0]['patient_label']])\n",
    "        else:\n",
    "            conv_to_count[conv] += 1\n",
    "            conv_to_patient[conv].add(records[0]['patient_label'])\n",
    "\n",
    "    return conv_to_count, conv_to_patient, multiple_conversions"
   ]
  },
  {
   "cell_type": "code",
   "execution_count": 13,
   "metadata": {},
   "outputs": [],
   "source": [
    "counts, conv_patients, _ = conversion_data(patients, delta=2)"
   ]
  },
  {
   "cell_type": "code",
   "execution_count": 14,
   "metadata": {},
   "outputs": [
    {
     "data": {
      "text/plain": [
       "{'HC/HC': 436,\n",
       " 'AD/AD': 140,\n",
       " 'MCI/AD': 199,\n",
       " 'MCI/MCI': 349,\n",
       " 'MCI/HC': 30,\n",
       " 'HC/MCI': 33,\n",
       " 'HC/AD': 4,\n",
       " 'AD/MCI': 2}"
      ]
     },
     "execution_count": 14,
     "metadata": {},
     "output_type": "execute_result"
    }
   ],
   "source": [
    "counts"
   ]
  },
  {
   "cell_type": "code",
   "execution_count": 15,
   "metadata": {},
   "outputs": [
    {
     "data": {
      "text/plain": [
       "{'002_S_0782',\n",
       " '002_S_1155',\n",
       " '002_S_1268',\n",
       " '002_S_4229',\n",
       " '002_S_4237',\n",
       " '002_S_4447',\n",
       " '002_S_4473',\n",
       " '002_S_4654',\n",
       " '003_S_0908',\n",
       " '003_S_1122',\n",
       " '003_S_2374',\n",
       " '003_S_4354',\n",
       " '005_S_0324',\n",
       " '005_S_0448',\n",
       " '005_S_0546',\n",
       " '005_S_2390',\n",
       " '005_S_4185',\n",
       " '006_S_4363',\n",
       " '006_S_4679',\n",
       " '007_S_0414',\n",
       " '007_S_0698',\n",
       " '007_S_2394',\n",
       " '007_S_4272',\n",
       " '007_S_4467',\n",
       " '007_S_4611',\n",
       " '009_S_2208',\n",
       " '009_S_4359',\n",
       " '009_S_5000',\n",
       " '011_S_4235',\n",
       " '011_S_4893',\n",
       " '012_S_0634',\n",
       " '012_S_0932',\n",
       " '012_S_1165',\n",
       " '012_S_1175',\n",
       " '012_S_1321',\n",
       " '012_S_4012',\n",
       " '012_S_4128',\n",
       " '013_S_4985',\n",
       " '014_S_0169',\n",
       " '014_S_0557',\n",
       " '014_S_2185',\n",
       " '014_S_2308',\n",
       " '014_S_4263',\n",
       " '014_S_4328',\n",
       " '016_S_1028',\n",
       " '016_S_2031',\n",
       " '016_S_4646',\n",
       " '016_S_5007',\n",
       " '018_S_0142',\n",
       " '018_S_2133',\n",
       " '018_S_2155',\n",
       " '018_S_4809',\n",
       " '018_S_4868',\n",
       " '018_S_4889',\n",
       " '019_S_4285',\n",
       " '021_S_0273',\n",
       " '021_S_2077',\n",
       " '021_S_2100',\n",
       " '021_S_2124',\n",
       " '021_S_2125',\n",
       " '021_S_2142',\n",
       " '021_S_4744',\n",
       " '022_S_0004',\n",
       " '022_S_0961',\n",
       " '022_S_2167',\n",
       " '022_S_2379',\n",
       " '022_S_4444',\n",
       " '022_S_4805',\n",
       " '023_S_1046',\n",
       " '023_S_2068',\n",
       " '023_S_4115',\n",
       " '023_S_4122',\n",
       " '024_S_2239',\n",
       " '024_S_4169',\n",
       " '024_S_4392',\n",
       " '024_S_4674',\n",
       " '027_S_0116',\n",
       " '027_S_0307',\n",
       " '027_S_0644',\n",
       " '027_S_1045',\n",
       " '027_S_2183',\n",
       " '027_S_2219',\n",
       " '027_S_2245',\n",
       " '027_S_2336',\n",
       " '027_S_4869',\n",
       " '027_S_4873',\n",
       " '027_S_4919',\n",
       " '027_S_4926',\n",
       " '029_S_1215',\n",
       " '029_S_1218',\n",
       " '029_S_1384',\n",
       " '029_S_2376',\n",
       " '029_S_2395',\n",
       " '031_S_0351',\n",
       " '031_S_0867',\n",
       " '031_S_2233',\n",
       " '031_S_4029',\n",
       " '031_S_4149',\n",
       " '031_S_4194',\n",
       " '031_S_4476',\n",
       " '032_S_0718',\n",
       " '032_S_2119',\n",
       " '032_S_2247',\n",
       " '033_S_0513',\n",
       " '033_S_0739',\n",
       " '033_S_1279',\n",
       " '033_S_1309',\n",
       " '035_S_0033',\n",
       " '035_S_2061',\n",
       " '035_S_2074',\n",
       " '035_S_4582',\n",
       " '036_S_0656',\n",
       " '036_S_0673',\n",
       " '036_S_0748',\n",
       " '036_S_2378',\n",
       " '036_S_2380',\n",
       " '036_S_4538',\n",
       " '036_S_4714',\n",
       " '036_S_4736',\n",
       " '037_S_0150',\n",
       " '037_S_0377',\n",
       " '037_S_1421',\n",
       " '037_S_4030',\n",
       " '037_S_4146',\n",
       " '037_S_4302',\n",
       " '041_S_0679',\n",
       " '041_S_1260',\n",
       " '041_S_1418',\n",
       " '041_S_4004',\n",
       " '041_S_4051',\n",
       " '041_S_4138',\n",
       " '041_S_4271',\n",
       " '041_S_4510',\n",
       " '041_S_4874',\n",
       " '041_S_4876',\n",
       " '041_S_4877',\n",
       " '041_S_4974',\n",
       " '041_S_4989',\n",
       " '051_S_1072',\n",
       " '051_S_1131',\n",
       " '052_S_0989',\n",
       " '052_S_2249',\n",
       " '052_S_4626',\n",
       " '052_S_4885',\n",
       " '052_S_4944',\n",
       " '053_S_0621',\n",
       " '053_S_0919',\n",
       " '053_S_2357',\n",
       " '053_S_2396',\n",
       " '057_S_0464',\n",
       " '057_S_1265',\n",
       " '057_S_1269',\n",
       " '062_S_1182',\n",
       " '067_S_0098',\n",
       " '067_S_0176',\n",
       " '067_S_0290',\n",
       " '067_S_0607',\n",
       " '067_S_2196',\n",
       " '067_S_4072',\n",
       " '067_S_4184',\n",
       " '068_S_0401',\n",
       " '068_S_0478',\n",
       " '068_S_0802',\n",
       " '068_S_2187',\n",
       " '068_S_4061',\n",
       " '068_S_4217',\n",
       " '072_S_1211',\n",
       " '072_S_1380',\n",
       " '072_S_2027',\n",
       " '072_S_2037',\n",
       " '072_S_2072',\n",
       " '072_S_2093',\n",
       " '072_S_2116',\n",
       " '072_S_2164',\n",
       " '072_S_4007',\n",
       " '072_S_4063',\n",
       " '072_S_4539',\n",
       " '072_S_4769',\n",
       " '073_S_0746',\n",
       " '073_S_0909',\n",
       " '073_S_2153',\n",
       " '073_S_2182',\n",
       " '073_S_2190',\n",
       " '073_S_2191',\n",
       " '073_S_2225',\n",
       " '073_S_2264',\n",
       " '073_S_4216',\n",
       " '073_S_4259',\n",
       " '073_S_4311',\n",
       " '073_S_4312',\n",
       " '073_S_4360',\n",
       " '073_S_4443',\n",
       " '073_S_4614',\n",
       " '073_S_4777',\n",
       " '073_S_4986',\n",
       " '082_S_2099',\n",
       " '082_S_2121',\n",
       " '082_S_2307',\n",
       " '082_S_4244',\n",
       " '094_S_0921',\n",
       " '094_S_1293',\n",
       " '094_S_1314',\n",
       " '094_S_1417',\n",
       " '094_S_2238',\n",
       " '094_S_4434',\n",
       " '094_S_4630',\n",
       " '094_S_4858',\n",
       " '098_S_2052',\n",
       " '098_S_2079',\n",
       " '099_S_0291',\n",
       " '099_S_1034',\n",
       " '099_S_2042',\n",
       " '099_S_2063',\n",
       " '099_S_2205',\n",
       " '099_S_4157',\n",
       " '099_S_4205',\n",
       " '099_S_4463',\n",
       " '099_S_4480',\n",
       " '099_S_4498',\n",
       " '099_S_4565',\n",
       " '100_S_0006',\n",
       " '100_S_0296',\n",
       " '1067',\n",
       " '109',\n",
       " '109_S_0950',\n",
       " '109_S_1114',\n",
       " '109_S_1183',\n",
       " '109_S_2200',\n",
       " '109_S_4380',\n",
       " '109_S_4455',\n",
       " '109_S_4531',\n",
       " '109_S_4594',\n",
       " '114_S_1118',\n",
       " '114_S_4404',\n",
       " '114_S_5047',\n",
       " '116_S_4175',\n",
       " '116_S_4199',\n",
       " '116_S_4635',\n",
       " '116_S_4898',\n",
       " '123_S_1300',\n",
       " '123_S_2055',\n",
       " '123_S_2363',\n",
       " '123_S_4127',\n",
       " '123_S_4170',\n",
       " '123_S_4780',\n",
       " '123_S_4806',\n",
       " '126',\n",
       " '126_S_0709',\n",
       " '126_S_1187',\n",
       " '126_S_2360',\n",
       " '126_S_2405',\n",
       " '126_S_2407',\n",
       " '126_S_4514',\n",
       " '126_S_4891',\n",
       " '126_S_4896',\n",
       " '127_S_1032',\n",
       " '127_S_1140',\n",
       " '127_S_1419',\n",
       " '127_S_2213',\n",
       " '127_S_4197',\n",
       " '127_S_4210',\n",
       " '127_S_4301',\n",
       " '127_S_4844',\n",
       " '128_S_0200',\n",
       " '128_S_0225',\n",
       " '128_S_0608',\n",
       " '128_S_0611',\n",
       " '128_S_0770',\n",
       " '128_S_1088',\n",
       " '128_S_1406',\n",
       " '128_S_2002',\n",
       " '128_S_2036',\n",
       " '128_S_2045',\n",
       " '128_S_2151',\n",
       " '128_S_2220',\n",
       " '128_S_4553',\n",
       " '128_S_4571',\n",
       " '128_S_4636',\n",
       " '128_S_4653',\n",
       " '128_S_4742',\n",
       " '128_S_4842',\n",
       " '128_S_5066',\n",
       " '129_S_1246',\n",
       " '129_S_2332',\n",
       " '129_S_2347',\n",
       " '129_S_4220',\n",
       " '129_S_4287',\n",
       " '130_S_0102',\n",
       " '130_S_0285',\n",
       " '130_S_0449',\n",
       " '130_S_0505',\n",
       " '130_S_0783',\n",
       " '130_S_2373',\n",
       " '130_S_2391',\n",
       " '130_S_2403',\n",
       " '130_S_4250',\n",
       " '130_S_4294',\n",
       " '130_S_4405',\n",
       " '130_S_4417',\n",
       " '130_S_4468',\n",
       " '130_S_4817',\n",
       " '130_S_4883',\n",
       " '130_S_4925',\n",
       " '133_S_0771',\n",
       " '133_S_0792',\n",
       " '133_S_0912',\n",
       " '133_S_1031',\n",
       " '135_S_4281',\n",
       " '135_S_4309',\n",
       " '135_S_4356',\n",
       " '135_S_4489',\n",
       " '135_S_4722',\n",
       " '135_S_4723',\n",
       " '136_S_0107',\n",
       " '136_S_0579',\n",
       " '136_S_1227',\n",
       " '137_S_0158',\n",
       " '137_S_0481',\n",
       " '137_S_0800',\n",
       " '137_S_1414',\n",
       " '137_S_4299',\n",
       " '137_S_4331',\n",
       " '137_S_4536',\n",
       " '137_S_4623',\n",
       " '137_S_4631',\n",
       " '137_S_4678',\n",
       " '141_S_1052',\n",
       " '141_S_1378',\n",
       " '141_S_4160',\n",
       " '141_S_4232',\n",
       " '153_S_2109',\n",
       " '153_S_2148',\n",
       " '153_S_4077',\n",
       " '153_S_4133',\n",
       " '153_S_4159',\n",
       " '153_S_4621',\n",
       " '153_S_4838',\n",
       " '217',\n",
       " '277',\n",
       " '366',\n",
       " '483',\n",
       " '56',\n",
       " '571',\n",
       " '611',\n",
       " '89',\n",
       " '941_S_2060',\n",
       " '941_S_4036',\n",
       " '941_S_4187',\n",
       " '941_S_4764'}"
      ]
     },
     "execution_count": 15,
     "metadata": {},
     "output_type": "execute_result"
    }
   ],
   "source": [
    "conv_patients[\"MCI/MCI\"]"
   ]
  },
  {
   "cell_type": "code",
   "execution_count": 16,
   "metadata": {},
   "outputs": [
    {
     "name": "stdout",
     "output_type": "stream",
     "text": [
      "0.5\n",
      "{'HC/HC': 522, 'AD/AD': 305, 'MCI/MCI': 513, 'MCI/HC': 10, 'MCI/AD': 48, 'HC/AD': 2, 'HC/MCI': 11, 'AD/MCI': 1}\n",
      "1.0\n",
      "{'HC/HC': 491, 'AD/AD': 263, 'MCI/AD': 107, 'MCI/MCI': 470, 'MCI/HC': 23, 'HC/MCI': 17, 'HC/AD': 3, 'AD/MCI': 1}\n",
      "1.5\n",
      "{'HC/HC': 456, 'AD/AD': 160, 'MCI/AD': 167, 'MCI/MCI': 381, 'MCI/HC': 28, 'HC/MCI': 28, 'HC/AD': 3, 'AD/MCI': 2}\n",
      "2.0\n",
      "{'HC/HC': 436, 'AD/AD': 140, 'MCI/AD': 199, 'MCI/MCI': 349, 'MCI/HC': 30, 'HC/MCI': 33, 'HC/AD': 4, 'AD/MCI': 2}\n",
      "2.5\n",
      "{'HC/HC': 290, 'MCI/AD': 232, 'MCI/MCI': 195, 'MCI/HC': 34, 'HC/MCI': 43, 'HC/AD': 5, 'AD/AD': 13, 'AD/MCI': 2}\n",
      "3.0\n",
      "{'HC/HC': 263, 'MCI/AD': 235, 'MCI/MCI': 184, 'MCI/HC': 34, 'HC/MCI': 45, 'HC/AD': 6, 'AD/AD': 5, 'AD/MCI': 2}\n",
      "3.5\n",
      "{'HC/HC': 213, 'MCI/AD': 254, 'MCI/MCI': 119, 'MCI/HC': 36, 'HC/MCI': 48, 'HC/AD': 7, 'AD/MCI': 3, 'AD/AD': 4}\n",
      "4.0\n",
      "{'HC/HC': 175, 'MCI/AD': 254, 'MCI/MCI': 112, 'MCI/HC': 37, 'HC/MCI': 49, 'HC/AD': 7, 'AD/MCI': 3}\n"
     ]
    },
    {
     "ename": "KeyboardInterrupt",
     "evalue": "",
     "output_type": "error",
     "traceback": [
      "\u001b[0;31m---------------------------------------------------------------------------\u001b[0m",
      "\u001b[0;31mKeyboardInterrupt\u001b[0m                         Traceback (most recent call last)",
      "\u001b[0;32m<ipython-input-16-f0d09e2d89db>\u001b[0m in \u001b[0;36m<module>\u001b[0;34m()\u001b[0m\n\u001b[1;32m      1\u001b[0m \u001b[0;32mfor\u001b[0m \u001b[0mdelta\u001b[0m \u001b[0;32min\u001b[0m \u001b[0mnp\u001b[0m\u001b[0;34m.\u001b[0m\u001b[0mlinspace\u001b[0m\u001b[0;34m(\u001b[0m\u001b[0;36m0\u001b[0m\u001b[0;34m,\u001b[0m \u001b[0;36m10\u001b[0m\u001b[0;34m,\u001b[0m \u001b[0;36m21\u001b[0m\u001b[0;34m)\u001b[0m\u001b[0;34m[\u001b[0m\u001b[0;36m1\u001b[0m\u001b[0;34m:\u001b[0m\u001b[0;34m]\u001b[0m\u001b[0;34m:\u001b[0m\u001b[0;34m\u001b[0m\u001b[0m\n\u001b[0;32m----> 2\u001b[0;31m     \u001b[0mcounts\u001b[0m\u001b[0;34m,\u001b[0m \u001b[0mconv_patients\u001b[0m\u001b[0;34m,\u001b[0m \u001b[0m_\u001b[0m \u001b[0;34m=\u001b[0m \u001b[0mconversion_data\u001b[0m\u001b[0;34m(\u001b[0m\u001b[0mpatients\u001b[0m\u001b[0;34m,\u001b[0m \u001b[0mdelta\u001b[0m\u001b[0;34m=\u001b[0m\u001b[0mdelta\u001b[0m\u001b[0;34m)\u001b[0m\u001b[0;34m\u001b[0m\u001b[0m\n\u001b[0m\u001b[1;32m      3\u001b[0m     \u001b[0mprint\u001b[0m\u001b[0;34m(\u001b[0m\u001b[0mdelta\u001b[0m\u001b[0;34m)\u001b[0m\u001b[0;34m\u001b[0m\u001b[0m\n\u001b[1;32m      4\u001b[0m     \u001b[0mprint\u001b[0m\u001b[0;34m(\u001b[0m\u001b[0mcounts\u001b[0m\u001b[0;34m)\u001b[0m\u001b[0;34m\u001b[0m\u001b[0m\n",
      "\u001b[0;32m<ipython-input-12-f210b62cc778>\u001b[0m in \u001b[0;36mconversion_data\u001b[0;34m(patients, delta)\u001b[0m\n\u001b[1;32m      5\u001b[0m     \u001b[0mage_diffs\u001b[0m \u001b[0;34m=\u001b[0m \u001b[0;34m[\u001b[0m\u001b[0;34m]\u001b[0m\u001b[0;34m\u001b[0m\u001b[0m\n\u001b[1;32m      6\u001b[0m     \u001b[0;32mfor\u001b[0m \u001b[0mpat\u001b[0m \u001b[0;32min\u001b[0m \u001b[0mpatients\u001b[0m\u001b[0;34m:\u001b[0m\u001b[0;34m\u001b[0m\u001b[0m\n\u001b[0;32m----> 7\u001b[0;31m         \u001b[0mcur_df\u001b[0m \u001b[0;34m=\u001b[0m \u001b[0mdf\u001b[0m\u001b[0;34m.\u001b[0m\u001b[0mloc\u001b[0m\u001b[0;34m[\u001b[0m\u001b[0mdf\u001b[0m\u001b[0;34m.\u001b[0m\u001b[0mpatient_label\u001b[0m \u001b[0;34m==\u001b[0m \u001b[0mpat\u001b[0m\u001b[0;34m]\u001b[0m\u001b[0;34m\u001b[0m\u001b[0m\n\u001b[0m\u001b[1;32m      8\u001b[0m         \u001b[0mcur_df\u001b[0m \u001b[0;34m=\u001b[0m \u001b[0mcur_df\u001b[0m\u001b[0;34m.\u001b[0m\u001b[0msort_values\u001b[0m\u001b[0;34m(\u001b[0m\u001b[0mby\u001b[0m\u001b[0;34m=\u001b[0m\u001b[0;34m[\u001b[0m\u001b[0;34m'age_exact'\u001b[0m\u001b[0;34m]\u001b[0m\u001b[0;34m)\u001b[0m\u001b[0;34m\u001b[0m\u001b[0m\n\u001b[1;32m      9\u001b[0m         \u001b[0mrecords\u001b[0m \u001b[0;34m=\u001b[0m \u001b[0mcur_df\u001b[0m\u001b[0;34m.\u001b[0m\u001b[0mto_dict\u001b[0m\u001b[0;34m(\u001b[0m\u001b[0;34m'records'\u001b[0m\u001b[0;34m)\u001b[0m\u001b[0;34m\u001b[0m\u001b[0m\n",
      "\u001b[0;32m~/miniconda3/envs/thesis/lib/python3.6/site-packages/pandas/core/ops.py\u001b[0m in \u001b[0;36mwrapper\u001b[0;34m(self, other, axis)\u001b[0m\n\u001b[1;32m    877\u001b[0m \u001b[0;34m\u001b[0m\u001b[0m\n\u001b[1;32m    878\u001b[0m             \u001b[0;32mwith\u001b[0m \u001b[0mnp\u001b[0m\u001b[0;34m.\u001b[0m\u001b[0merrstate\u001b[0m\u001b[0;34m(\u001b[0m\u001b[0mall\u001b[0m\u001b[0;34m=\u001b[0m\u001b[0;34m'ignore'\u001b[0m\u001b[0;34m)\u001b[0m\u001b[0;34m:\u001b[0m\u001b[0;34m\u001b[0m\u001b[0m\n\u001b[0;32m--> 879\u001b[0;31m                 \u001b[0mres\u001b[0m \u001b[0;34m=\u001b[0m \u001b[0mna_op\u001b[0m\u001b[0;34m(\u001b[0m\u001b[0mvalues\u001b[0m\u001b[0;34m,\u001b[0m \u001b[0mother\u001b[0m\u001b[0;34m)\u001b[0m\u001b[0;34m\u001b[0m\u001b[0m\n\u001b[0m\u001b[1;32m    880\u001b[0m             \u001b[0;32mif\u001b[0m \u001b[0mis_scalar\u001b[0m\u001b[0;34m(\u001b[0m\u001b[0mres\u001b[0m\u001b[0;34m)\u001b[0m\u001b[0;34m:\u001b[0m\u001b[0;34m\u001b[0m\u001b[0m\n\u001b[1;32m    881\u001b[0m                 raise TypeError('Could not compare {typ} type with Series'\n",
      "\u001b[0;32m~/miniconda3/envs/thesis/lib/python3.6/site-packages/pandas/core/ops.py\u001b[0m in \u001b[0;36mna_op\u001b[0;34m(x, y)\u001b[0m\n\u001b[1;32m    781\u001b[0m \u001b[0;34m\u001b[0m\u001b[0m\n\u001b[1;32m    782\u001b[0m         \u001b[0;32mif\u001b[0m \u001b[0mis_object_dtype\u001b[0m\u001b[0;34m(\u001b[0m\u001b[0mx\u001b[0m\u001b[0;34m.\u001b[0m\u001b[0mdtype\u001b[0m\u001b[0;34m)\u001b[0m\u001b[0;34m:\u001b[0m\u001b[0;34m\u001b[0m\u001b[0m\n\u001b[0;32m--> 783\u001b[0;31m             \u001b[0mresult\u001b[0m \u001b[0;34m=\u001b[0m \u001b[0m_comp_method_OBJECT_ARRAY\u001b[0m\u001b[0;34m(\u001b[0m\u001b[0mop\u001b[0m\u001b[0;34m,\u001b[0m \u001b[0mx\u001b[0m\u001b[0;34m,\u001b[0m \u001b[0my\u001b[0m\u001b[0;34m)\u001b[0m\u001b[0;34m\u001b[0m\u001b[0m\n\u001b[0m\u001b[1;32m    784\u001b[0m         \u001b[0;32melse\u001b[0m\u001b[0;34m:\u001b[0m\u001b[0;34m\u001b[0m\u001b[0m\n\u001b[1;32m    785\u001b[0m \u001b[0;34m\u001b[0m\u001b[0m\n",
      "\u001b[0;32m~/miniconda3/envs/thesis/lib/python3.6/site-packages/pandas/core/ops.py\u001b[0m in \u001b[0;36m_comp_method_OBJECT_ARRAY\u001b[0;34m(op, x, y)\u001b[0m\n\u001b[1;32m    761\u001b[0m         \u001b[0mresult\u001b[0m \u001b[0;34m=\u001b[0m \u001b[0mlib\u001b[0m\u001b[0;34m.\u001b[0m\u001b[0mvec_compare\u001b[0m\u001b[0;34m(\u001b[0m\u001b[0mx\u001b[0m\u001b[0;34m,\u001b[0m \u001b[0my\u001b[0m\u001b[0;34m,\u001b[0m \u001b[0mop\u001b[0m\u001b[0;34m)\u001b[0m\u001b[0;34m\u001b[0m\u001b[0m\n\u001b[1;32m    762\u001b[0m     \u001b[0;32melse\u001b[0m\u001b[0;34m:\u001b[0m\u001b[0;34m\u001b[0m\u001b[0m\n\u001b[0;32m--> 763\u001b[0;31m         \u001b[0mresult\u001b[0m \u001b[0;34m=\u001b[0m \u001b[0mlib\u001b[0m\u001b[0;34m.\u001b[0m\u001b[0mscalar_compare\u001b[0m\u001b[0;34m(\u001b[0m\u001b[0mx\u001b[0m\u001b[0;34m,\u001b[0m \u001b[0my\u001b[0m\u001b[0;34m,\u001b[0m \u001b[0mop\u001b[0m\u001b[0;34m)\u001b[0m\u001b[0;34m\u001b[0m\u001b[0m\n\u001b[0m\u001b[1;32m    764\u001b[0m     \u001b[0;32mreturn\u001b[0m \u001b[0mresult\u001b[0m\u001b[0;34m\u001b[0m\u001b[0m\n\u001b[1;32m    765\u001b[0m \u001b[0;34m\u001b[0m\u001b[0m\n",
      "\u001b[0;31mKeyboardInterrupt\u001b[0m: "
     ]
    }
   ],
   "source": [
    "for delta in np.linspace(0, 10, 21)[1:]:\n",
    "    counts, conv_patients, _ = conversion_data(patients, delta=delta)\n",
    "    print(delta)\n",
    "    print(counts)"
   ]
  },
  {
   "cell_type": "markdown",
   "metadata": {},
   "source": [
    "## Extend meta info csv"
   ]
  },
  {
   "cell_type": "code",
   "execution_count": 35,
   "metadata": {},
   "outputs": [],
   "source": []
  },
  {
   "cell_type": "code",
   "execution_count": 17,
   "metadata": {},
   "outputs": [],
   "source": [
    "new_df = df.copy()"
   ]
  },
  {
   "cell_type": "code",
   "execution_count": 18,
   "metadata": {},
   "outputs": [],
   "source": [
    "for delta in range(2, 4):\n",
    "    counts, conv_patients, _ = conversion_data(patients, delta=delta)\n",
    "    total = 0\n",
    "    new_col = []\n",
    "    for index, row in new_df.iterrows():\n",
    "        patient_label = row['patient_label']\n",
    "        # find conv\n",
    "        convs = [\"MCI/MCI\", \"MCI/AD\"]\n",
    "        c = None\n",
    "        for conv in convs:\n",
    "            if patient_label in conv_patients[conv]:\n",
    "                c = conv\n",
    "\n",
    "        val = -1\n",
    "        if c is not None:\n",
    "            total += 1\n",
    "            if c == convs[0]:\n",
    "                val = 0\n",
    "            else:\n",
    "                val = 1\n",
    "        new_col.append(val)\n",
    "\n",
    "    new_df[\"mci_ad_conv_delta_{}\".format(str(delta).replace(\".\", \"_\"))] = new_col"
   ]
  },
  {
   "cell_type": "code",
   "execution_count": 38,
   "metadata": {},
   "outputs": [
    {
     "data": {
      "text/plain": [
       "6775"
      ]
     },
     "execution_count": 38,
     "metadata": {},
     "output_type": "execute_result"
    }
   ],
   "source": [
    "total"
   ]
  },
  {
   "cell_type": "code",
   "execution_count": 11,
   "metadata": {},
   "outputs": [
    {
     "data": {
      "text/plain": [
       "['002_S_0729',\n",
       " '002_S_0954',\n",
       " '002_S_1070',\n",
       " '003_S_1057',\n",
       " '005_S_0222',\n",
       " '005_S_0572',\n",
       " '006_S_0675',\n",
       " '006_S_1130',\n",
       " '006_S_4515',\n",
       " '007_S_0041',\n",
       " '007_S_0101',\n",
       " '007_S_0128',\n",
       " '007_S_0249',\n",
       " '007_S_0293',\n",
       " '007_S_0344',\n",
       " '007_S_2106',\n",
       " '009_S_2381',\n",
       " '009_S_4530',\n",
       " '009_S_4958',\n",
       " '010_S_0904',\n",
       " '011_S_0241',\n",
       " '011_S_0856',\n",
       " '011_S_0861',\n",
       " '011_S_1282',\n",
       " '011_S_4366',\n",
       " '012_S_1033',\n",
       " '012_S_1292',\n",
       " '012_S_4094',\n",
       " '013_S_0240',\n",
       " '013_S_0325',\n",
       " '013_S_0860',\n",
       " '013_S_4595',\n",
       " '014_S_0658',\n",
       " '014_S_4058',\n",
       " '014_S_4079',\n",
       " '014_S_4668',\n",
       " '016_S_0769',\n",
       " '016_S_1121',\n",
       " '016_S_1326',\n",
       " '016_S_4584',\n",
       " '016_S_4902',\n",
       " '016_S_5031',\n",
       " '018_S_0057',\n",
       " '019_S_4293',\n",
       " '019_S_4680',\n",
       " '021_S_0141',\n",
       " '021_S_0231',\n",
       " '021_S_4402',\n",
       " '021_S_4857',\n",
       " '022_S_0750',\n",
       " '022_S_1394',\n",
       " '023_S_0030',\n",
       " '023_S_0042',\n",
       " '023_S_0217',\n",
       " '023_S_0388',\n",
       " '023_S_0604',\n",
       " '023_S_0625',\n",
       " '023_S_0855',\n",
       " '023_S_0887',\n",
       " '023_S_1126',\n",
       " '023_S_1247',\n",
       " '023_S_4035',\n",
       " '023_S_4243',\n",
       " '023_S_4502',\n",
       " '023_S_4796',\n",
       " '024_S_1393',\n",
       " '027_S_0179',\n",
       " '027_S_0256',\n",
       " '027_S_0461',\n",
       " '027_S_0835',\n",
       " '027_S_1213',\n",
       " '027_S_1387',\n",
       " '027_S_4729',\n",
       " '027_S_4757',\n",
       " '029_S_0878',\n",
       " '031_S_0294',\n",
       " '031_S_0568',\n",
       " '031_S_1066',\n",
       " '031_S_4042',\n",
       " '031_S_4203',\n",
       " '032_S_0187',\n",
       " '032_S_0214',\n",
       " '032_S_0978',\n",
       " '033_S_0511',\n",
       " '033_S_0567',\n",
       " '033_S_0723',\n",
       " '033_S_0725',\n",
       " '033_S_0906',\n",
       " '033_S_0922',\n",
       " '035_S_0204',\n",
       " '035_S_0997',\n",
       " '035_S_4114',\n",
       " '035_S_4414',\n",
       " '035_S_4784',\n",
       " '036_S_0869',\n",
       " '036_S_1135',\n",
       " '036_S_1240',\n",
       " '036_S_4715',\n",
       " '037_S_0539',\n",
       " '037_S_1225',\n",
       " '037_S_4015',\n",
       " '037_S_4432',\n",
       " '041_S_0549',\n",
       " '041_S_1010',\n",
       " '041_S_1412',\n",
       " '041_S_1423',\n",
       " '041_S_5026',\n",
       " '051_S_1331',\n",
       " '051_S_4929',\n",
       " '052_S_0952',\n",
       " '052_S_1054',\n",
       " '052_S_4945',\n",
       " '053_S_0507',\n",
       " '053_S_4661',\n",
       " '057_S_0839',\n",
       " '057_S_0941',\n",
       " '057_S_1007',\n",
       " '057_S_1217',\n",
       " '057_S_2398',\n",
       " '057_S_4888',\n",
       " '062_S_1299',\n",
       " '067_S_0077',\n",
       " '067_S_0243',\n",
       " '067_S_0336',\n",
       " '067_S_4918',\n",
       " '068_S_0442',\n",
       " '068_S_0476',\n",
       " '068_S_2248',\n",
       " '068_S_2316',\n",
       " '072_S_4057',\n",
       " '072_S_4102',\n",
       " '073_S_0518',\n",
       " '082_S_0832',\n",
       " '094_S_0434',\n",
       " '094_S_1015',\n",
       " '094_S_1398',\n",
       " '094_S_2216',\n",
       " '094_S_4162',\n",
       " '098_S_0269',\n",
       " '098_S_0667',\n",
       " '098_S_2047',\n",
       " '099_S_0054',\n",
       " '100_S_0892',\n",
       " '100_S_0930',\n",
       " '1091',\n",
       " '111',\n",
       " '116_S_0752',\n",
       " '116_S_0834',\n",
       " '116_S_1243',\n",
       " '116_S_4167',\n",
       " '12',\n",
       " '121_S_1350',\n",
       " '123_S_0050',\n",
       " '123_S_0108',\n",
       " '123_S_0390',\n",
       " '123_S_4096',\n",
       " '126_S_0708',\n",
       " '126_S_1077',\n",
       " '126_S_4458',\n",
       " '126_S_4675',\n",
       " '126_S_4712',\n",
       " '127_S_0394',\n",
       " '127_S_1427',\n",
       " '127_S_4240',\n",
       " '127_S_4928',\n",
       " '128_S_0258',\n",
       " '128_S_0947',\n",
       " '128_S_1043',\n",
       " '128_S_1148',\n",
       " '128_S_1407',\n",
       " '130_S_0423',\n",
       " '130_S_4542',\n",
       " '131_S_1389',\n",
       " '132_S_0987',\n",
       " '133_S_0638',\n",
       " '133_S_0727',\n",
       " '133_S_0913',\n",
       " '135_S_4406',\n",
       " '135_S_4689',\n",
       " '136_S_0195',\n",
       " '136_S_0695',\n",
       " '136_S_0873',\n",
       " '136_S_0874',\n",
       " '136_S_4189',\n",
       " '137_S_0631',\n",
       " '137_S_4596',\n",
       " '137_S_4815',\n",
       " '137_S_4816',\n",
       " '141_S_0915',\n",
       " '141_S_0982',\n",
       " '141_S_1004',\n",
       " '141_S_1244',\n",
       " '380',\n",
       " '609',\n",
       " '851',\n",
       " '877',\n",
       " '911',\n",
       " '941_S_1311',\n",
       " '945']"
      ]
     },
     "execution_count": 11,
     "metadata": {},
     "output_type": "execute_result"
    }
   ],
   "source": [
    "new_df[new_df[\"mci_ad_conv_delta_2\"] == 1].patient_label.unique().flatten().tolist()"
   ]
  },
  {
   "cell_type": "code",
   "execution_count": 21,
   "metadata": {},
   "outputs": [],
   "source": [
    "new_df.to_csv('adni_aibl_conversion.csv', index=False)"
   ]
  },
  {
   "cell_type": "code",
   "execution_count": 16,
   "metadata": {},
   "outputs": [],
   "source": [
    "patients_conv = new_df[new_df[\"mci_ad_conv_delta_2\"] == 0].patient_label.unique().flatten()\n",
    "with open(\"mci_ad_conv_2_0.txt\", 'w') as f:\n",
    "    for pid in patients_conv:\n",
    "        f.write(\"{}\\n\".format(pid))"
   ]
  },
  {
   "cell_type": "code",
   "execution_count": 13,
   "metadata": {},
   "outputs": [
    {
     "data": {
      "text/plain": [
       "array(['002_S_0729', '002_S_0954', '002_S_1070', '003_S_1057',\n",
       "       '005_S_0222', '005_S_0572', '006_S_0675', '006_S_1130',\n",
       "       '006_S_4515', '007_S_0041', '007_S_0101', '007_S_0128',\n",
       "       '007_S_0249', '007_S_0293', '007_S_0344', '007_S_2106',\n",
       "       '009_S_2381', '009_S_4530', '009_S_4958', '010_S_0904',\n",
       "       '011_S_0241', '011_S_0856', '011_S_0861', '011_S_1282',\n",
       "       '011_S_4366', '012_S_1033', '012_S_1292', '012_S_4094',\n",
       "       '013_S_0240', '013_S_0325', '013_S_0860', '013_S_4595',\n",
       "       '014_S_0658', '014_S_4058', '014_S_4079', '014_S_4668',\n",
       "       '016_S_0769', '016_S_1121', '016_S_1326', '016_S_4584',\n",
       "       '016_S_4902', '016_S_5031', '018_S_0057', '019_S_4293',\n",
       "       '019_S_4680', '021_S_0141', '021_S_0231', '021_S_4402',\n",
       "       '021_S_4857', '022_S_0750', '022_S_1394', '023_S_0030',\n",
       "       '023_S_0042', '023_S_0217', '023_S_0388', '023_S_0604',\n",
       "       '023_S_0625', '023_S_0855', '023_S_0887', '023_S_1126',\n",
       "       '023_S_1247', '023_S_4035', '023_S_4243', '023_S_4502',\n",
       "       '023_S_4796', '024_S_1393', '027_S_0179', '027_S_0256',\n",
       "       '027_S_0461', '027_S_0835', '027_S_1213', '027_S_1387',\n",
       "       '027_S_4729', '027_S_4757', '029_S_0878', '031_S_0294',\n",
       "       '031_S_0568', '031_S_1066', '031_S_4042', '031_S_4203',\n",
       "       '032_S_0187', '032_S_0214', '032_S_0978', '033_S_0511',\n",
       "       '033_S_0567', '033_S_0723', '033_S_0725', '033_S_0906',\n",
       "       '033_S_0922', '035_S_0204', '035_S_0997', '035_S_4114',\n",
       "       '035_S_4414', '035_S_4784', '036_S_0869', '036_S_1135',\n",
       "       '036_S_1240', '036_S_4715', '037_S_0539', '037_S_1225',\n",
       "       '037_S_4015', '037_S_4432', '041_S_0549', '041_S_1010',\n",
       "       '041_S_1412', '041_S_1423', '041_S_5026', '051_S_1331',\n",
       "       '051_S_4929', '052_S_0952', '052_S_1054', '052_S_4945',\n",
       "       '053_S_0507', '053_S_4661', '057_S_0839', '057_S_0941',\n",
       "       '057_S_1007', '057_S_1217', '057_S_2398', '057_S_4888',\n",
       "       '062_S_1299', '067_S_0077', '067_S_0243', '067_S_0336',\n",
       "       '067_S_4918', '068_S_0442', '068_S_0476', '068_S_2248',\n",
       "       '068_S_2316', '072_S_4057', '072_S_4102', '073_S_0518',\n",
       "       '082_S_0832', '094_S_0434', '094_S_1015', '094_S_1398',\n",
       "       '094_S_2216', '094_S_4162', '098_S_0269', '098_S_0667',\n",
       "       '098_S_2047', '099_S_0054', '100_S_0892', '100_S_0930', '1091',\n",
       "       '111', '116_S_0752', '116_S_0834', '116_S_1243', '116_S_4167',\n",
       "       '12', '121_S_1350', '123_S_0050', '123_S_0108', '123_S_0390',\n",
       "       '123_S_4096', '126_S_0708', '126_S_1077', '126_S_4458',\n",
       "       '126_S_4675', '126_S_4712', '127_S_0394', '127_S_1427',\n",
       "       '127_S_4240', '127_S_4928', '128_S_0258', '128_S_0947',\n",
       "       '128_S_1043', '128_S_1148', '128_S_1407', '130_S_0423',\n",
       "       '130_S_4542', '131_S_1389', '132_S_0987', '133_S_0638',\n",
       "       '133_S_0727', '133_S_0913', '135_S_4406', '135_S_4689',\n",
       "       '136_S_0195', '136_S_0695', '136_S_0873', '136_S_0874',\n",
       "       '136_S_4189', '137_S_0631', '137_S_4596', '137_S_4815',\n",
       "       '137_S_4816', '141_S_0915', '141_S_0982', '141_S_1004',\n",
       "       '141_S_1244', '380', '609', '851', '877', '911', '941_S_1311',\n",
       "       '945'], dtype=object)"
      ]
     },
     "execution_count": 13,
     "metadata": {},
     "output_type": "execute_result"
    }
   ],
   "source": [
    "patients_conv"
   ]
  },
  {
   "cell_type": "code",
   "execution_count": 15,
   "metadata": {},
   "outputs": [],
   "source": [
    "f.close()"
   ]
  },
  {
   "cell_type": "markdown",
   "metadata": {},
   "source": [
    "## Add number of conversions to csv"
   ]
  },
  {
   "cell_type": "code",
   "execution_count": 1,
   "metadata": {},
   "outputs": [],
   "source": [
    "def number_conversions(patients):\n",
    "    patient_to_n_convs = {}\n",
    "    for pat in patients:\n",
    "        cur_df = df.loc[df.patient_label == pat]\n",
    "        cur_df = cur_df.sort_values(by=['age_exact'])\n",
    "        records = cur_df.to_dict('records')\n",
    "        \n",
    "        ages = [r[\"age_exact\"] for r in records]\n",
    "        assert all(ages[i] <= ages[i + 1] for i in range(len(records) - 1))\n",
    "        \n",
    "        def get_diag(rec):\n",
    "            if rec[\"health_ad\"] == 1:\n",
    "                return \"AD\"\n",
    "            elif rec[\"healthy\"] == 1:\n",
    "                return \"HC\"\n",
    "            elif rec[\"health_mci\"] == 1:\n",
    "                return \"MCI\"\n",
    "            else:\n",
    "                raise ValueError(\"unknown diagnosis\")\n",
    "        \n",
    "        n_changes = 0\n",
    "        for i in range(1, len(records)):\n",
    "            prev_d = get_diag(records[i - 1])\n",
    "            cur_d = get_diag(records[i])\n",
    "            \n",
    "            if cur_d != prev_d:\n",
    "                n_changes += 1\n",
    "                \n",
    "        patient_to_n_convs[records[0][\"patient_label\"]] = n_changes\n",
    "\n",
    "    return patient_to_n_convs"
   ]
  },
  {
   "cell_type": "code",
   "execution_count": 26,
   "metadata": {},
   "outputs": [],
   "source": [
    "number_convs = number_conversions(patients)"
   ]
  },
  {
   "cell_type": "code",
   "execution_count": 27,
   "metadata": {},
   "outputs": [],
   "source": [
    "df_with_conv = pd.read_csv(\"adni_aibl_conversion.csv\")"
   ]
  },
  {
   "cell_type": "code",
   "execution_count": 28,
   "metadata": {},
   "outputs": [],
   "source": [
    "n_conv_col = []\n",
    "for index, row in df_with_conv.iterrows():\n",
    "    patient_label = row[\"patient_label\"]\n",
    "    n_conv_col.append(number_convs[patient_label])"
   ]
  },
  {
   "cell_type": "code",
   "execution_count": 29,
   "metadata": {},
   "outputs": [],
   "source": [
    "df_with_conv[\"n_conversions\"] = np.array(n_conv_col)\n",
    "df_with_conv.to_csv(\"adni_aibl_conv2.csv\", index=False)"
   ]
  },
  {
   "cell_type": "code",
   "execution_count": 27,
   "metadata": {},
   "outputs": [
    {
     "data": {
      "text/plain": [
       "array(['002_S_4262', '002_S_4799', '003_S_1074', '005_S_0223',\n",
       "       '011_S_4845', '012_S_1009', '023_S_0061', '024_S_0985',\n",
       "       '029_S_4385', '031_S_4005', '036_S_4899', '037_S_0467',\n",
       "       '037_S_4214', '037_S_4381', '037_S_4706', '041_S_4041',\n",
       "       '051_S_1123', '053_S_4813', '067_S_2301', '094_S_1241',\n",
       "       '100_S_0069', '123_S_0106', '123_S_0162', '127_S_4624',\n",
       "       '128_S_0522', '128_S_1408', '128_S_2123', '128_S_4607',\n",
       "       '129_S_0778', '131_S_0123', '136_S_0429', '137_S_0722',\n",
       "       '137_S_0972', '153', '315', '740'], dtype=object)"
      ]
     },
     "execution_count": 27,
     "metadata": {},
     "output_type": "execute_result"
    }
   ],
   "source": [
    "df_with_conv[df_with_conv[\"n_conversions\"] == 2].patient_label.unique()"
   ]
  },
  {
   "cell_type": "code",
   "execution_count": 1,
   "metadata": {},
   "outputs": [
    {
     "ename": "NameError",
     "evalue": "name 'df_with_conv' is not defined",
     "output_type": "error",
     "traceback": [
      "\u001b[0;31m---------------------------------------------------------------------------\u001b[0m",
      "\u001b[0;31mNameError\u001b[0m                                 Traceback (most recent call last)",
      "\u001b[0;32m<ipython-input-1-afcca984c1da>\u001b[0m in \u001b[0;36m<module>\u001b[0;34m()\u001b[0m\n\u001b[0;32m----> 1\u001b[0;31m \u001b[0mdf_with_conv\u001b[0m\u001b[0;34m\u001b[0m\u001b[0m\n\u001b[0m",
      "\u001b[0;31mNameError\u001b[0m: name 'df_with_conv' is not defined"
     ]
    }
   ],
   "source": [
    "df_with_conv"
   ]
  },
  {
   "cell_type": "code",
   "execution_count": 30,
   "metadata": {},
   "outputs": [],
   "source": [
    "df = pd.read_csv('data/raw/csv/adni_aibl_conv2.csv')"
   ]
  },
  {
   "cell_type": "code",
   "execution_count": 32,
   "metadata": {},
   "outputs": [
    {
     "data": {
      "text/plain": [
       "184"
      ]
     },
     "execution_count": 32,
     "metadata": {},
     "output_type": "execute_result"
    }
   ],
   "source": [
    "len(df[df[\"mci_ad_conv_delta_3\"] == 0].patient_label.unique())"
   ]
  },
  {
   "cell_type": "code",
   "execution_count": null,
   "metadata": {},
   "outputs": [],
   "source": []
  }
 ],
 "metadata": {
  "kernelspec": {
   "display_name": "Python 3",
   "language": "python",
   "name": "python3"
  },
  "language_info": {
   "codemirror_mode": {
    "name": "ipython",
    "version": 3
   },
   "file_extension": ".py",
   "mimetype": "text/x-python",
   "name": "python",
   "nbconvert_exporter": "python",
   "pygments_lexer": "ipython3",
   "version": "3.6.5"
  }
 },
 "nbformat": 4,
 "nbformat_minor": 2
}
