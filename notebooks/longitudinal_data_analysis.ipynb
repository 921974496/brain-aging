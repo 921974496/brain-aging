{
 "cells": [
  {
   "cell_type": "code",
   "execution_count": 1,
   "metadata": {},
   "outputs": [],
   "source": [
    "# Make module from local packages importable\n",
    "import os\n",
    "import sys\n",
    "nb_dir = os.path.split(os.getcwd())[0]\n",
    "if nb_dir not in sys.path:\n",
    "    sys.path.append(nb_dir)"
   ]
  },
  {
   "cell_type": "code",
   "execution_count": 2,
   "metadata": {},
   "outputs": [],
   "source": [
    "import pandas as pd\n",
    "import matplotlib.pyplot as plt\n",
    "import numpy as np\n",
    "import csv"
   ]
  },
  {
   "cell_type": "code",
   "execution_count": 3,
   "metadata": {},
   "outputs": [],
   "source": [
    "file_path = \"../data/raw/csv/adni_aibl_exact_age.csv\"\n",
    "df = pd.read_csv(file_path)"
   ]
  },
  {
   "cell_type": "code",
   "execution_count": 4,
   "metadata": {},
   "outputs": [],
   "source": [
    "data_dic = df.to_dict('records')"
   ]
  },
  {
   "cell_type": "markdown",
   "metadata": {},
   "source": [
    "## Distribution of time intervals between images of the same patient"
   ]
  },
  {
   "cell_type": "markdown",
   "metadata": {},
   "source": [
    "### All possible pairs"
   ]
  },
  {
   "cell_type": "code",
   "execution_count": 5,
   "metadata": {},
   "outputs": [
    {
     "data": {
      "text/plain": [
       "Index(['health_ad', 'patient_label', 'sex', 'health_emci', 'mri_manufacturer',\n",
       "       'health_lmci', 'health_smc', 'dataset', 'health_mci',\n",
       "       'study_patient_id', 'healthy', 'age', 'study_id', 'mri_field_strength',\n",
       "       'study_image_id', 'image_label', 'age_exact', 'weighting'],\n",
       "      dtype='object')"
      ]
     },
     "execution_count": 5,
     "metadata": {},
     "output_type": "execute_result"
    }
   ],
   "source": [
    "df.columns"
   ]
  },
  {
   "cell_type": "code",
   "execution_count": 6,
   "metadata": {},
   "outputs": [],
   "source": [
    "patients = df.patient_label.unique()"
   ]
  },
  {
   "cell_type": "code",
   "execution_count": 7,
   "metadata": {},
   "outputs": [],
   "source": [
    "def all_age_differences(patients, diag_pair):\n",
    "    diffs = []\n",
    "    labels = []\n",
    "    for pat in patients:\n",
    "        cur_df = df.loc[df.patient_label == pat]\n",
    "        cur_df = cur_df.sort_values(by=['age_exact'])\n",
    "        records = cur_df.to_dict('records')\n",
    "        n = len(records)\n",
    "        for i in range(n):\n",
    "            a = records[i]\n",
    "            for j in range(i + 1, n):\n",
    "                b = records[j]\n",
    "                if a[diag_pair[0]] == 1 and b[diag_pair[1]] == 1:\n",
    "                    diffs.append(b['age_exact'] - a['age_exact'])\n",
    "                    labels.append(pat)\n",
    "\n",
    "    return labels, diffs"
   ]
  },
  {
   "cell_type": "code",
   "execution_count": 21,
   "metadata": {},
   "outputs": [
    {
     "name": "stdout",
     "output_type": "stream",
     "text": [
      "38292\n"
     ]
    },
    {
     "data": {
      "text/plain": [
       "(array([4598., 2459., 3151., 2953., 4395., 1174., 1208., 2016., 3383.,\n",
       "         875.,  663.,  919., 2093.,  479.,  495.,  736., 1186.,  389.,\n",
       "         323.,  506.,  836.,  324.,  236.,  336.,  589.,  251.,  200.,\n",
       "         226.,  376.,  150.,   89.,   96.,  222.,   61.,   64.,   36.,\n",
       "         108.,   37.,   12.,   16.,   26.,    0.,    0.,    0.,    0.,\n",
       "           0.,    0.,    0.,    0.,    0.,    0.,    0.]),\n",
       " array([ 0.  ,  0.25,  0.5 ,  0.75,  1.  ,  1.25,  1.5 ,  1.75,  2.  ,\n",
       "         2.25,  2.5 ,  2.75,  3.  ,  3.25,  3.5 ,  3.75,  4.  ,  4.25,\n",
       "         4.5 ,  4.75,  5.  ,  5.25,  5.5 ,  5.75,  6.  ,  6.25,  6.5 ,\n",
       "         6.75,  7.  ,  7.25,  7.5 ,  7.75,  8.  ,  8.25,  8.5 ,  8.75,\n",
       "         9.  ,  9.25,  9.5 ,  9.75, 10.  , 10.25, 10.5 , 10.75, 11.  ,\n",
       "        11.25, 11.5 , 11.75, 12.  , 12.25, 12.5 , 12.75, 13.  ]),\n",
       " <a list of 52 Patch objects>)"
      ]
     },
     "execution_count": 21,
     "metadata": {},
     "output_type": "execute_result"
    },
    {
     "data": {
      "image/png": "[encoded data removed]",
      "text/plain": [
       "<Figure size 576x288 with 1 Axes>"
      ]
     },
     "metadata": {},
     "output_type": "display_data"
    }
   ],
   "source": [
    "bins = np.linspace(0, 13, 13*4 + 1)\n",
    "labels, diffs = all_age_differences(patients, ('healthy', 'healthy'))\n",
    "print(len(diffs))\n",
    "plt.figure(figsize=(8, 4))\n",
    "plt.title(\"All HC/HC same patient pairs\")\n",
    "plt.xlabel(\"Age difference\")\n",
    "plt.ylabel(\"Number of pairs\")\n",
    "plt.xticks(np.linspace(0, 13, 13 * 2 + 1), rotation='vertical')\n",
    "plt.hist(diffs, bins=bins, edgecolor='black')"
   ]
  },
  {
   "cell_type": "code",
   "execution_count": 9,
   "metadata": {},
   "outputs": [],
   "source": [
    "# How many different patients per time difference\n",
    "patient_diff = pd.DataFrame(data={'patient_label': labels, 'diff': diffs})"
   ]
  },
  {
   "cell_type": "code",
   "execution_count": 10,
   "metadata": {
    "scrolled": true
   },
   "outputs": [
    {
     "data": {
      "text/plain": [
       "[604,\n",
       " 350,\n",
       " 400,\n",
       " 344,\n",
       " 515,\n",
       " 181,\n",
       " 203,\n",
       " 273,\n",
       " 494,\n",
       " 125,\n",
       " 103,\n",
       " 115,\n",
       " 300,\n",
       " 88,\n",
       " 93,\n",
       " 98,\n",
       " 193,\n",
       " 58,\n",
       " 54,\n",
       " 69,\n",
       " 130,\n",
       " 51,\n",
       " 40,\n",
       " 46,\n",
       " 71,\n",
       " 41,\n",
       " 36,\n",
       " 34,\n",
       " 50,\n",
       " 28,\n",
       " 16,\n",
       " 15,\n",
       " 37,\n",
       " 11,\n",
       " 12,\n",
       " 6,\n",
       " 22,\n",
       " 6,\n",
       " 3,\n",
       " 3,\n",
       " 6,\n",
       " 0,\n",
       " 0,\n",
       " 0,\n",
       " 0,\n",
       " 0,\n",
       " 0,\n",
       " 0,\n",
       " 0,\n",
       " 0,\n",
       " 0,\n",
       " 0]"
      ]
     },
     "execution_count": 10,
     "metadata": {},
     "output_type": "execute_result"
    }
   ],
   "source": [
    "max_diff = 11\n",
    "unique_patients = []\n",
    "for i in range(len(bins) - 1):\n",
    "    d = patient_diff.loc[(patient_diff['diff'] >= bins[i]) & (patient_diff['diff'] < bins[i + 1])]\n",
    "    unique_patients.append(len(d.patient_label.unique()))\n",
    "\n",
    "unique_patients"
   ]
  },
  {
   "cell_type": "code",
   "execution_count": 16,
   "metadata": {},
   "outputs": [
    {
     "data": {
      "text/plain": [
       "Text(0,0.5,'Distinct patients')"
      ]
     },
     "execution_count": 16,
     "metadata": {},
     "output_type": "execute_result"
    },
    {
     "data": {
      "image/png": "[encoded data removed]",
      "text/plain": [
       "<Figure size 432x288 with 1 Axes>"
      ]
     },
     "metadata": {},
     "output_type": "display_data"
    }
   ],
   "source": [
    "plt.bar(x=list(range(len(bins)-1)), height=unique_patients, edgecolor='black')\n",
    "plt.xlabel(\"Age difference\")\n",
    "plt.ylabel(\"Distinct patients\")"
   ]
  },
  {
   "cell_type": "code",
   "execution_count": 12,
   "metadata": {},
   "outputs": [
    {
     "data": {
      "text/plain": [
       "154"
      ]
     },
     "execution_count": 12,
     "metadata": {},
     "output_type": "execute_result"
    }
   ],
   "source": [
    "d = patient_diff.loc[patient_diff['diff'] == 1]\n",
    "len(d.patient_label.unique())"
   ]
  },
  {
   "cell_type": "code",
   "execution_count": 13,
   "metadata": {},
   "outputs": [
    {
     "data": {
      "text/plain": [
       "52"
      ]
     },
     "execution_count": 13,
     "metadata": {},
     "output_type": "execute_result"
    }
   ],
   "source": [
    "len(unique_patients)"
   ]
  },
  {
   "cell_type": "code",
   "execution_count": 14,
   "metadata": {},
   "outputs": [
    {
     "data": {
      "text/plain": [
       "53"
      ]
     },
     "execution_count": 14,
     "metadata": {},
     "output_type": "execute_result"
    }
   ],
   "source": [
    "len(bins)"
   ]
  },
  {
   "cell_type": "code",
   "execution_count": 15,
   "metadata": {},
   "outputs": [
    {
     "data": {
      "text/plain": [
       "array([ 0.  ,  0.25,  0.5 ,  0.75,  1.  ,  1.25,  1.5 ,  1.75,  2.  ,\n",
       "        2.25,  2.5 ,  2.75,  3.  ,  3.25,  3.5 ,  3.75,  4.  ,  4.25,\n",
       "        4.5 ,  4.75,  5.  ,  5.25,  5.5 ,  5.75,  6.  ,  6.25,  6.5 ,\n",
       "        6.75,  7.  ,  7.25,  7.5 ,  7.75,  8.  ,  8.25,  8.5 ,  8.75,\n",
       "        9.  ,  9.25,  9.5 ,  9.75, 10.  , 10.25, 10.5 , 10.75, 11.  ,\n",
       "       11.25, 11.5 , 11.75, 12.  , 12.25, 12.5 , 12.75, 13.  ])"
      ]
     },
     "execution_count": 15,
     "metadata": {},
     "output_type": "execute_result"
    }
   ],
   "source": [
    "np.linspace(0, 13, 13 * 4 + 1)"
   ]
  },
  {
   "cell_type": "code",
   "execution_count": 17,
   "metadata": {},
   "outputs": [
    {
     "data": {
      "text/plain": [
       "array([ 0.  ,  0.25,  0.5 ,  0.75,  1.  ,  1.25,  1.5 ,  1.75,  2.  ,\n",
       "        2.25,  2.5 ,  2.75,  3.  ,  3.25,  3.5 ,  3.75,  4.  ,  4.25,\n",
       "        4.5 ,  4.75,  5.  ,  5.25,  5.5 ,  5.75,  6.  ,  6.25,  6.5 ,\n",
       "        6.75,  7.  ,  7.25,  7.5 ,  7.75,  8.  ,  8.25,  8.5 ,  8.75,\n",
       "        9.  ,  9.25,  9.5 ,  9.75, 10.  , 10.25, 10.5 , 10.75, 11.  ,\n",
       "       11.25, 11.5 , 11.75, 12.  , 12.25, 12.5 , 12.75, 13.  ])"
      ]
     },
     "execution_count": 17,
     "metadata": {},
     "output_type": "execute_result"
    }
   ],
   "source": [
    "bins"
   ]
  },
  {
   "cell_type": "code",
   "execution_count": null,
   "metadata": {},
   "outputs": [],
   "source": []
  }
 ],
 "metadata": {
  "kernelspec": {
   "display_name": "Python 3",
   "language": "python",
   "name": "python3"
  },
  "language_info": {
   "codemirror_mode": {
    "name": "ipython",
    "version": 3
   },
   "file_extension": ".py",
   "mimetype": "text/x-python",
   "name": "python",
   "nbconvert_exporter": "python",
   "pygments_lexer": "ipython3",
   "version": "3.6.5"
  }
 },
 "nbformat": 4,
 "nbformat_minor": 2
}
